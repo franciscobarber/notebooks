{
  "nbformat": 4,
  "nbformat_minor": 0,
  "metadata": {
    "colab": {
      "provenance": [],
      "include_colab_link": true
    },
    "kernelspec": {
      "name": "python3",
      "display_name": "Python 3"
    },
    "accelerator": "GPU"
  },
  "cells": [
    {
      "cell_type": "markdown",
      "metadata": {
        "id": "view-in-github",
        "colab_type": "text"
      },
      "source": [
        "<a href=\"https://colab.research.google.com/github/franciscobarber/notebooks/blob/sound/Copy_of_net_tests.ipynb\" target=\"_parent\"><img src=\"https://colab.research.google.com/assets/colab-badge.svg\" alt=\"Open In Colab\"/></a>"
      ]
    },
    {
      "cell_type": "code",
      "metadata": {
        "id": "csRrMJnANasj",
        "colab": {
          "base_uri": "https://localhost:8080/"
        },
        "outputId": "735427a8-eebd-422c-bdc2-16dca3efdeef"
      },
      "source": [
        "!git clone -l -s https://franciscobarber@github.com/franciscobarber/free-spoken-digit-dataset.git"
      ],
      "execution_count": 1,
      "outputs": [
        {
          "output_type": "stream",
          "name": "stdout",
          "text": [
            "Cloning into 'free-spoken-digit-dataset'...\n",
            "warning: --local is ignored\n",
            "remote: Enumerating objects: 4237, done.\u001b[K\n",
            "remote: Counting objects: 100% (4237/4237), done.\u001b[K\n",
            "remote: Compressing objects: 100% (4111/4111), done.\u001b[K\n",
            "remote: Total 4237 (delta 123), reused 4237 (delta 123), pack-reused 0\u001b[K\n",
            "Receiving objects: 100% (4237/4237), 30.34 MiB | 16.06 MiB/s, done.\n",
            "Resolving deltas: 100% (123/123), done.\n"
          ]
        }
      ]
    },
    {
      "cell_type": "code",
      "metadata": {
        "id": "Ap9c-zaIlQ_j"
      },
      "source": [
        "!pip install \"torch>=2.0<3.0\" #2.0.1\n",
        "!pip install pesq\n",
        "!pip install \"torchmetrics>=1.0<2.0\" #1.0.2\n",
        "!pip install \"keras>=2.0<3.0\" #2.12.0\n",
        "!pip install \"tensorflow>=2.0<3.0\" #2.12.0\n",
        "!pip install git+https://github.com/yoyololicon/spectrogram-inversion"
      ],
      "execution_count": null,
      "outputs": []
    },
    {
      "cell_type": "code",
      "metadata": {
        "id": "CCZ2V4dzldDK",
        "cellView": "form"
      },
      "source": [
        "#@title Biblioteca espectrograma\n",
        "%matplotlib inline\n",
        "import IPython.display\n",
        "from ipywidgets import interact, interactive, fixed\n",
        "\n",
        "# Packages we're using\n",
        "import numpy as np\n",
        "import matplotlib.pyplot as plt\n",
        "import copy\n",
        "from scipy.io import wavfile\n",
        "from scipy.signal import butter, lfilter\n",
        "import scipy.ndimage\n",
        "# Most of the Spectrograms and Inversion are taken from: https://gist.github.com/kastnerkyle/179d6e9a88202ab0a2fe\n",
        "\n",
        "\n",
        "def butter_bandpass(lowcut, highcut, fs, order=5):\n",
        "    nyq = 0.5 * fs\n",
        "    low = lowcut / nyq\n",
        "    high = highcut / nyq\n",
        "    b, a = butter(order, [low, high], btype=\"band\")\n",
        "    return b, a\n",
        "\n",
        "\n",
        "def butter_bandpass_filter(data, lowcut, highcut, fs, order=5):\n",
        "    b, a = butter_bandpass(lowcut, highcut, fs, order=order)\n",
        "    y = lfilter(b, a, data)\n",
        "    return y\n",
        "\n",
        "\n",
        "def overlap(X, window_size, window_step):\n",
        "    \"\"\"\n",
        "    Create an overlapped version of X\n",
        "    Parameters\n",
        "    ----------\n",
        "    X : ndarray, shape=(n_samples,)\n",
        "        Input signal to window and overlap\n",
        "    window_size : int\n",
        "        Size of windows to take\n",
        "    window_step : int\n",
        "        Step size between windows\n",
        "    Returns\n",
        "    -------\n",
        "    X_strided : shape=(n_windows, window_size)\n",
        "        2D array of overlapped X\n",
        "    \"\"\"\n",
        "    if window_size % 2 != 0:\n",
        "        raise ValueError(\"Window size must be even!\")\n",
        "    # Make sure there are an even number of windows before stridetricks\n",
        "    append = np.zeros((window_size - len(X) % window_size))\n",
        "    X = np.hstack((X, append))\n",
        "\n",
        "    ws = window_size\n",
        "    ss = window_step\n",
        "    a = X\n",
        "\n",
        "    valid = len(a) - ws\n",
        "    nw = (valid) // ss\n",
        "    out = np.ndarray((nw, ws), dtype=a.dtype)\n",
        "\n",
        "    for i in np.arange(nw):\n",
        "        # \"slide\" the window along the samples\n",
        "        start = i * ss\n",
        "        stop = start + ws\n",
        "        out[i] = a[start:stop]\n",
        "\n",
        "    return out\n",
        "\n",
        "\n",
        "def stft(\n",
        "    X, fftsize=128, step=65, mean_normalize=True, real=False, compute_onesided=True\n",
        "):\n",
        "    \"\"\"\n",
        "    Compute STFT for 1D real valued input X\n",
        "    \"\"\"\n",
        "    if real:\n",
        "        local_fft = np.fft.rfft\n",
        "        cut = -1\n",
        "    else:\n",
        "        local_fft = np.fft.fft\n",
        "        cut = None\n",
        "    if compute_onesided:\n",
        "        cut = fftsize // 2\n",
        "    if mean_normalize:\n",
        "        X -= X.mean()\n",
        "\n",
        "    X = overlap(X, fftsize, step)\n",
        "\n",
        "    size = fftsize\n",
        "    win = 0.54 - 0.46 * np.cos(2 * np.pi * np.arange(size) / (size - 1))\n",
        "    X = X * win[None]\n",
        "    X = local_fft(X)[:, :cut]\n",
        "    return X\n",
        "\n",
        "\n",
        "def pretty_spectrogram(d, log=True, thresh=5, fft_size=512, step_size=64):\n",
        "    \"\"\"\n",
        "    creates a spectrogram\n",
        "    log: take the log of the spectrgram\n",
        "    thresh: threshold minimum power for log spectrogram\n",
        "    \"\"\"\n",
        "    specgram = np.abs(\n",
        "        stft(d, fftsize=fft_size, step=step_size, real=False, compute_onesided=True)\n",
        "    )\n",
        "\n",
        "    if log == True:\n",
        "        specgram /= specgram.max()  # volume normalize to max 1\n",
        "        specgram = np.log10(specgram)  # take log\n",
        "        specgram[\n",
        "            specgram < -thresh\n",
        "        ] = -thresh  # set anything less than the threshold as the threshold\n",
        "    else:\n",
        "        specgram[\n",
        "            specgram < thresh\n",
        "        ] = thresh  # set anything less than the threshold as the threshold\n",
        "\n",
        "    return specgram\n",
        "\n",
        "\n",
        "# Also mostly modified or taken from https://gist.github.com/kastnerkyle/179d6e9a88202ab0a2fe\n",
        "def invert_pretty_spectrogram(\n",
        "    X_s, log=True, fft_size=512, step_size=512 / 4, n_iter=10\n",
        "):\n",
        "\n",
        "    if log == True:\n",
        "        X_s = np.power(10, X_s)\n",
        "\n",
        "    X_s = np.concatenate([X_s, X_s[:, ::-1]], axis=1)\n",
        "    X_t = iterate_invert_spectrogram(X_s, fft_size, step_size, n_iter=n_iter)\n",
        "    return X_t\n",
        "\n",
        "\n",
        "def iterate_invert_spectrogram(X_s, fftsize, step, n_iter=10, verbose=False):\n",
        "    \"\"\"\n",
        "    Under MSR-LA License\n",
        "    Based on MATLAB implementation from Spectrogram Inversion Toolbox\n",
        "    References\n",
        "    ----------\n",
        "    D. Griffin and J. Lim. Signal estimation from modified\n",
        "    short-time Fourier transform. IEEE Trans. Acoust. Speech\n",
        "    Signal Process., 32(2):236-243, 1984.\n",
        "    Malcolm Slaney, Daniel Naar and Richard F. Lyon. Auditory\n",
        "    Model Inversion for Sound Separation. Proc. IEEE-ICASSP,\n",
        "    Adelaide, 1994, II.77-80.\n",
        "    Xinglei Zhu, G. Beauregard, L. Wyse. Real-Time Signal\n",
        "    Estimation from Modified Short-Time Fourier Transform\n",
        "    Magnitude Spectra. IEEE Transactions on Audio Speech and\n",
        "    Language Processing, 08/2007.\n",
        "    \"\"\"\n",
        "    reg = np.max(X_s) / 1e8\n",
        "    X_best = copy.deepcopy(X_s)\n",
        "    for i in range(n_iter):\n",
        "        if verbose:\n",
        "            print(\"Runnning iter %i\" % i)\n",
        "        if i == 0:\n",
        "            X_t = invert_spectrogram(\n",
        "                X_best, step, calculate_offset=True, set_zero_phase=True\n",
        "            )\n",
        "        else:\n",
        "            # Calculate offset was False in the MATLAB version\n",
        "            # but in mine it massively improves the result\n",
        "            # Possible bug in my impl?\n",
        "            X_t = invert_spectrogram(\n",
        "                X_best, step, calculate_offset=True, set_zero_phase=False\n",
        "            )\n",
        "        est = stft(X_t, fftsize=fftsize, step=step, compute_onesided=False)\n",
        "        phase = est / np.maximum(reg, np.abs(est))\n",
        "        X_best = X_s * phase[: len(X_s)]\n",
        "    X_t = invert_spectrogram(X_best, step, calculate_offset=True, set_zero_phase=False)\n",
        "    return np.real(X_t)\n",
        "\n",
        "\n",
        "def invert_spectrogram(X_s, step, calculate_offset=True, set_zero_phase=True):\n",
        "    \"\"\"\n",
        "    Under MSR-LA License\n",
        "    Based on MATLAB implementation from Spectrogram Inversion Toolbox\n",
        "    References\n",
        "    ----------\n",
        "    D. Griffin and J. Lim. Signal estimation from modified\n",
        "    short-time Fourier transform. IEEE Trans. Acoust. Speech\n",
        "    Signal Process., 32(2):236-243, 1984.\n",
        "    Malcolm Slaney, Daniel Naar and Richard F. Lyon. Auditory\n",
        "    Model Inversion for Sound Separation. Proc. IEEE-ICASSP,\n",
        "    Adelaide, 1994, II.77-80.\n",
        "    Xinglei Zhu, G. Beauregard, L. Wyse. Real-Time Signal\n",
        "    Estimation from Modified Short-Time Fourier Transform\n",
        "    Magnitude Spectra. IEEE Transactions on Audio Speech and\n",
        "    Language Processing, 08/2007.\n",
        "    \"\"\"\n",
        "    size = int(X_s.shape[1] // 2)\n",
        "    wave = np.zeros((X_s.shape[0] * step + size))\n",
        "    # Getting overflow warnings with 32 bit...\n",
        "    wave = wave.astype(\"float64\")\n",
        "    total_windowing_sum = np.zeros((X_s.shape[0] * step + size))\n",
        "    win = 0.54 - 0.46 * np.cos(2 * np.pi * np.arange(size) / (size - 1))\n",
        "\n",
        "    est_start = int(size // 2) - 1\n",
        "    est_end = est_start + size\n",
        "    for i in range(X_s.shape[0]):\n",
        "        wave_start = int(step * i)\n",
        "        wave_end = wave_start + size\n",
        "        if set_zero_phase:\n",
        "            spectral_slice = X_s[i].real + 0j\n",
        "        else:\n",
        "            # already complex\n",
        "            spectral_slice = X_s[i]\n",
        "\n",
        "        # Don't need fftshift due to different impl.\n",
        "        wave_est = np.real(np.fft.ifft(spectral_slice))[::-1]\n",
        "        if calculate_offset and i > 0:\n",
        "            offset_size = size - step\n",
        "            if offset_size <= 0:\n",
        "                print(\n",
        "                    \"WARNING: Large step size >50\\% detected! \"\n",
        "                    \"This code works best with high overlap - try \"\n",
        "                    \"with 75% or greater\"\n",
        "                )\n",
        "                offset_size = step\n",
        "            offset = xcorr_offset(\n",
        "                wave[wave_start : wave_start + offset_size],\n",
        "                wave_est[est_start : est_start + offset_size],\n",
        "            )\n",
        "        else:\n",
        "            offset = 0\n",
        "        wave[wave_start:wave_end] += (\n",
        "            win * wave_est[est_start - offset : est_end - offset]\n",
        "        )\n",
        "        total_windowing_sum[wave_start:wave_end] += win\n",
        "    wave = np.real(wave) / (total_windowing_sum + 1e-6)\n",
        "    return wave\n",
        "\n",
        "def xcorr_offset(x1, x2):\n",
        "    \"\"\"\n",
        "    Under MSR-LA License\n",
        "    Based on MATLAB implementation from Spectrogram Inversion Toolbox\n",
        "    References\n",
        "    ----------\n",
        "    D. Griffin and J. Lim. Signal estimation from modified\n",
        "    short-time Fourier transform. IEEE Trans. Acoust. Speech\n",
        "    Signal Process., 32(2):236-243, 1984.\n",
        "    Malcolm Slaney, Daniel Naar and Richard F. Lyon. Auditory\n",
        "    Model Inversion for Sound Separation. Proc. IEEE-ICASSP,\n",
        "    Adelaide, 1994, II.77-80.\n",
        "    Xinglei Zhu, G. Beauregard, L. Wyse. Real-Time Signal\n",
        "    Estimation from Modified Short-Time Fourier Transform\n",
        "    Magnitude Spectra. IEEE Transactions on Audio Speech and\n",
        "    Language Processing, 08/2007.\n",
        "    \"\"\"\n",
        "    x1 = x1 - x1.mean()\n",
        "    x2 = x2 - x2.mean()\n",
        "    frame_size = len(x2)\n",
        "    half = frame_size // 2\n",
        "    corrs = np.convolve(x1.astype(\"float32\"), x2[::-1].astype(\"float32\"))\n",
        "    corrs[:half] = -1e30\n",
        "    corrs[-half:] = -1e30\n",
        "    offset = corrs.argmax() - len(x1)\n",
        "    return offset\n",
        "\n",
        "import scipy.io.wavfile as wav\n",
        "\n",
        "### Parameters ###\n",
        "fft_size = 512  # window size for the FFT\n",
        "step_size = fft_size // 16  # distance to slide along the window (in time)\n",
        "spec_thresh = 4  # threshold for spectrograms (lower filters out more noise)\n",
        "lowcut = 500  # Hz # Low cut for our butter bandpass filter\n",
        "highcut = 4000  # Hz # High cut for our butter bandpass filter\n",
        "# For mels\n",
        "n_mel_freq_components = 64  # number of mel frequency channels\n",
        "shorten_factor = 10  # how much should we compress the x-axis (time)\n",
        "start_freq = 50  # Hz # What frequency to start sampling our melS from\n",
        "end_freq = 4000\n",
        "audio_path='/content/free-spoken-digit-dataset/recordings/0_jackson_0.wav'\n",
        "data_rate, data = wav.read(audio_path)\n",
        "wav_spectrogram = pretty_spectrogram(\n",
        "data.astype(\"float64\"),\n",
        "fft_size=fft_size,\n",
        "step_size=step_size,\n",
        "log=True,\n",
        "thresh=spec_thresh,\n",
        ")\n",
        "\n",
        "# Invert from the spectrogram back to a waveform\n",
        "recovered_audio_orig = invert_pretty_spectrogram(\n",
        "    wav_spectrogram, fft_size=fft_size, step_size=step_size, log=True, n_iter=10\n",
        ")"
      ],
      "execution_count": 3,
      "outputs": []
    },
    {
      "cell_type": "code",
      "metadata": {
        "id": "oLSund35HjKw"
      },
      "source": [
        "import time\n",
        "from __future__ import absolute_import\n",
        "from __future__ import division\n",
        "from __future__ import print_function\n",
        "import keras\n",
        "from keras.layers import Activation, Dense, Input\n",
        "from keras.layers import Conv2D, Flatten, BatchNormalization, Dropout\n",
        "from keras.layers import Reshape, Conv2DTranspose\n",
        "from keras.models import Model\n",
        "from keras import backend as K\n",
        "from keras.datasets import mnist\n",
        "import numpy as np\n",
        "import matplotlib.pyplot as plt\n",
        "from PIL import Image\n",
        "from keras import regularizers\n",
        "import torch\n",
        "from torchmetrics.audio import PerceptualEvaluationSpeechQuality\n",
        "np.random.seed(1337)\n",
        "\n",
        "class myautoencoder():\n",
        "  def __init__(self,compression_rate,linear_encoder, fft, time_long,fft_step_size_ratio, x_train, x_test, clip, mode = 'conv', pretrain_encoder = False, encoder_w=None):\n",
        "    self.linear_encoder = linear_encoder\n",
        "    self.mode = mode\n",
        "    self.time_long = int(time_long)\n",
        "    #modif\n",
        "    self.x_train = x_train\n",
        "    self.x_test = x_test\n",
        "    self.fft = fft\n",
        "    self.step_size = int(fft/fft_step_size_ratio)\n",
        "    self.time = int(self.time_long/self.step_size)\n",
        "    self.clip = clip\n",
        "    self.encoder_w = encoder_w\n",
        "    image_size= self.x_train.shape\n",
        "    self.compression_rate = compression_rate\n",
        "    self.x_train = np.reshape(self.x_train, [-1, image_size[1], image_size[2], 1])\n",
        "\n",
        "    self.x_test = np.reshape(self.x_test, [-1, image_size[1], image_size[2], 1])\n",
        "    self.x_train = self.x_train.astype('float32') / self.clip\n",
        "    self.x_test = self.x_test.astype('float32') / self.clip\n",
        "\n",
        "    # Network parameters\n",
        "    input_shape = (image_size[1], image_size[2], 1)\n",
        "    self.batch_size = 32\n",
        "    kernel_size = (int(10*self.fft/512),int(5*self.time/16))\n",
        "    latent_dim =int(self.compression_rate*self.time_long)\n",
        "    # Encoder/Decoder number of CNN layers and filters per layer\n",
        "    layer_filters = [16, 32]\n",
        "    # Build the Autoencoder Model\n",
        "    # First build the Encoder Model\n",
        "    inputs = Input(shape=input_shape, name='encoder_input')\n",
        "    x = inputs\n",
        "    # Shape info needed to build Decoder Model\n",
        "    shape = K.int_shape(x)\n",
        "    if mode == 'conv':\n",
        "      shape = (None,int(self.fft/2), int(self.time_long/self.step_size),int(self.time_long/(self.step_size*2)))\n",
        "    else:\n",
        "      shape = (None,int(self.fft/2), int(self.time_long/self.step_size),1)\n",
        "    # Generate the latent vector\n",
        "    x = Flatten()(inputs)\n",
        "    if self.linear_encoder == True:\n",
        "      activation = 'linear'\n",
        "    else:\n",
        "      activation = 'tanh'\n",
        "\n",
        "    self.layer = Dense(latent_dim, activation=activation, name='latent_vector')\n",
        "    latent = self.layer(x)\n",
        "\n",
        "    if pretrain_encoder == True:\n",
        "      self.layer.set_weights(self.encoder_w)\n",
        "      self.layer.trainable = False\n",
        "\n",
        "    # Instantiate Encoder Model\n",
        "    encoder = Model(inputs, latent, name='encoder')\n",
        "    #encoder.summary()\n",
        "    # Build the Decoder Model\n",
        "    latent_inputs = Input(shape=(latent_dim,), name='decoder_input')\n",
        "    if self.mode == 'mlp1':\n",
        "      x = Dense(500, activation=\"relu\")(x)\n",
        "    if self.mode == 'mlp2':\n",
        "      x = Dense(500, activation=\"sigmoid\")(x)\n",
        "      x = BatchNormalization()(x)\n",
        "      x = Dense(500, activation=\"sigmoid\")(x)\n",
        "      x = BatchNormalization()(x)\n",
        "    x = Dense(shape[1] * shape[2] * shape[3])(latent_inputs)\n",
        "    x = Reshape((shape[1], shape[2], shape[3]))(x)\n",
        "    lp = x\n",
        "    '''\n",
        "    x = Conv2DTranspose(filters=1,\n",
        "                        kernel_size=(5,5),\n",
        "                        padding='same')(x)\n",
        "    '''\n",
        "    #x2 = x\n",
        "    # Stack of Transposed Conv2D blocks\n",
        "    # Notes:\n",
        "    # 1) Use Batch Normalization before ReLU on deep networks\n",
        "    # 2) Use UpSampling2D as alternative to strides>1\n",
        "    # - faster but not as good as strides>1\n",
        "\n",
        "    for filters in layer_filters[::-1]:\n",
        "        x = Conv2DTranspose(filters=filters,\n",
        "                            kernel_size=kernel_size,\n",
        "                            kernel_regularizer=regularizers.l2(0.001),\n",
        "                            strides=(1,1),\n",
        "                            activation='relu',\n",
        "                            padding='same')(x)\n",
        "\n",
        "\n",
        "    conv = Conv2DTranspose(filters=1,\n",
        "                        kernel_size=kernel_size,\n",
        "                        padding='same')(x)\n",
        "\n",
        "    if self.mode == 'conv':\n",
        "      x2 = conv\n",
        "    elif self.mode == 'mlp1' or self.mode == 'mlp2':\n",
        "      x2 = lp\n",
        "\n",
        "    outputs = Activation('sigmoid', name='decoder_output')(x2)\n",
        "\n",
        "    # Instantiate Decoder Model\n",
        "    decoder = Model(latent_inputs, outputs, name='decoder')\n",
        "    #decoder.summary()\n",
        "\n",
        "    # Autoencoder = Encoder + Decoder\n",
        "    # Instantiate Autoencoder Model\n",
        "    self.autoencoder = Model(inputs, decoder(encoder(inputs)), name='autoencoder')\n",
        "  def train(self, epochs, loss):\n",
        "    t0 = time.time()\n",
        "    self.epochs = epochs\n",
        "    self.loss = loss\n",
        "    #autoencoder.summary()\n",
        "    sgd = keras.optimizers.Adam(lr=0.0001, beta_1=0.95, beta_2=0.999, amsgrad=False)\n",
        "    #sgd = keras.optimizers.RMSprop(lr=0.0001, rho=0.99)\n",
        "    self.autoencoder.compile(loss=self.loss, optimizer=sgd)\n",
        "\n",
        "    # Train the autoencoder\n",
        "    history = self.autoencoder.fit(x = self.x_train,\n",
        "                    y = self.x_train,\n",
        "                    validation_data=(self.x_test,self.x_test), verbose=0,\n",
        "                    epochs=self.epochs,\n",
        "                    batch_size=self.batch_size)\n",
        "    if self.mode == 'lp':\n",
        "      self.encoder_w=self.layer.get_weights()\n",
        "    # Plot training & validation loss values\n",
        "    print(time.time()-t0)\n",
        "    return self.encoder_w, history\n",
        "#autoencoder.evaluate(self.x_test,self.x_test)\n",
        "#g = autoencoder\n",
        "#g2_json = g.to_json()\n",
        "#1 3000\n",
        "#2 10000\n",
        "#with open(\"/gdrive/My Drive/NN/auto-256cnn.json\", \"w\") as json_file:\n",
        "#    json_file.write(g2_json)\n",
        "# serialize weights to HDF5\n",
        "#g.save_weights(\"/gdrive/My Drive/NN/auto-256cnn.h5\")\n",
        "#print(\"Saved model g to disk\")\n",
        "  def audio_evaluation(self, num_audios, log_ref):\n",
        "    self.log_ref = log_ref\n",
        "    audio_dir='/content/free-spoken-digit-dataset/recordings/'\n",
        "    file_names = [f for f in listdir(audio_dir) if isfile(join(audio_dir, f)) and '.wav' in f]\n",
        "    sp_sz = int(self.time_long)\n",
        "    test = np.random.permutation(len(file_names))\n",
        "    loss1 = np.zeros(num_audios,)\n",
        "    loss2 = np.zeros(num_audios,)\n",
        "    SNR = np.zeros(num_audios,)\n",
        "    t0 = time.time()\n",
        "    total_specs=0\n",
        "    p = []\n",
        "    for i in range(num_audios):\n",
        "      audio_path = audio_dir + file_names[test[i]]\n",
        "      sample_rate, samples = wav.read(audio_path)\n",
        "      samples = np.append(samples, np.random.randn(sp_sz-samples.shape[0]%sp_sz)*10, axis=0)\n",
        "      ms = lms = np.transpose(pretty_spectrogram(samples.astype(\"float32\"),fft_size=self.fft,step_size=self.step_size,log=False))\n",
        "      ms=librosa.power_to_db(ms, ref=self.log_ref)\n",
        "      n_ms = samples.shape[0]//sp_sz\n",
        "      total_specs += n_ms\n",
        "      ms2 = np.expand_dims(ms, axis=0)\n",
        "      lms = np.split(ms2, n_ms, axis=2)\n",
        "      ms2 = np.concatenate(lms)\n",
        "      x_decoded = self.autoencoder.predict(np.reshape(ms2/self.clip, [-1, int(self.fft/2), self.time, 1]))\n",
        "      lms = np.split(x_decoded, x_decoded.shape[0], axis=0)\n",
        "      x_decoded2 = np.concatenate(lms,axis=2)\n",
        "      x_decoded3 = np.reshape(x_decoded2, [ x_decoded2.shape[1], x_decoded2.shape[2]])*self.clip\n",
        "      comp3 = librosa.core.db_to_power(np.transpose(x_decoded3), ref=self.log_ref)\n",
        "      recovered_audio_recon2 = invert_pretty_spectrogram(\n",
        "          comp3, fft_size=self.fft, step_size=self.step_size, log=False, n_iter=20\n",
        "      )\n",
        "      b =  pretty_spectrogram(samples.astype(\"float32\")\n",
        "          ,fft_size=self.fft,step_size=self.step_size,log=False)\n",
        "      c =  pretty_spectrogram(recovered_audio_recon2.astype(\"float32\")\n",
        "        ,fft_size=self.fft,step_size=self.step_size,log=False)\n",
        "      loss1[i]=np.linalg.norm(b-c)/np.linalg.norm(b)\n",
        "      loss2[i]=np.linalg.norm(b-c)\n",
        "      SNR[i]=np.linalg.norm(samples)/np.linalg.norm(recovered_audio_recon2[0:samples.shape[0]]-samples)\n",
        "      try:\n",
        "        yhatn = recovered_audio_recon2[0:samples.shape[0]]\n",
        "        g = torch.manual_seed(1)\n",
        "        preds = torch.from_numpy(samples)\n",
        "        nb_pesq = PerceptualEvaluationSpeechQuality(8000, 'nb')\n",
        "        yhat = torch.from_numpy(yhatn)\n",
        "\n",
        "        pesq_value = nb_pesq(yhat.type('torch.ShortTensor'), preds).float()\n",
        "        p.append(pesq_value)\n",
        "      except:\n",
        "        pass\n",
        "\n",
        "    loss1_tot = np.sum(loss1)/num_audios\n",
        "    loss2_tot = np.sum(loss2)/num_audios\n",
        "    SNR_tot = np.sum(SNR)/num_audios\n",
        "    print('LOSS',loss1_tot)\n",
        "    print('LOSS2',loss2_tot)\n",
        "    print('PESQ',sum(p)/len(p))\n",
        "    print('SNR', SNR_tot)\n",
        "    print(total_specs)\n",
        "    print( 'tiempo de reconstrucción: {}s'.  format(int(time.time()-t0)))\n",
        "  def make_wav(self,number, person,repetition):\n",
        "    if person == 1:\n",
        "      per = '_jackson_'\n",
        "    elif person == 2:\n",
        "      per='_nicolas_'\n",
        "    elif person == 3:\n",
        "      per='_theo_'\n",
        "    else:\n",
        "      per = '_yweweler_'\n",
        "    sp_sz = int(self.time_long)\n",
        "    audio_path='/content/free-spoken-digit-dataset/recordings/'+str(number)+per+str(repetition)+'.wav'\n",
        "    sample_rate, samples = wav.read(audio_path)\n",
        "    samples = np.append(samples, np.random.randn(sp_sz-samples.shape[0]%sp_sz)*10, axis=0)\n",
        "    ms = np.transpose(pretty_spectrogram(samples.astype(\"float32\"),fft_size=self.fft,step_size=self.step_size,log=False))\n",
        "    ms=librosa.power_to_db(ms,  ref=self.log_ref)\n",
        "    n_ms = samples.shape[0]//sp_sz\n",
        "    ms2 = np.expand_dims(ms, axis=0)\n",
        "    lms = np.split(ms2, n_ms, axis=2)\n",
        "    ms2 = np.concatenate(lms)\n",
        "    x_decoded = self.autoencoder.predict(np.reshape(ms2/self.clip, [-1, int(self.fft/2), self.time, 1]))\n",
        "    lms = np.split(x_decoded, x_decoded.shape[0], axis=0)\n",
        "    x_decoded2 = np.concatenate(lms,axis=2)\n",
        "    x_decoded3 = np.reshape(x_decoded2, [ x_decoded2.shape[1], x_decoded2.shape[2]])*self.clip\n",
        "    comp3 = librosa.core.db_to_power(np.transpose(x_decoded3), ref=self.log_ref)\n",
        "    recovered_audio_recon2 = invert_pretty_spectrogram(\n",
        "        comp3, fft_size=self.fft, step_size=self.step_size, log=False, n_iter=20\n",
        "    )\n",
        "    return recovered_audio_recon2, sample_rate"
      ],
      "execution_count": 26,
      "outputs": []
    },
    {
      "cell_type": "code",
      "metadata": {
        "id": "qJqC4gBQi2T1"
      },
      "source": [
        "from os import listdir\n",
        "import scipy.io.wavfile as wav\n",
        "from os.path import isfile, join\n",
        "import librosa\n",
        "import librosa.display\n",
        "import numpy as np\n",
        "import matplotlib.pyplot as plt\n",
        "from sklearn.model_selection import train_test_split\n",
        "def create_specs(fft, time_long, step_size, log_ref):\n",
        "  audio_dir='/content/free-spoken-digit-dataset/recordings/'\n",
        "  file_names = [f for f in listdir(audio_dir) if isfile(join(audio_dir, f)) and '.wav' in f]\n",
        "  ms_list = np.zeros([0,int(fft/2),int(time_long/step_size)])\n",
        "\n",
        "  #sp_sz=2046\n",
        "  sp_sz = int(time_long)\n",
        "  i = 0\n",
        "  for file_name in file_names:\n",
        "    i += 1\n",
        "    audio_path = audio_dir + file_name\n",
        "\n",
        "    sample_rate, samples = wav.read(audio_path)\n",
        "    samples = np.append(samples, np.random.randn(sp_sz-samples.shape[0]%sp_sz)*10, axis=0)\n",
        "    ms = np.transpose(pretty_spectrogram(samples.astype(\"float32\"),fft_size=fft,step_size=step_size,log=False))\n",
        "    n_ms = samples.shape[0]//sp_sz\n",
        "    ms = np.expand_dims(librosa.power_to_db(ms,\n",
        "                                            ref=log_ref), axis=0)\n",
        "    lms = np.split(ms, n_ms, axis=2)\n",
        "    ms2 = np.concatenate(lms)\n",
        "    ms_list = np.append(ms_list,ms2,axis=0)\n",
        "  print(np.amin(ms_list))\n",
        "  print(np.amax(ms_list))\n",
        "  return  train_test_split(\n",
        "    ms_list, test_size=0.20, random_state=42)"
      ],
      "execution_count": 5,
      "outputs": []
    },
    {
      "cell_type": "code",
      "metadata": {
        "id": "1Rx0_1oqjdrq",
        "colab": {
          "base_uri": "https://localhost:8080/"
        },
        "outputId": "433c5847-a6b5-42c0-aa9c-fce04d26f693"
      },
      "source": [
        "fft = 256\n",
        "time_long = 1024\n",
        "step_size = 64\n",
        "fft_step_size_ratio = int(fft/step_size)\n",
        "log_ref = 5e-0\n",
        "X_train, X_test = create_specs(fft=fft, time_long=time_long, step_size= step_size, log_ref= log_ref)"
      ],
      "execution_count": 30,
      "outputs": [
        {
          "output_type": "stream",
          "name": "stdout",
          "text": [
            "0.0\n",
            "54.71776436940948\n"
          ]
        }
      ]
    },
    {
      "cell_type": "code",
      "metadata": {
        "id": "xUFNuA7I--6Y",
        "colab": {
          "base_uri": "https://localhost:8080/"
        },
        "outputId": "5b569853-676a-40c3-853b-1a565283068e"
      },
      "source": [
        "print(X_train.shape)"
      ],
      "execution_count": 31,
      "outputs": [
        {
          "output_type": "stream",
          "name": "stdout",
          "text": [
            "(9411, 128, 16)\n"
          ]
        }
      ]
    },
    {
      "cell_type": "code",
      "metadata": {
        "id": "4n2Yol7bte66",
        "colab": {
          "base_uri": "https://localhost:8080/"
        },
        "outputId": "ac2bbf12-641b-4a55-adb5-15060aa15b88"
      },
      "source": [
        "compression_rate= 0.125\n",
        "clip=np.ceil(np.amax(X_train))\n",
        "print(clip)\n",
        "conv = myautoencoder(compression_rate= compression_rate, linear_encoder= True, fft = fft, time_long= time_long,\n",
        "                    fft_step_size_ratio= fft_step_size_ratio, x_train=X_train, x_test=X_test, clip=57, mode='mlp2', pretrain_encoder=False)\n",
        "encoder_w, historyconv= conv.train(100, 'mse')\n",
        "conv.audio_evaluation(20, log_ref= log_ref)\n"
      ],
      "execution_count": 32,
      "outputs": [
        {
          "output_type": "stream",
          "name": "stdout",
          "text": [
            "55.0\n"
          ]
        },
        {
          "output_type": "stream",
          "name": "stderr",
          "text": [
            "WARNING:absl:`lr` is deprecated in Keras optimizer, please use `learning_rate` or use the legacy optimizer, e.g.,tf.keras.optimizers.legacy.Adam.\n"
          ]
        },
        {
          "output_type": "stream",
          "name": "stdout",
          "text": [
            "92.82204818725586\n",
            "1/1 [==============================] - 0s 52ms/step\n",
            "1/1 [==============================] - 0s 28ms/step\n",
            "1/1 [==============================] - 0s 18ms/step\n",
            "1/1 [==============================] - 0s 25ms/step\n",
            "1/1 [==============================] - 0s 25ms/step\n",
            "1/1 [==============================] - 0s 26ms/step\n",
            "1/1 [==============================] - 0s 27ms/step\n",
            "1/1 [==============================] - 0s 33ms/step\n",
            "1/1 [==============================] - 0s 25ms/step\n",
            "1/1 [==============================] - 0s 25ms/step\n",
            "1/1 [==============================] - 0s 24ms/step\n",
            "1/1 [==============================] - 0s 24ms/step\n",
            "1/1 [==============================] - 0s 25ms/step\n",
            "1/1 [==============================] - 0s 27ms/step\n",
            "1/1 [==============================] - 0s 25ms/step\n",
            "1/1 [==============================] - 0s 26ms/step\n",
            "1/1 [==============================] - 0s 27ms/step\n",
            "1/1 [==============================] - 0s 28ms/step\n",
            "1/1 [==============================] - 0s 17ms/step\n",
            "1/1 [==============================] - 0s 24ms/step\n",
            "LOSS 0.5940369249727456\n",
            "LOSS2 672260.2216666194\n",
            "PESQ tensor(2.4283)\n",
            "SNR 0.7839027746700983\n",
            "80\n",
            "tiempo de reconstrucción: 4s\n"
          ]
        }
      ]
    },
    {
      "cell_type": "code",
      "metadata": {
        "colab": {
          "base_uri": "https://localhost:8080/",
          "height": 523
        },
        "id": "OdP1FFWVQt6O",
        "outputId": "bd27c920-d6c4-45a0-c880-3ed7dd1c1508"
      },
      "source": [
        "import time\n",
        "conv.audio_evaluation(10, log_ref= log_ref)"
      ],
      "execution_count": 16,
      "outputs": [
        {
          "output_type": "stream",
          "name": "stdout",
          "text": [
            "1/1 [==============================] - 0s 18ms/step\n",
            "1/1 [==============================] - 0s 38ms/step\n",
            "1/1 [==============================] - 0s 57ms/step\n",
            "1/1 [==============================] - 0s 41ms/step\n",
            "1/1 [==============================] - 0s 29ms/step\n",
            "1/1 [==============================] - 0s 28ms/step\n",
            "1/1 [==============================] - 0s 25ms/step\n",
            "1/1 [==============================] - 0s 40ms/step\n",
            "1/1 [==============================] - 0s 27ms/step\n",
            "1/1 [==============================] - 0s 28ms/step\n",
            "LOSS 0.6812429001358418\n",
            "LOSS2 1428667.1045592483\n"
          ]
        },
        {
          "output_type": "error",
          "ename": "ZeroDivisionError",
          "evalue": "division by zero",
          "traceback": [
            "\u001b[0;31m---------------------------------------------------------------------------\u001b[0m",
            "\u001b[0;31mZeroDivisionError\u001b[0m                         Traceback (most recent call last)",
            "\u001b[0;32m<ipython-input-16-fd1dffe22c8b>\u001b[0m in \u001b[0;36m<cell line: 2>\u001b[0;34m()\u001b[0m\n\u001b[1;32m      1\u001b[0m \u001b[0;32mimport\u001b[0m \u001b[0mtime\u001b[0m\u001b[0;34m\u001b[0m\u001b[0;34m\u001b[0m\u001b[0m\n\u001b[0;32m----> 2\u001b[0;31m \u001b[0mconv\u001b[0m\u001b[0;34m.\u001b[0m\u001b[0maudio_evaluation\u001b[0m\u001b[0;34m(\u001b[0m\u001b[0;36m10\u001b[0m\u001b[0;34m,\u001b[0m \u001b[0mlog_ref\u001b[0m\u001b[0;34m=\u001b[0m \u001b[0mlog_ref\u001b[0m\u001b[0;34m)\u001b[0m\u001b[0;34m\u001b[0m\u001b[0;34m\u001b[0m\u001b[0m\n\u001b[0m",
            "\u001b[0;32m<ipython-input-11-6da4d6a4a67f>\u001b[0m in \u001b[0;36maudio_evaluation\u001b[0;34m(self, num_audios, log_ref)\u001b[0m\n\u001b[1;32m    208\u001b[0m     \u001b[0mprint\u001b[0m\u001b[0;34m(\u001b[0m\u001b[0;34m'LOSS'\u001b[0m\u001b[0;34m,\u001b[0m\u001b[0mloss1_tot\u001b[0m\u001b[0;34m)\u001b[0m\u001b[0;34m\u001b[0m\u001b[0;34m\u001b[0m\u001b[0m\n\u001b[1;32m    209\u001b[0m     \u001b[0mprint\u001b[0m\u001b[0;34m(\u001b[0m\u001b[0;34m'LOSS2'\u001b[0m\u001b[0;34m,\u001b[0m\u001b[0mloss2_tot\u001b[0m\u001b[0;34m)\u001b[0m\u001b[0;34m\u001b[0m\u001b[0;34m\u001b[0m\u001b[0m\n\u001b[0;32m--> 210\u001b[0;31m     \u001b[0mprint\u001b[0m\u001b[0;34m(\u001b[0m\u001b[0;34m'PESQ'\u001b[0m\u001b[0;34m,\u001b[0m\u001b[0msum\u001b[0m\u001b[0;34m(\u001b[0m\u001b[0mp\u001b[0m\u001b[0;34m)\u001b[0m\u001b[0;34m/\u001b[0m\u001b[0mlen\u001b[0m\u001b[0;34m(\u001b[0m\u001b[0mp\u001b[0m\u001b[0;34m)\u001b[0m\u001b[0;34m)\u001b[0m\u001b[0;34m\u001b[0m\u001b[0;34m\u001b[0m\u001b[0m\n\u001b[0m\u001b[1;32m    211\u001b[0m     \u001b[0mprint\u001b[0m\u001b[0;34m(\u001b[0m\u001b[0;34m'SNR'\u001b[0m\u001b[0;34m,\u001b[0m \u001b[0mSNR_tot\u001b[0m\u001b[0;34m)\u001b[0m\u001b[0;34m\u001b[0m\u001b[0;34m\u001b[0m\u001b[0m\n\u001b[1;32m    212\u001b[0m     \u001b[0mprint\u001b[0m\u001b[0;34m(\u001b[0m\u001b[0mtotal_specs\u001b[0m\u001b[0;34m)\u001b[0m\u001b[0;34m\u001b[0m\u001b[0;34m\u001b[0m\u001b[0m\n",
            "\u001b[0;31mZeroDivisionError\u001b[0m: division by zero"
          ]
        }
      ]
    },
    {
      "cell_type": "code",
      "metadata": {
        "id": "iw0w3mZDHclB",
        "colab": {
          "base_uri": "https://localhost:8080/",
          "height": 92
        },
        "outputId": "d6a9be7b-1cfb-4286-cc2d-53c1cbcb9d9a"
      },
      "source": [
        "audio, sample_rate = conv.make_wav(number=5,person=2, repetition=16)\n",
        "#log_ref=1e-0\n",
        "IPython.display.Audio(data=audio, rate=sample_rate)"
      ],
      "execution_count": 33,
      "outputs": [
        {
          "output_type": "stream",
          "name": "stdout",
          "text": [
            "1/1 [==============================] - 0s 31ms/step\n"
          ]
        },
        {
          "output_type": "execute_result",
          "data": {
            "text/plain": [
              "<IPython.lib.display.Audio object>"
            ],
            "text/html": [
              "\n",
              "                <audio  controls=\"controls\" >\n",
              "                    <source src=\"data:audio/wav;base64,UklGRiQhAABXQVZFZm10IBAAAAABAAEAQB8AAIA+AAACABAAZGF0YQAhAADVCe//Wfm180/xMfXW8I/71vsR/D79h/ds7+LmDera8wD/pAR9DZMP8Ro1GncmsDCjKfEh/xl2Cl8KUgzpEf0dVx3WFnEHwfUk5QPcN9bC0X3SmtPj09vattvI4HTiQucK6toDwxq4J584tiNhFQAIg/Sj/LH/HQVD/10FQPhd8xX24/Ga8G79x/9rCycWBh2oDbQPbhfXEIcPQ/5F8Vvl0PJ995oOqQmgCo39bv7I+NP6qQRD/y35RPXT+XoCpBeaJ0sqLCeJE+UIXf58/oH8Tvj68NnseeoH7J/ak+as02bXZ+Nu+y0QTBqgF3cQ5vx29hDrRuub81DoQf4xBUQP1RB+ARbl18qHz7vh9P/oDHAWqBEzGJ8TZBoBJ7EdFxpLGtUPghjOIfAlbyvqJwIaIQu2/ezrjN+k1qXRIdQ04ADjBexa7W/0jPMp+ZX9k//L/G0A3fq2/LoCIAjlC7oEtgHD8CzmO+bE7Y39nQgHBrICv/bp7ervEAUhFYohDBqlGQkR1QlFBTH/sf4sCPYR3hhQGZ4a3wA0AjT1fOZE7+XiO+UB217iHPTbBK8j/yj1JnQStPoD74rnWe0L+qgBQxHjDxQHYfim3yHa5NpY5CT35wlaEcwRPQSc/dT5ogoKEe4IuQ6SD6kgJCykHKMKMfDG9VMHVCjQMPwU8v1P4/vj4/IU/bz4bNH1tAXGMOC9/w0o+x2XImUGjQ2j+o8AT/1U91Lq5ORf4knym/1FAc8EdgNS/Rz6L/xaANAEHgQBBkIIkhRcGmUWwgdm/aT+xv4QC58XzxNXCsHzM/2cCxoiJhx7/ojZU8EzwCv20gRDGGIBHejp7eMGTixLOPItIvmf11PHIsqP3iYDqRIwJgohkwgN6ifRIMbFzSbmWAFTIusmqxxxAs7x7PbaDMUT2gRb/Oj9Zw/2HKYKpvDg3TDlaAO1G30s+h4oF2Ic7x0TCcvuxs0SxLDk2RpjSK453CzJ/ZEAWwlnIcMqsxWq1gO026stw4vxoRA+GuYLUfAp4qPQANwB56/4TfEF7abqvQIQKRxE6kGbML8IDO322pPdA/LNATsEZvWv6UnmSPWR/R7+0/JJ7C31LAcVH7ovczjrHkX7suv69u0LqhPq8eDiTd0E6jgqRF0pcORQ5Q8p4eTV4fZB+8kTCf+t6ALZo8uLsAa9zc0TAv4lIENeJ/T1rM68rge+3NoEAkMcNj0mLIQYLgPOAyMPlR3zEEfqNtsQ3R7vlAHt+o3nEt107KoKmiHWMb4oGx81Dgz2kM6nxGfZxgJxPxps82adL9/2DtXZ2acBaxAd/2jdPahmm2DCl/o2KEwOnhIa++gKgCrPMDMKZfEv4YEJ1yyYKy0covPv4yzo7BHEH6QI0NtYu+bBv/dcKlNATitRBxvf08sP16boNgU3E0cGufU28kL4lAhKBJD9Ad7R47sIwh7eN8k5iywPCrL9O+lm/3sOURCP96XtRutMyPzj9gcRJsRWbVLNJIvZQLg+rVfegANz+c3V2KEBgMmxLgTAPAtCkiWKA4X1bOsL4nTt+++KCeA08Vq2cUtmPTV+9/LahNzK9ksWOB/2Apjl18kAyyfbAu40ANAA5/3pCmwPJx+mJnIlGQkr8ZvaE980BeMgKhsGBwfjP9ep7TcisScDJsP7ouKO5Cn8QfGH2LSvlKXuv9b1wSjcHu0K/QPt/wr51geaB5jq59Y/4DkU4kVzUVJD0SndEtENgxFjJCIbFf1h3MPMX89Y4wP3XvgD5qHhCOOqAEwsiy9aHWAK3gIc+ssGjgMOCCgJkBHZH3YX/B/9BoX1od41y0zM+ePs8wX2Be8e9IrvQ+zlAlPzW/HG6635MwrzEvsL5faS8STs/PpA9Qnsa+c1+dIg0kxVaY9a5yyY/kvkGfX/DxEnJB04AJrawMGSupnLdd+y838FCQ0nEnoamxWzFmESpgoF+VHuxOVQ690AfRfZGpEJGe0Y07jRivbaIm1IN0cKLmcJA/Aw52jslPxJ/10BovNW74juQPJs7JfgTNpo5uEFEiwqLs8oCg0W8GXtNPqgBa0AWQQZFq0wY09rOED/aM21wj7Ej+nI4SHQXMR41LvqKxLmGpoOu+1jz+fQjgjtK0c8qSBx9uTYEcCu1rz3XxxOLTEoOSGgD5kO3hq1KJIz4hbq/Vvlgtf65MLyyftk+m7t++Dq6sUBFglB/NTyg/VbAuQn/SsxF+/3T/A2/GAm/zylNzEyShmvFRMD2PvK1LK4abBAwB3rTQ/aIHUYuA2g81/4if1ICGcEh/np63/pkPY+CYwGtvfW3EnOg+H7A1knry3kJBUNTACKBMkFZQ5pCTMNiR2mLdQxZyLdGKAAaPCG3cDcieA68b7mSd1mxznckP19Ke01Eg3L2um+67F/238mzzfDPTESVujVy9Cwi70p0ej3yhtjLI44bSqEIo8c8BYeG50L0gQC+n/wlu+w8nH43Pah82/z3fJJ/wsDzAN2BWAL1xLPDokCtPku8Jj3KwkxIMEtIipRGqgBtfGr7+vxju9c3+7EGc686ZMQMTXpQNEdo/zP3pritehv/SAEFAmOD8oK9v+37O3NlrsUtaPSa/U5JklFeD1vK9YRS/+FBqMNuxekFXYOowBq7Lnl6OB/5uHqLO0p8MTwXfx1BbIAZPnl6+/ptvEs+ucA+wFaAS0IoAxnEbMXKxp6IoAqBCe2H2UP9vzw63Ti2tvL203pAv34BMn07+Yd2zHmiAJBGzgxjTf8PptE2CroDITZYs4b1RrsERTYA7Lr9OIv4Nv+VSPhKgAmERleDSAEu/9x+R/pBO0n9z8DJP9rAE/lH9/M1mXXFMYhx3vVHPcEE/8kKBhm/hH1tvVLAbULcw+9D34fqCOlLGgqsCG0CoH4uOde0pDSHt7P8A4FYSYwMXAdYxDU8Y7V2dED5y0OUgMzH9YUlv2t8O/jm+qfE30+MUpQQf0hsfnH1EHetfamBqD1xtwwu2ew7Nk3DPkoIzBTH40WsgmaI1cYsBnJBTrvR/a2AxsIQvsG66nHg9M74XcDNx+SF2sI5v1kKl8rMysaCVHpEOfu+BcSlw28D6zvJ+jg0tLETKuqsw7ctRV7MU8qHQ7G7T3lgu3G+cMB6g1YKUZM/k3GOb8NmOhp1xzmjeg52yjQhdFl4pX6BxxyB5j8mPuTC20V4DEMTDNCezQlJnwNUOU260jphdod30Lxj/XVD0kNGAZfCKMc3ibYCG//HAZ4+DHv6dbZzSTakQBHFpwMj/CoxsWzbc2w/20gniohFMfz5OKW5Wfz3QE8CrUS4SuRODBEbCS3BDLsF+pW+dEChfi72aHEsLwt1HvxzwJiBmsAaQzrE2QrOTjoLDARdQ8s8fP5aQwNCSUDPRIhJd8gUg6g+YLeJPqkEdU2jiu2GG74Te3977X7wfNr7yX+Uwdq8frT96JHjn/BKhS/SThPgB5A5dPPkN8I81P9JAZkFmg2Yk26OzcM+Nyyy33OyuDA6xLm2N0e6bT1JwQbE1cLlwTVB84OQwTMB2wIHBcRAGcOQg0MG3QOsQOb+bX5XiIzNAgswgnfGXslQz23KxL6stvtywP6+f/o5SbbOcLuvLHTbOf/9Dv38/MT8q8GXR7sK2ArUx7KEVH7ye0R4+XxbQSBG38l1yV2E0nzBdQGz9HJs8lQ0gfbG+hbBHYbExVFDHYjmBUDG9YMFNrT5aMAYioGIZgVrQYDFh4l0iPN7tzjLgGBOnZkSVoOMlL3Ldgj1wjdCN0o1tbg2OmNA1IOjuojsiKWBLYNBSNLzV10OtshCwxBB/XzQdof3Tfz4R10LVYhrgZc8Ajoy+gv5H7Zn9dB0TDMN97n+r4VeRgkIYM6qTCIFoDYcMRw1Bf6DxA5Epgb2xeiJXYqeyZ0GxgjpyZqJ4AtTCiAHV4Apup2zAC8ucsK3kfLYMoNxenBEOXX9BsAwf0JBuoL1SX0OnU7EzhWFwkO2fOI72PkPfDD9Y8LVyRaKrYcye2S1gPNodDv2ffnSfEI9D7/lhBCEUX+m/iV8AL+2PzM7vDiMd+j8rTzU/9e5XXxcfoLIko0LD+fPchKR1koQX4xGyzFIaXipbHeqjq6Ldyj1oXHge47GtojzgcW47Lpxg+ONgc0oxlRIfQkbR8sAx3T69v43Q388AZlCqYO2hN1EDb5z+jR6iL1ZfVL8TbxY/QG/e33xebh4dPdtOba6FYCZRHEGm0kKxinFY4N7/4j9WDxa/y1/cbnhN0H39fndfGt8+bzsu8E8YITgRWfCWwFEwjWHyIJg+kd16MJ0xhCNwdDUU+MaFpgNjSj72PVRMX8uLm/g8t/35j1l/8oDyoNXg6hDQgPvA38Aajxj+WW4OjbSdXozhzXN+B84hf6AxAqJ4VH1FTEQn4iixsDFsLb0L4wu2f04QY47ufqCww6IUkKO9vM6tTrlPCU46rxSvXIA7wVlwvtJ68sEzYWPVY1vS+PMZc1gRxP9+zLKckP2iDnW+VZ5E352RJ7FTMAh/B78UL58/Zk7lXxL/XO9zDwGuBc347fXepU7jX9Qg4XLk5BKzPbFMca0BbW/WDfhM7362z33u4c+KcgyjBoD00Omwqx85HL+rOEt9LHSdo862UXEjFoTYhXRGVfaOVZKzyIEqT8uOFC0X3EncIgzV7Pbd618+oP/hliHv0iVSo4HoMF0OFF06vHlLjgquWyC8we2nrukhIdMlc4dkq4WFVYyS/PHiYPZP0i1U3Gc9ni9yz2re5cAI8auA4LCRPrfgWD8gfSXeCp4qL/LgepGRoz6Td/PIMysC06KDggORnJEZP2RuIJ2DLcctsQ2cndjuwcCrQcsBcFD/MJYAtsBH/xTedL5T/dPtYoz4DPU9eq2xjh1PDOBcEWnS8HMdMsuyOpI3ISgAAH9sX5vAK6/jD8yRotMPYjCgtDBf4EPN9CudWyf7rmxALbdPK7Huo2LlO6YKFec1U4RQQkjQEM5vPWtMMrwzHABtXR7r/70hMJIw45BzkDMAArzRqdAFPbyMZOt0WlMp+ArwjIg9Tg6kEPmy+yL24vxDjOORQbgABs62jnTdmfw1zWj/ew8yAWxApXL84sABn5D60DveJV1IfRCuTH6N35fxCeJV8rjDBlJ8UsDBikBhb5sum94urYC+Gc7A3zUQTvEOYeyyZXMt0zDCOdFf4M6P4171LaZdTL1PzPp8+02irjkez689D9WATKDX0GDwICAXH+//df8/X7uv8sDHEYyRRWJq4hSiBFDU/2D+/j1qnGjMQytxPIKt45/yUaaTXqWqFmOFgKP7c1ehT/7/7XXsHHwZq3A8Sw2fDsiwUyHZc2z0JkR6RL6kJbNfsdNw3c9y/hgtZhyA/E/cIRzt7XXt+q7a70XALdB0MF1w3BDLML8QxRBGoL+Q0hAXAL2vpX+GTynt+r2srgwceA21Pbxv3nDnAYwzsJQFBAmi/JIkcZGPMn3WHNS9ZEyRPJtd649hMMJxsbMLpBU0MIRKY+bi4cH9gIw/W26NHbE9Ce043ZueSG8eH81w05FukVTxKGCiYBAe/g51LVI9QvzSHO+OYl63T1Nf0RH9cgwyoWKfgbSi+TC4oG8gKC8Ej14+6FB+cBFgWfC2sFrgxc65nxbesY0NXVn9C33C3nSu4yEB4dxTqEQXNPiE0AVAFHcjCHHjwIvfOU4QnLBMYuwFfEjsfD0A7lGuL39RABhwd3EioPORlzFtQNVBHHCjAQTQT5+yP+Gfur4szptuTQ3o/f+che+sfyag84FFYhQDxSLJEoBB/eFaD4AeH8yTHQ3bcnwPe+2uRw9pILIzFARR9XUl0ZX3BacEPGLroObAOr4trTu8xBw27REdZe4UHwggBoDvERCg9qDNMB3/iX7WPSsdL5ykbJqtS61iXiOPbnASggfDCHJAE7mjPxNGgnZyKyG+wd8RbyDFgTkwdV/5vtb+7L3krRw8hEvqLNssSc2FDmZAQXGlQmgUWOSXxYC095R71B3CU3F1r2r+jp1lPBJMPEvIPIpc2M2jXuIu5/B3QEHxDADy0FKxBs+c3+ZfS982bxqO0W+bvvIgMh8AAAS/+E85n/+vXACAIFtgqOJHYdniHgIzktqxxXCO/0H+a60Jm2Ea/CtTSyC8N01er1qBXsME9K+F+ZcFhndGgaVVFAJx4xAGLqDNAqwYy2Crx3xj7SsOgk+U8OoRcyFbgfzBXuDvL9Y+uV5vHaWter02fUYeaT5/H/MAhPFf0fKRiuJnof4xmOCtwQaQtn/sn0oekR5w/g5NQ2w6zG176+wWfLst7l9W0N4CGqRDJWb2cQdPxyaW1OYdxI+DO8D+/witfVwEqs3qtErQq5UcZU2M/0OQUAFeUpRy2cMf0mbiVoFIEJZfSj7IXe/tgU107NKt7I3BzjXOqF88IAGvmCDHEIgw8dCUQKJQ9zCX8KXP43CXsBHwBK8jr+u/XE36XnEeEe6Qjh3uv0AdIFQBdIF4ErsSztJ48mxw8tB3Xwqd+F02bMncn/yH/WQecz+xINHR8MNaM5yj6rP7Y0gi3aF5cKnfuG6bnkYdsI1r3hg+Jm9o7n/PpkBboEJgKM79AMMvHl9MXuk/PZ7mPwrO6y/ZH5H/Y29iv4CvTi+DkAQgU5Dx8czi2jMGs78j+sO3kxtCFLEroCnujW1nDJ6sE3uQG8nszQ22ft3gI4HnUzIj9sSxVM0EeINo0m/xVV+mjg288KxfC297U/vZTLGdkN7AgFtBlsJAM3pDhzPTU1VihNIJMM8vl059Hj1OX6xOvRcdOr4rTPb9gt8IHu8t8Y5bn4yQHdABwC4AhwGPsVYAvuGRIRSg22AVADpPSm+tnziQTuCGoWQSMJLmM5+DwhQFQ0giixFyQI1fHt4K7Q+cdbwlHBuc3Z2B/pHPi4C40b5x5cLKEptSdvF2cViAzI+Jj12u5y7CDcXt8r7bbszeDT4gPuqOmw6bXgSfVF8/rwtvs+/FED4QN4CTULX/1jBA8Ev+j37zznhfMk78v1NAc+KMoxXzwKTPhbrFCtQ782pyqBDzXvjt1wzSXC0K2UvFjGANUm5T74vhoHJ7ozzDogQM5J0jVfLxIhAht+Bqz3WPS8/WTq+etc5+D2lOhO65fzxfeV4XLpFPLh7i7upuoT8WbzqfUA7rXyMewx9M/pWOUY45vha+VG9M71qQNVGEEozjOTO7ZFzUIpOeMmJQ4y/d7gN8tjvCGz0rJuuz3Rx+Zt/3AexDToSIlY02LUYANTPUlCM+MiRwnb+m7uRNnk1N3Xz9rZ2t/b/eLc7ATs4OxE62v6hvqr/2sHBwoNEZAP6BO4DUwKgALw+uzy4+bJ4ojanteV1rjavtzl2ELqwPG4+H7zHv+LBH8FMfvx/ZkDB/40+9j0WwHp/wYDAwjVDhYjSBznJ4Yq8jdALagsNyhGMacgbRrNDTYMzfoh9Qn0g+wM6LzsX+ai7BfqF/U18J73kPv2/bwHKwZ0DeAQqg7YEpYKVwsHA/L6xu/v6PvkZtjW0c/V6tn003jcbeg79Lv4ev/sAfkLTgrcBhr/zPbY9lntE+uT5jbn4Oxz+/kB4AklGYMhgieJLhUyvDD4KoIl9xoyFogO1wS5AOb0m/PX8dryqe+g77Tte/GR9LX0rvVi88P1Qfg6+fv9zfVH9xH5JPoD8d3vP+5z+NvwrPEG9bkKp/pVD5MI1xHwGToTBhdpDkUf2RNkDfwNdwC8/Zz8xfUa9rXzf/jm+V/70wBfCLAK9w59FikRJhQqEacPlgzGBBf/f/fJ8wntNuip6JLjkeLU6W/ptOwB7p7w9e6O+hTvQ/jD8eX2Efdq/Dv4DP/IBooE8w8tDvEO6A7QENAQ3Ar3BV8ASP76/nT8Ev9F+3r71/2f/x0CmQY0BB8J7Af/Cq8PaRBTEEkLVw5KD6YMcwk6AjL/7/3iAPr8RfqU9Qn23PrC+hr92Pkl/A4BLP7M/y/8xvsu+7P5d/Yh9fDz4/Qt8zfzNPdD/H736wGW/f4BfAGS/1gCeQOs/57+G/sn/lD4QwDM+Jz8f/zzABf/5f2l/jUD6gG8AW79NwU+AEAFFgTFAXYKUwS5CGcINAt6CqIEAQkNASMGGgSvBVMDuv7c+yD+S/wc+aP3hfV99IT21vQn9Hn2tffL+Ev4Dfxe+fT6fvyd+2v/EPxY/Jn8Nfs6+3v6oP2o+4n70f+0+3gE2gJUAEoMzwcOC+sHfwmoCVoL0g5hCn4MkwdECVMI8QLYBE78ZQKl/1YDLvx1/Un6tgJg/rz/TvrP+1P+5/sq+lj19PPD9OryYvUE78j2//Nt/AX3TvpA+OT4o/SD+7v45ftN/KP9ygF/AKYAzP8tAE4EAAPVBWIF1wMBBfUG2QshCBIHxQj/C4IIZwstBvoIQwe6BbkCMwAW/jYCDgI6/y7+RPqX/mX3u/cl9i32gfaT9P3y7PQG+E33BPi09Ev3Dvjh+5/6A/wa+8D9UQLm/44Amv2nAVYEOwSbA7wG7f7gDun5VBbnA8EJlw73Ch0RdRFoCwQPPA3BEScEePcJADQBGwEZBO37ufc59uL65/Le9+j3svTq9LnxrvOa81T3oe069Bnv7ffc9lP11PKK9Zf6hPsC+5L65vuFA9b8zQNJ/wEBXgRGAaUGCgirBCYEqwciCEsHTwt7CFsEDxKdBggFyhE2AZ4PkAoqDF8JwfQ1Ayf8IQgqA9sJn+61+kz1bv777mD0E+5+9PD5C/DX8TT0m/pa9O76YfV19W37/vlZ+i37vfuiAMcA3/4qAbAAJAbwAMwGaQFVBdYCoQlt/GcKkgTBBUILkAYICZgK6gtICYoM3wehCGsCFgOOAnMF2QQ4/6sEUwKF/UL54Pod9Z/7H/ez9Tr3RvRq/K/xpfeV9Yj8K/n3+nD8ePv7/Mz+X/ng+y33avlS+aD7av7T9/AAuP5cAZEBjf5eAWcEpv8EBxwB9wFOBAECDAnyA98J8ARdCAoNQQYtBlsHcgUvCtYPeQVzBQX9vwV3AuwHcv7R+UkDkPQT/qXyJwgf7kT+YvM3+2715/pc80nz9fPf+fL3YfQ/97n4B/iL/nf4Dfrp+/L8MwBx/U3/qQCi/cwFJAA0AU0CCARJBmcDLwd9BKwGHQfgBZ8GlgQTBfoEFAm8BwgDTgRLA88GTAEMBngBVwES//f+4f19/pT4JPYu+QL69Po59oP5SPZc/JoBMflo+T700fhv9Rfxbfib9ff6Q/l+/NT6DwCu87gHCP/VBqEMnwWRBXcIwQGmDLkF6xDHB8gFgQRSBQ0IsgKYBzL+TABf/8cCD/8Z/zf83/zoAeD7MvzT+dX/EvkV/TL7CQD699P8/vcT/Dz3Mfu7+Nn3mvSy+YT2CQAw/03+K/ra+Y7+vwV++lcEqv+dCTABpA98ABoDEggPC3YN+w9QBasNSgZGFpMJawaCBAAKCgqlA/IIHwSKAaQEHgBV/Hr/u/d7+Yv89Pws92z70PjH/Kz3MAfG+Ab8TPdq+MD7t/bC+vz60PZA+bb86faPAjv3OwDS9zz+ZALgAaICkv95AwADbwJHBA0CyQjsBDAKhAaYCCsGCQhQCpoGxQZGA0YE6QY4A+UGnwKZAMwADgEgAOIB4v1x/778jP2k+wMAjv2A/nP7iPsX+o77Gv4+/Y75mvo0/CD7y/0l/in9iP9N+br94/xEAOr8uPxm/M3/ZAIV9vsCIf1K+YYKVP+nCQ0AgQdrAPD7FgBj+qAEYvyeAycEUgYTBiP+qAUXCMoKxgPdAo4CnwWUA5cFHgPq/HYEufzLBQv8e/8y/MX9+fzUAZv8jfkMANT6uv04/NkAlf/M/oP95/169hn8+/Xy/TL43fdZAlj71Akn+d0Ez//QDM0GTAQNBuEDGQuiAuMJiwQXBlgERAFmCJQCmAP5AzsEtASPB4IAjAgxB6gAzQMPAD4H4wQxBGcEnQFl+gUCEfkrBTf86gK1/dH76ABC/hED2PyWAvf+aQNmAZ8FZwK1AgcC5gSCBJQGuAW0BfIGdQeLCJgJRAcECKcI9AedCOkIGwalBt4FTwQMBTEG4gR6BrUEuAXNBXoFfgYnCAYHwAYtBZQFVQWxBucGnAetBW8GkwReB2oHZAcTBnUGkAaHBTkGgwaHAykFSgK3BLoCoQPqAoYC8AEuAA8CjAILAUoBuf3WAHP/w/3hAIv+m/vXADT/UgFn/6EAy/6z/Yf+0P6z/1z/Qf8tAb7/ZgG3/10AVABGAlsBKwIZAfQB2gLcAc0CwQI7AoYC2wPXA98DoATMBEkFWgRgBAwF3wQ6BoUF0QY4BqQGrwbuBkMHiwfSBjcHGAf5B1MG9gZKBg4IjQecB4cHVQd3B4kH5AcECMYIXQh5CHAIOgheCNYHyAd3B+IHzAcrCFwHxgdSB5cHoAfCB+AHuweSB8kHYwfBB/MGywZLBzMHVQdLBygHcAemB3MHuQdHB2cHJQdmB2sHLgc3B/gG7wbdBm4G3QYfBo0GwwUcBsgFsAWvBV0FQQUaBQMFEwXRBMQEWQSzBHUEqQSCBIQEawRDBFsERQRLBDgECgQSBCMEMARoBIgEvwSzBNgEQQWgBd8FQgapBhsHeQeUB4oHkQfdBx4IGghxCJcIhQh3CMcI9gggCUYJJglaCQoJ8gizCBAKfgrwCfQJ0Qm/CV0JkQgaCJ0HLgdzBzYHegZFBvkFvgWJBe4EsQRqBDAEawM1AwIDfAJRAdgAtQALAI3/8P5R/5//O/8E/wr/WQCkAEsAOQA5AHIA1wBpAG4At/+Y/x3/G//Z/5b/5/7O/mD/tP/r/0MAcwASAAcA//8xACkADwAVAB4AUwBJAGAAiACEAJoAlQCUAHwAeQB2AFwAn/+F/5H/kv+L/x0BJAFUARcBuAADAdcAtwC+ADQAFABPAH0AQQBEAIAApQCBAKMAbQBZABcAtv++//7+dv7b/ab90f2H/TH9Gv1v/c791/28/dr9eP6s/oH+l/6z/tz+9/4V/xb/7/4E//X+8P4g//v+1f7x/hj/EP8U/17/jf+P/3j/fv+o/8D/k/9//6//5P/m/9//5P/0//P/9//o/9H/z/+9/7P/tP+w/6v/uP/g/+D/4/8HACYAAAAAAAAAAAAAAAAAAAAAAAAAAAAAAAAAAAAAAAAAAAAAAAAAAAAAAAAAAAAAAAAAAAAAAAAAAAAAAAAAAAAAAAAAAAAAAAAAAAAAAAAAAAAAAAAAAAAAAAAAAAAAAAAAAAAAAAAAAAAAAAAAAAAAAAAAAAAAAAAAAAAAAAAAAAA=\" type=\"audio/wav\" />\n",
              "                    Your browser does not support the audio element.\n",
              "                </audio>\n",
              "              "
            ]
          },
          "metadata": {},
          "execution_count": 33
        }
      ]
    },
    {
      "cell_type": "code",
      "source": [
        "wavfile.write('five.wav', 8000, audio)"
      ],
      "metadata": {
        "id": "JWEjaBGfMNnU"
      },
      "execution_count": null,
      "outputs": []
    },
    {
      "cell_type": "code",
      "metadata": {
        "colab": {
          "base_uri": "https://localhost:8080/"
        },
        "id": "G6HMDF5LSS20",
        "outputId": "8cc80e10-127a-4180-994a-8d39affe9907"
      },
      "source": [
        "compression_rate= 0.125\n",
        "clip=np.ceil(np.amax(X_train))\n",
        "print(clip)\n",
        "mlp1 = myautoencoder(compression_rate= compression_rate, linear_encoder= True, fft = fft, time_long= time_long,\n",
        "                    fft_step_size_ratio= fft_step_size_ratio, x_train=X_train, x_test=X_test, clip=57, mode='mlp1', pretrain_encoder=False)\n",
        "encoder_w, historymlp1= mlp1.train(700, 'mse')\n",
        "mlp1.audio_evaluation(800, log_ref= log_ref)\n"
      ],
      "execution_count": null,
      "outputs": [
        {
          "output_type": "stream",
          "text": [
            "55.0\n",
            "694.6065850257874\n",
            "LOSS 0.6817622973348679\n",
            "LOSS2 1345244.117565388\n",
            "SNR 0.8656589974277538\n",
            "5851\n",
            "tiempo de reconstrucción: 177s\n"
          ],
          "name": "stdout"
        }
      ]
    },
    {
      "cell_type": "code",
      "metadata": {
        "colab": {
          "base_uri": "https://localhost:8080/",
          "height": 75
        },
        "id": "Ksc-tk9W1evt",
        "outputId": "214c0afe-013c-42f1-b01c-b9b505769e3a"
      },
      "source": [
        "audio, sample_rate = mlp1.make_wav(number=5,person=2, repetition=16)\n",
        "#log_ref=1e-0\n",
        "IPython.display.Audio(data=audio, rate=sample_rate)"
      ],
      "execution_count": null,
      "outputs": [
        {
          "output_type": "execute_result",
          "data": {
            "text/html": [
              "\n",
              "                <audio controls=\"controls\" >\n",
              "                    <source src=\"data:audio/wav;base64,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\" type=\"audio/wav\" />\n",
              "                    Your browser does not support the audio element.\n",
              "                </audio>\n",
              "              "
            ],
            "text/plain": [
              "<IPython.lib.display.Audio object>"
            ]
          },
          "metadata": {
            "tags": []
          },
          "execution_count": 11
        }
      ]
    },
    {
      "cell_type": "code",
      "metadata": {
        "colab": {
          "base_uri": "https://localhost:8080/"
        },
        "id": "Xcd5eGE1S-Mq",
        "outputId": "7903d211-bf83-469e-858e-94cdcf2ff272"
      },
      "source": [
        "compression_rate= 0.125\n",
        "clip=np.ceil(np.amax(X_train))\n",
        "print(clip)\n",
        "mlp2 = myautoencoder(compression_rate= compression_rate, linear_encoder= True, fft = fft, time_long= time_long,\n",
        "                    fft_step_size_ratio= fft_step_size_ratio, x_train=X_train, x_test=X_test, clip=57, mode='mlp2', pretrain_encoder=False)\n",
        "encoder_w, historymlp2= mlp2.train(700, 'mse')\n",
        "mlp2.audio_evaluation(800, log_ref= log_ref)"
      ],
      "execution_count": null,
      "outputs": [
        {
          "output_type": "stream",
          "text": [
            "55.0\n",
            "682.9130940437317\n",
            "LOSS 0.6782945632893066\n",
            "LOSS2 1317326.2305856186\n",
            "SNR 0.8589740629830659\n",
            "5775\n",
            "tiempo de reconstrucción: 175s\n"
          ],
          "name": "stdout"
        }
      ]
    },
    {
      "cell_type": "code",
      "metadata": {
        "colab": {
          "base_uri": "https://localhost:8080/"
        },
        "id": "BEZRxS8C1joC",
        "outputId": "878dbe52-d4ed-4bf4-b020-720b896f7525"
      },
      "source": [
        "audio, sample_rate = mlp2.make_wav(number=5,person=2, repetition=16)\n",
        "#log_ref=1e-0\n",
        "IPython.display.Audio(data=audio, rate=sample_rate)"
      ],
      "execution_count": null,
      "outputs": [
        {
          "output_type": "execute_result",
          "data": {
            "text/html": [
              "\n",
              "                <audio controls=\"controls\" >\n",
              "                    <source src=\"data:audio/wav;base64,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\" type=\"audio/wav\" />\n",
              "                    Your browser does not support the audio element.\n",
              "                </audio>\n",
              "              "
            ],
            "text/plain": [
              "<IPython.lib.display.Audio object>"
            ]
          },
          "metadata": {
            "tags": []
          },
          "execution_count": 13
        }
      ]
    },
    {
      "cell_type": "code",
      "metadata": {
        "colab": {
          "base_uri": "https://localhost:8080/"
        },
        "id": "puE-ICFf4gxs",
        "outputId": "89a04b4b-da8f-4cb2-b72f-1a8d7f85b5ad"
      },
      "source": [
        "finish= 700\n",
        "plt.plot(range(20,finish),historyconv.history['loss'][20:])\n",
        "plt.plot(range(20,finish),historyconv.history['val_loss'][20:])\n",
        "plt.title('Model loss')\n",
        "plt.ylabel('Loss')\n",
        "plt.xlabel('Epoch')\n",
        "plt.legend(['Train conv', 'Test conv',  ], loc='best')\n",
        "plt.show()"
      ],
      "execution_count": null,
      "outputs": [
        {
          "output_type": "display_data",
          "data": {
            "image/png": "[encoded data removed]",
            "text/plain": [
              "<Figure size 432x288 with 1 Axes>"
            ]
          },
          "metadata": {
            "tags": [],
            "needs_background": "light"
          }
        }
      ]
    },
    {
      "cell_type": "code",
      "metadata": {
        "id": "fl18lyUzHQ05",
        "colab": {
          "base_uri": "https://localhost:8080/",
          "height": 391
        },
        "outputId": "0707af25-042a-4e98-8fd2-c6dd6c5ad084"
      },
      "source": [
        "clip=np.ceil(np.amax(X_train))\n",
        "print(clip)\n",
        "lp2 = myautoencoder(compression_rate= compression_rate, linear_encoder= False, fft = fft, time_long= time_long,\n",
        "                    fft_step_size_ratio= fft_step_size_ratio, x_train=X_train, x_test=X_test, clip=57, mode='lp', pretrain_encoder=False)\n",
        "encoder_w, historylp2= lp2.train(700, 'mse')\n",
        "lp2.audio_evaluation(800, log_ref= log_ref)"
      ],
      "execution_count": null,
      "outputs": [
        {
          "output_type": "stream",
          "text": [
            "55.0\n"
          ],
          "name": "stdout"
        },
        {
          "output_type": "error",
          "ename": "UnboundLocalError",
          "evalue": "ignored",
          "traceback": [
            "\u001b[0;31m---------------------------------------------------------------------------\u001b[0m",
            "\u001b[0;31mUnboundLocalError\u001b[0m                         Traceback (most recent call last)",
            "\u001b[0;32m<ipython-input-15-5685f7e33dcb>\u001b[0m in \u001b[0;36m<module>\u001b[0;34m()\u001b[0m\n\u001b[1;32m      2\u001b[0m \u001b[0mprint\u001b[0m\u001b[0;34m(\u001b[0m\u001b[0mclip\u001b[0m\u001b[0;34m)\u001b[0m\u001b[0;34m\u001b[0m\u001b[0;34m\u001b[0m\u001b[0m\n\u001b[1;32m      3\u001b[0m lp2 = myautoencoder(compression_rate= compression_rate, linear_encoder= False, fft = fft, time_long= time_long,\n\u001b[0;32m----> 4\u001b[0;31m                     fft_step_size_ratio= fft_step_size_ratio, x_train=X_train, x_test=X_test, clip=57, mode='lp', pretrain_encoder=False)\n\u001b[0m\u001b[1;32m      5\u001b[0m \u001b[0mencoder_w\u001b[0m\u001b[0;34m,\u001b[0m \u001b[0mhistorylp2\u001b[0m\u001b[0;34m=\u001b[0m \u001b[0mlp2\u001b[0m\u001b[0;34m.\u001b[0m\u001b[0mtrain\u001b[0m\u001b[0;34m(\u001b[0m\u001b[0;36m700\u001b[0m\u001b[0;34m,\u001b[0m \u001b[0;34m'mse'\u001b[0m\u001b[0;34m)\u001b[0m\u001b[0;34m\u001b[0m\u001b[0;34m\u001b[0m\u001b[0m\n\u001b[1;32m      6\u001b[0m \u001b[0mlp2\u001b[0m\u001b[0;34m.\u001b[0m\u001b[0maudio_evaluation\u001b[0m\u001b[0;34m(\u001b[0m\u001b[0;36m800\u001b[0m\u001b[0;34m,\u001b[0m \u001b[0mlog_ref\u001b[0m\u001b[0;34m=\u001b[0m \u001b[0mlog_ref\u001b[0m\u001b[0;34m)\u001b[0m\u001b[0;34m\u001b[0m\u001b[0;34m\u001b[0m\u001b[0m\n",
            "\u001b[0;32m<ipython-input-3-7e2ec0b89021>\u001b[0m in \u001b[0;36m__init__\u001b[0;34m(self, compression_rate, linear_encoder, fft, time_long, fft_step_size_ratio, x_train, x_test, clip, mode, pretrain_encoder, encoder_w)\u001b[0m\n\u001b[1;32m    113\u001b[0m       \u001b[0mx2\u001b[0m \u001b[0;34m=\u001b[0m \u001b[0mlp\u001b[0m\u001b[0;34m\u001b[0m\u001b[0;34m\u001b[0m\u001b[0m\n\u001b[1;32m    114\u001b[0m \u001b[0;34m\u001b[0m\u001b[0m\n\u001b[0;32m--> 115\u001b[0;31m     \u001b[0moutputs\u001b[0m \u001b[0;34m=\u001b[0m \u001b[0mActivation\u001b[0m\u001b[0;34m(\u001b[0m\u001b[0;34m'sigmoid'\u001b[0m\u001b[0;34m,\u001b[0m \u001b[0mname\u001b[0m\u001b[0;34m=\u001b[0m\u001b[0;34m'decoder_output'\u001b[0m\u001b[0;34m)\u001b[0m\u001b[0;34m(\u001b[0m\u001b[0mx2\u001b[0m\u001b[0;34m)\u001b[0m\u001b[0;34m\u001b[0m\u001b[0;34m\u001b[0m\u001b[0m\n\u001b[0m\u001b[1;32m    116\u001b[0m \u001b[0;34m\u001b[0m\u001b[0m\n\u001b[1;32m    117\u001b[0m     \u001b[0;31m# Instantiate Decoder Model\u001b[0m\u001b[0;34m\u001b[0m\u001b[0;34m\u001b[0m\u001b[0;34m\u001b[0m\u001b[0m\n",
            "\u001b[0;31mUnboundLocalError\u001b[0m: local variable 'x2' referenced before assignment"
          ]
        }
      ]
    },
    {
      "cell_type": "code",
      "metadata": {
        "id": "JTtVgWQ2mgzp"
      },
      "source": [
        "\n",
        "plt.plot(range(300,800),historylp1.history['loss'][300:])\n",
        "plt.plot(range(300,800),historylp1.history['val_loss'][300:])\n",
        "plt.plot(range(300,800),historylp2.history['loss'][300:])\n",
        "plt.plot(range(300,800),historylp2.history['val_loss'][300:])\n",
        "#plt.plot(range(300,800),historylp4.history['loss'][300:])\n",
        "#plt.plot(range(300,800),historylp4.history['val_loss'][300:])\n",
        "plt.title('Model loss')\n",
        "plt.ylabel('Loss')\n",
        "plt.xlabel('Epoch')\n",
        "#'Train-tanh', 'Test-tanh'\n",
        "plt.legend(['Train-linear', 'Test-linear', 'Train-relu', 'Test-relu'], loc='upper left')\n",
        "plt.show()"
      ],
      "execution_count": null,
      "outputs": []
    },
    {
      "cell_type": "code",
      "metadata": {
        "id": "HWa5j1gVSy6z"
      },
      "source": [
        "lp1.audio_evaluation(800, log_ref= log_ref)\n",
        "lp2.audio_evaluation(800, log_ref= log_ref)"
      ],
      "execution_count": null,
      "outputs": []
    },
    {
      "cell_type": "code",
      "metadata": {
        "id": "eiH3F20IbLgw"
      },
      "source": [
        "lp3.audio_evaluation(800, log_ref= log_ref)"
      ],
      "execution_count": null,
      "outputs": []
    },
    {
      "cell_type": "code",
      "metadata": {
        "id": "v51lz_gEgEP4"
      },
      "source": [
        "audio, sample_rate = lp1.make_wav(number=5,person=2, repetition=16)\n",
        "#log_ref=1e-0\n",
        "IPython.display.Audio(data=audio, rate=sample_rate)"
      ],
      "execution_count": null,
      "outputs": []
    },
    {
      "cell_type": "code",
      "metadata": {
        "id": "pseCggmGgHph"
      },
      "source": [
        "audio, sample_rate = lp3.make_wav(number=5,person=2, repetition=16)\n",
        "#log_ref=1e-0\n",
        "IPython.display.Audio(data=audio, rate=sample_rate)"
      ],
      "execution_count": null,
      "outputs": []
    },
    {
      "cell_type": "code",
      "metadata": {
        "id": "a02PSbt4lvkP"
      },
      "source": [
        "clip=np.ceil(np.amax(X_train))\n",
        "print(clip)\n",
        "lp4 = myautoencoder(compression_rate= compression_rate, linear_encoder= False, fft = fft, time_long= time_long,\n",
        "                    fft_step_size_ratio= fft_step_size_ratio, x_train=X_train, x_test=X_test, clip=57, mode='lp', pretrain_encoder=False)\n",
        "encoder_w, historylp4= lp4.train(800, 'mse')\n",
        "lp4.audio_evaluation(800, log_ref= log_ref)"
      ],
      "execution_count": null,
      "outputs": []
    }
  ]
}