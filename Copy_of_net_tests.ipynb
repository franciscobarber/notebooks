{
  "nbformat": 4,
  "nbformat_minor": 0,
  "metadata": {
    "colab": {
      "provenance": [],
      "include_colab_link": true
    },
    "kernelspec": {
      "name": "python3",
      "display_name": "Python 3"
    },
    "accelerator": "GPU"
  },
  "cells": [
    {
      "cell_type": "markdown",
      "metadata": {
        "id": "view-in-github",
        "colab_type": "text"
      },
      "source": [
        "<a href=\"https://colab.research.google.com/github/franciscobarber/notebooks/blob/sound/Copy_of_net_tests.ipynb\" target=\"_parent\"><img src=\"https://colab.research.google.com/assets/colab-badge.svg\" alt=\"Open In Colab\"/></a>"
      ]
    },
    {
      "cell_type": "code",
      "metadata": {
        "id": "csRrMJnANasj",
        "colab": {
          "base_uri": "https://localhost:8080/"
        },
        "outputId": "735427a8-eebd-422c-bdc2-16dca3efdeef"
      },
      "source": [
        "!git clone -l -s https://franciscobarber@github.com/franciscobarber/free-spoken-digit-dataset.git"
      ],
      "execution_count": 1,
      "outputs": [
        {
          "output_type": "stream",
          "name": "stdout",
          "text": [
            "Cloning into 'free-spoken-digit-dataset'...\n",
            "warning: --local is ignored\n",
            "remote: Enumerating objects: 4237, done.\u001b[K\n",
            "remote: Counting objects: 100% (4237/4237), done.\u001b[K\n",
            "remote: Compressing objects: 100% (4111/4111), done.\u001b[K\n",
            "remote: Total 4237 (delta 123), reused 4237 (delta 123), pack-reused 0\u001b[K\n",
            "Receiving objects: 100% (4237/4237), 30.34 MiB | 16.06 MiB/s, done.\n",
            "Resolving deltas: 100% (123/123), done.\n"
          ]
        }
      ]
    },
    {
      "cell_type": "code",
      "metadata": {
        "id": "Ap9c-zaIlQ_j",
        "colab": {
          "base_uri": "https://localhost:8080/"
        },
        "outputId": "00cf6dd2-8fe0-4fee-e7a5-ded1220d55c2"
      },
      "source": [
        "!pip install \"torch>=2.0<3.0\" #2.0.1\n",
        "!pip install pesq\n",
        "!pip install \"torchmetrics>=1.0<2.0\" #1.0.2\n",
        "!pip install \"keras>=2.0<3.0\" #2.12.0\n",
        "!pip install \"tensorflow>=2.0<3.0\" #2.12.0\n",
        "!pip install git+https://github.com/yoyololicon/spectrogram-inversion"
      ],
      "execution_count": 2,
      "outputs": [
        {
          "output_type": "stream",
          "name": "stdout",
          "text": [
            "Requirement already satisfied: torch>=2.0<3.0 in /usr/local/lib/python3.10/dist-packages (2.1.0+cu121)\n",
            "Requirement already satisfied: filelock in /usr/local/lib/python3.10/dist-packages (from torch>=2.0<3.0) (3.13.1)\n",
            "Requirement already satisfied: typing-extensions in /usr/local/lib/python3.10/dist-packages (from torch>=2.0<3.0) (4.5.0)\n",
            "Requirement already satisfied: sympy in /usr/local/lib/python3.10/dist-packages (from torch>=2.0<3.0) (1.12)\n",
            "Requirement already satisfied: networkx in /usr/local/lib/python3.10/dist-packages (from torch>=2.0<3.0) (3.2.1)\n",
            "Requirement already satisfied: jinja2 in /usr/local/lib/python3.10/dist-packages (from torch>=2.0<3.0) (3.1.2)\n",
            "Requirement already satisfied: fsspec in /usr/local/lib/python3.10/dist-packages (from torch>=2.0<3.0) (2023.6.0)\n",
            "Requirement already satisfied: triton==2.1.0 in /usr/local/lib/python3.10/dist-packages (from torch>=2.0<3.0) (2.1.0)\n",
            "Requirement already satisfied: MarkupSafe>=2.0 in /usr/local/lib/python3.10/dist-packages (from jinja2->torch>=2.0<3.0) (2.1.3)\n",
            "Requirement already satisfied: mpmath>=0.19 in /usr/local/lib/python3.10/dist-packages (from sympy->torch>=2.0<3.0) (1.3.0)\n",
            "Collecting pesq\n",
            "  Downloading pesq-0.0.4.tar.gz (38 kB)\n",
            "  Preparing metadata (setup.py) ... \u001b[?25l\u001b[?25hdone\n",
            "Building wheels for collected packages: pesq\n",
            "  Building wheel for pesq (setup.py) ... \u001b[?25l\u001b[?25hdone\n",
            "  Created wheel for pesq: filename=pesq-0.0.4-cp310-cp310-linux_x86_64.whl size=262909 sha256=32ddb737b71e2d9f454a83e3b475c97af6d8e9235aab73351ec6eb26505083fb\n",
            "  Stored in directory: /root/.cache/pip/wheels/c5/4e/2c/251524370c0fdd659e99639a0fbd0ca5a782c3aafcd456b28d\n",
            "Successfully built pesq\n",
            "Installing collected packages: pesq\n",
            "Successfully installed pesq-0.0.4\n",
            "Collecting torchmetrics>=1.0<2.0\n",
            "  Downloading torchmetrics-1.3.0-py3-none-any.whl (840 kB)\n",
            "\u001b[2K     \u001b[90m━━━━━━━━━━━━━━━━━━━━━━━━━━━━━━━━━━━━━━━━\u001b[0m \u001b[32m840.2/840.2 kB\u001b[0m \u001b[31m13.9 MB/s\u001b[0m eta \u001b[36m0:00:00\u001b[0m\n",
            "\u001b[?25hRequirement already satisfied: numpy>1.20.0 in /usr/local/lib/python3.10/dist-packages (from torchmetrics>=1.0<2.0) (1.23.5)\n",
            "Requirement already satisfied: packaging>17.1 in /usr/local/lib/python3.10/dist-packages (from torchmetrics>=1.0<2.0) (23.2)\n",
            "Requirement already satisfied: torch>=1.10.0 in /usr/local/lib/python3.10/dist-packages (from torchmetrics>=1.0<2.0) (2.1.0+cu121)\n",
            "Collecting lightning-utilities>=0.8.0 (from torchmetrics>=1.0<2.0)\n",
            "  Downloading lightning_utilities-0.10.0-py3-none-any.whl (24 kB)\n",
            "Requirement already satisfied: setuptools in /usr/local/lib/python3.10/dist-packages (from lightning-utilities>=0.8.0->torchmetrics>=1.0<2.0) (67.7.2)\n",
            "Requirement already satisfied: typing-extensions in /usr/local/lib/python3.10/dist-packages (from lightning-utilities>=0.8.0->torchmetrics>=1.0<2.0) (4.5.0)\n",
            "Requirement already satisfied: filelock in /usr/local/lib/python3.10/dist-packages (from torch>=1.10.0->torchmetrics>=1.0<2.0) (3.13.1)\n",
            "Requirement already satisfied: sympy in /usr/local/lib/python3.10/dist-packages (from torch>=1.10.0->torchmetrics>=1.0<2.0) (1.12)\n",
            "Requirement already satisfied: networkx in /usr/local/lib/python3.10/dist-packages (from torch>=1.10.0->torchmetrics>=1.0<2.0) (3.2.1)\n",
            "Requirement already satisfied: jinja2 in /usr/local/lib/python3.10/dist-packages (from torch>=1.10.0->torchmetrics>=1.0<2.0) (3.1.2)\n",
            "Requirement already satisfied: fsspec in /usr/local/lib/python3.10/dist-packages (from torch>=1.10.0->torchmetrics>=1.0<2.0) (2023.6.0)\n",
            "Requirement already satisfied: triton==2.1.0 in /usr/local/lib/python3.10/dist-packages (from torch>=1.10.0->torchmetrics>=1.0<2.0) (2.1.0)\n",
            "Requirement already satisfied: MarkupSafe>=2.0 in /usr/local/lib/python3.10/dist-packages (from jinja2->torch>=1.10.0->torchmetrics>=1.0<2.0) (2.1.3)\n",
            "Requirement already satisfied: mpmath>=0.19 in /usr/local/lib/python3.10/dist-packages (from sympy->torch>=1.10.0->torchmetrics>=1.0<2.0) (1.3.0)\n",
            "Installing collected packages: lightning-utilities, torchmetrics\n",
            "Successfully installed lightning-utilities-0.10.0 torchmetrics-1.3.0\n",
            "Requirement already satisfied: keras>=2.0<3.0 in /usr/local/lib/python3.10/dist-packages (2.15.0)\n",
            "Requirement already satisfied: tensorflow>=2.0<3.0 in /usr/local/lib/python3.10/dist-packages (2.15.0)\n",
            "Requirement already satisfied: absl-py>=1.0.0 in /usr/local/lib/python3.10/dist-packages (from tensorflow>=2.0<3.0) (1.4.0)\n",
            "Requirement already satisfied: astunparse>=1.6.0 in /usr/local/lib/python3.10/dist-packages (from tensorflow>=2.0<3.0) (1.6.3)\n",
            "Requirement already satisfied: flatbuffers>=23.5.26 in /usr/local/lib/python3.10/dist-packages (from tensorflow>=2.0<3.0) (23.5.26)\n",
            "Requirement already satisfied: gast!=0.5.0,!=0.5.1,!=0.5.2,>=0.2.1 in /usr/local/lib/python3.10/dist-packages (from tensorflow>=2.0<3.0) (0.5.4)\n",
            "Requirement already satisfied: google-pasta>=0.1.1 in /usr/local/lib/python3.10/dist-packages (from tensorflow>=2.0<3.0) (0.2.0)\n",
            "Requirement already satisfied: h5py>=2.9.0 in /usr/local/lib/python3.10/dist-packages (from tensorflow>=2.0<3.0) (3.9.0)\n",
            "Requirement already satisfied: libclang>=13.0.0 in /usr/local/lib/python3.10/dist-packages (from tensorflow>=2.0<3.0) (16.0.6)\n",
            "Requirement already satisfied: ml-dtypes~=0.2.0 in /usr/local/lib/python3.10/dist-packages (from tensorflow>=2.0<3.0) (0.2.0)\n",
            "Requirement already satisfied: numpy<2.0.0,>=1.23.5 in /usr/local/lib/python3.10/dist-packages (from tensorflow>=2.0<3.0) (1.23.5)\n",
            "Requirement already satisfied: opt-einsum>=2.3.2 in /usr/local/lib/python3.10/dist-packages (from tensorflow>=2.0<3.0) (3.3.0)\n",
            "Requirement already satisfied: packaging in /usr/local/lib/python3.10/dist-packages (from tensorflow>=2.0<3.0) (23.2)\n",
            "Requirement already satisfied: protobuf!=4.21.0,!=4.21.1,!=4.21.2,!=4.21.3,!=4.21.4,!=4.21.5,<5.0.0dev,>=3.20.3 in /usr/local/lib/python3.10/dist-packages (from tensorflow>=2.0<3.0) (3.20.3)\n",
            "Requirement already satisfied: setuptools in /usr/local/lib/python3.10/dist-packages (from tensorflow>=2.0<3.0) (67.7.2)\n",
            "Requirement already satisfied: six>=1.12.0 in /usr/local/lib/python3.10/dist-packages (from tensorflow>=2.0<3.0) (1.16.0)\n",
            "Requirement already satisfied: termcolor>=1.1.0 in /usr/local/lib/python3.10/dist-packages (from tensorflow>=2.0<3.0) (2.4.0)\n",
            "Requirement already satisfied: typing-extensions>=3.6.6 in /usr/local/lib/python3.10/dist-packages (from tensorflow>=2.0<3.0) (4.5.0)\n",
            "Requirement already satisfied: wrapt<1.15,>=1.11.0 in /usr/local/lib/python3.10/dist-packages (from tensorflow>=2.0<3.0) (1.14.1)\n",
            "Requirement already satisfied: tensorflow-io-gcs-filesystem>=0.23.1 in /usr/local/lib/python3.10/dist-packages (from tensorflow>=2.0<3.0) (0.35.0)\n",
            "Requirement already satisfied: grpcio<2.0,>=1.24.3 in /usr/local/lib/python3.10/dist-packages (from tensorflow>=2.0<3.0) (1.60.0)\n",
            "Requirement already satisfied: tensorboard<2.16,>=2.15 in /usr/local/lib/python3.10/dist-packages (from tensorflow>=2.0<3.0) (2.15.1)\n",
            "Requirement already satisfied: tensorflow-estimator<2.16,>=2.15.0 in /usr/local/lib/python3.10/dist-packages (from tensorflow>=2.0<3.0) (2.15.0)\n",
            "Requirement already satisfied: keras<2.16,>=2.15.0 in /usr/local/lib/python3.10/dist-packages (from tensorflow>=2.0<3.0) (2.15.0)\n",
            "Requirement already satisfied: wheel<1.0,>=0.23.0 in /usr/local/lib/python3.10/dist-packages (from astunparse>=1.6.0->tensorflow>=2.0<3.0) (0.42.0)\n",
            "Requirement already satisfied: google-auth<3,>=1.6.3 in /usr/local/lib/python3.10/dist-packages (from tensorboard<2.16,>=2.15->tensorflow>=2.0<3.0) (2.17.3)\n",
            "Requirement already satisfied: google-auth-oauthlib<2,>=0.5 in /usr/local/lib/python3.10/dist-packages (from tensorboard<2.16,>=2.15->tensorflow>=2.0<3.0) (1.2.0)\n",
            "Requirement already satisfied: markdown>=2.6.8 in /usr/local/lib/python3.10/dist-packages (from tensorboard<2.16,>=2.15->tensorflow>=2.0<3.0) (3.5.1)\n",
            "Requirement already satisfied: requests<3,>=2.21.0 in /usr/local/lib/python3.10/dist-packages (from tensorboard<2.16,>=2.15->tensorflow>=2.0<3.0) (2.31.0)\n",
            "Requirement already satisfied: tensorboard-data-server<0.8.0,>=0.7.0 in /usr/local/lib/python3.10/dist-packages (from tensorboard<2.16,>=2.15->tensorflow>=2.0<3.0) (0.7.2)\n",
            "Requirement already satisfied: werkzeug>=1.0.1 in /usr/local/lib/python3.10/dist-packages (from tensorboard<2.16,>=2.15->tensorflow>=2.0<3.0) (3.0.1)\n",
            "Requirement already satisfied: cachetools<6.0,>=2.0.0 in /usr/local/lib/python3.10/dist-packages (from google-auth<3,>=1.6.3->tensorboard<2.16,>=2.15->tensorflow>=2.0<3.0) (5.3.2)\n",
            "Requirement already satisfied: pyasn1-modules>=0.2.1 in /usr/local/lib/python3.10/dist-packages (from google-auth<3,>=1.6.3->tensorboard<2.16,>=2.15->tensorflow>=2.0<3.0) (0.3.0)\n",
            "Requirement already satisfied: rsa<5,>=3.1.4 in /usr/local/lib/python3.10/dist-packages (from google-auth<3,>=1.6.3->tensorboard<2.16,>=2.15->tensorflow>=2.0<3.0) (4.9)\n",
            "Requirement already satisfied: requests-oauthlib>=0.7.0 in /usr/local/lib/python3.10/dist-packages (from google-auth-oauthlib<2,>=0.5->tensorboard<2.16,>=2.15->tensorflow>=2.0<3.0) (1.3.1)\n",
            "Requirement already satisfied: charset-normalizer<4,>=2 in /usr/local/lib/python3.10/dist-packages (from requests<3,>=2.21.0->tensorboard<2.16,>=2.15->tensorflow>=2.0<3.0) (3.3.2)\n",
            "Requirement already satisfied: idna<4,>=2.5 in /usr/local/lib/python3.10/dist-packages (from requests<3,>=2.21.0->tensorboard<2.16,>=2.15->tensorflow>=2.0<3.0) (3.6)\n",
            "Requirement already satisfied: urllib3<3,>=1.21.1 in /usr/local/lib/python3.10/dist-packages (from requests<3,>=2.21.0->tensorboard<2.16,>=2.15->tensorflow>=2.0<3.0) (2.0.7)\n",
            "Requirement already satisfied: certifi>=2017.4.17 in /usr/local/lib/python3.10/dist-packages (from requests<3,>=2.21.0->tensorboard<2.16,>=2.15->tensorflow>=2.0<3.0) (2023.11.17)\n",
            "Requirement already satisfied: MarkupSafe>=2.1.1 in /usr/local/lib/python3.10/dist-packages (from werkzeug>=1.0.1->tensorboard<2.16,>=2.15->tensorflow>=2.0<3.0) (2.1.3)\n",
            "Requirement already satisfied: pyasn1<0.6.0,>=0.4.6 in /usr/local/lib/python3.10/dist-packages (from pyasn1-modules>=0.2.1->google-auth<3,>=1.6.3->tensorboard<2.16,>=2.15->tensorflow>=2.0<3.0) (0.5.1)\n",
            "Requirement already satisfied: oauthlib>=3.0.0 in /usr/local/lib/python3.10/dist-packages (from requests-oauthlib>=0.7.0->google-auth-oauthlib<2,>=0.5->tensorboard<2.16,>=2.15->tensorflow>=2.0<3.0) (3.2.2)\n",
            "Collecting git+https://github.com/yoyololicon/spectrogram-inversion\n",
            "  Cloning https://github.com/yoyololicon/spectrogram-inversion to /tmp/pip-req-build-fwk75odx\n",
            "  Running command git clone --filter=blob:none --quiet https://github.com/yoyololicon/spectrogram-inversion /tmp/pip-req-build-fwk75odx\n",
            "  Resolved https://github.com/yoyololicon/spectrogram-inversion to commit 82fa16b65928c33c94ef13f34bf42f6d57960be4\n",
            "  Preparing metadata (setup.py) ... \u001b[?25l\u001b[?25hdone\n",
            "Requirement already satisfied: torch>=1.6.0 in /usr/local/lib/python3.10/dist-packages (from torch-specinv==0.2.1) (2.1.0+cu121)\n",
            "Requirement already satisfied: tqdm in /usr/local/lib/python3.10/dist-packages (from torch-specinv==0.2.1) (4.66.1)\n",
            "Requirement already satisfied: filelock in /usr/local/lib/python3.10/dist-packages (from torch>=1.6.0->torch-specinv==0.2.1) (3.13.1)\n",
            "Requirement already satisfied: typing-extensions in /usr/local/lib/python3.10/dist-packages (from torch>=1.6.0->torch-specinv==0.2.1) (4.5.0)\n",
            "Requirement already satisfied: sympy in /usr/local/lib/python3.10/dist-packages (from torch>=1.6.0->torch-specinv==0.2.1) (1.12)\n",
            "Requirement already satisfied: networkx in /usr/local/lib/python3.10/dist-packages (from torch>=1.6.0->torch-specinv==0.2.1) (3.2.1)\n",
            "Requirement already satisfied: jinja2 in /usr/local/lib/python3.10/dist-packages (from torch>=1.6.0->torch-specinv==0.2.1) (3.1.2)\n",
            "Requirement already satisfied: fsspec in /usr/local/lib/python3.10/dist-packages (from torch>=1.6.0->torch-specinv==0.2.1) (2023.6.0)\n",
            "Requirement already satisfied: triton==2.1.0 in /usr/local/lib/python3.10/dist-packages (from torch>=1.6.0->torch-specinv==0.2.1) (2.1.0)\n",
            "Requirement already satisfied: MarkupSafe>=2.0 in /usr/local/lib/python3.10/dist-packages (from jinja2->torch>=1.6.0->torch-specinv==0.2.1) (2.1.3)\n",
            "Requirement already satisfied: mpmath>=0.19 in /usr/local/lib/python3.10/dist-packages (from sympy->torch>=1.6.0->torch-specinv==0.2.1) (1.3.0)\n",
            "Building wheels for collected packages: torch-specinv\n",
            "  Building wheel for torch-specinv (setup.py) ... \u001b[?25l\u001b[?25hdone\n",
            "  Created wheel for torch-specinv: filename=torch_specinv-0.2.1-py3-none-any.whl size=8879 sha256=70d3d6873bdfd54ee41c29ce2c824e595dc6cb83cfcaa54be2f8e89ec216c692\n",
            "  Stored in directory: /tmp/pip-ephem-wheel-cache-jq320l4x/wheels/bc/f0/f1/cc28fd9133a7b6ad8ac6837205f08a07d8680ed56938880f8a\n",
            "Successfully built torch-specinv\n",
            "Installing collected packages: torch-specinv\n",
            "Successfully installed torch-specinv-0.2.1\n"
          ]
        }
      ]
    },
    {
      "cell_type": "code",
      "metadata": {
        "id": "CCZ2V4dzldDK",
        "cellView": "form"
      },
      "source": [
        "#@title Biblioteca espectrograma\n",
        "%matplotlib inline\n",
        "import IPython.display\n",
        "from ipywidgets import interact, interactive, fixed\n",
        "\n",
        "# Packages we're using\n",
        "import numpy as np\n",
        "import matplotlib.pyplot as plt\n",
        "import copy\n",
        "from scipy.io import wavfile\n",
        "from scipy.signal import butter, lfilter\n",
        "import scipy.ndimage\n",
        "# Most of the Spectrograms and Inversion are taken from: https://gist.github.com/kastnerkyle/179d6e9a88202ab0a2fe\n",
        "\n",
        "\n",
        "def butter_bandpass(lowcut, highcut, fs, order=5):\n",
        "    nyq = 0.5 * fs\n",
        "    low = lowcut / nyq\n",
        "    high = highcut / nyq\n",
        "    b, a = butter(order, [low, high], btype=\"band\")\n",
        "    return b, a\n",
        "\n",
        "\n",
        "def butter_bandpass_filter(data, lowcut, highcut, fs, order=5):\n",
        "    b, a = butter_bandpass(lowcut, highcut, fs, order=order)\n",
        "    y = lfilter(b, a, data)\n",
        "    return y\n",
        "\n",
        "\n",
        "def overlap(X, window_size, window_step):\n",
        "    \"\"\"\n",
        "    Create an overlapped version of X\n",
        "    Parameters\n",
        "    ----------\n",
        "    X : ndarray, shape=(n_samples,)\n",
        "        Input signal to window and overlap\n",
        "    window_size : int\n",
        "        Size of windows to take\n",
        "    window_step : int\n",
        "        Step size between windows\n",
        "    Returns\n",
        "    -------\n",
        "    X_strided : shape=(n_windows, window_size)\n",
        "        2D array of overlapped X\n",
        "    \"\"\"\n",
        "    if window_size % 2 != 0:\n",
        "        raise ValueError(\"Window size must be even!\")\n",
        "    # Make sure there are an even number of windows before stridetricks\n",
        "    append = np.zeros((window_size - len(X) % window_size))\n",
        "    X = np.hstack((X, append))\n",
        "\n",
        "    ws = window_size\n",
        "    ss = window_step\n",
        "    a = X\n",
        "\n",
        "    valid = len(a) - ws\n",
        "    nw = (valid) // ss\n",
        "    out = np.ndarray((nw, ws), dtype=a.dtype)\n",
        "\n",
        "    for i in np.arange(nw):\n",
        "        # \"slide\" the window along the samples\n",
        "        start = i * ss\n",
        "        stop = start + ws\n",
        "        out[i] = a[start:stop]\n",
        "\n",
        "    return out\n",
        "\n",
        "\n",
        "def stft(\n",
        "    X, fftsize=128, step=65, mean_normalize=True, real=False, compute_onesided=True\n",
        "):\n",
        "    \"\"\"\n",
        "    Compute STFT for 1D real valued input X\n",
        "    \"\"\"\n",
        "    if real:\n",
        "        local_fft = np.fft.rfft\n",
        "        cut = -1\n",
        "    else:\n",
        "        local_fft = np.fft.fft\n",
        "        cut = None\n",
        "    if compute_onesided:\n",
        "        cut = fftsize // 2\n",
        "    if mean_normalize:\n",
        "        X -= X.mean()\n",
        "\n",
        "    X = overlap(X, fftsize, step)\n",
        "\n",
        "    size = fftsize\n",
        "    win = 0.54 - 0.46 * np.cos(2 * np.pi * np.arange(size) / (size - 1))\n",
        "    X = X * win[None]\n",
        "    X = local_fft(X)[:, :cut]\n",
        "    return X\n",
        "\n",
        "\n",
        "def pretty_spectrogram(d, log=True, thresh=5, fft_size=512, step_size=64):\n",
        "    \"\"\"\n",
        "    creates a spectrogram\n",
        "    log: take the log of the spectrgram\n",
        "    thresh: threshold minimum power for log spectrogram\n",
        "    \"\"\"\n",
        "    specgram = np.abs(\n",
        "        stft(d, fftsize=fft_size, step=step_size, real=False, compute_onesided=True)\n",
        "    )\n",
        "\n",
        "    if log == True:\n",
        "        specgram /= specgram.max()  # volume normalize to max 1\n",
        "        specgram = np.log10(specgram)  # take log\n",
        "        specgram[\n",
        "            specgram < -thresh\n",
        "        ] = -thresh  # set anything less than the threshold as the threshold\n",
        "    else:\n",
        "        specgram[\n",
        "            specgram < thresh\n",
        "        ] = thresh  # set anything less than the threshold as the threshold\n",
        "\n",
        "    return specgram\n",
        "\n",
        "\n",
        "# Also mostly modified or taken from https://gist.github.com/kastnerkyle/179d6e9a88202ab0a2fe\n",
        "def invert_pretty_spectrogram(\n",
        "    X_s, log=True, fft_size=512, step_size=512 / 4, n_iter=10\n",
        "):\n",
        "\n",
        "    if log == True:\n",
        "        X_s = np.power(10, X_s)\n",
        "\n",
        "    X_s = np.concatenate([X_s, X_s[:, ::-1]], axis=1)\n",
        "    X_t = iterate_invert_spectrogram(X_s, fft_size, step_size, n_iter=n_iter)\n",
        "    return X_t\n",
        "\n",
        "\n",
        "def iterate_invert_spectrogram(X_s, fftsize, step, n_iter=10, verbose=False):\n",
        "    \"\"\"\n",
        "    Under MSR-LA License\n",
        "    Based on MATLAB implementation from Spectrogram Inversion Toolbox\n",
        "    References\n",
        "    ----------\n",
        "    D. Griffin and J. Lim. Signal estimation from modified\n",
        "    short-time Fourier transform. IEEE Trans. Acoust. Speech\n",
        "    Signal Process., 32(2):236-243, 1984.\n",
        "    Malcolm Slaney, Daniel Naar and Richard F. Lyon. Auditory\n",
        "    Model Inversion for Sound Separation. Proc. IEEE-ICASSP,\n",
        "    Adelaide, 1994, II.77-80.\n",
        "    Xinglei Zhu, G. Beauregard, L. Wyse. Real-Time Signal\n",
        "    Estimation from Modified Short-Time Fourier Transform\n",
        "    Magnitude Spectra. IEEE Transactions on Audio Speech and\n",
        "    Language Processing, 08/2007.\n",
        "    \"\"\"\n",
        "    reg = np.max(X_s) / 1e8\n",
        "    X_best = copy.deepcopy(X_s)\n",
        "    for i in range(n_iter):\n",
        "        if verbose:\n",
        "            print(\"Runnning iter %i\" % i)\n",
        "        if i == 0:\n",
        "            X_t = invert_spectrogram(\n",
        "                X_best, step, calculate_offset=True, set_zero_phase=True\n",
        "            )\n",
        "        else:\n",
        "            # Calculate offset was False in the MATLAB version\n",
        "            # but in mine it massively improves the result\n",
        "            # Possible bug in my impl?\n",
        "            X_t = invert_spectrogram(\n",
        "                X_best, step, calculate_offset=True, set_zero_phase=False\n",
        "            )\n",
        "        est = stft(X_t, fftsize=fftsize, step=step, compute_onesided=False)\n",
        "        phase = est / np.maximum(reg, np.abs(est))\n",
        "        X_best = X_s * phase[: len(X_s)]\n",
        "    X_t = invert_spectrogram(X_best, step, calculate_offset=True, set_zero_phase=False)\n",
        "    return np.real(X_t)\n",
        "\n",
        "\n",
        "def invert_spectrogram(X_s, step, calculate_offset=True, set_zero_phase=True):\n",
        "    \"\"\"\n",
        "    Under MSR-LA License\n",
        "    Based on MATLAB implementation from Spectrogram Inversion Toolbox\n",
        "    References\n",
        "    ----------\n",
        "    D. Griffin and J. Lim. Signal estimation from modified\n",
        "    short-time Fourier transform. IEEE Trans. Acoust. Speech\n",
        "    Signal Process., 32(2):236-243, 1984.\n",
        "    Malcolm Slaney, Daniel Naar and Richard F. Lyon. Auditory\n",
        "    Model Inversion for Sound Separation. Proc. IEEE-ICASSP,\n",
        "    Adelaide, 1994, II.77-80.\n",
        "    Xinglei Zhu, G. Beauregard, L. Wyse. Real-Time Signal\n",
        "    Estimation from Modified Short-Time Fourier Transform\n",
        "    Magnitude Spectra. IEEE Transactions on Audio Speech and\n",
        "    Language Processing, 08/2007.\n",
        "    \"\"\"\n",
        "    size = int(X_s.shape[1] // 2)\n",
        "    wave = np.zeros((X_s.shape[0] * step + size))\n",
        "    # Getting overflow warnings with 32 bit...\n",
        "    wave = wave.astype(\"float64\")\n",
        "    total_windowing_sum = np.zeros((X_s.shape[0] * step + size))\n",
        "    win = 0.54 - 0.46 * np.cos(2 * np.pi * np.arange(size) / (size - 1))\n",
        "\n",
        "    est_start = int(size // 2) - 1\n",
        "    est_end = est_start + size\n",
        "    for i in range(X_s.shape[0]):\n",
        "        wave_start = int(step * i)\n",
        "        wave_end = wave_start + size\n",
        "        if set_zero_phase:\n",
        "            spectral_slice = X_s[i].real + 0j\n",
        "        else:\n",
        "            # already complex\n",
        "            spectral_slice = X_s[i]\n",
        "\n",
        "        # Don't need fftshift due to different impl.\n",
        "        wave_est = np.real(np.fft.ifft(spectral_slice))[::-1]\n",
        "        if calculate_offset and i > 0:\n",
        "            offset_size = size - step\n",
        "            if offset_size <= 0:\n",
        "                print(\n",
        "                    \"WARNING: Large step size >50\\% detected! \"\n",
        "                    \"This code works best with high overlap - try \"\n",
        "                    \"with 75% or greater\"\n",
        "                )\n",
        "                offset_size = step\n",
        "            offset = xcorr_offset(\n",
        "                wave[wave_start : wave_start + offset_size],\n",
        "                wave_est[est_start : est_start + offset_size],\n",
        "            )\n",
        "        else:\n",
        "            offset = 0\n",
        "        wave[wave_start:wave_end] += (\n",
        "            win * wave_est[est_start - offset : est_end - offset]\n",
        "        )\n",
        "        total_windowing_sum[wave_start:wave_end] += win\n",
        "    wave = np.real(wave) / (total_windowing_sum + 1e-6)\n",
        "    return wave\n",
        "\n",
        "def xcorr_offset(x1, x2):\n",
        "    \"\"\"\n",
        "    Under MSR-LA License\n",
        "    Based on MATLAB implementation from Spectrogram Inversion Toolbox\n",
        "    References\n",
        "    ----------\n",
        "    D. Griffin and J. Lim. Signal estimation from modified\n",
        "    short-time Fourier transform. IEEE Trans. Acoust. Speech\n",
        "    Signal Process., 32(2):236-243, 1984.\n",
        "    Malcolm Slaney, Daniel Naar and Richard F. Lyon. Auditory\n",
        "    Model Inversion for Sound Separation. Proc. IEEE-ICASSP,\n",
        "    Adelaide, 1994, II.77-80.\n",
        "    Xinglei Zhu, G. Beauregard, L. Wyse. Real-Time Signal\n",
        "    Estimation from Modified Short-Time Fourier Transform\n",
        "    Magnitude Spectra. IEEE Transactions on Audio Speech and\n",
        "    Language Processing, 08/2007.\n",
        "    \"\"\"\n",
        "    x1 = x1 - x1.mean()\n",
        "    x2 = x2 - x2.mean()\n",
        "    frame_size = len(x2)\n",
        "    half = frame_size // 2\n",
        "    corrs = np.convolve(x1.astype(\"float32\"), x2[::-1].astype(\"float32\"))\n",
        "    corrs[:half] = -1e30\n",
        "    corrs[-half:] = -1e30\n",
        "    offset = corrs.argmax() - len(x1)\n",
        "    return offset\n",
        "\n",
        "import scipy.io.wavfile as wav\n",
        "\n",
        "### Parameters ###\n",
        "fft_size = 512  # window size for the FFT\n",
        "step_size = fft_size // 16  # distance to slide along the window (in time)\n",
        "spec_thresh = 4  # threshold for spectrograms (lower filters out more noise)\n",
        "lowcut = 500  # Hz # Low cut for our butter bandpass filter\n",
        "highcut = 4000  # Hz # High cut for our butter bandpass filter\n",
        "# For mels\n",
        "n_mel_freq_components = 64  # number of mel frequency channels\n",
        "shorten_factor = 10  # how much should we compress the x-axis (time)\n",
        "start_freq = 50  # Hz # What frequency to start sampling our melS from\n",
        "end_freq = 4000\n",
        "audio_path='/content/free-spoken-digit-dataset/recordings/0_jackson_0.wav'\n",
        "data_rate, data = wav.read(audio_path)\n",
        "wav_spectrogram = pretty_spectrogram(\n",
        "data.astype(\"float64\"),\n",
        "fft_size=fft_size,\n",
        "step_size=step_size,\n",
        "log=True,\n",
        "thresh=spec_thresh,\n",
        ")\n",
        "\n",
        "# Invert from the spectrogram back to a waveform\n",
        "recovered_audio_orig = invert_pretty_spectrogram(\n",
        "    wav_spectrogram, fft_size=fft_size, step_size=step_size, log=True, n_iter=10\n",
        ")"
      ],
      "execution_count": 3,
      "outputs": []
    },
    {
      "cell_type": "code",
      "metadata": {
        "id": "oLSund35HjKw"
      },
      "source": [
        "import time\n",
        "from __future__ import absolute_import\n",
        "from __future__ import division\n",
        "from __future__ import print_function\n",
        "import keras\n",
        "from keras.layers import Activation, Dense, Input\n",
        "from keras.layers import Conv2D, Flatten, BatchNormalization, Dropout\n",
        "from keras.layers import Reshape, Conv2DTranspose\n",
        "from keras.models import Model\n",
        "from keras import backend as K\n",
        "from keras.datasets import mnist\n",
        "import numpy as np\n",
        "import matplotlib.pyplot as plt\n",
        "from PIL import Image\n",
        "from keras import regularizers\n",
        "import torch\n",
        "from torchmetrics.audio import PerceptualEvaluationSpeechQuality\n",
        "np.random.seed(1337)\n",
        "\n",
        "class myautoencoder():\n",
        "  def __init__(self,compression_rate,linear_encoder, fft, time_long,fft_step_size_ratio, x_train, x_test, clip, mode = 'conv', pretrain_encoder = False, encoder_w=None):\n",
        "    self.linear_encoder = linear_encoder\n",
        "    self.mode = mode\n",
        "    self.time_long = int(time_long)\n",
        "    #modif\n",
        "    self.x_train = x_train\n",
        "    self.x_test = x_test\n",
        "    self.fft = fft\n",
        "    self.step_size = int(fft/fft_step_size_ratio)\n",
        "    self.time = int(self.time_long/self.step_size)\n",
        "    self.clip = clip\n",
        "    self.encoder_w = encoder_w\n",
        "    image_size= self.x_train.shape\n",
        "    self.compression_rate = compression_rate\n",
        "    self.x_train = np.reshape(self.x_train, [-1, image_size[1], image_size[2], 1])\n",
        "\n",
        "    self.x_test = np.reshape(self.x_test, [-1, image_size[1], image_size[2], 1])\n",
        "    self.x_train = self.x_train.astype('float32') / self.clip\n",
        "    self.x_test = self.x_test.astype('float32') / self.clip\n",
        "\n",
        "    # Network parameters\n",
        "    input_shape = (image_size[1], image_size[2], 1)\n",
        "    self.batch_size = 32\n",
        "    kernel_size = (int(10*self.fft/512),int(5*self.time/16))\n",
        "    latent_dim =int(self.compression_rate*self.time_long)\n",
        "    # Encoder/Decoder number of CNN layers and filters per layer\n",
        "    layer_filters = [16, 32]\n",
        "    # Build the Autoencoder Model\n",
        "    # First build the Encoder Model\n",
        "    inputs = Input(shape=input_shape, name='encoder_input')\n",
        "    x = inputs\n",
        "    # Shape info needed to build Decoder Model\n",
        "    shape = K.int_shape(x)\n",
        "    if mode == 'conv':\n",
        "      shape = (None,int(self.fft/2), int(self.time_long/self.step_size),int(self.time_long/(self.step_size*2)))\n",
        "    else:\n",
        "      shape = (None,int(self.fft/2), int(self.time_long/self.step_size),1)\n",
        "    # Generate the latent vector\n",
        "    x = Flatten()(inputs)\n",
        "    if self.linear_encoder == True:\n",
        "      activation = 'linear'\n",
        "    else:\n",
        "      activation = 'tanh'\n",
        "\n",
        "    self.layer = Dense(latent_dim, activation=activation, name='latent_vector')\n",
        "    latent = self.layer(x)\n",
        "\n",
        "    if pretrain_encoder == True:\n",
        "      self.layer.set_weights(self.encoder_w)\n",
        "      self.layer.trainable = False\n",
        "\n",
        "    # Instantiate Encoder Model\n",
        "    encoder = Model(inputs, latent, name='encoder')\n",
        "    #encoder.summary()\n",
        "    # Build the Decoder Model\n",
        "    latent_inputs = Input(shape=(latent_dim,), name='decoder_input')\n",
        "    if self.mode == 'mlp1':\n",
        "      x = Dense(500, activation=\"relu\")(x)\n",
        "    if self.mode == 'mlp2':\n",
        "      x = Dense(500, activation=\"sigmoid\")(x)\n",
        "      x = BatchNormalization()(x)\n",
        "      x = Dense(500, activation=\"sigmoid\")(x)\n",
        "      x = BatchNormalization()(x)\n",
        "    x = Dense(shape[1] * shape[2] * shape[3])(latent_inputs)\n",
        "    x = Reshape((shape[1], shape[2], shape[3]))(x)\n",
        "    lp = x\n",
        "    '''\n",
        "    x = Conv2DTranspose(filters=1,\n",
        "                        kernel_size=(5,5),\n",
        "                        padding='same')(x)\n",
        "    '''\n",
        "    #x2 = x\n",
        "    # Stack of Transposed Conv2D blocks\n",
        "    # Notes:\n",
        "    # 1) Use Batch Normalization before ReLU on deep networks\n",
        "    # 2) Use UpSampling2D as alternative to strides>1\n",
        "    # - faster but not as good as strides>1\n",
        "\n",
        "    for filters in layer_filters[::-1]:\n",
        "        x = Conv2DTranspose(filters=filters,\n",
        "                            kernel_size=kernel_size,\n",
        "                            kernel_regularizer=regularizers.l2(0.001),\n",
        "                            strides=(1,1),\n",
        "                            activation='relu',\n",
        "                            padding='same')(x)\n",
        "\n",
        "\n",
        "    conv = Conv2DTranspose(filters=1,\n",
        "                        kernel_size=kernel_size,\n",
        "                        padding='same')(x)\n",
        "\n",
        "    if self.mode == 'conv':\n",
        "      x2 = conv\n",
        "    elif self.mode == 'mlp1' or self.mode == 'mlp2':\n",
        "      x2 = lp\n",
        "\n",
        "    outputs = Activation('sigmoid', name='decoder_output')(x2)\n",
        "\n",
        "    # Instantiate Decoder Model\n",
        "    decoder = Model(latent_inputs, outputs, name='decoder')\n",
        "    #decoder.summary()\n",
        "\n",
        "    # Autoencoder = Encoder + Decoder\n",
        "    # Instantiate Autoencoder Model\n",
        "    self.autoencoder = Model(inputs, decoder(encoder(inputs)), name='autoencoder')\n",
        "  def train(self, epochs, loss):\n",
        "    t0 = time.time()\n",
        "    self.epochs = epochs\n",
        "    self.loss = loss\n",
        "    #autoencoder.summary()\n",
        "    sgd = keras.optimizers.Adam(lr=0.0001, beta_1=0.95, beta_2=0.999, amsgrad=False)\n",
        "    #sgd = keras.optimizers.RMSprop(lr=0.0001, rho=0.99)\n",
        "    self.autoencoder.compile(loss=self.loss, optimizer=sgd)\n",
        "\n",
        "    # Train the autoencoder\n",
        "    history = self.autoencoder.fit(x = self.x_train,\n",
        "                    y = self.x_train,\n",
        "                    validation_data=(self.x_test,self.x_test), verbose=0,\n",
        "                    epochs=self.epochs,\n",
        "                    batch_size=self.batch_size)\n",
        "    if self.mode == 'lp':\n",
        "      self.encoder_w=self.layer.get_weights()\n",
        "    # Plot training & validation loss values\n",
        "    print(time.time()-t0)\n",
        "    return self.encoder_w, history\n",
        "#autoencoder.evaluate(self.x_test,self.x_test)\n",
        "#g = autoencoder\n",
        "#g2_json = g.to_json()\n",
        "#1 3000\n",
        "#2 10000\n",
        "#with open(\"/gdrive/My Drive/NN/auto-256cnn.json\", \"w\") as json_file:\n",
        "#    json_file.write(g2_json)\n",
        "# serialize weights to HDF5\n",
        "#g.save_weights(\"/gdrive/My Drive/NN/auto-256cnn.h5\")\n",
        "#print(\"Saved model g to disk\")\n",
        "  def audio_evaluation(self, num_audios, log_ref):\n",
        "    self.log_ref = log_ref\n",
        "    audio_dir='/content/free-spoken-digit-dataset/recordings/'\n",
        "    file_names = [f for f in listdir(audio_dir) if isfile(join(audio_dir, f)) and '.wav' in f]\n",
        "    sp_sz = int(self.time_long)\n",
        "    test = np.random.permutation(len(file_names))\n",
        "    loss1 = np.zeros(num_audios,)\n",
        "    loss2 = np.zeros(num_audios,)\n",
        "    SNR = np.zeros(num_audios,)\n",
        "    t0 = time.time()\n",
        "    total_specs=0\n",
        "    p = []\n",
        "    for i in range(num_audios):\n",
        "      audio_path = audio_dir + file_names[test[i]]\n",
        "      sample_rate, samples = wav.read(audio_path)\n",
        "      samples = np.append(samples, np.random.randn(sp_sz-samples.shape[0]%sp_sz)*10, axis=0)\n",
        "      ms = lms = np.transpose(pretty_spectrogram(samples.astype(\"float32\"),fft_size=self.fft,step_size=self.step_size,log=False))\n",
        "      ms=librosa.power_to_db(ms, ref=self.log_ref)\n",
        "      n_ms = samples.shape[0]//sp_sz\n",
        "      total_specs += n_ms\n",
        "      ms2 = np.expand_dims(ms, axis=0)\n",
        "      lms = np.split(ms2, n_ms, axis=2)\n",
        "      ms2 = np.concatenate(lms)\n",
        "      x_decoded = self.autoencoder.predict(np.reshape(ms2/self.clip, [-1, int(self.fft/2), self.time, 1]))\n",
        "      lms = np.split(x_decoded, x_decoded.shape[0], axis=0)\n",
        "      x_decoded2 = np.concatenate(lms,axis=2)\n",
        "      x_decoded3 = np.reshape(x_decoded2, [ x_decoded2.shape[1], x_decoded2.shape[2]])*self.clip\n",
        "      comp3 = librosa.core.db_to_power(np.transpose(x_decoded3), ref=self.log_ref)\n",
        "      recovered_audio_recon2 = invert_pretty_spectrogram(\n",
        "          comp3, fft_size=self.fft, step_size=self.step_size, log=False, n_iter=20\n",
        "      )\n",
        "      b =  pretty_spectrogram(samples.astype(\"float32\")\n",
        "          ,fft_size=self.fft,step_size=self.step_size,log=False)\n",
        "      c =  pretty_spectrogram(recovered_audio_recon2.astype(\"float32\")\n",
        "        ,fft_size=self.fft,step_size=self.step_size,log=False)\n",
        "      loss1[i]=np.linalg.norm(b-c)/np.linalg.norm(b)\n",
        "      loss2[i]=np.linalg.norm(b-c)\n",
        "      SNR[i]=np.linalg.norm(samples)/np.linalg.norm(recovered_audio_recon2[0:samples.shape[0]]-samples)\n",
        "      try:\n",
        "        yhatn = recovered_audio_recon2[0:samples.shape[0]]\n",
        "        g = torch.manual_seed(1)\n",
        "        preds = torch.from_numpy(samples)\n",
        "        nb_pesq = PerceptualEvaluationSpeechQuality(8000, 'nb')\n",
        "        yhat = torch.from_numpy(yhatn)\n",
        "\n",
        "        pesq_value = nb_pesq(yhat.type('torch.ShortTensor'), preds).float()\n",
        "        p.append(pesq_value)\n",
        "      except:\n",
        "        pass\n",
        "\n",
        "    loss1_tot = np.sum(loss1)/num_audios\n",
        "    loss2_tot = np.sum(loss2)/num_audios\n",
        "    SNR_tot = np.sum(SNR)/num_audios\n",
        "    print('LOSS',loss1_tot)\n",
        "    print('LOSS2',loss2_tot)\n",
        "    print('PESQ',sum(p)/len(p))\n",
        "    print('SNR', SNR_tot)\n",
        "    print(total_specs)\n",
        "    print( 'tiempo de reconstrucción: {}s'.  format(int(time.time()-t0)))\n",
        "  def make_wav(self,number, person,repetition):\n",
        "    if person == 1:\n",
        "      per = '_jackson_'\n",
        "    elif person == 2:\n",
        "      per='_nicolas_'\n",
        "    elif person == 3:\n",
        "      per='_theo_'\n",
        "    else:\n",
        "      per = '_yweweler_'\n",
        "    sp_sz = int(self.time_long)\n",
        "    audio_path='/content/free-spoken-digit-dataset/recordings/'+str(number)+per+str(repetition)+'.wav'\n",
        "    sample_rate, samples = wav.read(audio_path)\n",
        "    samples = np.append(samples, np.random.randn(sp_sz-samples.shape[0]%sp_sz)*10, axis=0)\n",
        "    ms = np.transpose(pretty_spectrogram(samples.astype(\"float32\"),fft_size=self.fft,step_size=self.step_size,log=False))\n",
        "    ms=librosa.power_to_db(ms,  ref=self.log_ref)\n",
        "    n_ms = samples.shape[0]//sp_sz\n",
        "    ms2 = np.expand_dims(ms, axis=0)\n",
        "    lms = np.split(ms2, n_ms, axis=2)\n",
        "    ms2 = np.concatenate(lms)\n",
        "    x_decoded = self.autoencoder.predict(np.reshape(ms2/self.clip, [-1, int(self.fft/2), self.time, 1]))\n",
        "    lms = np.split(x_decoded, x_decoded.shape[0], axis=0)\n",
        "    x_decoded2 = np.concatenate(lms,axis=2)\n",
        "    x_decoded3 = np.reshape(x_decoded2, [ x_decoded2.shape[1], x_decoded2.shape[2]])*self.clip\n",
        "    comp3 = librosa.core.db_to_power(np.transpose(x_decoded3), ref=self.log_ref)\n",
        "    recovered_audio_recon2 = invert_pretty_spectrogram(\n",
        "        comp3, fft_size=self.fft, step_size=self.step_size, log=False, n_iter=20\n",
        "    )\n",
        "    return recovered_audio_recon2, sample_rate"
      ],
      "execution_count": 26,
      "outputs": []
    },
    {
      "cell_type": "code",
      "metadata": {
        "id": "qJqC4gBQi2T1"
      },
      "source": [
        "from os import listdir\n",
        "import scipy.io.wavfile as wav\n",
        "from os.path import isfile, join\n",
        "import librosa\n",
        "import librosa.display\n",
        "import numpy as np\n",
        "import matplotlib.pyplot as plt\n",
        "from sklearn.model_selection import train_test_split\n",
        "def create_specs(fft, time_long, step_size, log_ref):\n",
        "  audio_dir='/content/free-spoken-digit-dataset/recordings/'\n",
        "  file_names = [f for f in listdir(audio_dir) if isfile(join(audio_dir, f)) and '.wav' in f]\n",
        "  ms_list = np.zeros([0,int(fft/2),int(time_long/step_size)])\n",
        "\n",
        "  #sp_sz=2046\n",
        "  sp_sz = int(time_long)\n",
        "  i = 0\n",
        "  for file_name in file_names:\n",
        "    i += 1\n",
        "    audio_path = audio_dir + file_name\n",
        "\n",
        "    sample_rate, samples = wav.read(audio_path)\n",
        "    samples = np.append(samples, np.random.randn(sp_sz-samples.shape[0]%sp_sz)*10, axis=0)\n",
        "    ms = np.transpose(pretty_spectrogram(samples.astype(\"float32\"),fft_size=fft,step_size=step_size,log=False))\n",
        "    n_ms = samples.shape[0]//sp_sz\n",
        "    ms = np.expand_dims(librosa.power_to_db(ms,\n",
        "                                            ref=log_ref), axis=0)\n",
        "    lms = np.split(ms, n_ms, axis=2)\n",
        "    ms2 = np.concatenate(lms)\n",
        "    ms_list = np.append(ms_list,ms2,axis=0)\n",
        "  print(np.amin(ms_list))\n",
        "  print(np.amax(ms_list))\n",
        "  return  train_test_split(\n",
        "    ms_list, test_size=0.20, random_state=42)"
      ],
      "execution_count": 5,
      "outputs": []
    },
    {
      "cell_type": "code",
      "metadata": {
        "id": "1Rx0_1oqjdrq",
        "colab": {
          "base_uri": "https://localhost:8080/"
        },
        "outputId": "34e641a0-8993-46b9-e342-9b1e02266eaf"
      },
      "source": [
        "fft = 256\n",
        "time_long = 512\n",
        "step_size = 32\n",
        "fft_step_size_ratio = int(fft/step_size)\n",
        "log_ref = 5e-0\n",
        "X_train, X_test = create_specs(fft=fft, time_long=time_long, step_size= step_size, log_ref= log_ref)"
      ],
      "execution_count": 6,
      "outputs": [
        {
          "output_type": "stream",
          "name": "stdout",
          "text": [
            "0.0\n",
            "54.800990986408145\n"
          ]
        }
      ]
    },
    {
      "cell_type": "code",
      "metadata": {
        "id": "xUFNuA7I--6Y",
        "colab": {
          "base_uri": "https://localhost:8080/"
        },
        "outputId": "d9e82a05-7795-45bd-94be-51c6d7be1dce"
      },
      "source": [
        "print(X_train.shape)"
      ],
      "execution_count": null,
      "outputs": [
        {
          "output_type": "stream",
          "name": "stdout",
          "text": [
            "(17612, 128, 16)\n"
          ]
        }
      ]
    },
    {
      "cell_type": "code",
      "metadata": {
        "id": "4n2Yol7bte66",
        "colab": {
          "base_uri": "https://localhost:8080/"
        },
        "outputId": "ab0c9478-30bc-4330-dc8a-6261e4d50f6e"
      },
      "source": [
        "compression_rate= 0.125\n",
        "clip=np.ceil(np.amax(X_train))\n",
        "print(clip)\n",
        "conv = myautoencoder(compression_rate= compression_rate, linear_encoder= True, fft = fft, time_long= time_long,\n",
        "                    fft_step_size_ratio= fft_step_size_ratio, x_train=X_train, x_test=X_test, clip=57, mode='mlp2', pretrain_encoder=False)\n",
        "encoder_w, historyconv= conv.train(100, 'mse')\n",
        "conv.audio_evaluation(20, log_ref= log_ref)\n"
      ],
      "execution_count": 27,
      "outputs": [
        {
          "output_type": "stream",
          "name": "stdout",
          "text": [
            "55.0\n"
          ]
        },
        {
          "output_type": "stream",
          "name": "stderr",
          "text": [
            "WARNING:absl:`lr` is deprecated in Keras optimizer, please use `learning_rate` or use the legacy optimizer, e.g.,tf.keras.optimizers.legacy.Adam.\n",
            "WARNING:tensorflow:6 out of the last 25 calls to <function Model.make_predict_function.<locals>.predict_function at 0x7c84d93f3370> triggered tf.function retracing. Tracing is expensive and the excessive number of tracings could be due to (1) creating @tf.function repeatedly in a loop, (2) passing tensors with different shapes, (3) passing Python objects instead of tensors. For (1), please define your @tf.function outside of the loop. For (2), @tf.function has reduce_retracing=True option that can avoid unnecessary retracing. For (3), please refer to https://www.tensorflow.org/guide/function#controlling_retracing and https://www.tensorflow.org/api_docs/python/tf/function for  more details.\n"
          ]
        },
        {
          "output_type": "stream",
          "name": "stdout",
          "text": [
            "203.5585799217224\n",
            "1/1 [==============================] - 0s 54ms/step\n",
            "1/1 [==============================] - 0s 24ms/step\n",
            "1/1 [==============================] - 0s 25ms/step\n",
            "1/1 [==============================] - 0s 26ms/step\n",
            "1/1 [==============================] - 0s 23ms/step\n",
            "1/1 [==============================] - 0s 23ms/step\n",
            "1/1 [==============================] - 0s 16ms/step\n",
            "1/1 [==============================] - 0s 16ms/step\n",
            "1/1 [==============================] - 0s 24ms/step\n",
            "1/1 [==============================] - 0s 27ms/step\n",
            "1/1 [==============================] - 0s 24ms/step\n",
            "1/1 [==============================] - 0s 23ms/step\n",
            "1/1 [==============================] - 0s 23ms/step\n",
            "1/1 [==============================] - 0s 33ms/step\n",
            "1/1 [==============================] - 0s 26ms/step\n",
            "1/1 [==============================] - 0s 23ms/step\n",
            "1/1 [==============================] - 0s 23ms/step\n",
            "1/1 [==============================] - 0s 24ms/step\n",
            "1/1 [==============================] - 0s 23ms/step\n",
            "1/1 [==============================] - 0s 23ms/step\n",
            "LOSS 0.6579567833304817\n",
            "LOSS2 1248296.1356707725\n",
            "PESQ tensor(2.2110)\n",
            "SNR 0.8441635565278309\n",
            "137\n",
            "tiempo de reconstrucción: 4s\n"
          ]
        }
      ]
    },
    {
      "cell_type": "code",
      "metadata": {
        "colab": {
          "base_uri": "https://localhost:8080/",
          "height": 523
        },
        "id": "OdP1FFWVQt6O",
        "outputId": "bd27c920-d6c4-45a0-c880-3ed7dd1c1508"
      },
      "source": [
        "import time\n",
        "conv.audio_evaluation(10, log_ref= log_ref)"
      ],
      "execution_count": 16,
      "outputs": [
        {
          "output_type": "stream",
          "name": "stdout",
          "text": [
            "1/1 [==============================] - 0s 18ms/step\n",
            "1/1 [==============================] - 0s 38ms/step\n",
            "1/1 [==============================] - 0s 57ms/step\n",
            "1/1 [==============================] - 0s 41ms/step\n",
            "1/1 [==============================] - 0s 29ms/step\n",
            "1/1 [==============================] - 0s 28ms/step\n",
            "1/1 [==============================] - 0s 25ms/step\n",
            "1/1 [==============================] - 0s 40ms/step\n",
            "1/1 [==============================] - 0s 27ms/step\n",
            "1/1 [==============================] - 0s 28ms/step\n",
            "LOSS 0.6812429001358418\n",
            "LOSS2 1428667.1045592483\n"
          ]
        },
        {
          "output_type": "error",
          "ename": "ZeroDivisionError",
          "evalue": "division by zero",
          "traceback": [
            "\u001b[0;31m---------------------------------------------------------------------------\u001b[0m",
            "\u001b[0;31mZeroDivisionError\u001b[0m                         Traceback (most recent call last)",
            "\u001b[0;32m<ipython-input-16-fd1dffe22c8b>\u001b[0m in \u001b[0;36m<cell line: 2>\u001b[0;34m()\u001b[0m\n\u001b[1;32m      1\u001b[0m \u001b[0;32mimport\u001b[0m \u001b[0mtime\u001b[0m\u001b[0;34m\u001b[0m\u001b[0;34m\u001b[0m\u001b[0m\n\u001b[0;32m----> 2\u001b[0;31m \u001b[0mconv\u001b[0m\u001b[0;34m.\u001b[0m\u001b[0maudio_evaluation\u001b[0m\u001b[0;34m(\u001b[0m\u001b[0;36m10\u001b[0m\u001b[0;34m,\u001b[0m \u001b[0mlog_ref\u001b[0m\u001b[0;34m=\u001b[0m \u001b[0mlog_ref\u001b[0m\u001b[0;34m)\u001b[0m\u001b[0;34m\u001b[0m\u001b[0;34m\u001b[0m\u001b[0m\n\u001b[0m",
            "\u001b[0;32m<ipython-input-11-6da4d6a4a67f>\u001b[0m in \u001b[0;36maudio_evaluation\u001b[0;34m(self, num_audios, log_ref)\u001b[0m\n\u001b[1;32m    208\u001b[0m     \u001b[0mprint\u001b[0m\u001b[0;34m(\u001b[0m\u001b[0;34m'LOSS'\u001b[0m\u001b[0;34m,\u001b[0m\u001b[0mloss1_tot\u001b[0m\u001b[0;34m)\u001b[0m\u001b[0;34m\u001b[0m\u001b[0;34m\u001b[0m\u001b[0m\n\u001b[1;32m    209\u001b[0m     \u001b[0mprint\u001b[0m\u001b[0;34m(\u001b[0m\u001b[0;34m'LOSS2'\u001b[0m\u001b[0;34m,\u001b[0m\u001b[0mloss2_tot\u001b[0m\u001b[0;34m)\u001b[0m\u001b[0;34m\u001b[0m\u001b[0;34m\u001b[0m\u001b[0m\n\u001b[0;32m--> 210\u001b[0;31m     \u001b[0mprint\u001b[0m\u001b[0;34m(\u001b[0m\u001b[0;34m'PESQ'\u001b[0m\u001b[0;34m,\u001b[0m\u001b[0msum\u001b[0m\u001b[0;34m(\u001b[0m\u001b[0mp\u001b[0m\u001b[0;34m)\u001b[0m\u001b[0;34m/\u001b[0m\u001b[0mlen\u001b[0m\u001b[0;34m(\u001b[0m\u001b[0mp\u001b[0m\u001b[0;34m)\u001b[0m\u001b[0;34m)\u001b[0m\u001b[0;34m\u001b[0m\u001b[0;34m\u001b[0m\u001b[0m\n\u001b[0m\u001b[1;32m    211\u001b[0m     \u001b[0mprint\u001b[0m\u001b[0;34m(\u001b[0m\u001b[0;34m'SNR'\u001b[0m\u001b[0;34m,\u001b[0m \u001b[0mSNR_tot\u001b[0m\u001b[0;34m)\u001b[0m\u001b[0;34m\u001b[0m\u001b[0;34m\u001b[0m\u001b[0m\n\u001b[1;32m    212\u001b[0m     \u001b[0mprint\u001b[0m\u001b[0;34m(\u001b[0m\u001b[0mtotal_specs\u001b[0m\u001b[0;34m)\u001b[0m\u001b[0;34m\u001b[0m\u001b[0;34m\u001b[0m\u001b[0m\n",
            "\u001b[0;31mZeroDivisionError\u001b[0m: division by zero"
          ]
        }
      ]
    },
    {
      "cell_type": "code",
      "metadata": {
        "id": "iw0w3mZDHclB",
        "colab": {
          "base_uri": "https://localhost:8080/",
          "height": 92
        },
        "outputId": "3f30a31a-bf37-49b4-a1c2-47ce03ec4de1"
      },
      "source": [
        "audio, sample_rate = conv.make_wav(number=5,person=2, repetition=16)\n",
        "#log_ref=1e-0\n",
        "IPython.display.Audio(data=audio, rate=sample_rate)"
      ],
      "execution_count": 28,
      "outputs": [
        {
          "output_type": "stream",
          "name": "stdout",
          "text": [
            "1/1 [==============================] - 0s 17ms/step\n"
          ]
        },
        {
          "output_type": "execute_result",
          "data": {
            "text/plain": [
              "<IPython.lib.display.Audio object>"
            ],
            "text/html": [
              "\n",
              "                <audio  controls=\"controls\" >\n",
              "                    <source src=\"data:audio/wav;base64,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\" type=\"audio/wav\" />\n",
              "                    Your browser does not support the audio element.\n",
              "                </audio>\n",
              "              "
            ]
          },
          "metadata": {},
          "execution_count": 28
        }
      ]
    },
    {
      "cell_type": "code",
      "source": [
        "wavfile.write('five.wav', 8000, audio)"
      ],
      "metadata": {
        "id": "JWEjaBGfMNnU"
      },
      "execution_count": null,
      "outputs": []
    },
    {
      "cell_type": "code",
      "metadata": {
        "colab": {
          "base_uri": "https://localhost:8080/"
        },
        "id": "G6HMDF5LSS20",
        "outputId": "8cc80e10-127a-4180-994a-8d39affe9907"
      },
      "source": [
        "compression_rate= 0.125\n",
        "clip=np.ceil(np.amax(X_train))\n",
        "print(clip)\n",
        "mlp1 = myautoencoder(compression_rate= compression_rate, linear_encoder= True, fft = fft, time_long= time_long,\n",
        "                    fft_step_size_ratio= fft_step_size_ratio, x_train=X_train, x_test=X_test, clip=57, mode='mlp1', pretrain_encoder=False)\n",
        "encoder_w, historymlp1= mlp1.train(700, 'mse')\n",
        "mlp1.audio_evaluation(800, log_ref= log_ref)\n"
      ],
      "execution_count": null,
      "outputs": [
        {
          "output_type": "stream",
          "text": [
            "55.0\n",
            "694.6065850257874\n",
            "LOSS 0.6817622973348679\n",
            "LOSS2 1345244.117565388\n",
            "SNR 0.8656589974277538\n",
            "5851\n",
            "tiempo de reconstrucción: 177s\n"
          ],
          "name": "stdout"
        }
      ]
    },
    {
      "cell_type": "code",
      "metadata": {
        "colab": {
          "base_uri": "https://localhost:8080/",
          "height": 75
        },
        "id": "Ksc-tk9W1evt",
        "outputId": "214c0afe-013c-42f1-b01c-b9b505769e3a"
      },
      "source": [
        "audio, sample_rate = mlp1.make_wav(number=5,person=2, repetition=16)\n",
        "#log_ref=1e-0\n",
        "IPython.display.Audio(data=audio, rate=sample_rate)"
      ],
      "execution_count": null,
      "outputs": [
        {
          "output_type": "execute_result",
          "data": {
            "text/html": [
              "\n",
              "                <audio controls=\"controls\" >\n",
              "                    <source src=\"data:audio/wav;base64,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\" type=\"audio/wav\" />\n",
              "                    Your browser does not support the audio element.\n",
              "                </audio>\n",
              "              "
            ],
            "text/plain": [
              "<IPython.lib.display.Audio object>"
            ]
          },
          "metadata": {
            "tags": []
          },
          "execution_count": 11
        }
      ]
    },
    {
      "cell_type": "code",
      "metadata": {
        "colab": {
          "base_uri": "https://localhost:8080/"
        },
        "id": "Xcd5eGE1S-Mq",
        "outputId": "7903d211-bf83-469e-858e-94cdcf2ff272"
      },
      "source": [
        "compression_rate= 0.125\n",
        "clip=np.ceil(np.amax(X_train))\n",
        "print(clip)\n",
        "mlp2 = myautoencoder(compression_rate= compression_rate, linear_encoder= True, fft = fft, time_long= time_long,\n",
        "                    fft_step_size_ratio= fft_step_size_ratio, x_train=X_train, x_test=X_test, clip=57, mode='mlp2', pretrain_encoder=False)\n",
        "encoder_w, historymlp2= mlp2.train(700, 'mse')\n",
        "mlp2.audio_evaluation(800, log_ref= log_ref)"
      ],
      "execution_count": null,
      "outputs": [
        {
          "output_type": "stream",
          "text": [
            "55.0\n",
            "682.9130940437317\n",
            "LOSS 0.6782945632893066\n",
            "LOSS2 1317326.2305856186\n",
            "SNR 0.8589740629830659\n",
            "5775\n",
            "tiempo de reconstrucción: 175s\n"
          ],
          "name": "stdout"
        }
      ]
    },
    {
      "cell_type": "code",
      "metadata": {
        "colab": {
          "base_uri": "https://localhost:8080/"
        },
        "id": "BEZRxS8C1joC",
        "outputId": "878dbe52-d4ed-4bf4-b020-720b896f7525"
      },
      "source": [
        "audio, sample_rate = mlp2.make_wav(number=5,person=2, repetition=16)\n",
        "#log_ref=1e-0\n",
        "IPython.display.Audio(data=audio, rate=sample_rate)"
      ],
      "execution_count": null,
      "outputs": [
        {
          "output_type": "execute_result",
          "data": {
            "text/html": [
              "\n",
              "                <audio controls=\"controls\" >\n",
              "                    <source src=\"data:audio/wav;base64,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\" type=\"audio/wav\" />\n",
              "                    Your browser does not support the audio element.\n",
              "                </audio>\n",
              "              "
            ],
            "text/plain": [
              "<IPython.lib.display.Audio object>"
            ]
          },
          "metadata": {
            "tags": []
          },
          "execution_count": 13
        }
      ]
    },
    {
      "cell_type": "code",
      "metadata": {
        "colab": {
          "base_uri": "https://localhost:8080/"
        },
        "id": "puE-ICFf4gxs",
        "outputId": "89a04b4b-da8f-4cb2-b72f-1a8d7f85b5ad"
      },
      "source": [
        "finish= 700\n",
        "plt.plot(range(20,finish),historyconv.history['loss'][20:])\n",
        "plt.plot(range(20,finish),historyconv.history['val_loss'][20:])\n",
        "plt.title('Model loss')\n",
        "plt.ylabel('Loss')\n",
        "plt.xlabel('Epoch')\n",
        "plt.legend(['Train conv', 'Test conv',  ], loc='best')\n",
        "plt.show()"
      ],
      "execution_count": null,
      "outputs": [
        {
          "output_type": "display_data",
          "data": {
            "image/png": "[encoded data removed]",
            "text/plain": [
              "<Figure size 432x288 with 1 Axes>"
            ]
          },
          "metadata": {
            "tags": [],
            "needs_background": "light"
          }
        }
      ]
    },
    {
      "cell_type": "code",
      "metadata": {
        "id": "fl18lyUzHQ05",
        "colab": {
          "base_uri": "https://localhost:8080/",
          "height": 391
        },
        "outputId": "0707af25-042a-4e98-8fd2-c6dd6c5ad084"
      },
      "source": [
        "clip=np.ceil(np.amax(X_train))\n",
        "print(clip)\n",
        "lp2 = myautoencoder(compression_rate= compression_rate, linear_encoder= False, fft = fft, time_long= time_long,\n",
        "                    fft_step_size_ratio= fft_step_size_ratio, x_train=X_train, x_test=X_test, clip=57, mode='lp', pretrain_encoder=False)\n",
        "encoder_w, historylp2= lp2.train(700, 'mse')\n",
        "lp2.audio_evaluation(800, log_ref= log_ref)"
      ],
      "execution_count": null,
      "outputs": [
        {
          "output_type": "stream",
          "text": [
            "55.0\n"
          ],
          "name": "stdout"
        },
        {
          "output_type": "error",
          "ename": "UnboundLocalError",
          "evalue": "ignored",
          "traceback": [
            "\u001b[0;31m---------------------------------------------------------------------------\u001b[0m",
            "\u001b[0;31mUnboundLocalError\u001b[0m                         Traceback (most recent call last)",
            "\u001b[0;32m<ipython-input-15-5685f7e33dcb>\u001b[0m in \u001b[0;36m<module>\u001b[0;34m()\u001b[0m\n\u001b[1;32m      2\u001b[0m \u001b[0mprint\u001b[0m\u001b[0;34m(\u001b[0m\u001b[0mclip\u001b[0m\u001b[0;34m)\u001b[0m\u001b[0;34m\u001b[0m\u001b[0;34m\u001b[0m\u001b[0m\n\u001b[1;32m      3\u001b[0m lp2 = myautoencoder(compression_rate= compression_rate, linear_encoder= False, fft = fft, time_long= time_long,\n\u001b[0;32m----> 4\u001b[0;31m                     fft_step_size_ratio= fft_step_size_ratio, x_train=X_train, x_test=X_test, clip=57, mode='lp', pretrain_encoder=False)\n\u001b[0m\u001b[1;32m      5\u001b[0m \u001b[0mencoder_w\u001b[0m\u001b[0;34m,\u001b[0m \u001b[0mhistorylp2\u001b[0m\u001b[0;34m=\u001b[0m \u001b[0mlp2\u001b[0m\u001b[0;34m.\u001b[0m\u001b[0mtrain\u001b[0m\u001b[0;34m(\u001b[0m\u001b[0;36m700\u001b[0m\u001b[0;34m,\u001b[0m \u001b[0;34m'mse'\u001b[0m\u001b[0;34m)\u001b[0m\u001b[0;34m\u001b[0m\u001b[0;34m\u001b[0m\u001b[0m\n\u001b[1;32m      6\u001b[0m \u001b[0mlp2\u001b[0m\u001b[0;34m.\u001b[0m\u001b[0maudio_evaluation\u001b[0m\u001b[0;34m(\u001b[0m\u001b[0;36m800\u001b[0m\u001b[0;34m,\u001b[0m \u001b[0mlog_ref\u001b[0m\u001b[0;34m=\u001b[0m \u001b[0mlog_ref\u001b[0m\u001b[0;34m)\u001b[0m\u001b[0;34m\u001b[0m\u001b[0;34m\u001b[0m\u001b[0m\n",
            "\u001b[0;32m<ipython-input-3-7e2ec0b89021>\u001b[0m in \u001b[0;36m__init__\u001b[0;34m(self, compression_rate, linear_encoder, fft, time_long, fft_step_size_ratio, x_train, x_test, clip, mode, pretrain_encoder, encoder_w)\u001b[0m\n\u001b[1;32m    113\u001b[0m       \u001b[0mx2\u001b[0m \u001b[0;34m=\u001b[0m \u001b[0mlp\u001b[0m\u001b[0;34m\u001b[0m\u001b[0;34m\u001b[0m\u001b[0m\n\u001b[1;32m    114\u001b[0m \u001b[0;34m\u001b[0m\u001b[0m\n\u001b[0;32m--> 115\u001b[0;31m     \u001b[0moutputs\u001b[0m \u001b[0;34m=\u001b[0m \u001b[0mActivation\u001b[0m\u001b[0;34m(\u001b[0m\u001b[0;34m'sigmoid'\u001b[0m\u001b[0;34m,\u001b[0m \u001b[0mname\u001b[0m\u001b[0;34m=\u001b[0m\u001b[0;34m'decoder_output'\u001b[0m\u001b[0;34m)\u001b[0m\u001b[0;34m(\u001b[0m\u001b[0mx2\u001b[0m\u001b[0;34m)\u001b[0m\u001b[0;34m\u001b[0m\u001b[0;34m\u001b[0m\u001b[0m\n\u001b[0m\u001b[1;32m    116\u001b[0m \u001b[0;34m\u001b[0m\u001b[0m\n\u001b[1;32m    117\u001b[0m     \u001b[0;31m# Instantiate Decoder Model\u001b[0m\u001b[0;34m\u001b[0m\u001b[0;34m\u001b[0m\u001b[0;34m\u001b[0m\u001b[0m\n",
            "\u001b[0;31mUnboundLocalError\u001b[0m: local variable 'x2' referenced before assignment"
          ]
        }
      ]
    },
    {
      "cell_type": "code",
      "metadata": {
        "id": "JTtVgWQ2mgzp"
      },
      "source": [
        "\n",
        "plt.plot(range(300,800),historylp1.history['loss'][300:])\n",
        "plt.plot(range(300,800),historylp1.history['val_loss'][300:])\n",
        "plt.plot(range(300,800),historylp2.history['loss'][300:])\n",
        "plt.plot(range(300,800),historylp2.history['val_loss'][300:])\n",
        "#plt.plot(range(300,800),historylp4.history['loss'][300:])\n",
        "#plt.plot(range(300,800),historylp4.history['val_loss'][300:])\n",
        "plt.title('Model loss')\n",
        "plt.ylabel('Loss')\n",
        "plt.xlabel('Epoch')\n",
        "#'Train-tanh', 'Test-tanh'\n",
        "plt.legend(['Train-linear', 'Test-linear', 'Train-relu', 'Test-relu'], loc='upper left')\n",
        "plt.show()"
      ],
      "execution_count": null,
      "outputs": []
    },
    {
      "cell_type": "code",
      "metadata": {
        "id": "HWa5j1gVSy6z"
      },
      "source": [
        "lp1.audio_evaluation(800, log_ref= log_ref)\n",
        "lp2.audio_evaluation(800, log_ref= log_ref)"
      ],
      "execution_count": null,
      "outputs": []
    },
    {
      "cell_type": "code",
      "metadata": {
        "id": "eiH3F20IbLgw"
      },
      "source": [
        "lp3.audio_evaluation(800, log_ref= log_ref)"
      ],
      "execution_count": null,
      "outputs": []
    },
    {
      "cell_type": "code",
      "metadata": {
        "id": "v51lz_gEgEP4"
      },
      "source": [
        "audio, sample_rate = lp1.make_wav(number=5,person=2, repetition=16)\n",
        "#log_ref=1e-0\n",
        "IPython.display.Audio(data=audio, rate=sample_rate)"
      ],
      "execution_count": null,
      "outputs": []
    },
    {
      "cell_type": "code",
      "metadata": {
        "id": "pseCggmGgHph"
      },
      "source": [
        "audio, sample_rate = lp3.make_wav(number=5,person=2, repetition=16)\n",
        "#log_ref=1e-0\n",
        "IPython.display.Audio(data=audio, rate=sample_rate)"
      ],
      "execution_count": null,
      "outputs": []
    },
    {
      "cell_type": "code",
      "metadata": {
        "id": "a02PSbt4lvkP"
      },
      "source": [
        "clip=np.ceil(np.amax(X_train))\n",
        "print(clip)\n",
        "lp4 = myautoencoder(compression_rate= compression_rate, linear_encoder= False, fft = fft, time_long= time_long,\n",
        "                    fft_step_size_ratio= fft_step_size_ratio, x_train=X_train, x_test=X_test, clip=57, mode='lp', pretrain_encoder=False)\n",
        "encoder_w, historylp4= lp4.train(800, 'mse')\n",
        "lp4.audio_evaluation(800, log_ref= log_ref)"
      ],
      "execution_count": null,
      "outputs": []
    }
  ]
}