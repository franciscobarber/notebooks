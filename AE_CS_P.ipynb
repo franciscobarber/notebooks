{
  "cells": [
    {
      "cell_type": "markdown",
      "metadata": {
        "id": "view-in-github",
        "colab_type": "text"
      },
      "source": [
        "<a href=\"https://colab.research.google.com/github/franciscobarber/notebooks/blob/ljspeech/AE_CS_P.ipynb\" target=\"_parent\"><img src=\"https://colab.research.google.com/assets/colab-badge.svg\" alt=\"Open In Colab\"/></a>"
      ]
    },
    {
      "cell_type": "code",
      "execution_count": null,
      "metadata": {
        "colab": {
          "base_uri": "https://localhost:8080/"
        },
        "id": "3wJJwhGMYVaY",
        "outputId": "da5a0ce7-f9dc-4d9f-9c1d-fecd6f99a1ea"
      },
      "outputs": [
        {
          "output_type": "stream",
          "name": "stdout",
          "text": [
            "Cloning into 'free-spoken-digit-dataset'...\n",
            "warning: --local is ignored\n",
            "remote: Enumerating objects: 4237, done.\u001b[K\n",
            "remote: Counting objects: 100% (4237/4237), done.\u001b[K\n",
            "remote: Compressing objects: 100% (4111/4111), done.\u001b[K\n",
            "remote: Total 4237 (delta 123), reused 4237 (delta 123), pack-reused 0\u001b[K\n",
            "Receiving objects: 100% (4237/4237), 30.34 MiB | 14.60 MiB/s, done.\n",
            "Resolving deltas: 100% (123/123), done.\n"
          ]
        }
      ],
      "source": [
        "!git clone -l -s https://franciscobarber@github.com/franciscobarber/free-spoken-digit-dataset.git"
      ]
    },
    {
      "cell_type": "code",
      "execution_count": null,
      "metadata": {
        "colab": {
          "base_uri": "https://localhost:8080/"
        },
        "id": "3XbKGzACYbJj",
        "outputId": "20565e0f-f414-4a6a-ffa7-50458adcf785"
      },
      "outputs": [
        {
          "output_type": "stream",
          "name": "stdout",
          "text": [
            "Requirement already satisfied: torch>=2.0<3.0 in /usr/local/lib/python3.10/dist-packages (2.1.0+cu121)\n",
            "Requirement already satisfied: filelock in /usr/local/lib/python3.10/dist-packages (from torch>=2.0<3.0) (3.13.1)\n",
            "Requirement already satisfied: typing-extensions in /usr/local/lib/python3.10/dist-packages (from torch>=2.0<3.0) (4.5.0)\n",
            "Requirement already satisfied: sympy in /usr/local/lib/python3.10/dist-packages (from torch>=2.0<3.0) (1.12)\n",
            "Requirement already satisfied: networkx in /usr/local/lib/python3.10/dist-packages (from torch>=2.0<3.0) (3.2.1)\n",
            "Requirement already satisfied: jinja2 in /usr/local/lib/python3.10/dist-packages (from torch>=2.0<3.0) (3.1.2)\n",
            "Requirement already satisfied: fsspec in /usr/local/lib/python3.10/dist-packages (from torch>=2.0<3.0) (2023.6.0)\n",
            "Requirement already satisfied: triton==2.1.0 in /usr/local/lib/python3.10/dist-packages (from torch>=2.0<3.0) (2.1.0)\n",
            "Requirement already satisfied: MarkupSafe>=2.0 in /usr/local/lib/python3.10/dist-packages (from jinja2->torch>=2.0<3.0) (2.1.3)\n",
            "Requirement already satisfied: mpmath>=0.19 in /usr/local/lib/python3.10/dist-packages (from sympy->torch>=2.0<3.0) (1.3.0)\n",
            "Collecting pesq\n",
            "  Downloading pesq-0.0.4.tar.gz (38 kB)\n",
            "  Preparing metadata (setup.py) ... \u001b[?25l\u001b[?25hdone\n",
            "Building wheels for collected packages: pesq\n",
            "  Building wheel for pesq (setup.py) ... \u001b[?25l\u001b[?25hdone\n",
            "  Created wheel for pesq: filename=pesq-0.0.4-cp310-cp310-linux_x86_64.whl size=262906 sha256=1852638882c12b04060490edba8d347c6acae39eddd02c4848a1ff3de78aed62\n",
            "  Stored in directory: /root/.cache/pip/wheels/c5/4e/2c/251524370c0fdd659e99639a0fbd0ca5a782c3aafcd456b28d\n",
            "Successfully built pesq\n",
            "Installing collected packages: pesq\n",
            "Successfully installed pesq-0.0.4\n",
            "Collecting torchmetrics>=1.0<2.0\n",
            "  Downloading torchmetrics-1.2.1-py3-none-any.whl (806 kB)\n",
            "\u001b[2K     \u001b[90m━━━━━━━━━━━━━━━━━━━━━━━━━━━━━━━━━━━━━━━━\u001b[0m \u001b[32m806.1/806.1 kB\u001b[0m \u001b[31m13.6 MB/s\u001b[0m eta \u001b[36m0:00:00\u001b[0m\n",
            "\u001b[?25hRequirement already satisfied: numpy>1.20.0 in /usr/local/lib/python3.10/dist-packages (from torchmetrics>=1.0<2.0) (1.23.5)\n",
            "Requirement already satisfied: packaging>17.1 in /usr/local/lib/python3.10/dist-packages (from torchmetrics>=1.0<2.0) (23.2)\n",
            "Requirement already satisfied: torch>=1.8.1 in /usr/local/lib/python3.10/dist-packages (from torchmetrics>=1.0<2.0) (2.1.0+cu121)\n",
            "Collecting lightning-utilities>=0.8.0 (from torchmetrics>=1.0<2.0)\n",
            "  Downloading lightning_utilities-0.10.0-py3-none-any.whl (24 kB)\n",
            "Requirement already satisfied: setuptools in /usr/local/lib/python3.10/dist-packages (from lightning-utilities>=0.8.0->torchmetrics>=1.0<2.0) (67.7.2)\n",
            "Requirement already satisfied: typing-extensions in /usr/local/lib/python3.10/dist-packages (from lightning-utilities>=0.8.0->torchmetrics>=1.0<2.0) (4.5.0)\n",
            "Requirement already satisfied: filelock in /usr/local/lib/python3.10/dist-packages (from torch>=1.8.1->torchmetrics>=1.0<2.0) (3.13.1)\n",
            "Requirement already satisfied: sympy in /usr/local/lib/python3.10/dist-packages (from torch>=1.8.1->torchmetrics>=1.0<2.0) (1.12)\n",
            "Requirement already satisfied: networkx in /usr/local/lib/python3.10/dist-packages (from torch>=1.8.1->torchmetrics>=1.0<2.0) (3.2.1)\n",
            "Requirement already satisfied: jinja2 in /usr/local/lib/python3.10/dist-packages (from torch>=1.8.1->torchmetrics>=1.0<2.0) (3.1.2)\n",
            "Requirement already satisfied: fsspec in /usr/local/lib/python3.10/dist-packages (from torch>=1.8.1->torchmetrics>=1.0<2.0) (2023.6.0)\n",
            "Requirement already satisfied: triton==2.1.0 in /usr/local/lib/python3.10/dist-packages (from torch>=1.8.1->torchmetrics>=1.0<2.0) (2.1.0)\n",
            "Requirement already satisfied: MarkupSafe>=2.0 in /usr/local/lib/python3.10/dist-packages (from jinja2->torch>=1.8.1->torchmetrics>=1.0<2.0) (2.1.3)\n",
            "Requirement already satisfied: mpmath>=0.19 in /usr/local/lib/python3.10/dist-packages (from sympy->torch>=1.8.1->torchmetrics>=1.0<2.0) (1.3.0)\n",
            "Installing collected packages: lightning-utilities, torchmetrics\n",
            "Successfully installed lightning-utilities-0.10.0 torchmetrics-1.2.1\n",
            "Requirement already satisfied: keras>=2.0<3.0 in /usr/local/lib/python3.10/dist-packages (2.15.0)\n",
            "Requirement already satisfied: tensorflow>=2.0<3.0 in /usr/local/lib/python3.10/dist-packages (2.15.0)\n",
            "Requirement already satisfied: absl-py>=1.0.0 in /usr/local/lib/python3.10/dist-packages (from tensorflow>=2.0<3.0) (1.4.0)\n",
            "Requirement already satisfied: astunparse>=1.6.0 in /usr/local/lib/python3.10/dist-packages (from tensorflow>=2.0<3.0) (1.6.3)\n",
            "Requirement already satisfied: flatbuffers>=23.5.26 in /usr/local/lib/python3.10/dist-packages (from tensorflow>=2.0<3.0) (23.5.26)\n",
            "Requirement already satisfied: gast!=0.5.0,!=0.5.1,!=0.5.2,>=0.2.1 in /usr/local/lib/python3.10/dist-packages (from tensorflow>=2.0<3.0) (0.5.4)\n",
            "Requirement already satisfied: google-pasta>=0.1.1 in /usr/local/lib/python3.10/dist-packages (from tensorflow>=2.0<3.0) (0.2.0)\n",
            "Requirement already satisfied: h5py>=2.9.0 in /usr/local/lib/python3.10/dist-packages (from tensorflow>=2.0<3.0) (3.9.0)\n",
            "Requirement already satisfied: libclang>=13.0.0 in /usr/local/lib/python3.10/dist-packages (from tensorflow>=2.0<3.0) (16.0.6)\n",
            "Requirement already satisfied: ml-dtypes~=0.2.0 in /usr/local/lib/python3.10/dist-packages (from tensorflow>=2.0<3.0) (0.2.0)\n",
            "Requirement already satisfied: numpy<2.0.0,>=1.23.5 in /usr/local/lib/python3.10/dist-packages (from tensorflow>=2.0<3.0) (1.23.5)\n",
            "Requirement already satisfied: opt-einsum>=2.3.2 in /usr/local/lib/python3.10/dist-packages (from tensorflow>=2.0<3.0) (3.3.0)\n",
            "Requirement already satisfied: packaging in /usr/local/lib/python3.10/dist-packages (from tensorflow>=2.0<3.0) (23.2)\n",
            "Requirement already satisfied: protobuf!=4.21.0,!=4.21.1,!=4.21.2,!=4.21.3,!=4.21.4,!=4.21.5,<5.0.0dev,>=3.20.3 in /usr/local/lib/python3.10/dist-packages (from tensorflow>=2.0<3.0) (3.20.3)\n",
            "Requirement already satisfied: setuptools in /usr/local/lib/python3.10/dist-packages (from tensorflow>=2.0<3.0) (67.7.2)\n",
            "Requirement already satisfied: six>=1.12.0 in /usr/local/lib/python3.10/dist-packages (from tensorflow>=2.0<3.0) (1.16.0)\n",
            "Requirement already satisfied: termcolor>=1.1.0 in /usr/local/lib/python3.10/dist-packages (from tensorflow>=2.0<3.0) (2.4.0)\n",
            "Requirement already satisfied: typing-extensions>=3.6.6 in /usr/local/lib/python3.10/dist-packages (from tensorflow>=2.0<3.0) (4.5.0)\n",
            "Requirement already satisfied: wrapt<1.15,>=1.11.0 in /usr/local/lib/python3.10/dist-packages (from tensorflow>=2.0<3.0) (1.14.1)\n",
            "Requirement already satisfied: tensorflow-io-gcs-filesystem>=0.23.1 in /usr/local/lib/python3.10/dist-packages (from tensorflow>=2.0<3.0) (0.35.0)\n",
            "Requirement already satisfied: grpcio<2.0,>=1.24.3 in /usr/local/lib/python3.10/dist-packages (from tensorflow>=2.0<3.0) (1.60.0)\n",
            "Requirement already satisfied: tensorboard<2.16,>=2.15 in /usr/local/lib/python3.10/dist-packages (from tensorflow>=2.0<3.0) (2.15.1)\n",
            "Requirement already satisfied: tensorflow-estimator<2.16,>=2.15.0 in /usr/local/lib/python3.10/dist-packages (from tensorflow>=2.0<3.0) (2.15.0)\n",
            "Requirement already satisfied: keras<2.16,>=2.15.0 in /usr/local/lib/python3.10/dist-packages (from tensorflow>=2.0<3.0) (2.15.0)\n",
            "Requirement already satisfied: wheel<1.0,>=0.23.0 in /usr/local/lib/python3.10/dist-packages (from astunparse>=1.6.0->tensorflow>=2.0<3.0) (0.42.0)\n",
            "Requirement already satisfied: google-auth<3,>=1.6.3 in /usr/local/lib/python3.10/dist-packages (from tensorboard<2.16,>=2.15->tensorflow>=2.0<3.0) (2.17.3)\n",
            "Requirement already satisfied: google-auth-oauthlib<2,>=0.5 in /usr/local/lib/python3.10/dist-packages (from tensorboard<2.16,>=2.15->tensorflow>=2.0<3.0) (1.2.0)\n",
            "Requirement already satisfied: markdown>=2.6.8 in /usr/local/lib/python3.10/dist-packages (from tensorboard<2.16,>=2.15->tensorflow>=2.0<3.0) (3.5.1)\n",
            "Requirement already satisfied: requests<3,>=2.21.0 in /usr/local/lib/python3.10/dist-packages (from tensorboard<2.16,>=2.15->tensorflow>=2.0<3.0) (2.31.0)\n",
            "Requirement already satisfied: tensorboard-data-server<0.8.0,>=0.7.0 in /usr/local/lib/python3.10/dist-packages (from tensorboard<2.16,>=2.15->tensorflow>=2.0<3.0) (0.7.2)\n",
            "Requirement already satisfied: werkzeug>=1.0.1 in /usr/local/lib/python3.10/dist-packages (from tensorboard<2.16,>=2.15->tensorflow>=2.0<3.0) (3.0.1)\n",
            "Requirement already satisfied: cachetools<6.0,>=2.0.0 in /usr/local/lib/python3.10/dist-packages (from google-auth<3,>=1.6.3->tensorboard<2.16,>=2.15->tensorflow>=2.0<3.0) (5.3.2)\n",
            "Requirement already satisfied: pyasn1-modules>=0.2.1 in /usr/local/lib/python3.10/dist-packages (from google-auth<3,>=1.6.3->tensorboard<2.16,>=2.15->tensorflow>=2.0<3.0) (0.3.0)\n",
            "Requirement already satisfied: rsa<5,>=3.1.4 in /usr/local/lib/python3.10/dist-packages (from google-auth<3,>=1.6.3->tensorboard<2.16,>=2.15->tensorflow>=2.0<3.0) (4.9)\n",
            "Requirement already satisfied: requests-oauthlib>=0.7.0 in /usr/local/lib/python3.10/dist-packages (from google-auth-oauthlib<2,>=0.5->tensorboard<2.16,>=2.15->tensorflow>=2.0<3.0) (1.3.1)\n",
            "Requirement already satisfied: charset-normalizer<4,>=2 in /usr/local/lib/python3.10/dist-packages (from requests<3,>=2.21.0->tensorboard<2.16,>=2.15->tensorflow>=2.0<3.0) (3.3.2)\n",
            "Requirement already satisfied: idna<4,>=2.5 in /usr/local/lib/python3.10/dist-packages (from requests<3,>=2.21.0->tensorboard<2.16,>=2.15->tensorflow>=2.0<3.0) (3.6)\n",
            "Requirement already satisfied: urllib3<3,>=1.21.1 in /usr/local/lib/python3.10/dist-packages (from requests<3,>=2.21.0->tensorboard<2.16,>=2.15->tensorflow>=2.0<3.0) (2.0.7)\n",
            "Requirement already satisfied: certifi>=2017.4.17 in /usr/local/lib/python3.10/dist-packages (from requests<3,>=2.21.0->tensorboard<2.16,>=2.15->tensorflow>=2.0<3.0) (2023.11.17)\n",
            "Requirement already satisfied: MarkupSafe>=2.1.1 in /usr/local/lib/python3.10/dist-packages (from werkzeug>=1.0.1->tensorboard<2.16,>=2.15->tensorflow>=2.0<3.0) (2.1.3)\n",
            "Requirement already satisfied: pyasn1<0.6.0,>=0.4.6 in /usr/local/lib/python3.10/dist-packages (from pyasn1-modules>=0.2.1->google-auth<3,>=1.6.3->tensorboard<2.16,>=2.15->tensorflow>=2.0<3.0) (0.5.1)\n",
            "Requirement already satisfied: oauthlib>=3.0.0 in /usr/local/lib/python3.10/dist-packages (from requests-oauthlib>=0.7.0->google-auth-oauthlib<2,>=0.5->tensorboard<2.16,>=2.15->tensorflow>=2.0<3.0) (3.2.2)\n",
            "Collecting git+https://github.com/yoyololicon/spectrogram-inversion\n",
            "  Cloning https://github.com/yoyololicon/spectrogram-inversion to /tmp/pip-req-build-cbh50o8n\n",
            "  Running command git clone --filter=blob:none --quiet https://github.com/yoyololicon/spectrogram-inversion /tmp/pip-req-build-cbh50o8n\n",
            "  Resolved https://github.com/yoyololicon/spectrogram-inversion to commit 82fa16b65928c33c94ef13f34bf42f6d57960be4\n",
            "  Preparing metadata (setup.py) ... \u001b[?25l\u001b[?25hdone\n",
            "Requirement already satisfied: torch>=1.6.0 in /usr/local/lib/python3.10/dist-packages (from torch-specinv==0.2.1) (2.1.0+cu121)\n",
            "Requirement already satisfied: tqdm in /usr/local/lib/python3.10/dist-packages (from torch-specinv==0.2.1) (4.66.1)\n",
            "Requirement already satisfied: filelock in /usr/local/lib/python3.10/dist-packages (from torch>=1.6.0->torch-specinv==0.2.1) (3.13.1)\n",
            "Requirement already satisfied: typing-extensions in /usr/local/lib/python3.10/dist-packages (from torch>=1.6.0->torch-specinv==0.2.1) (4.5.0)\n",
            "Requirement already satisfied: sympy in /usr/local/lib/python3.10/dist-packages (from torch>=1.6.0->torch-specinv==0.2.1) (1.12)\n",
            "Requirement already satisfied: networkx in /usr/local/lib/python3.10/dist-packages (from torch>=1.6.0->torch-specinv==0.2.1) (3.2.1)\n",
            "Requirement already satisfied: jinja2 in /usr/local/lib/python3.10/dist-packages (from torch>=1.6.0->torch-specinv==0.2.1) (3.1.2)\n",
            "Requirement already satisfied: fsspec in /usr/local/lib/python3.10/dist-packages (from torch>=1.6.0->torch-specinv==0.2.1) (2023.6.0)\n",
            "Requirement already satisfied: triton==2.1.0 in /usr/local/lib/python3.10/dist-packages (from torch>=1.6.0->torch-specinv==0.2.1) (2.1.0)\n",
            "Requirement already satisfied: MarkupSafe>=2.0 in /usr/local/lib/python3.10/dist-packages (from jinja2->torch>=1.6.0->torch-specinv==0.2.1) (2.1.3)\n",
            "Requirement already satisfied: mpmath>=0.19 in /usr/local/lib/python3.10/dist-packages (from sympy->torch>=1.6.0->torch-specinv==0.2.1) (1.3.0)\n",
            "Building wheels for collected packages: torch-specinv\n",
            "  Building wheel for torch-specinv (setup.py) ... \u001b[?25l\u001b[?25hdone\n",
            "  Created wheel for torch-specinv: filename=torch_specinv-0.2.1-py3-none-any.whl size=8879 sha256=088c4b0a2a8fd53ac41f60dff8b173fbdf80060ae575343b51ca4b448f9a196e\n",
            "  Stored in directory: /tmp/pip-ephem-wheel-cache-njgc1e0q/wheels/bc/f0/f1/cc28fd9133a7b6ad8ac6837205f08a07d8680ed56938880f8a\n",
            "Successfully built torch-specinv\n",
            "Installing collected packages: torch-specinv\n",
            "Successfully installed torch-specinv-0.2.1\n"
          ]
        }
      ],
      "source": [
        "!pip install \"torch>=2.0<3.0\" #2.0.1\n",
        "!pip install pesq\n",
        "!pip install \"torchmetrics>=1.0<2.0\" #1.0.2\n",
        "!pip install \"keras>=2.0<3.0\" #2.12.0\n",
        "!pip install \"tensorflow>=2.0<3.0\" #2.12.0\n",
        "!pip install git+https://github.com/yoyololicon/spectrogram-inversion"
      ]
    },
    {
      "cell_type": "code",
      "execution_count": null,
      "metadata": {
        "id": "Ht06tnnFaLZH"
      },
      "outputs": [],
      "source": [
        "import torch\n",
        "from torchmetrics.audio import PerceptualEvaluationSpeechQuality\n",
        "from torch_specinv import griffin_lim, L_BFGS, RTISI_LA\n",
        "import keras\n",
        "from keras import layers\n",
        "from sklearn.model_selection import train_test_split\n",
        "import numpy as np"
      ]
    },
    {
      "cell_type": "code",
      "execution_count": null,
      "metadata": {
        "colab": {
          "base_uri": "https://localhost:8080/"
        },
        "id": "n9qh_4U0ojBM",
        "outputId": "453aee94-6a6f-40d6-9be0-d5bc3aeb7c17"
      },
      "outputs": [
        {
          "data": {
            "text/plain": [
              "tensor(2.2076)"
            ]
          },
          "execution_count": 4,
          "metadata": {},
          "output_type": "execute_result"
        }
      ],
      "source": [
        "import torch\n",
        "from torchmetrics.audio import PerceptualEvaluationSpeechQuality\n",
        "g = torch.manual_seed(1)\n",
        "preds = torch.randn(8000)\n",
        "target = torch.randn(8000)\n",
        "nb_pesq = PerceptualEvaluationSpeechQuality(8000, 'nb')\n",
        "nb_pesq(preds, target)"
      ]
    },
    {
      "cell_type": "code",
      "execution_count": null,
      "metadata": {
        "cellView": "form",
        "id": "CCZ2V4dzldDK"
      },
      "outputs": [],
      "source": [
        "#@title Biblioteca espectrograma\n",
        "%matplotlib inline\n",
        "import IPython.display\n",
        "from ipywidgets import interact, interactive, fixed\n",
        "\n",
        "# Packages we're using\n",
        "import numpy as np\n",
        "import matplotlib.pyplot as plt\n",
        "import copy\n",
        "from scipy.io import wavfile\n",
        "from scipy.signal import butter, lfilter\n",
        "import scipy.ndimage\n",
        "# Most of the Spectrograms and Inversion are taken from: https://gist.github.com/kastnerkyle/179d6e9a88202ab0a2fe\n",
        "\n",
        "\n",
        "def butter_bandpass(lowcut, highcut, fs, order=5):\n",
        "    nyq = 0.5 * fs\n",
        "    low = lowcut / nyq\n",
        "    high = highcut / nyq\n",
        "    b, a = butter(order, [low, high], btype=\"band\")\n",
        "    return b, a\n",
        "\n",
        "\n",
        "def butter_bandpass_filter(data, lowcut, highcut, fs, order=5):\n",
        "    b, a = butter_bandpass(lowcut, highcut, fs, order=order)\n",
        "    y = lfilter(b, a, data)\n",
        "    return y\n",
        "\n",
        "\n",
        "def overlap(X, window_size, window_step):\n",
        "    \"\"\"\n",
        "    Create an overlapped version of X\n",
        "    Parameters\n",
        "    ----------\n",
        "    X : ndarray, shape=(n_samples,)\n",
        "        Input signal to window and overlap\n",
        "    window_size : int\n",
        "        Size of windows to take\n",
        "    window_step : int\n",
        "        Step size between windows\n",
        "    Returns\n",
        "    -------\n",
        "    X_strided : shape=(n_windows, window_size)\n",
        "        2D array of overlapped X\n",
        "    \"\"\"\n",
        "    if window_size % 2 != 0:\n",
        "        raise ValueError(\"Window size must be even!\")\n",
        "    # Make sure there are an even number of windows before stridetricks\n",
        "    append = np.zeros((window_size - len(X) % window_size))\n",
        "    X = np.hstack((X, append))\n",
        "\n",
        "    ws = window_size\n",
        "    ss = window_step\n",
        "    a = X\n",
        "\n",
        "    valid = len(a) - ws\n",
        "    nw = (valid) // ss\n",
        "    out = np.ndarray((nw, ws), dtype=a.dtype)\n",
        "\n",
        "    for i in np.arange(nw):\n",
        "        # \"slide\" the window along the samples\n",
        "        start = i * ss\n",
        "        stop = start + ws\n",
        "        out[i] = a[start:stop]\n",
        "\n",
        "    return out\n",
        "\n",
        "\n",
        "def stft(\n",
        "    X, fftsize=128, step=65, mean_normalize=True, real=False, compute_onesided=True\n",
        "):\n",
        "    \"\"\"\n",
        "    Compute STFT for 1D real valued input X\n",
        "    \"\"\"\n",
        "    if real:\n",
        "        local_fft = np.fft.rfft\n",
        "        cut = -1\n",
        "    else:\n",
        "        local_fft = np.fft.fft\n",
        "        cut = None\n",
        "    if compute_onesided:\n",
        "        cut = fftsize // 2\n",
        "    if mean_normalize:\n",
        "        X -= X.mean()\n",
        "\n",
        "    X = overlap(X, fftsize, step)\n",
        "\n",
        "    size = fftsize\n",
        "    win = 0.54 - 0.46 * np.cos(2 * np.pi * np.arange(size) / (size - 1))\n",
        "    X = X * win[None]\n",
        "    X = local_fft(X)[:, :cut]\n",
        "    return X\n",
        "\n",
        "\n",
        "def pretty_spectrogram(d, log=True, thresh=5, fft_size=512, step_size=64):\n",
        "    \"\"\"\n",
        "    creates a spectrogram\n",
        "    log: take the log of the spectrgram\n",
        "    thresh: threshold minimum power for log spectrogram\n",
        "    \"\"\"\n",
        "    specgram = np.abs(\n",
        "        stft(d, fftsize=fft_size, step=step_size, real=False, compute_onesided=True)\n",
        "    )\n",
        "\n",
        "    if log == True:\n",
        "        specgram /= specgram.max()  # volume normalize to max 1\n",
        "        specgram = np.log10(specgram)  # take log\n",
        "        specgram[\n",
        "            specgram < -thresh\n",
        "        ] = -thresh  # set anything less than the threshold as the threshold\n",
        "    else:\n",
        "        specgram[\n",
        "            specgram < thresh\n",
        "        ] = thresh  # set anything less than the threshold as the threshold\n",
        "\n",
        "    return specgram\n",
        "\n",
        "\n",
        "# Also mostly modified or taken from https://gist.github.com/kastnerkyle/179d6e9a88202ab0a2fe\n",
        "def invert_pretty_spectrogram(\n",
        "    X_s, log=True, fft_size=512, step_size=512 / 4, n_iter=10\n",
        "):\n",
        "\n",
        "    if log == True:\n",
        "        X_s = np.power(10, X_s)\n",
        "\n",
        "    X_s = np.concatenate([X_s, X_s[:, ::-1]], axis=1)\n",
        "    X_t = iterate_invert_spectrogram(X_s, fft_size, step_size, n_iter=n_iter)\n",
        "    return X_t\n",
        "\n",
        "\n",
        "def iterate_invert_spectrogram(X_s, fftsize, step, n_iter=10, verbose=False):\n",
        "    \"\"\"\n",
        "    Under MSR-LA License\n",
        "    Based on MATLAB implementation from Spectrogram Inversion Toolbox\n",
        "    References\n",
        "    ----------\n",
        "    D. Griffin and J. Lim. Signal estimation from modified\n",
        "    short-time Fourier transform. IEEE Trans. Acoust. Speech\n",
        "    Signal Process., 32(2):236-243, 1984.\n",
        "    Malcolm Slaney, Daniel Naar and Richard F. Lyon. Auditory\n",
        "    Model Inversion for Sound Separation. Proc. IEEE-ICASSP,\n",
        "    Adelaide, 1994, II.77-80.\n",
        "    Xinglei Zhu, G. Beauregard, L. Wyse. Real-Time Signal\n",
        "    Estimation from Modified Short-Time Fourier Transform\n",
        "    Magnitude Spectra. IEEE Transactions on Audio Speech and\n",
        "    Language Processing, 08/2007.\n",
        "    \"\"\"\n",
        "    reg = np.max(X_s) / 1e8\n",
        "    X_best = copy.deepcopy(X_s)\n",
        "    for i in range(n_iter):\n",
        "        if verbose:\n",
        "            print(\"Runnning iter %i\" % i)\n",
        "        if i == 0:\n",
        "            X_t = invert_spectrogram(\n",
        "                X_best, step, calculate_offset=True, set_zero_phase=True\n",
        "            )\n",
        "        else:\n",
        "            # Calculate offset was False in the MATLAB version\n",
        "            # but in mine it massively improves the result\n",
        "            # Possible bug in my impl?\n",
        "            X_t = invert_spectrogram(\n",
        "                X_best, step, calculate_offset=True, set_zero_phase=False\n",
        "            )\n",
        "        est = stft(X_t, fftsize=fftsize, step=step, compute_onesided=False)\n",
        "        phase = est / np.maximum(reg, np.abs(est))\n",
        "        X_best = X_s * phase[: len(X_s)]\n",
        "    X_t = invert_spectrogram(X_best, step, calculate_offset=True, set_zero_phase=False)\n",
        "    return np.real(X_t)\n",
        "\n",
        "\n",
        "def invert_spectrogram(X_s, step, calculate_offset=True, set_zero_phase=True):\n",
        "    \"\"\"\n",
        "    Under MSR-LA License\n",
        "    Based on MATLAB implementation from Spectrogram Inversion Toolbox\n",
        "    References\n",
        "    ----------\n",
        "    D. Griffin and J. Lim. Signal estimation from modified\n",
        "    short-time Fourier transform. IEEE Trans. Acoust. Speech\n",
        "    Signal Process., 32(2):236-243, 1984.\n",
        "    Malcolm Slaney, Daniel Naar and Richard F. Lyon. Auditory\n",
        "    Model Inversion for Sound Separation. Proc. IEEE-ICASSP,\n",
        "    Adelaide, 1994, II.77-80.\n",
        "    Xinglei Zhu, G. Beauregard, L. Wyse. Real-Time Signal\n",
        "    Estimation from Modified Short-Time Fourier Transform\n",
        "    Magnitude Spectra. IEEE Transactions on Audio Speech and\n",
        "    Language Processing, 08/2007.\n",
        "    \"\"\"\n",
        "    size = int(X_s.shape[1] // 2)\n",
        "    wave = np.zeros((X_s.shape[0] * step + size))\n",
        "    # Getting overflow warnings with 32 bit...\n",
        "    wave = wave.astype(\"float64\")\n",
        "    total_windowing_sum = np.zeros((X_s.shape[0] * step + size))\n",
        "    win = 0.54 - 0.46 * np.cos(2 * np.pi * np.arange(size) / (size - 1))\n",
        "\n",
        "    est_start = int(size // 2) - 1\n",
        "    est_end = est_start + size\n",
        "    for i in range(X_s.shape[0]):\n",
        "        wave_start = int(step * i)\n",
        "        wave_end = wave_start + size\n",
        "        if set_zero_phase:\n",
        "            spectral_slice = X_s[i].real + 0j\n",
        "        else:\n",
        "            # already complex\n",
        "            spectral_slice = X_s[i]\n",
        "\n",
        "        # Don't need fftshift due to different impl.\n",
        "        wave_est = np.real(np.fft.ifft(spectral_slice))[::-1]\n",
        "        if calculate_offset and i > 0:\n",
        "            offset_size = size - step\n",
        "            if offset_size <= 0:\n",
        "                print(\n",
        "                    \"WARNING: Large step size >50\\% detected! \"\n",
        "                    \"This code works best with high overlap - try \"\n",
        "                    \"with 75% or greater\"\n",
        "                )\n",
        "                offset_size = step\n",
        "            offset = xcorr_offset(\n",
        "                wave[wave_start : wave_start + offset_size],\n",
        "                wave_est[est_start : est_start + offset_size],\n",
        "            )\n",
        "        else:\n",
        "            offset = 0\n",
        "        wave[wave_start:wave_end] += (\n",
        "            win * wave_est[est_start - offset : est_end - offset]\n",
        "        )\n",
        "        total_windowing_sum[wave_start:wave_end] += win\n",
        "    wave = np.real(wave) / (total_windowing_sum + 1e-6)\n",
        "    return wave\n",
        "\n",
        "def xcorr_offset(x1, x2):\n",
        "    \"\"\"\n",
        "    Under MSR-LA License\n",
        "    Based on MATLAB implementation from Spectrogram Inversion Toolbox\n",
        "    References\n",
        "    ----------\n",
        "    D. Griffin and J. Lim. Signal estimation from modified\n",
        "    short-time Fourier transform. IEEE Trans. Acoust. Speech\n",
        "    Signal Process., 32(2):236-243, 1984.\n",
        "    Malcolm Slaney, Daniel Naar and Richard F. Lyon. Auditory\n",
        "    Model Inversion for Sound Separation. Proc. IEEE-ICASSP,\n",
        "    Adelaide, 1994, II.77-80.\n",
        "    Xinglei Zhu, G. Beauregard, L. Wyse. Real-Time Signal\n",
        "    Estimation from Modified Short-Time Fourier Transform\n",
        "    Magnitude Spectra. IEEE Transactions on Audio Speech and\n",
        "    Language Processing, 08/2007.\n",
        "    \"\"\"\n",
        "    x1 = x1 - x1.mean()\n",
        "    x2 = x2 - x2.mean()\n",
        "    frame_size = len(x2)\n",
        "    half = frame_size // 2\n",
        "    corrs = np.convolve(x1.astype(\"float32\"), x2[::-1].astype(\"float32\"))\n",
        "    corrs[:half] = -1e30\n",
        "    corrs[-half:] = -1e30\n",
        "    offset = corrs.argmax() - len(x1)\n",
        "    return offset\n",
        "\n",
        "import scipy.io.wavfile as wav\n",
        "\n",
        "### Parameters ###\n",
        "fft_size = 512  # window size for the FFT\n",
        "step_size = fft_size // 16  # distance to slide along the window (in time)\n",
        "spec_thresh = 4  # threshold for spectrograms (lower filters out more noise)\n",
        "lowcut = 500  # Hz # Low cut for our butter bandpass filter\n",
        "highcut = 4000  # Hz # High cut for our butter bandpass filter\n",
        "# For mels\n",
        "n_mel_freq_components = 64  # number of mel frequency channels\n",
        "shorten_factor = 10  # how much should we compress the x-axis (time)\n",
        "start_freq = 50  # Hz # What frequency to start sampling our melS from\n",
        "end_freq = 4000\n",
        "audio_path='/content/free-spoken-digit-dataset/recordings/0_jackson_0.wav'\n",
        "data_rate, data = wav.read(audio_path)\n",
        "wav_spectrogram = pretty_spectrogram(\n",
        "data.astype(\"float64\"),\n",
        "fft_size=fft_size,\n",
        "step_size=step_size,\n",
        "log=True,\n",
        "thresh=spec_thresh,\n",
        ")\n",
        "\n",
        "# Invert from the spectrogram back to a waveform\n",
        "recovered_audio_orig = invert_pretty_spectrogram(\n",
        "    wav_spectrogram, fft_size=fft_size, step_size=step_size, log=True, n_iter=10\n",
        ")"
      ]
    },
    {
      "cell_type": "code",
      "execution_count": null,
      "metadata": {
        "id": "a7HfAJigbj86"
      },
      "outputs": [],
      "source": [
        "from os import listdir\n",
        "import scipy.io.wavfile as wav\n",
        "from os.path import isfile, join\n",
        "import librosa\n",
        "import librosa.display\n",
        "import numpy as np\n",
        "import time\n",
        "import matplotlib.pyplot as plt\n",
        "from sklearn.model_selection import train_test_split\n",
        "\n",
        "def create_specs(fft, time_long, step_size, log_ref, files_permutation):\n",
        "  audio_dir='/content/free-spoken-digit-dataset/recordings/'\n",
        "  file_names = [f for f in listdir(audio_dir) if isfile(join(audio_dir, f)) and '.wav' in f]\n",
        "  train_list = np.zeros([0,int(fft/2)+1,int(time_long/step_size)+1])\n",
        "  test_list = np.zeros([0,int(fft/2)+1,int(time_long/step_size)+1])\n",
        "\n",
        "  #sp_sz=2046\n",
        "  sp_sz = int(time_long)\n",
        "  i = 0\n",
        "\n",
        "  for file_name in file_names:\n",
        "    audio_path = audio_dir + file_name\n",
        "\n",
        "    sample_rate, samples = wav.read(audio_path)\n",
        "    samples = np.append(samples, np.random.randn(sp_sz-samples.shape[0]%sp_sz)*10, axis=0)\n",
        "    lala = np.transpose(pretty_spectrogram(samples.astype(\"float32\"),fft_size=fft,step_size=step_size,log=False))\n",
        "    y = torch.from_numpy(samples.astype(\"float32\"))\n",
        "    windowsize = 256\n",
        "    window = torch.hann_window(windowsize)\n",
        "    S = torch.stft(y, windowsize, window=window, return_complex=False)\n",
        "\n",
        "\n",
        "    # discard phase information\n",
        "    mag = S.pow(2).sum(2).sqrt()\n",
        "    ms = mag.numpy()\n",
        "    n_ms = samples.shape[0]//sp_sz\n",
        "    ms = np.expand_dims(librosa.power_to_db(ms,\n",
        "                                            ref=log_ref), axis=0)\n",
        "    lms = np.split(ms, n_ms, axis=2)\n",
        "\n",
        "    ms2 = np.concatenate(lms)\n",
        "    if files_permutation[i]<np.ceil(len(file_names)*0.8):\n",
        "      train_list = np.append(train_list,ms2,axis=0)\n",
        "    else:\n",
        "      test_list = np.append(test_list,ms2,axis=0)\n",
        "    i += 1\n",
        "  return train_list, test_list\n",
        "\n",
        "class specData():\n",
        "  def __init__(self,fft,time_long,fft_step_size_ratio,clip=1e0):\n",
        "    self.fft= fft\n",
        "    self.time_long = time_long\n",
        "    self.fft_step_size_ratio = fft_step_size_ratio\n",
        "    self.clip = clip\n",
        "  def set_clip(self,clip):\n",
        "    self.clip = clip"
      ]
    },
    {
      "cell_type": "code",
      "execution_count": null,
      "metadata": {
        "id": "mEPpBKy0bUYM"
      },
      "outputs": [],
      "source": [
        "# -*- coding: utf-8 -*-\n",
        "\"\"\"\n",
        "Created on Sat Jan 30 18:19:12 2021\n",
        "\n",
        "@author: barberot\n",
        "\"\"\"\n",
        "\n",
        "\n",
        "from __future__ import absolute_import\n",
        "from __future__ import division\n",
        "from __future__ import print_function\n",
        "import librosa\n",
        "import librosa.display\n",
        "import scipy.io.wavfile as wav\n",
        "from os import listdir\n",
        "from os.path import isfile, join\n",
        "import keras\n",
        "from keras.layers import Activation, Dense, Input, GaussianNoise\n",
        "from keras.layers import Conv2D, Flatten, BatchNormalization, Dropout\n",
        "from keras.layers import Reshape, Conv2DTranspose\n",
        "from keras.models import Model\n",
        "from keras import backend as K\n",
        "from keras.datasets import mnist\n",
        "import numpy as np\n",
        "from keras import regularizers\n",
        "np.random.seed(1337)\n",
        "import time\n",
        "from keras.models import model_from_json\n",
        "import scipy\n",
        "import sklearn\n",
        "import torch\n",
        "import torchmetrics\n",
        "from torchmetrics.audio import PerceptualEvaluationSpeechQuality\n",
        "class myautoencoder():\n",
        "  def __init__(self,compression_rate,spec, x_train, x_test, mode = 'conv', random_encoder = False, pretrain_encoder = False, encoder_w=None, std = 0, log_ref=1e-5):\n",
        "    self.mode = mode\n",
        "    self.time_long = int(spec.time_long)\n",
        "    #modif\n",
        "    self.x_train = x_train\n",
        "    self.x_test = x_test\n",
        "    self.fft = 256\n",
        "    self.step_size = 64\n",
        "    self.time = 1023\n",
        "    self.clip = spec.clip\n",
        "    self.encoder_w = encoder_w\n",
        "    image_size= self.x_train.shape\n",
        "    self.compression_rate = compression_rate\n",
        "    self.x_train = np.reshape(self.x_train, [-1, image_size[1], image_size[2], 1])\n",
        "    self.x_test = np.reshape(self.x_test, [-1, image_size[1], image_size[2], 1])\n",
        "    self.x_train = self.x_train.astype('float16') / self.clip\n",
        "    self.x_test = self.x_test.astype('float16') / self.clip\n",
        "    self.log_ref = log_ref\n",
        "\n",
        "    # Network parameters\n",
        "    input_shape = (image_size[1], image_size[2], 1)\n",
        "    self.batch_size = 32\n",
        "    kernel_size = (int(10*self.fft/512),int(5*self.time/16))\n",
        "    latent_dim =int(self.compression_rate*self.time_long)\n",
        "    # Encoder/Decoder number of CNN layers and filters per layer\n",
        "    layer_filters = [16, 32]\n",
        "\n",
        "    # Build the Autoencoder Model\n",
        "    # First build the Encoder Model\n",
        "    inputs = Input(shape=input_shape, name='encoder_input')\n",
        "    x = inputs\n",
        "    # Shape info needed to build Decoder Model\n",
        "    shape = K.int_shape(x)\n",
        "    if mode == 'conv':\n",
        "      shape = (None,int(self.fft/2)+1, int(self.time_long/self.step_size)+1,int(self.time_long/(self.step_size*2)))\n",
        "    else:\n",
        "      shape = (None,int(self.fft/2)+1, int(self.time_long/self.step_size)+1,1)\n",
        "    # Generate the latent vector\n",
        "    x = Flatten()(inputs)\n",
        "\n",
        "    self.layer = Dense(latent_dim, name='latent_vector')\n",
        "    latent = self.layer(x)\n",
        "    if pretrain_encoder == True:\n",
        "      self.layer.set_weights(self.encoder_w)\n",
        "      self.layer.trainable = False\n",
        "    if random_encoder == True:\n",
        "      self.layer.trainable = False\n",
        "    # Instantiate Encoder Model\n",
        "    encoder = Model(inputs, latent, name='encoder')\n",
        "    #encoder.summary()\n",
        "    # Build the Decoder Model\n",
        "    latent_inputs = Input(shape=(latent_dim,), name='decoder_input')\n",
        "    if self.mode == 'mlp':\n",
        "      x = Dense(500, activation=\"relu\")(x)\n",
        "      #x = Dropout(0.2)(x)\n",
        "      x = BatchNormalization()(x)\n",
        "      x = Dense(500, activation=\"relu\")(x)\n",
        "      #x = Dropout(0.2)(x)\n",
        "      x = BatchNormalization()(x)\n",
        "    x = Dense(shape[1] * shape[2] * shape[3])(latent_inputs)\n",
        "    x = Reshape((shape[1], shape[2], shape[3]))(x)\n",
        "    lp = x\n",
        "    '''\n",
        "    x = Conv2DTranspose(filters=1,\n",
        "                        kernel_size=(5,5),\n",
        "                        padding='same')(x)\n",
        "    '''\n",
        "    #x2 = x\n",
        "    # Stack of Transposed Conv2D blocks\n",
        "    # Notes:\n",
        "    # 1) Use Batch Normalization before ReLU on deep networks\n",
        "    # 2) Use UpSampling2D as alternative to strides>1\n",
        "    # - faster but not as good as strides>1\n",
        "\n",
        "    for filters in layer_filters[::-1]:\n",
        "        x = Conv2DTranspose(filters=filters,\n",
        "                            kernel_size=kernel_size,\n",
        "                            strides=(1,1),\n",
        "                            activation='relu',\n",
        "                            padding='same')(x)\n",
        "\n",
        "\n",
        "    conv = Conv2DTranspose(filters=1,\n",
        "                        kernel_size=kernel_size,\n",
        "                        padding='same')(x)\n",
        "\n",
        "    if self.mode == 'conv':\n",
        "      x2 = conv\n",
        "    elif self.mode == 'lp' or self.mode == 'mlp':\n",
        "      x2 = lp\n",
        "\n",
        "    outputs = Activation('sigmoid', name='decoder_output')(x2)\n",
        "\n",
        "    # Instantiate Decoder Model\n",
        "    decoder = Model(latent_inputs, outputs, name='decoder')\n",
        "    #decoder.summary()\n",
        "\n",
        "    # Autoencoder = Encoder + Decoder\n",
        "    # Instantiate Autoencoder Model\n",
        "    self.autoencoder = Model(inputs, decoder(encoder(inputs)), name='autoencoder')\n",
        "  def train(self, epochs, loss):\n",
        "    self.epochs = epochs\n",
        "    self.loss = loss\n",
        "    #autoencoder.summary()\n",
        "    sgd = keras.optimizers.Adam(lr=0.0001, beta_1=0.95, beta_2=0.999, amsgrad=False)\n",
        "    #sgd = keras.optimizers.RMSprop(lr=0.0001, rho=0.99)\n",
        "    self.autoencoder.compile(loss=self.loss, optimizer=sgd)\n",
        "\n",
        "    # Train the autoencoder\n",
        "    history = self.autoencoder.fit(x = self.x_train,\n",
        "                    y = self.x_train,\n",
        "                    validation_data=(self.x_test,self.x_test), verbose=1,\n",
        "                    epochs=self.epochs,\n",
        "                    batch_size=self.batch_size)\n",
        "    if self.mode == 'lp':\n",
        "      self.encoder_w=self.layer.get_weights()\n",
        "    # Plot training & validation loss values\n",
        "\n",
        "    return self.encoder_w, history\n",
        "  def save_autoencoder(self,files_name):\n",
        "#g = autoencoder\n",
        "      g2_json = self.autoencoder.to_json()\n",
        "\n",
        "      with open(files_name+\".json\", \"w\") as json_file:\n",
        "          json_file.write(g2_json)\n",
        "# serialize weights to HDF5\n",
        "      self.autoencoder.save_weights(files_name+\".h5\")\n",
        "      print(\"Saved autoencoder model  to disk\")\n",
        "\n",
        "  def load_autoencoder(self,files_name):\n",
        "\n",
        "      # load json and create model\n",
        "      json_file = open(files_name+\".json\", 'r')\n",
        "      loaded_model_json = json_file.read()\n",
        "      json_file.close()\n",
        "      self.autoencoder = model_from_json(loaded_model_json)\n",
        "      # load weights into new model\n",
        "      self.autoencoder.load_weights(files_name+\".h5\")\n",
        "      print(\"Loaded model g2 from disk\")\n",
        "  def audio_evaluation(self, num_audios, files_permutation):\n",
        "\n",
        "    sp_sz = int(self.time_long)\n",
        "    loss1 = np.zeros(num_audios,)\n",
        "    loss2 = np.zeros(num_audios,)\n",
        "    loss3 = np.zeros(num_audios,)\n",
        "    loss4 = []\n",
        "    SMSE = []\n",
        "    p = []\n",
        "    pearson = []\n",
        "    pearson_s = []\n",
        "    SNR = np.zeros(num_audios,)\n",
        "    t0 = time.time()\n",
        "    total_specs=0\n",
        "    audio_dir='/content/free-spoken-digit-dataset/recordings/'\n",
        "    file_names = [f for f in listdir(audio_dir) if isfile(join(audio_dir, f)) and '.wav' in f]\n",
        "    for i in range(num_audios):\n",
        "\n",
        "      audio_path = audio_dir + file_names[files_permutation[int(i+np.ceil(len(file_names)*.8))]]\n",
        "      sample_rate, samples = wav.read(audio_path)\n",
        "      samples = np.append(samples, np.random.randn(sp_sz-samples.shape[0]%sp_sz)*10, axis=0)\n",
        "\n",
        "      y = torch.from_numpy(samples.astype(\"float32\"))\n",
        "      windowsize = 256\n",
        "      window = torch.hann_window(windowsize)\n",
        "      S = torch.stft(y, windowsize, window=window, return_complex=False)\n",
        "      mag = S.pow(2).sum(2).sqrt()\n",
        "      num = mag.numpy()\n",
        "\n",
        "      ms=librosa.power_to_db(num, ref=self.log_ref)\n",
        "      n_ms = samples.shape[0]//sp_sz\n",
        "      ms2 = np.expand_dims(ms, axis=0)\n",
        "      lms = np.split(ms2, n_ms, axis=2)\n",
        "      ms2 = np.concatenate(lms)\n",
        "      msrs = np.reshape(ms2/self.clip, [-1, ms2.shape[1], ms2.shape[2], 1])\n",
        "\n",
        "\n",
        "      #decrypt\n",
        "      x_decoded = self.autoencoder.predict(msrs)\n",
        "      lms = np.split(x_decoded, x_decoded.shape[0], axis=0)\n",
        "      x_decoded2 = np.concatenate(lms,axis=2)\n",
        "      x_decoded3 = np.reshape(x_decoded2, [ x_decoded2.shape[1], x_decoded2.shape[2]])*self.clip\n",
        "      comp3 = librosa.core.db_to_power(x_decoded3, ref=self.log_ref)\n",
        "      #print('shape', num.shape)\n",
        "\n",
        "\n",
        "\n",
        "      try:\n",
        "        yhat = griffin_lim(torch.from_numpy(comp3), maxiter=100, alpha=0.3, window=window)\n",
        "        #mag = trsfn(y)\n",
        "      #yhat = RTISI_LA(mag, look_ahead=-1, asymmetric_window=False, max_iter=25,\n",
        "      #alpha=0.99, verbose=1)\n",
        "\n",
        "        # check convergence\n",
        "\n",
        "        g = torch.manual_seed(1)\n",
        "        preds = torch.from_numpy(samples)\n",
        "        nb_pesq = PerceptualEvaluationSpeechQuality(8000, 'nb')\n",
        "        yhatn=yhat.numpy()\n",
        "        pesq_value = nb_pesq(yhat.type('torch.ShortTensor'), preds[:yhatn.shape[0]]).float()\n",
        "        p.append(pesq_value)\n",
        "\n",
        "        b =  pretty_spectrogram(samples[:yhatn.shape[0]].astype(\"float32\")\n",
        "            ,fft_size=self.fft,step_size=self.step_size,log=False)\n",
        "        c =  pretty_spectrogram(yhatn.astype(\"float32\")\n",
        "          ,fft_size=self.fft,step_size=self.step_size,log=False)\n",
        "        pearson_s.append(scipy.stats.pearsonr(b.reshape(-1),c.reshape(-1)).statistic)\n",
        "        pearson.append(scipy.stats.pearsonr(samples[:yhatn.shape[0]],yhatn).statistic)\n",
        "        p.append(pesq_value)\n",
        "        SMSE.append(np.linalg.norm(b-c)/np.linalg.norm(b))\n",
        "\n",
        "      except:\n",
        "        pass\n",
        "\n",
        "    print('PESQ',sum(p)/len(p))\n",
        "    print('PEARSON SPECTRAL',sum(pearson_s)/len(pearson_s))\n",
        "    print('PEARSON',sum(pearson)/len(pearson))\n",
        "    print('SMSE',sum(SMSE)/len(SMSE))\n"
      ]
    },
    {
      "cell_type": "code",
      "execution_count": null,
      "metadata": {
        "id": "imifN5J9oFXs"
      },
      "outputs": [],
      "source": []
    },
    {
      "cell_type": "code",
      "execution_count": null,
      "metadata": {
        "colab": {
          "base_uri": "https://localhost:8080/"
        },
        "id": "7BCdfQgpao3O",
        "outputId": "06e1c34d-5766-477f-c9d7-9c0bbaa72a3e"
      },
      "outputs": [
        {
          "output_type": "stream",
          "name": "stderr",
          "text": [
            "/usr/local/lib/python3.10/dist-packages/torch/functional.py:641: UserWarning: stft with return_complex=False is deprecated. In a future pytorch release, stft will return complex tensors for all inputs, and return_complex=False will raise an error.\n",
            "Note: you can still call torch.view_as_real on the complex output to recover the old return format. (Triggered internally at ../aten/src/ATen/native/SpectralOps.cpp:862.)\n",
            "  return _VF.stft(input, n_fft, hop_length, win_length, window,  # type: ignore[attr-defined]\n"
          ]
        }
      ],
      "source": [
        "fft = 256\n",
        "time_long = 1023\n",
        "\n",
        "step_size = 64\n",
        "fft_step_size_ratio = int(fft/step_size)\n",
        "log_ref = 5e-0\n",
        "audio_dir='/content/free-spoken-digit-dataset/recordings/'\n",
        "file_names = [f for f in listdir(audio_dir) if isfile(join(audio_dir, f)) and '.wav' in f]\n",
        "files_permutation = np.random.permutation(len(file_names))\n",
        "\n",
        "X_train, X_test = create_specs(fft=fft, time_long=time_long, step_size= step_size, log_ref= log_ref,files_permutation=files_permutation)\n",
        "spec = specData(fft,time_long,fft_step_size_ratio)\n",
        "clip=np.ceil(np.amax(X_train))\n",
        "spec.set_clip(clip)"
      ]
    },
    {
      "cell_type": "code",
      "execution_count": null,
      "metadata": {
        "colab": {
          "base_uri": "https://localhost:8080/"
        },
        "id": "XaE1qEgJbsEI",
        "outputId": "332902dc-e218-45f9-9dd7-98c1d1c85bc3"
      },
      "outputs": [
        {
          "output_type": "stream",
          "name": "stderr",
          "text": [
            "WARNING:absl:`lr` is deprecated in Keras optimizer, please use `learning_rate` or use the legacy optimizer, e.g.,tf.keras.optimizers.legacy.Adam.\n"
          ]
        },
        {
          "output_type": "stream",
          "name": "stdout",
          "text": [
            "Epoch 1/500\n",
            "296/296 [==============================] - 6s 5ms/step - loss: 0.0209 - val_loss: 0.0161\n",
            "Epoch 2/500\n",
            "296/296 [==============================] - 1s 3ms/step - loss: 0.0124 - val_loss: 0.0123\n",
            "Epoch 3/500\n",
            "296/296 [==============================] - 1s 5ms/step - loss: 0.0079 - val_loss: 0.0067\n",
            "Epoch 4/500\n",
            "296/296 [==============================] - 2s 5ms/step - loss: 0.0061 - val_loss: 0.0073\n",
            "Epoch 5/500\n",
            "296/296 [==============================] - 1s 4ms/step - loss: 0.0050 - val_loss: 0.0047\n",
            "Epoch 6/500\n",
            "296/296 [==============================] - 1s 3ms/step - loss: 0.0044 - val_loss: 0.0042\n",
            "Epoch 7/500\n",
            "296/296 [==============================] - 1s 3ms/step - loss: 0.0041 - val_loss: 0.0041\n",
            "Epoch 8/500\n",
            "296/296 [==============================] - 1s 3ms/step - loss: 0.0040 - val_loss: 0.0038\n",
            "Epoch 9/500\n",
            "296/296 [==============================] - 1s 3ms/step - loss: 0.0039 - val_loss: 0.0038\n",
            "Epoch 10/500\n",
            "296/296 [==============================] - 1s 3ms/step - loss: 0.0038 - val_loss: 0.0036\n",
            "Epoch 11/500\n",
            "296/296 [==============================] - 1s 3ms/step - loss: 0.0036 - val_loss: 0.0039\n",
            "Epoch 12/500\n",
            "296/296 [==============================] - 1s 3ms/step - loss: 0.0037 - val_loss: 0.0035\n",
            "Epoch 13/500\n",
            "296/296 [==============================] - 1s 3ms/step - loss: 0.0036 - val_loss: 0.0035\n",
            "Epoch 14/500\n",
            "296/296 [==============================] - 1s 3ms/step - loss: 0.0035 - val_loss: 0.0034\n",
            "Epoch 15/500\n",
            "296/296 [==============================] - 1s 5ms/step - loss: 0.0034 - val_loss: 0.0034\n",
            "Epoch 16/500\n",
            "296/296 [==============================] - 2s 5ms/step - loss: 0.0034 - val_loss: 0.0033\n",
            "Epoch 17/500\n",
            "296/296 [==============================] - 1s 3ms/step - loss: 0.0033 - val_loss: 0.0033\n",
            "Epoch 18/500\n",
            "296/296 [==============================] - 1s 4ms/step - loss: 0.0033 - val_loss: 0.0033\n",
            "Epoch 19/500\n",
            "296/296 [==============================] - 1s 4ms/step - loss: 0.0033 - val_loss: 0.0033\n",
            "Epoch 20/500\n",
            "296/296 [==============================] - 1s 3ms/step - loss: 0.0033 - val_loss: 0.0033\n",
            "Epoch 21/500\n",
            "296/296 [==============================] - 1s 3ms/step - loss: 0.0032 - val_loss: 0.0033\n",
            "Epoch 22/500\n",
            "296/296 [==============================] - 1s 3ms/step - loss: 0.0032 - val_loss: 0.0033\n",
            "Epoch 23/500\n",
            "296/296 [==============================] - 1s 3ms/step - loss: 0.0033 - val_loss: 0.0033\n",
            "Epoch 24/500\n",
            "296/296 [==============================] - 1s 3ms/step - loss: 0.0032 - val_loss: 0.0033\n",
            "Epoch 25/500\n",
            "296/296 [==============================] - 1s 3ms/step - loss: 0.0032 - val_loss: 0.0032\n",
            "Epoch 26/500\n",
            "296/296 [==============================] - 1s 4ms/step - loss: 0.0032 - val_loss: 0.0032\n",
            "Epoch 27/500\n",
            "296/296 [==============================] - 2s 5ms/step - loss: 0.0031 - val_loss: 0.0032\n",
            "Epoch 28/500\n",
            "296/296 [==============================] - 1s 4ms/step - loss: 0.0031 - val_loss: 0.0035\n",
            "Epoch 29/500\n",
            "296/296 [==============================] - 1s 3ms/step - loss: 0.0031 - val_loss: 0.0032\n",
            "Epoch 30/500\n",
            "296/296 [==============================] - 1s 3ms/step - loss: 0.0031 - val_loss: 0.0032\n",
            "Epoch 31/500\n",
            "296/296 [==============================] - 1s 3ms/step - loss: 0.0036 - val_loss: 0.0034\n",
            "Epoch 32/500\n",
            "296/296 [==============================] - 1s 4ms/step - loss: 0.0031 - val_loss: 0.0031\n",
            "Epoch 33/500\n",
            "296/296 [==============================] - 1s 3ms/step - loss: 0.0031 - val_loss: 0.0033\n",
            "Epoch 34/500\n",
            "296/296 [==============================] - 1s 3ms/step - loss: 0.0031 - val_loss: 0.0033\n",
            "Epoch 35/500\n",
            "296/296 [==============================] - 1s 3ms/step - loss: 0.0031 - val_loss: 0.0031\n",
            "Epoch 36/500\n",
            "296/296 [==============================] - 1s 3ms/step - loss: 0.0030 - val_loss: 0.0031\n",
            "Epoch 37/500\n",
            "296/296 [==============================] - 1s 3ms/step - loss: 0.0030 - val_loss: 0.0031\n",
            "Epoch 38/500\n",
            "296/296 [==============================] - 2s 6ms/step - loss: 0.0030 - val_loss: 0.0033\n",
            "Epoch 39/500\n",
            "296/296 [==============================] - 2s 6ms/step - loss: 0.0031 - val_loss: 0.0031\n",
            "Epoch 40/500\n",
            "296/296 [==============================] - 1s 3ms/step - loss: 0.0030 - val_loss: 0.0032\n",
            "Epoch 41/500\n",
            "296/296 [==============================] - 1s 3ms/step - loss: 0.0031 - val_loss: 0.0031\n",
            "Epoch 42/500\n",
            "296/296 [==============================] - 1s 3ms/step - loss: 0.0031 - val_loss: 0.0031\n",
            "Epoch 43/500\n",
            "296/296 [==============================] - 1s 3ms/step - loss: 0.0031 - val_loss: 0.0030\n",
            "Epoch 44/500\n",
            "296/296 [==============================] - 1s 3ms/step - loss: 0.0030 - val_loss: 0.0030\n",
            "Epoch 45/500\n",
            "296/296 [==============================] - 1s 3ms/step - loss: 0.0030 - val_loss: 0.0031\n",
            "Epoch 46/500\n",
            "296/296 [==============================] - 1s 3ms/step - loss: 0.0030 - val_loss: 0.0031\n",
            "Epoch 47/500\n",
            "296/296 [==============================] - 1s 3ms/step - loss: 0.0030 - val_loss: 0.0030\n",
            "Epoch 48/500\n",
            "296/296 [==============================] - 1s 3ms/step - loss: 0.0031 - val_loss: 0.0031\n",
            "Epoch 49/500\n",
            "296/296 [==============================] - 1s 4ms/step - loss: 0.0030 - val_loss: 0.0030\n",
            "Epoch 50/500\n",
            "296/296 [==============================] - 1s 5ms/step - loss: 0.0030 - val_loss: 0.0030\n",
            "Epoch 51/500\n",
            "296/296 [==============================] - 1s 4ms/step - loss: 0.0030 - val_loss: 0.0032\n",
            "Epoch 52/500\n",
            "296/296 [==============================] - 1s 3ms/step - loss: 0.0030 - val_loss: 0.0039\n",
            "Epoch 53/500\n",
            "296/296 [==============================] - 1s 4ms/step - loss: 0.0031 - val_loss: 0.0030\n",
            "Epoch 54/500\n",
            "296/296 [==============================] - 1s 3ms/step - loss: 0.0030 - val_loss: 0.0030\n",
            "Epoch 55/500\n",
            "296/296 [==============================] - 1s 3ms/step - loss: 0.0030 - val_loss: 0.0030\n",
            "Epoch 56/500\n",
            "296/296 [==============================] - 1s 3ms/step - loss: 0.0030 - val_loss: 0.0030\n",
            "Epoch 57/500\n",
            "296/296 [==============================] - 1s 3ms/step - loss: 0.0030 - val_loss: 0.0030\n",
            "Epoch 58/500\n",
            "296/296 [==============================] - 1s 3ms/step - loss: 0.0030 - val_loss: 0.0030\n",
            "Epoch 59/500\n",
            "296/296 [==============================] - 1s 3ms/step - loss: 0.0030 - val_loss: 0.0032\n",
            "Epoch 60/500\n",
            "296/296 [==============================] - 1s 3ms/step - loss: 0.0030 - val_loss: 0.0030\n",
            "Epoch 61/500\n",
            "296/296 [==============================] - 1s 4ms/step - loss: 0.0031 - val_loss: 0.0030\n",
            "Epoch 62/500\n",
            "296/296 [==============================] - 2s 5ms/step - loss: 0.0030 - val_loss: 0.0030\n",
            "Epoch 63/500\n",
            "296/296 [==============================] - 1s 4ms/step - loss: 0.0030 - val_loss: 0.0030\n",
            "Epoch 64/500\n",
            "296/296 [==============================] - 1s 4ms/step - loss: 0.0030 - val_loss: 0.0030\n",
            "Epoch 65/500\n",
            "296/296 [==============================] - 1s 3ms/step - loss: 0.0030 - val_loss: 0.0030\n",
            "Epoch 66/500\n",
            "296/296 [==============================] - 1s 3ms/step - loss: 0.0030 - val_loss: 0.0030\n",
            "Epoch 67/500\n",
            "296/296 [==============================] - 1s 4ms/step - loss: 0.0030 - val_loss: 0.0030\n",
            "Epoch 68/500\n",
            "296/296 [==============================] - 1s 4ms/step - loss: 0.0031 - val_loss: 0.0031\n",
            "Epoch 69/500\n",
            "296/296 [==============================] - 1s 3ms/step - loss: 0.0030 - val_loss: 0.0030\n",
            "Epoch 70/500\n",
            "296/296 [==============================] - 1s 4ms/step - loss: 0.0030 - val_loss: 0.0030\n",
            "Epoch 71/500\n",
            "296/296 [==============================] - 1s 4ms/step - loss: 0.0030 - val_loss: 0.0030\n",
            "Epoch 72/500\n",
            "296/296 [==============================] - 1s 4ms/step - loss: 0.0030 - val_loss: 0.0031\n",
            "Epoch 73/500\n",
            "296/296 [==============================] - 1s 5ms/step - loss: 0.0030 - val_loss: 0.0030\n",
            "Epoch 74/500\n",
            "296/296 [==============================] - 1s 5ms/step - loss: 0.0030 - val_loss: 0.0031\n",
            "Epoch 75/500\n",
            "296/296 [==============================] - 1s 3ms/step - loss: 0.0030 - val_loss: 0.0030\n",
            "Epoch 76/500\n",
            "296/296 [==============================] - 1s 3ms/step - loss: 0.0030 - val_loss: 0.0030\n",
            "Epoch 77/500\n",
            "296/296 [==============================] - 1s 3ms/step - loss: 0.0030 - val_loss: 0.0030\n",
            "Epoch 78/500\n",
            "296/296 [==============================] - 1s 3ms/step - loss: 0.0030 - val_loss: 0.0030\n",
            "Epoch 79/500\n",
            "296/296 [==============================] - 1s 3ms/step - loss: 0.0030 - val_loss: 0.0031\n",
            "Epoch 80/500\n",
            "296/296 [==============================] - 1s 3ms/step - loss: 0.0030 - val_loss: 0.0030\n",
            "Epoch 81/500\n",
            "296/296 [==============================] - 1s 3ms/step - loss: 0.0030 - val_loss: 0.0030\n",
            "Epoch 82/500\n",
            "296/296 [==============================] - 1s 3ms/step - loss: 0.0030 - val_loss: 0.0030\n",
            "Epoch 83/500\n",
            "296/296 [==============================] - 1s 3ms/step - loss: 0.0029 - val_loss: 0.0030\n",
            "Epoch 84/500\n",
            "296/296 [==============================] - 1s 4ms/step - loss: 0.0030 - val_loss: 0.0030\n",
            "Epoch 85/500\n",
            "296/296 [==============================] - 2s 5ms/step - loss: 0.0030 - val_loss: 0.0032\n",
            "Epoch 86/500\n",
            "296/296 [==============================] - 1s 5ms/step - loss: 0.0030 - val_loss: 0.0030\n",
            "Epoch 87/500\n",
            "296/296 [==============================] - 1s 3ms/step - loss: 0.0029 - val_loss: 0.0031\n",
            "Epoch 88/500\n",
            "296/296 [==============================] - 1s 3ms/step - loss: 0.0030 - val_loss: 0.0030\n",
            "Epoch 89/500\n",
            "296/296 [==============================] - 1s 3ms/step - loss: 0.0030 - val_loss: 0.0030\n",
            "Epoch 90/500\n",
            "296/296 [==============================] - 1s 3ms/step - loss: 0.0030 - val_loss: 0.0030\n",
            "Epoch 91/500\n",
            "296/296 [==============================] - 1s 3ms/step - loss: 0.0030 - val_loss: 0.0030\n",
            "Epoch 92/500\n",
            "296/296 [==============================] - 1s 4ms/step - loss: 0.0030 - val_loss: 0.0031\n",
            "Epoch 93/500\n",
            "296/296 [==============================] - 1s 3ms/step - loss: 0.0030 - val_loss: 0.0030\n",
            "Epoch 94/500\n",
            "296/296 [==============================] - 1s 4ms/step - loss: 0.0029 - val_loss: 0.0031\n",
            "Epoch 95/500\n",
            "296/296 [==============================] - 1s 4ms/step - loss: 0.0030 - val_loss: 0.0030\n",
            "Epoch 96/500\n",
            "296/296 [==============================] - 1s 4ms/step - loss: 0.0029 - val_loss: 0.0031\n",
            "Epoch 97/500\n",
            "296/296 [==============================] - 3s 9ms/step - loss: 0.0030 - val_loss: 0.0030\n",
            "Epoch 98/500\n",
            "296/296 [==============================] - 1s 3ms/step - loss: 0.0029 - val_loss: 0.0030\n",
            "Epoch 99/500\n",
            "296/296 [==============================] - 1s 3ms/step - loss: 0.0029 - val_loss: 0.0031\n",
            "Epoch 100/500\n",
            "296/296 [==============================] - 1s 3ms/step - loss: 0.0030 - val_loss: 0.0030\n",
            "Epoch 101/500\n",
            "296/296 [==============================] - 1s 3ms/step - loss: 0.0030 - val_loss: 0.0030\n",
            "Epoch 102/500\n",
            "296/296 [==============================] - 1s 3ms/step - loss: 0.0029 - val_loss: 0.0030\n",
            "Epoch 103/500\n",
            "296/296 [==============================] - 1s 3ms/step - loss: 0.0031 - val_loss: 0.0030\n",
            "Epoch 104/500\n",
            "296/296 [==============================] - 1s 3ms/step - loss: 0.0029 - val_loss: 0.0030\n",
            "Epoch 105/500\n",
            "296/296 [==============================] - 1s 3ms/step - loss: 0.0029 - val_loss: 0.0030\n",
            "Epoch 106/500\n",
            "296/296 [==============================] - 1s 4ms/step - loss: 0.0030 - val_loss: 0.0030\n",
            "Epoch 107/500\n",
            "296/296 [==============================] - 1s 5ms/step - loss: 0.0030 - val_loss: 0.0030\n",
            "Epoch 108/500\n",
            "296/296 [==============================] - 1s 5ms/step - loss: 0.0029 - val_loss: 0.0030\n",
            "Epoch 109/500\n",
            "296/296 [==============================] - 1s 4ms/step - loss: 0.0030 - val_loss: 0.0030\n",
            "Epoch 110/500\n",
            "296/296 [==============================] - 1s 3ms/step - loss: 0.0029 - val_loss: 0.0031\n",
            "Epoch 111/500\n",
            "296/296 [==============================] - 1s 3ms/step - loss: 0.0030 - val_loss: 0.0030\n",
            "Epoch 112/500\n",
            "296/296 [==============================] - 1s 4ms/step - loss: 0.0030 - val_loss: 0.0030\n",
            "Epoch 113/500\n",
            "296/296 [==============================] - 1s 3ms/step - loss: 0.0029 - val_loss: 0.0030\n",
            "Epoch 114/500\n",
            "296/296 [==============================] - 1s 4ms/step - loss: 0.0030 - val_loss: 0.0034\n",
            "Epoch 115/500\n",
            "296/296 [==============================] - 1s 3ms/step - loss: 0.0030 - val_loss: 0.0031\n",
            "Epoch 116/500\n",
            "296/296 [==============================] - 1s 4ms/step - loss: 0.0029 - val_loss: 0.0031\n",
            "Epoch 117/500\n",
            "296/296 [==============================] - 1s 4ms/step - loss: 0.0029 - val_loss: 0.0030\n",
            "Epoch 118/500\n",
            "296/296 [==============================] - 1s 4ms/step - loss: 0.0029 - val_loss: 0.0030\n",
            "Epoch 119/500\n",
            "296/296 [==============================] - 2s 5ms/step - loss: 0.0030 - val_loss: 0.0030\n",
            "Epoch 120/500\n",
            "296/296 [==============================] - 2s 5ms/step - loss: 0.0030 - val_loss: 0.0030\n",
            "Epoch 121/500\n",
            "296/296 [==============================] - 1s 3ms/step - loss: 0.0029 - val_loss: 0.0030\n",
            "Epoch 122/500\n",
            "296/296 [==============================] - 1s 4ms/step - loss: 0.0029 - val_loss: 0.0030\n",
            "Epoch 123/500\n",
            "296/296 [==============================] - 1s 4ms/step - loss: 0.0029 - val_loss: 0.0030\n",
            "Epoch 124/500\n",
            "296/296 [==============================] - 1s 4ms/step - loss: 0.0030 - val_loss: 0.0030\n",
            "Epoch 125/500\n",
            "296/296 [==============================] - 1s 3ms/step - loss: 0.0030 - val_loss: 0.0030\n",
            "Epoch 126/500\n",
            "296/296 [==============================] - 1s 4ms/step - loss: 0.0030 - val_loss: 0.0030\n",
            "Epoch 127/500\n",
            "296/296 [==============================] - 1s 3ms/step - loss: 0.0029 - val_loss: 0.0030\n",
            "Epoch 128/500\n",
            "296/296 [==============================] - 1s 4ms/step - loss: 0.0029 - val_loss: 0.0030\n",
            "Epoch 129/500\n",
            "296/296 [==============================] - 1s 4ms/step - loss: 0.0029 - val_loss: 0.0030\n",
            "Epoch 130/500\n",
            "296/296 [==============================] - 1s 5ms/step - loss: 0.0029 - val_loss: 0.0031\n",
            "Epoch 131/500\n",
            "296/296 [==============================] - 2s 5ms/step - loss: 0.0030 - val_loss: 0.0030\n",
            "Epoch 132/500\n",
            "296/296 [==============================] - 1s 4ms/step - loss: 0.0029 - val_loss: 0.0030\n",
            "Epoch 133/500\n",
            "296/296 [==============================] - 1s 5ms/step - loss: 0.0029 - val_loss: 0.0030\n",
            "Epoch 134/500\n",
            "296/296 [==============================] - 1s 4ms/step - loss: 0.0029 - val_loss: 0.0030\n",
            "Epoch 135/500\n",
            "296/296 [==============================] - 1s 3ms/step - loss: 0.0030 - val_loss: 0.0031\n",
            "Epoch 136/500\n",
            "296/296 [==============================] - 1s 3ms/step - loss: 0.0030 - val_loss: 0.0030\n",
            "Epoch 137/500\n",
            "296/296 [==============================] - 1s 4ms/step - loss: 0.0029 - val_loss: 0.0030\n",
            "Epoch 138/500\n",
            "296/296 [==============================] - 1s 3ms/step - loss: 0.0029 - val_loss: 0.0030\n",
            "Epoch 139/500\n",
            "296/296 [==============================] - 1s 4ms/step - loss: 0.0029 - val_loss: 0.0030\n",
            "Epoch 140/500\n",
            "296/296 [==============================] - 1s 3ms/step - loss: 0.0029 - val_loss: 0.0030\n",
            "Epoch 141/500\n",
            "296/296 [==============================] - 1s 4ms/step - loss: 0.0029 - val_loss: 0.0032\n",
            "Epoch 142/500\n",
            "296/296 [==============================] - 2s 5ms/step - loss: 0.0030 - val_loss: 0.0030\n",
            "Epoch 143/500\n",
            "296/296 [==============================] - 1s 4ms/step - loss: 0.0029 - val_loss: 0.0030\n",
            "Epoch 144/500\n",
            "296/296 [==============================] - 1s 4ms/step - loss: 0.0029 - val_loss: 0.0030\n",
            "Epoch 145/500\n",
            "296/296 [==============================] - 1s 4ms/step - loss: 0.0029 - val_loss: 0.0030\n",
            "Epoch 146/500\n",
            "296/296 [==============================] - 1s 4ms/step - loss: 0.0029 - val_loss: 0.0031\n",
            "Epoch 147/500\n",
            "296/296 [==============================] - 1s 3ms/step - loss: 0.0029 - val_loss: 0.0030\n",
            "Epoch 148/500\n",
            "296/296 [==============================] - 1s 3ms/step - loss: 0.0029 - val_loss: 0.0030\n",
            "Epoch 149/500\n",
            "296/296 [==============================] - 1s 3ms/step - loss: 0.0029 - val_loss: 0.0030\n",
            "Epoch 150/500\n",
            "296/296 [==============================] - 1s 3ms/step - loss: 0.0029 - val_loss: 0.0031\n",
            "Epoch 151/500\n",
            "296/296 [==============================] - 1s 3ms/step - loss: 0.0029 - val_loss: 0.0031\n",
            "Epoch 152/500\n",
            "296/296 [==============================] - 1s 4ms/step - loss: 0.0029 - val_loss: 0.0030\n",
            "Epoch 153/500\n",
            "296/296 [==============================] - 2s 5ms/step - loss: 0.0030 - val_loss: 0.0030\n",
            "Epoch 154/500\n",
            "296/296 [==============================] - 1s 4ms/step - loss: 0.0029 - val_loss: 0.0030\n",
            "Epoch 155/500\n",
            "296/296 [==============================] - 1s 4ms/step - loss: 0.0029 - val_loss: 0.0030\n",
            "Epoch 156/500\n",
            "296/296 [==============================] - 1s 4ms/step - loss: 0.0030 - val_loss: 0.0030\n",
            "Epoch 157/500\n",
            "296/296 [==============================] - 1s 3ms/step - loss: 0.0029 - val_loss: 0.0031\n",
            "Epoch 158/500\n",
            "296/296 [==============================] - 1s 3ms/step - loss: 0.0029 - val_loss: 0.0033\n",
            "Epoch 159/500\n",
            "296/296 [==============================] - 1s 3ms/step - loss: 0.0029 - val_loss: 0.0030\n",
            "Epoch 160/500\n",
            "296/296 [==============================] - 1s 3ms/step - loss: 0.0030 - val_loss: 0.0030\n",
            "Epoch 161/500\n",
            "296/296 [==============================] - 1s 4ms/step - loss: 0.0029 - val_loss: 0.0031\n",
            "Epoch 162/500\n",
            "296/296 [==============================] - 1s 3ms/step - loss: 0.0029 - val_loss: 0.0030\n",
            "Epoch 163/500\n",
            "296/296 [==============================] - 1s 4ms/step - loss: 0.0030 - val_loss: 0.0033\n",
            "Epoch 164/500\n",
            "296/296 [==============================] - 1s 5ms/step - loss: 0.0029 - val_loss: 0.0030\n",
            "Epoch 165/500\n",
            "296/296 [==============================] - 2s 5ms/step - loss: 0.0029 - val_loss: 0.0030\n",
            "Epoch 166/500\n",
            "296/296 [==============================] - 1s 4ms/step - loss: 0.0029 - val_loss: 0.0030\n",
            "Epoch 167/500\n",
            "296/296 [==============================] - 1s 3ms/step - loss: 0.0029 - val_loss: 0.0030\n",
            "Epoch 168/500\n",
            "296/296 [==============================] - 1s 4ms/step - loss: 0.0029 - val_loss: 0.0030\n",
            "Epoch 169/500\n",
            "296/296 [==============================] - 1s 4ms/step - loss: 0.0030 - val_loss: 0.0030\n",
            "Epoch 170/500\n",
            "296/296 [==============================] - 1s 3ms/step - loss: 0.0029 - val_loss: 0.0030\n",
            "Epoch 171/500\n",
            "296/296 [==============================] - 1s 3ms/step - loss: 0.0029 - val_loss: 0.0030\n",
            "Epoch 172/500\n",
            "296/296 [==============================] - 1s 4ms/step - loss: 0.0029 - val_loss: 0.0030\n",
            "Epoch 173/500\n",
            "296/296 [==============================] - 1s 4ms/step - loss: 0.0029 - val_loss: 0.0030\n",
            "Epoch 174/500\n",
            "296/296 [==============================] - 1s 3ms/step - loss: 0.0029 - val_loss: 0.0031\n",
            "Epoch 175/500\n",
            "296/296 [==============================] - 1s 4ms/step - loss: 0.0029 - val_loss: 0.0030\n",
            "Epoch 176/500\n",
            "296/296 [==============================] - 1s 5ms/step - loss: 0.0029 - val_loss: 0.0030\n",
            "Epoch 177/500\n",
            "296/296 [==============================] - 1s 5ms/step - loss: 0.0029 - val_loss: 0.0031\n",
            "Epoch 178/500\n",
            "296/296 [==============================] - 1s 4ms/step - loss: 0.0029 - val_loss: 0.0030\n",
            "Epoch 179/500\n",
            "296/296 [==============================] - 1s 4ms/step - loss: 0.0029 - val_loss: 0.0030\n",
            "Epoch 180/500\n",
            "296/296 [==============================] - 1s 4ms/step - loss: 0.0029 - val_loss: 0.0030\n",
            "Epoch 181/500\n",
            "296/296 [==============================] - 1s 4ms/step - loss: 0.0029 - val_loss: 0.0031\n",
            "Epoch 182/500\n",
            "296/296 [==============================] - 1s 4ms/step - loss: 0.0029 - val_loss: 0.0030\n",
            "Epoch 183/500\n",
            "296/296 [==============================] - 1s 4ms/step - loss: 0.0029 - val_loss: 0.0030\n",
            "Epoch 184/500\n",
            "296/296 [==============================] - 1s 4ms/step - loss: 0.0029 - val_loss: 0.0030\n",
            "Epoch 185/500\n",
            "296/296 [==============================] - 1s 3ms/step - loss: 0.0029 - val_loss: 0.0030\n",
            "Epoch 186/500\n",
            "296/296 [==============================] - 1s 3ms/step - loss: 0.0029 - val_loss: 0.0031\n",
            "Epoch 187/500\n",
            "296/296 [==============================] - 1s 5ms/step - loss: 0.0030 - val_loss: 0.0030\n",
            "Epoch 188/500\n",
            "296/296 [==============================] - 2s 5ms/step - loss: 0.0029 - val_loss: 0.0030\n",
            "Epoch 189/500\n",
            "296/296 [==============================] - 1s 4ms/step - loss: 0.0029 - val_loss: 0.0030\n",
            "Epoch 190/500\n",
            "296/296 [==============================] - 1s 4ms/step - loss: 0.0029 - val_loss: 0.0030\n",
            "Epoch 191/500\n",
            "296/296 [==============================] - 1s 4ms/step - loss: 0.0029 - val_loss: 0.0031\n",
            "Epoch 192/500\n",
            "296/296 [==============================] - 1s 4ms/step - loss: 0.0029 - val_loss: 0.0030\n",
            "Epoch 193/500\n",
            "296/296 [==============================] - 1s 4ms/step - loss: 0.0029 - val_loss: 0.0031\n",
            "Epoch 194/500\n",
            "296/296 [==============================] - 1s 4ms/step - loss: 0.0029 - val_loss: 0.0030\n",
            "Epoch 195/500\n",
            "296/296 [==============================] - 1s 4ms/step - loss: 0.0029 - val_loss: 0.0030\n",
            "Epoch 196/500\n",
            "296/296 [==============================] - 1s 4ms/step - loss: 0.0029 - val_loss: 0.0030\n",
            "Epoch 197/500\n",
            "296/296 [==============================] - 1s 3ms/step - loss: 0.0029 - val_loss: 0.0031\n",
            "Epoch 198/500\n",
            "296/296 [==============================] - 1s 5ms/step - loss: 0.0029 - val_loss: 0.0030\n",
            "Epoch 199/500\n",
            "296/296 [==============================] - 2s 5ms/step - loss: 0.0029 - val_loss: 0.0030\n",
            "Epoch 200/500\n",
            "296/296 [==============================] - 1s 4ms/step - loss: 0.0029 - val_loss: 0.0030\n",
            "Epoch 201/500\n",
            "296/296 [==============================] - 1s 4ms/step - loss: 0.0029 - val_loss: 0.0030\n",
            "Epoch 202/500\n",
            "296/296 [==============================] - 1s 4ms/step - loss: 0.0029 - val_loss: 0.0030\n",
            "Epoch 203/500\n",
            "296/296 [==============================] - 1s 4ms/step - loss: 0.0029 - val_loss: 0.0030\n",
            "Epoch 204/500\n",
            "296/296 [==============================] - 1s 3ms/step - loss: 0.0029 - val_loss: 0.0030\n",
            "Epoch 205/500\n",
            "296/296 [==============================] - 1s 4ms/step - loss: 0.0029 - val_loss: 0.0030\n",
            "Epoch 206/500\n",
            "296/296 [==============================] - 1s 3ms/step - loss: 0.0029 - val_loss: 0.0030\n",
            "Epoch 207/500\n",
            "296/296 [==============================] - 1s 4ms/step - loss: 0.0029 - val_loss: 0.0030\n",
            "Epoch 208/500\n",
            "296/296 [==============================] - 1s 4ms/step - loss: 0.0029 - val_loss: 0.0030\n",
            "Epoch 209/500\n",
            "296/296 [==============================] - 1s 4ms/step - loss: 0.0030 - val_loss: 0.0030\n",
            "Epoch 210/500\n",
            "296/296 [==============================] - 1s 5ms/step - loss: 0.0029 - val_loss: 0.0030\n",
            "Epoch 211/500\n",
            "296/296 [==============================] - 1s 4ms/step - loss: 0.0029 - val_loss: 0.0030\n",
            "Epoch 212/500\n",
            "296/296 [==============================] - 1s 4ms/step - loss: 0.0029 - val_loss: 0.0030\n",
            "Epoch 213/500\n",
            "296/296 [==============================] - 1s 4ms/step - loss: 0.0029 - val_loss: 0.0030\n",
            "Epoch 214/500\n",
            "296/296 [==============================] - 1s 4ms/step - loss: 0.0029 - val_loss: 0.0030\n",
            "Epoch 215/500\n",
            "296/296 [==============================] - 1s 3ms/step - loss: 0.0029 - val_loss: 0.0030\n",
            "Epoch 216/500\n",
            "296/296 [==============================] - 1s 3ms/step - loss: 0.0029 - val_loss: 0.0030\n",
            "Epoch 217/500\n",
            "296/296 [==============================] - 1s 3ms/step - loss: 0.0029 - val_loss: 0.0030\n",
            "Epoch 218/500\n",
            "296/296 [==============================] - 1s 3ms/step - loss: 0.0029 - val_loss: 0.0030\n",
            "Epoch 219/500\n",
            "296/296 [==============================] - 1s 3ms/step - loss: 0.0029 - val_loss: 0.0030\n",
            "Epoch 220/500\n",
            "296/296 [==============================] - 1s 3ms/step - loss: 0.0029 - val_loss: 0.0030\n",
            "Epoch 221/500\n",
            "296/296 [==============================] - 1s 5ms/step - loss: 0.0029 - val_loss: 0.0030\n",
            "Epoch 222/500\n",
            "296/296 [==============================] - 2s 5ms/step - loss: 0.0029 - val_loss: 0.0030\n",
            "Epoch 223/500\n",
            "296/296 [==============================] - 1s 4ms/step - loss: 0.0029 - val_loss: 0.0030\n",
            "Epoch 224/500\n",
            "296/296 [==============================] - 1s 3ms/step - loss: 0.0029 - val_loss: 0.0030\n",
            "Epoch 225/500\n",
            "296/296 [==============================] - 1s 4ms/step - loss: 0.0029 - val_loss: 0.0030\n",
            "Epoch 226/500\n",
            "296/296 [==============================] - 1s 3ms/step - loss: 0.0029 - val_loss: 0.0031\n",
            "Epoch 227/500\n",
            "296/296 [==============================] - 1s 3ms/step - loss: 0.0029 - val_loss: 0.0030\n",
            "Epoch 228/500\n",
            "296/296 [==============================] - 1s 3ms/step - loss: 0.0030 - val_loss: 0.0030\n",
            "Epoch 229/500\n",
            "296/296 [==============================] - 1s 4ms/step - loss: 0.0029 - val_loss: 0.0030\n",
            "Epoch 230/500\n",
            "296/296 [==============================] - 1s 4ms/step - loss: 0.0029 - val_loss: 0.0030\n",
            "Epoch 231/500\n",
            "296/296 [==============================] - 1s 4ms/step - loss: 0.0029 - val_loss: 0.0030\n",
            "Epoch 232/500\n",
            "296/296 [==============================] - 1s 4ms/step - loss: 0.0029 - val_loss: 0.0030\n",
            "Epoch 233/500\n",
            "296/296 [==============================] - 2s 5ms/step - loss: 0.0029 - val_loss: 0.0030\n",
            "Epoch 234/500\n",
            "296/296 [==============================] - 1s 4ms/step - loss: 0.0029 - val_loss: 0.0030\n",
            "Epoch 235/500\n",
            "296/296 [==============================] - 1s 4ms/step - loss: 0.0029 - val_loss: 0.0030\n",
            "Epoch 236/500\n",
            "296/296 [==============================] - 1s 4ms/step - loss: 0.0029 - val_loss: 0.0030\n",
            "Epoch 237/500\n",
            "296/296 [==============================] - 1s 4ms/step - loss: 0.0029 - val_loss: 0.0030\n",
            "Epoch 238/500\n",
            "296/296 [==============================] - 1s 3ms/step - loss: 0.0029 - val_loss: 0.0030\n",
            "Epoch 239/500\n",
            "296/296 [==============================] - 1s 4ms/step - loss: 0.0029 - val_loss: 0.0030\n",
            "Epoch 240/500\n",
            "296/296 [==============================] - 1s 4ms/step - loss: 0.0029 - val_loss: 0.0030\n",
            "Epoch 241/500\n",
            "296/296 [==============================] - 1s 4ms/step - loss: 0.0030 - val_loss: 0.0030\n",
            "Epoch 242/500\n",
            "296/296 [==============================] - 1s 4ms/step - loss: 0.0029 - val_loss: 0.0030\n",
            "Epoch 243/500\n",
            "296/296 [==============================] - 1s 4ms/step - loss: 0.0029 - val_loss: 0.0030\n",
            "Epoch 244/500\n",
            "296/296 [==============================] - 2s 5ms/step - loss: 0.0029 - val_loss: 0.0031\n",
            "Epoch 245/500\n",
            "296/296 [==============================] - 2s 5ms/step - loss: 0.0029 - val_loss: 0.0030\n",
            "Epoch 246/500\n",
            "296/296 [==============================] - 1s 3ms/step - loss: 0.0029 - val_loss: 0.0030\n",
            "Epoch 247/500\n",
            "296/296 [==============================] - 1s 4ms/step - loss: 0.0029 - val_loss: 0.0030\n",
            "Epoch 248/500\n",
            "296/296 [==============================] - 1s 4ms/step - loss: 0.0029 - val_loss: 0.0030\n",
            "Epoch 249/500\n",
            "296/296 [==============================] - 1s 4ms/step - loss: 0.0029 - val_loss: 0.0030\n",
            "Epoch 250/500\n",
            "296/296 [==============================] - 1s 3ms/step - loss: 0.0029 - val_loss: 0.0030\n",
            "Epoch 251/500\n",
            "296/296 [==============================] - 1s 4ms/step - loss: 0.0029 - val_loss: 0.0030\n",
            "Epoch 252/500\n",
            "296/296 [==============================] - 1s 4ms/step - loss: 0.0029 - val_loss: 0.0030\n",
            "Epoch 253/500\n",
            "296/296 [==============================] - 1s 4ms/step - loss: 0.0029 - val_loss: 0.0030\n",
            "Epoch 254/500\n",
            "296/296 [==============================] - 1s 4ms/step - loss: 0.0029 - val_loss: 0.0030\n",
            "Epoch 255/500\n",
            "296/296 [==============================] - 1s 4ms/step - loss: 0.0029 - val_loss: 0.0030\n",
            "Epoch 256/500\n",
            "296/296 [==============================] - 2s 5ms/step - loss: 0.0029 - val_loss: 0.0030\n",
            "Epoch 257/500\n",
            "296/296 [==============================] - 1s 4ms/step - loss: 0.0029 - val_loss: 0.0030\n",
            "Epoch 258/500\n",
            "296/296 [==============================] - 1s 3ms/step - loss: 0.0029 - val_loss: 0.0030\n",
            "Epoch 259/500\n",
            "296/296 [==============================] - 1s 3ms/step - loss: 0.0029 - val_loss: 0.0030\n",
            "Epoch 260/500\n",
            "296/296 [==============================] - 1s 3ms/step - loss: 0.0029 - val_loss: 0.0030\n",
            "Epoch 261/500\n",
            "296/296 [==============================] - 1s 3ms/step - loss: 0.0029 - val_loss: 0.0030\n",
            "Epoch 262/500\n",
            "296/296 [==============================] - 1s 4ms/step - loss: 0.0029 - val_loss: 0.0030\n",
            "Epoch 263/500\n",
            "296/296 [==============================] - 1s 3ms/step - loss: 0.0029 - val_loss: 0.0030\n",
            "Epoch 264/500\n",
            "296/296 [==============================] - 1s 4ms/step - loss: 0.0029 - val_loss: 0.0030\n",
            "Epoch 265/500\n",
            "296/296 [==============================] - 1s 3ms/step - loss: 0.0029 - val_loss: 0.0030\n",
            "Epoch 266/500\n",
            "296/296 [==============================] - 1s 3ms/step - loss: 0.0029 - val_loss: 0.0030\n",
            "Epoch 267/500\n",
            "296/296 [==============================] - 1s 5ms/step - loss: 0.0029 - val_loss: 0.0030\n",
            "Epoch 268/500\n",
            "296/296 [==============================] - 1s 5ms/step - loss: 0.0029 - val_loss: 0.0030\n",
            "Epoch 269/500\n",
            "296/296 [==============================] - 1s 4ms/step - loss: 0.0029 - val_loss: 0.0030\n",
            "Epoch 270/500\n",
            "296/296 [==============================] - 1s 3ms/step - loss: 0.0029 - val_loss: 0.0030\n",
            "Epoch 271/500\n",
            "296/296 [==============================] - 1s 3ms/step - loss: 0.0029 - val_loss: 0.0030\n",
            "Epoch 272/500\n",
            "296/296 [==============================] - 1s 3ms/step - loss: 0.0029 - val_loss: 0.0030\n",
            "Epoch 273/500\n",
            "296/296 [==============================] - 1s 3ms/step - loss: 0.0029 - val_loss: 0.0030\n",
            "Epoch 274/500\n",
            "296/296 [==============================] - 1s 3ms/step - loss: 0.0029 - val_loss: 0.0030\n",
            "Epoch 275/500\n",
            "296/296 [==============================] - 1s 3ms/step - loss: 0.0029 - val_loss: 0.0030\n",
            "Epoch 276/500\n",
            "296/296 [==============================] - 1s 3ms/step - loss: 0.0029 - val_loss: 0.0031\n",
            "Epoch 277/500\n",
            "296/296 [==============================] - 1s 3ms/step - loss: 0.0029 - val_loss: 0.0030\n",
            "Epoch 278/500\n",
            "296/296 [==============================] - 1s 4ms/step - loss: 0.0029 - val_loss: 0.0030\n",
            "Epoch 279/500\n",
            "296/296 [==============================] - 2s 5ms/step - loss: 0.0030 - val_loss: 0.0032\n",
            "Epoch 280/500\n",
            "296/296 [==============================] - 1s 5ms/step - loss: 0.0029 - val_loss: 0.0030\n",
            "Epoch 281/500\n",
            "296/296 [==============================] - 1s 4ms/step - loss: 0.0029 - val_loss: 0.0030\n",
            "Epoch 282/500\n",
            "296/296 [==============================] - 1s 4ms/step - loss: 0.0029 - val_loss: 0.0030\n",
            "Epoch 283/500\n",
            "296/296 [==============================] - 1s 3ms/step - loss: 0.0029 - val_loss: 0.0030\n",
            "Epoch 284/500\n",
            "296/296 [==============================] - 1s 3ms/step - loss: 0.0029 - val_loss: 0.0030\n",
            "Epoch 285/500\n",
            "296/296 [==============================] - 1s 4ms/step - loss: 0.0029 - val_loss: 0.0030\n",
            "Epoch 286/500\n",
            "296/296 [==============================] - 1s 4ms/step - loss: 0.0029 - val_loss: 0.0030\n",
            "Epoch 287/500\n",
            "296/296 [==============================] - 1s 4ms/step - loss: 0.0029 - val_loss: 0.0030\n",
            "Epoch 288/500\n",
            "296/296 [==============================] - 1s 4ms/step - loss: 0.0029 - val_loss: 0.0030\n",
            "Epoch 289/500\n",
            "296/296 [==============================] - 1s 4ms/step - loss: 0.0029 - val_loss: 0.0030\n",
            "Epoch 290/500\n",
            "296/296 [==============================] - 1s 5ms/step - loss: 0.0029 - val_loss: 0.0030\n",
            "Epoch 291/500\n",
            "296/296 [==============================] - 2s 5ms/step - loss: 0.0029 - val_loss: 0.0030\n",
            "Epoch 292/500\n",
            "296/296 [==============================] - 1s 4ms/step - loss: 0.0029 - val_loss: 0.0030\n",
            "Epoch 293/500\n",
            "296/296 [==============================] - 1s 3ms/step - loss: 0.0030 - val_loss: 0.0030\n",
            "Epoch 294/500\n",
            "296/296 [==============================] - 1s 4ms/step - loss: 0.0029 - val_loss: 0.0030\n",
            "Epoch 295/500\n",
            "296/296 [==============================] - 1s 3ms/step - loss: 0.0029 - val_loss: 0.0030\n",
            "Epoch 296/500\n",
            "296/296 [==============================] - 1s 3ms/step - loss: 0.0029 - val_loss: 0.0030\n",
            "Epoch 297/500\n",
            "296/296 [==============================] - 1s 4ms/step - loss: 0.0029 - val_loss: 0.0030\n",
            "Epoch 298/500\n",
            "296/296 [==============================] - 1s 4ms/step - loss: 0.0029 - val_loss: 0.0030\n",
            "Epoch 299/500\n",
            "296/296 [==============================] - 1s 4ms/step - loss: 0.0029 - val_loss: 0.0030\n",
            "Epoch 300/500\n",
            "296/296 [==============================] - 1s 4ms/step - loss: 0.0029 - val_loss: 0.0030\n",
            "Epoch 301/500\n",
            "296/296 [==============================] - 1s 5ms/step - loss: 0.0029 - val_loss: 0.0031\n",
            "Epoch 302/500\n",
            "296/296 [==============================] - 2s 5ms/step - loss: 0.0029 - val_loss: 0.0030\n",
            "Epoch 303/500\n",
            "296/296 [==============================] - 1s 4ms/step - loss: 0.0029 - val_loss: 0.0031\n",
            "Epoch 304/500\n",
            "296/296 [==============================] - 1s 4ms/step - loss: 0.0029 - val_loss: 0.0030\n",
            "Epoch 305/500\n",
            "296/296 [==============================] - 1s 4ms/step - loss: 0.0029 - val_loss: 0.0030\n",
            "Epoch 306/500\n",
            "296/296 [==============================] - 1s 4ms/step - loss: 0.0029 - val_loss: 0.0030\n",
            "Epoch 307/500\n",
            "296/296 [==============================] - 1s 4ms/step - loss: 0.0029 - val_loss: 0.0030\n",
            "Epoch 308/500\n",
            "296/296 [==============================] - 1s 3ms/step - loss: 0.0029 - val_loss: 0.0030\n",
            "Epoch 309/500\n",
            "296/296 [==============================] - 1s 4ms/step - loss: 0.0029 - val_loss: 0.0030\n",
            "Epoch 310/500\n",
            "296/296 [==============================] - 1s 4ms/step - loss: 0.0029 - val_loss: 0.0030\n",
            "Epoch 311/500\n",
            "296/296 [==============================] - 1s 4ms/step - loss: 0.0029 - val_loss: 0.0030\n",
            "Epoch 312/500\n",
            "296/296 [==============================] - 1s 4ms/step - loss: 0.0029 - val_loss: 0.0030\n",
            "Epoch 313/500\n",
            "296/296 [==============================] - 1s 5ms/step - loss: 0.0029 - val_loss: 0.0030\n",
            "Epoch 314/500\n",
            "296/296 [==============================] - 1s 5ms/step - loss: 0.0029 - val_loss: 0.0030\n",
            "Epoch 315/500\n",
            "296/296 [==============================] - 1s 4ms/step - loss: 0.0029 - val_loss: 0.0030\n",
            "Epoch 316/500\n",
            "296/296 [==============================] - 1s 4ms/step - loss: 0.0029 - val_loss: 0.0030\n",
            "Epoch 317/500\n",
            "296/296 [==============================] - 1s 4ms/step - loss: 0.0029 - val_loss: 0.0030\n",
            "Epoch 318/500\n",
            "296/296 [==============================] - 1s 4ms/step - loss: 0.0029 - val_loss: 0.0030\n",
            "Epoch 319/500\n",
            "296/296 [==============================] - 1s 3ms/step - loss: 0.0029 - val_loss: 0.0030\n",
            "Epoch 320/500\n",
            "296/296 [==============================] - 1s 4ms/step - loss: 0.0029 - val_loss: 0.0030\n",
            "Epoch 321/500\n",
            "296/296 [==============================] - 1s 3ms/step - loss: 0.0029 - val_loss: 0.0030\n",
            "Epoch 322/500\n",
            "296/296 [==============================] - 1s 4ms/step - loss: 0.0029 - val_loss: 0.0030\n",
            "Epoch 323/500\n",
            "296/296 [==============================] - 1s 4ms/step - loss: 0.0029 - val_loss: 0.0030\n",
            "Epoch 324/500\n",
            "296/296 [==============================] - 1s 5ms/step - loss: 0.0029 - val_loss: 0.0030\n",
            "Epoch 325/500\n",
            "296/296 [==============================] - 2s 6ms/step - loss: 0.0029 - val_loss: 0.0030\n",
            "Epoch 326/500\n",
            "296/296 [==============================] - 1s 4ms/step - loss: 0.0029 - val_loss: 0.0030\n",
            "Epoch 327/500\n",
            "296/296 [==============================] - 1s 4ms/step - loss: 0.0029 - val_loss: 0.0030\n",
            "Epoch 328/500\n",
            "296/296 [==============================] - 1s 4ms/step - loss: 0.0029 - val_loss: 0.0030\n",
            "Epoch 329/500\n",
            "296/296 [==============================] - 1s 4ms/step - loss: 0.0029 - val_loss: 0.0030\n",
            "Epoch 330/500\n",
            "296/296 [==============================] - 1s 4ms/step - loss: 0.0029 - val_loss: 0.0030\n",
            "Epoch 331/500\n",
            "296/296 [==============================] - 1s 4ms/step - loss: 0.0029 - val_loss: 0.0030\n",
            "Epoch 332/500\n",
            "296/296 [==============================] - 1s 4ms/step - loss: 0.0029 - val_loss: 0.0030\n",
            "Epoch 333/500\n",
            "296/296 [==============================] - 1s 4ms/step - loss: 0.0029 - val_loss: 0.0030\n",
            "Epoch 334/500\n",
            "296/296 [==============================] - 1s 4ms/step - loss: 0.0029 - val_loss: 0.0030\n",
            "Epoch 335/500\n",
            "296/296 [==============================] - 1s 5ms/step - loss: 0.0029 - val_loss: 0.0030\n",
            "Epoch 336/500\n",
            "296/296 [==============================] - 2s 6ms/step - loss: 0.0029 - val_loss: 0.0030\n",
            "Epoch 337/500\n",
            "296/296 [==============================] - 1s 4ms/step - loss: 0.0029 - val_loss: 0.0030\n",
            "Epoch 338/500\n",
            "296/296 [==============================] - 1s 4ms/step - loss: 0.0029 - val_loss: 0.0030\n",
            "Epoch 339/500\n",
            "296/296 [==============================] - 1s 4ms/step - loss: 0.0029 - val_loss: 0.0030\n",
            "Epoch 340/500\n",
            "296/296 [==============================] - 1s 4ms/step - loss: 0.0029 - val_loss: 0.0030\n",
            "Epoch 341/500\n",
            "296/296 [==============================] - 1s 3ms/step - loss: 0.0029 - val_loss: 0.0030\n",
            "Epoch 342/500\n",
            "296/296 [==============================] - 1s 4ms/step - loss: 0.0029 - val_loss: 0.0030\n",
            "Epoch 343/500\n",
            "296/296 [==============================] - 1s 3ms/step - loss: 0.0029 - val_loss: 0.0030\n",
            "Epoch 344/500\n",
            "296/296 [==============================] - 1s 4ms/step - loss: 0.0029 - val_loss: 0.0030\n",
            "Epoch 345/500\n",
            "296/296 [==============================] - 1s 4ms/step - loss: 0.0029 - val_loss: 0.0030\n",
            "Epoch 346/500\n",
            "296/296 [==============================] - 1s 5ms/step - loss: 0.0029 - val_loss: 0.0030\n",
            "Epoch 347/500\n",
            "296/296 [==============================] - 2s 5ms/step - loss: 0.0029 - val_loss: 0.0030\n",
            "Epoch 348/500\n",
            "296/296 [==============================] - 1s 4ms/step - loss: 0.0029 - val_loss: 0.0030\n",
            "Epoch 349/500\n",
            "296/296 [==============================] - 1s 4ms/step - loss: 0.0029 - val_loss: 0.0030\n",
            "Epoch 350/500\n",
            "296/296 [==============================] - 1s 4ms/step - loss: 0.0029 - val_loss: 0.0030\n",
            "Epoch 351/500\n",
            "296/296 [==============================] - 1s 4ms/step - loss: 0.0029 - val_loss: 0.0030\n",
            "Epoch 352/500\n",
            "296/296 [==============================] - 1s 4ms/step - loss: 0.0029 - val_loss: 0.0030\n",
            "Epoch 353/500\n",
            "296/296 [==============================] - 1s 4ms/step - loss: 0.0029 - val_loss: 0.0030\n",
            "Epoch 354/500\n",
            "296/296 [==============================] - 1s 4ms/step - loss: 0.0029 - val_loss: 0.0030\n",
            "Epoch 355/500\n",
            "296/296 [==============================] - 1s 4ms/step - loss: 0.0029 - val_loss: 0.0030\n",
            "Epoch 356/500\n",
            "296/296 [==============================] - 1s 4ms/step - loss: 0.0029 - val_loss: 0.0030\n",
            "Epoch 357/500\n",
            "296/296 [==============================] - 2s 5ms/step - loss: 0.0029 - val_loss: 0.0030\n",
            "Epoch 358/500\n",
            "296/296 [==============================] - 2s 5ms/step - loss: 0.0029 - val_loss: 0.0030\n",
            "Epoch 359/500\n",
            "296/296 [==============================] - 1s 4ms/step - loss: 0.0029 - val_loss: 0.0032\n",
            "Epoch 360/500\n",
            "296/296 [==============================] - 1s 4ms/step - loss: 0.0029 - val_loss: 0.0030\n",
            "Epoch 361/500\n",
            "296/296 [==============================] - 1s 4ms/step - loss: 0.0029 - val_loss: 0.0030\n",
            "Epoch 362/500\n",
            "296/296 [==============================] - 1s 4ms/step - loss: 0.0029 - val_loss: 0.0030\n",
            "Epoch 363/500\n",
            "296/296 [==============================] - 1s 4ms/step - loss: 0.0029 - val_loss: 0.0032\n",
            "Epoch 364/500\n",
            "296/296 [==============================] - 1s 4ms/step - loss: 0.0029 - val_loss: 0.0030\n",
            "Epoch 365/500\n",
            "296/296 [==============================] - 1s 4ms/step - loss: 0.0029 - val_loss: 0.0031\n",
            "Epoch 366/500\n",
            "296/296 [==============================] - 1s 4ms/step - loss: 0.0029 - val_loss: 0.0030\n",
            "Epoch 367/500\n",
            "296/296 [==============================] - 1s 4ms/step - loss: 0.0029 - val_loss: 0.0030\n",
            "Epoch 368/500\n",
            "296/296 [==============================] - 1s 5ms/step - loss: 0.0029 - val_loss: 0.0030\n",
            "Epoch 369/500\n",
            "296/296 [==============================] - 1s 5ms/step - loss: 0.0029 - val_loss: 0.0030\n",
            "Epoch 370/500\n",
            "296/296 [==============================] - 1s 4ms/step - loss: 0.0029 - val_loss: 0.0030\n",
            "Epoch 371/500\n",
            "296/296 [==============================] - 1s 4ms/step - loss: 0.0029 - val_loss: 0.0030\n",
            "Epoch 372/500\n",
            "296/296 [==============================] - 1s 4ms/step - loss: 0.0029 - val_loss: 0.0030\n",
            "Epoch 373/500\n",
            "296/296 [==============================] - 1s 4ms/step - loss: 0.0029 - val_loss: 0.0030\n",
            "Epoch 374/500\n",
            "296/296 [==============================] - 1s 4ms/step - loss: 0.0029 - val_loss: 0.0030\n",
            "Epoch 375/500\n",
            "296/296 [==============================] - 1s 4ms/step - loss: 0.0029 - val_loss: 0.0030\n",
            "Epoch 376/500\n",
            "296/296 [==============================] - 1s 4ms/step - loss: 0.0029 - val_loss: 0.0030\n",
            "Epoch 377/500\n",
            "296/296 [==============================] - 1s 4ms/step - loss: 0.0029 - val_loss: 0.0030\n",
            "Epoch 378/500\n",
            "296/296 [==============================] - 1s 4ms/step - loss: 0.0029 - val_loss: 0.0030\n",
            "Epoch 379/500\n",
            "296/296 [==============================] - 1s 5ms/step - loss: 0.0029 - val_loss: 0.0031\n",
            "Epoch 380/500\n",
            "296/296 [==============================] - 2s 6ms/step - loss: 0.0029 - val_loss: 0.0030\n",
            "Epoch 381/500\n",
            "296/296 [==============================] - 1s 4ms/step - loss: 0.0029 - val_loss: 0.0030\n",
            "Epoch 382/500\n",
            "296/296 [==============================] - 1s 4ms/step - loss: 0.0029 - val_loss: 0.0030\n",
            "Epoch 383/500\n",
            "296/296 [==============================] - 1s 4ms/step - loss: 0.0029 - val_loss: 0.0030\n",
            "Epoch 384/500\n",
            "296/296 [==============================] - 1s 4ms/step - loss: 0.0029 - val_loss: 0.0030\n",
            "Epoch 385/500\n",
            "296/296 [==============================] - 1s 4ms/step - loss: 0.0029 - val_loss: 0.0030\n",
            "Epoch 386/500\n",
            "296/296 [==============================] - 1s 4ms/step - loss: 0.0029 - val_loss: 0.0030\n",
            "Epoch 387/500\n",
            "296/296 [==============================] - 1s 4ms/step - loss: 0.0029 - val_loss: 0.0030\n",
            "Epoch 388/500\n",
            "296/296 [==============================] - 1s 4ms/step - loss: 0.0029 - val_loss: 0.0030\n",
            "Epoch 389/500\n",
            "296/296 [==============================] - 1s 4ms/step - loss: 0.0029 - val_loss: 0.0030\n",
            "Epoch 390/500\n",
            "296/296 [==============================] - 1s 5ms/step - loss: 0.0029 - val_loss: 0.0030\n",
            "Epoch 391/500\n",
            "296/296 [==============================] - 2s 5ms/step - loss: 0.0029 - val_loss: 0.0030\n",
            "Epoch 392/500\n",
            "296/296 [==============================] - 1s 4ms/step - loss: 0.0029 - val_loss: 0.0030\n",
            "Epoch 393/500\n",
            "296/296 [==============================] - 1s 4ms/step - loss: 0.0029 - val_loss: 0.0030\n",
            "Epoch 394/500\n",
            "296/296 [==============================] - 1s 4ms/step - loss: 0.0029 - val_loss: 0.0030\n",
            "Epoch 395/500\n",
            "296/296 [==============================] - 1s 4ms/step - loss: 0.0029 - val_loss: 0.0030\n",
            "Epoch 396/500\n",
            "296/296 [==============================] - 1s 4ms/step - loss: 0.0029 - val_loss: 0.0030\n",
            "Epoch 397/500\n",
            "296/296 [==============================] - 1s 4ms/step - loss: 0.0029 - val_loss: 0.0030\n",
            "Epoch 398/500\n",
            "296/296 [==============================] - 1s 4ms/step - loss: 0.0029 - val_loss: 0.0030\n",
            "Epoch 399/500\n",
            "296/296 [==============================] - 1s 4ms/step - loss: 0.0029 - val_loss: 0.0030\n",
            "Epoch 400/500\n",
            "296/296 [==============================] - 1s 4ms/step - loss: 0.0029 - val_loss: 0.0030\n",
            "Epoch 401/500\n",
            "296/296 [==============================] - 2s 5ms/step - loss: 0.0029 - val_loss: 0.0030\n",
            "Epoch 402/500\n",
            "296/296 [==============================] - 2s 6ms/step - loss: 0.0029 - val_loss: 0.0030\n",
            "Epoch 403/500\n",
            "296/296 [==============================] - 1s 4ms/step - loss: 0.0029 - val_loss: 0.0030\n",
            "Epoch 404/500\n",
            "296/296 [==============================] - 1s 4ms/step - loss: 0.0029 - val_loss: 0.0030\n",
            "Epoch 405/500\n",
            "296/296 [==============================] - 1s 4ms/step - loss: 0.0029 - val_loss: 0.0030\n",
            "Epoch 406/500\n",
            "296/296 [==============================] - 1s 4ms/step - loss: 0.0029 - val_loss: 0.0030\n",
            "Epoch 407/500\n",
            "296/296 [==============================] - 1s 4ms/step - loss: 0.0029 - val_loss: 0.0030\n",
            "Epoch 408/500\n",
            "296/296 [==============================] - 1s 4ms/step - loss: 0.0029 - val_loss: 0.0030\n",
            "Epoch 409/500\n",
            "296/296 [==============================] - 1s 4ms/step - loss: 0.0029 - val_loss: 0.0030\n",
            "Epoch 410/500\n",
            "296/296 [==============================] - 1s 4ms/step - loss: 0.0029 - val_loss: 0.0030\n",
            "Epoch 411/500\n",
            "296/296 [==============================] - 1s 4ms/step - loss: 0.0029 - val_loss: 0.0030\n",
            "Epoch 412/500\n",
            "296/296 [==============================] - 1s 5ms/step - loss: 0.0029 - val_loss: 0.0030\n",
            "Epoch 413/500\n",
            "296/296 [==============================] - 1s 5ms/step - loss: 0.0029 - val_loss: 0.0030\n",
            "Epoch 414/500\n",
            "296/296 [==============================] - 1s 4ms/step - loss: 0.0029 - val_loss: 0.0030\n",
            "Epoch 415/500\n",
            "296/296 [==============================] - 1s 4ms/step - loss: 0.0029 - val_loss: 0.0030\n",
            "Epoch 416/500\n",
            "296/296 [==============================] - 1s 4ms/step - loss: 0.0029 - val_loss: 0.0030\n",
            "Epoch 417/500\n",
            "296/296 [==============================] - 1s 4ms/step - loss: 0.0029 - val_loss: 0.0030\n",
            "Epoch 418/500\n",
            "296/296 [==============================] - 1s 4ms/step - loss: 0.0029 - val_loss: 0.0030\n",
            "Epoch 419/500\n",
            "296/296 [==============================] - 1s 4ms/step - loss: 0.0029 - val_loss: 0.0030\n",
            "Epoch 420/500\n",
            "296/296 [==============================] - 1s 4ms/step - loss: 0.0029 - val_loss: 0.0030\n",
            "Epoch 421/500\n",
            "296/296 [==============================] - 1s 4ms/step - loss: 0.0029 - val_loss: 0.0030\n",
            "Epoch 422/500\n",
            "296/296 [==============================] - 1s 4ms/step - loss: 0.0029 - val_loss: 0.0030\n",
            "Epoch 423/500\n",
            "296/296 [==============================] - 1s 5ms/step - loss: 0.0029 - val_loss: 0.0031\n",
            "Epoch 424/500\n",
            "296/296 [==============================] - 1s 5ms/step - loss: 0.0029 - val_loss: 0.0030\n",
            "Epoch 425/500\n",
            "296/296 [==============================] - 1s 5ms/step - loss: 0.0029 - val_loss: 0.0031\n",
            "Epoch 426/500\n",
            "296/296 [==============================] - 1s 4ms/step - loss: 0.0029 - val_loss: 0.0030\n",
            "Epoch 427/500\n",
            "296/296 [==============================] - 1s 4ms/step - loss: 0.0029 - val_loss: 0.0030\n",
            "Epoch 428/500\n",
            "296/296 [==============================] - 1s 4ms/step - loss: 0.0029 - val_loss: 0.0030\n",
            "Epoch 429/500\n",
            "296/296 [==============================] - 1s 4ms/step - loss: 0.0029 - val_loss: 0.0030\n",
            "Epoch 430/500\n",
            "296/296 [==============================] - 1s 4ms/step - loss: 0.0029 - val_loss: 0.0030\n",
            "Epoch 431/500\n",
            "296/296 [==============================] - 1s 4ms/step - loss: 0.0029 - val_loss: 0.0030\n",
            "Epoch 432/500\n",
            "296/296 [==============================] - 1s 4ms/step - loss: 0.0029 - val_loss: 0.0030\n",
            "Epoch 433/500\n",
            "296/296 [==============================] - 1s 4ms/step - loss: 0.0029 - val_loss: 0.0030\n",
            "Epoch 434/500\n",
            "296/296 [==============================] - 1s 4ms/step - loss: 0.0029 - val_loss: 0.0030\n",
            "Epoch 435/500\n",
            "296/296 [==============================] - 2s 6ms/step - loss: 0.0029 - val_loss: 0.0030\n",
            "Epoch 436/500\n",
            "296/296 [==============================] - 1s 5ms/step - loss: 0.0029 - val_loss: 0.0030\n",
            "Epoch 437/500\n",
            "296/296 [==============================] - 1s 4ms/step - loss: 0.0029 - val_loss: 0.0030\n",
            "Epoch 438/500\n",
            "296/296 [==============================] - 1s 4ms/step - loss: 0.0029 - val_loss: 0.0030\n",
            "Epoch 439/500\n",
            "296/296 [==============================] - 1s 4ms/step - loss: 0.0029 - val_loss: 0.0030\n",
            "Epoch 440/500\n",
            "296/296 [==============================] - 1s 4ms/step - loss: 0.0029 - val_loss: 0.0030\n",
            "Epoch 441/500\n",
            "296/296 [==============================] - 1s 4ms/step - loss: 0.0029 - val_loss: 0.0030\n",
            "Epoch 442/500\n",
            "296/296 [==============================] - 1s 4ms/step - loss: 0.0029 - val_loss: 0.0030\n",
            "Epoch 443/500\n",
            "296/296 [==============================] - 1s 4ms/step - loss: 0.0029 - val_loss: 0.0030\n",
            "Epoch 444/500\n",
            "296/296 [==============================] - 1s 4ms/step - loss: 0.0029 - val_loss: 0.0030\n",
            "Epoch 445/500\n",
            "296/296 [==============================] - 1s 5ms/step - loss: 0.0029 - val_loss: 0.0031\n",
            "Epoch 446/500\n",
            "296/296 [==============================] - 1s 5ms/step - loss: 0.0029 - val_loss: 0.0030\n",
            "Epoch 447/500\n",
            "296/296 [==============================] - 1s 5ms/step - loss: 0.0029 - val_loss: 0.0030\n",
            "Epoch 448/500\n",
            "296/296 [==============================] - 1s 4ms/step - loss: 0.0029 - val_loss: 0.0030\n",
            "Epoch 449/500\n",
            "296/296 [==============================] - 1s 4ms/step - loss: 0.0029 - val_loss: 0.0030\n",
            "Epoch 450/500\n",
            "296/296 [==============================] - 1s 4ms/step - loss: 0.0029 - val_loss: 0.0030\n",
            "Epoch 451/500\n",
            "296/296 [==============================] - 1s 4ms/step - loss: 0.0029 - val_loss: 0.0030\n",
            "Epoch 452/500\n",
            "296/296 [==============================] - 1s 4ms/step - loss: 0.0029 - val_loss: 0.0031\n",
            "Epoch 453/500\n",
            "296/296 [==============================] - 1s 4ms/step - loss: 0.0029 - val_loss: 0.0030\n",
            "Epoch 454/500\n",
            "296/296 [==============================] - 1s 4ms/step - loss: 0.0029 - val_loss: 0.0030\n",
            "Epoch 455/500\n",
            "296/296 [==============================] - 1s 4ms/step - loss: 0.0029 - val_loss: 0.0030\n",
            "Epoch 456/500\n",
            "296/296 [==============================] - 1s 4ms/step - loss: 0.0029 - val_loss: 0.0031\n",
            "Epoch 457/500\n",
            "296/296 [==============================] - 2s 5ms/step - loss: 0.0029 - val_loss: 0.0030\n",
            "Epoch 458/500\n",
            "296/296 [==============================] - 1s 5ms/step - loss: 0.0029 - val_loss: 0.0030\n",
            "Epoch 459/500\n",
            "296/296 [==============================] - 1s 4ms/step - loss: 0.0029 - val_loss: 0.0030\n",
            "Epoch 460/500\n",
            "296/296 [==============================] - 1s 4ms/step - loss: 0.0029 - val_loss: 0.0030\n",
            "Epoch 461/500\n",
            "296/296 [==============================] - 1s 4ms/step - loss: 0.0029 - val_loss: 0.0030\n",
            "Epoch 462/500\n",
            "296/296 [==============================] - 1s 4ms/step - loss: 0.0029 - val_loss: 0.0030\n",
            "Epoch 463/500\n",
            "296/296 [==============================] - 1s 4ms/step - loss: 0.0029 - val_loss: 0.0030\n",
            "Epoch 464/500\n",
            "296/296 [==============================] - 1s 4ms/step - loss: 0.0029 - val_loss: 0.0030\n",
            "Epoch 465/500\n",
            "296/296 [==============================] - 1s 4ms/step - loss: 0.0029 - val_loss: 0.0030\n",
            "Epoch 466/500\n",
            "296/296 [==============================] - 1s 4ms/step - loss: 0.0029 - val_loss: 0.0030\n",
            "Epoch 467/500\n",
            "296/296 [==============================] - 1s 4ms/step - loss: 0.0029 - val_loss: 0.0030\n",
            "Epoch 468/500\n",
            "296/296 [==============================] - 2s 5ms/step - loss: 0.0029 - val_loss: 0.0030\n",
            "Epoch 469/500\n",
            "296/296 [==============================] - 2s 5ms/step - loss: 0.0030 - val_loss: 0.0030\n",
            "Epoch 470/500\n",
            "296/296 [==============================] - 1s 4ms/step - loss: 0.0029 - val_loss: 0.0030\n",
            "Epoch 471/500\n",
            "296/296 [==============================] - 1s 4ms/step - loss: 0.0029 - val_loss: 0.0030\n",
            "Epoch 472/500\n",
            "296/296 [==============================] - 1s 4ms/step - loss: 0.0029 - val_loss: 0.0030\n",
            "Epoch 473/500\n",
            "296/296 [==============================] - 1s 4ms/step - loss: 0.0029 - val_loss: 0.0030\n",
            "Epoch 474/500\n",
            "296/296 [==============================] - 1s 4ms/step - loss: 0.0029 - val_loss: 0.0030\n",
            "Epoch 475/500\n",
            "296/296 [==============================] - 1s 4ms/step - loss: 0.0029 - val_loss: 0.0030\n",
            "Epoch 476/500\n",
            "296/296 [==============================] - 1s 4ms/step - loss: 0.0029 - val_loss: 0.0030\n",
            "Epoch 477/500\n",
            "296/296 [==============================] - 1s 4ms/step - loss: 0.0029 - val_loss: 0.0030\n",
            "Epoch 478/500\n",
            "296/296 [==============================] - 1s 4ms/step - loss: 0.0029 - val_loss: 0.0030\n",
            "Epoch 479/500\n",
            "296/296 [==============================] - 2s 5ms/step - loss: 0.0029 - val_loss: 0.0030\n",
            "Epoch 480/500\n",
            "296/296 [==============================] - 2s 5ms/step - loss: 0.0029 - val_loss: 0.0030\n",
            "Epoch 481/500\n",
            "296/296 [==============================] - 1s 4ms/step - loss: 0.0029 - val_loss: 0.0030\n",
            "Epoch 482/500\n",
            "296/296 [==============================] - 1s 4ms/step - loss: 0.0029 - val_loss: 0.0030\n",
            "Epoch 483/500\n",
            "296/296 [==============================] - 1s 4ms/step - loss: 0.0029 - val_loss: 0.0030\n",
            "Epoch 484/500\n",
            "296/296 [==============================] - 1s 4ms/step - loss: 0.0029 - val_loss: 0.0030\n",
            "Epoch 485/500\n",
            "296/296 [==============================] - 1s 4ms/step - loss: 0.0029 - val_loss: 0.0030\n",
            "Epoch 486/500\n",
            "296/296 [==============================] - 1s 4ms/step - loss: 0.0029 - val_loss: 0.0030\n",
            "Epoch 487/500\n",
            "296/296 [==============================] - 1s 4ms/step - loss: 0.0029 - val_loss: 0.0030\n",
            "Epoch 488/500\n",
            "296/296 [==============================] - 1s 4ms/step - loss: 0.0029 - val_loss: 0.0030\n",
            "Epoch 489/500\n",
            "296/296 [==============================] - 1s 4ms/step - loss: 0.0029 - val_loss: 0.0030\n",
            "Epoch 490/500\n",
            "296/296 [==============================] - 2s 6ms/step - loss: 0.0029 - val_loss: 0.0030\n",
            "Epoch 491/500\n",
            "296/296 [==============================] - 2s 5ms/step - loss: 0.0029 - val_loss: 0.0030\n",
            "Epoch 492/500\n",
            "296/296 [==============================] - 1s 4ms/step - loss: 0.0029 - val_loss: 0.0030\n",
            "Epoch 493/500\n",
            "296/296 [==============================] - 1s 4ms/step - loss: 0.0029 - val_loss: 0.0030\n",
            "Epoch 494/500\n",
            "296/296 [==============================] - 1s 4ms/step - loss: 0.0029 - val_loss: 0.0030\n",
            "Epoch 495/500\n",
            "296/296 [==============================] - 1s 4ms/step - loss: 0.0029 - val_loss: 0.0030\n",
            "Epoch 496/500\n",
            "296/296 [==============================] - 1s 4ms/step - loss: 0.0029 - val_loss: 0.0030\n",
            "Epoch 497/500\n",
            "296/296 [==============================] - 1s 4ms/step - loss: 0.0029 - val_loss: 0.0030\n",
            "Epoch 498/500\n",
            "296/296 [==============================] - 1s 4ms/step - loss: 0.0029 - val_loss: 0.0030\n",
            "Epoch 499/500\n",
            "296/296 [==============================] - 1s 4ms/step - loss: 0.0029 - val_loss: 0.0030\n",
            "Epoch 500/500\n",
            "296/296 [==============================] - 1s 5ms/step - loss: 0.0029 - val_loss: 0.0030\n",
            "Saved autoencoder model  to disk\n"
          ]
        }
      ],
      "source": [
        "compression_rate = 0.0625\n",
        "\n",
        "mlp25 = myautoencoder(compression_rate= compression_rate, spec= spec,\n",
        "                    x_train=X_train, x_test=X_test, mode='mlp',log_ref= log_ref)\n",
        "encoder_w, historymlp25 = mlp25.train(500, 'mse')\n",
        "mlp25.save_autoencoder(\"CR_625_mlp16_n\")\n",
        "#mlp25.load_autoencoder(\"CR_25_mlp_n\")\n",
        "\n",
        "\n",
        "\n",
        "#files_permutation=np.load('files_permutation.npy')"
      ]
    },
    {
      "cell_type": "code",
      "execution_count": null,
      "metadata": {
        "colab": {
          "background_save": true
        },
        "id": "w34bbd4Uh7ad"
      },
      "outputs": [],
      "source": [
        "#mlp25.save_autoencoder(\"CR_675_mlp_n\")"
      ]
    },
    {
      "cell_type": "code",
      "execution_count": null,
      "metadata": {
        "id": "GrE24czRbvQ_",
        "colab": {
          "base_uri": "https://localhost:8080/"
        },
        "outputId": "6ecd2284-daf0-486d-fcc8-5a6f1edfd00a"
      },
      "outputs": [
        {
          "output_type": "stream",
          "name": "stdout",
          "text": [
            "1/1 [==============================] - 0s 86ms/step\n"
          ]
        },
        {
          "output_type": "stream",
          "name": "stderr",
          "text": [
            "100%|██████████| 200/200 [00:00<00:00, 1163.07it/s, SC=-17.8, loss=4.38e+4]\n"
          ]
        },
        {
          "output_type": "stream",
          "name": "stdout",
          "text": [
            "1/1 [==============================] - 0s 20ms/step\n"
          ]
        },
        {
          "output_type": "stream",
          "name": "stderr",
          "text": [
            "100%|██████████| 200/200 [00:00<00:00, 1192.95it/s, SC=-17.1, loss=2.14e+6]\n"
          ]
        },
        {
          "output_type": "stream",
          "name": "stdout",
          "text": [
            "1/1 [==============================] - 0s 20ms/step\n"
          ]
        },
        {
          "output_type": "stream",
          "name": "stderr",
          "text": [
            "100%|██████████| 200/200 [00:00<00:00, 1071.19it/s, SC=-16.5, loss=2.17e+5]\n"
          ]
        },
        {
          "output_type": "stream",
          "name": "stdout",
          "text": [
            "1/1 [==============================] - 0s 17ms/step\n"
          ]
        },
        {
          "output_type": "stream",
          "name": "stderr",
          "text": [
            "100%|██████████| 200/200 [00:00<00:00, 1078.82it/s, SC=-19.4, loss=7.06e+6]\n"
          ]
        },
        {
          "output_type": "stream",
          "name": "stdout",
          "text": [
            "1/1 [==============================] - 0s 18ms/step\n"
          ]
        },
        {
          "output_type": "stream",
          "name": "stderr",
          "text": [
            "100%|██████████| 200/200 [00:00<00:00, 1106.50it/s, SC=-16.8, loss=3.36e+4]\n"
          ]
        },
        {
          "output_type": "stream",
          "name": "stdout",
          "text": [
            "1/1 [==============================] - 0s 18ms/step\n"
          ]
        },
        {
          "output_type": "stream",
          "name": "stderr",
          "text": [
            "100%|██████████| 200/200 [00:00<00:00, 1190.69it/s, SC=-20.2, loss=9.63e+5]\n"
          ]
        },
        {
          "output_type": "stream",
          "name": "stdout",
          "text": [
            "1/1 [==============================] - 0s 20ms/step\n"
          ]
        },
        {
          "output_type": "stream",
          "name": "stderr",
          "text": [
            "100%|██████████| 200/200 [00:00<00:00, 1130.28it/s, SC=-18.9, loss=3.02e+6]\n"
          ]
        },
        {
          "output_type": "stream",
          "name": "stdout",
          "text": [
            "1/1 [==============================] - 0s 18ms/step\n"
          ]
        },
        {
          "output_type": "stream",
          "name": "stderr",
          "text": [
            "100%|██████████| 200/200 [00:00<00:00, 1083.65it/s, SC=-17.3, loss=1.96e+6]\n"
          ]
        },
        {
          "output_type": "stream",
          "name": "stdout",
          "text": [
            "1/1 [==============================] - 0s 17ms/step\n"
          ]
        },
        {
          "output_type": "stream",
          "name": "stderr",
          "text": [
            "100%|██████████| 200/200 [00:00<00:00, 901.63it/s, SC=-17, loss=2.6e+6]\n"
          ]
        },
        {
          "output_type": "stream",
          "name": "stdout",
          "text": [
            "1/1 [==============================] - 0s 27ms/step\n"
          ]
        },
        {
          "output_type": "stream",
          "name": "stderr",
          "text": [
            "100%|██████████| 200/200 [00:00<00:00, 1070.16it/s, SC=-17.9, loss=1.12e+7]\n"
          ]
        },
        {
          "output_type": "stream",
          "name": "stdout",
          "text": [
            "1/1 [==============================] - 0s 20ms/step\n"
          ]
        },
        {
          "output_type": "stream",
          "name": "stderr",
          "text": [
            "100%|██████████| 200/200 [00:00<00:00, 1072.50it/s, SC=-16.2, loss=3.26e+4]\n"
          ]
        },
        {
          "output_type": "stream",
          "name": "stdout",
          "text": [
            "1/1 [==============================] - 0s 21ms/step\n"
          ]
        },
        {
          "output_type": "stream",
          "name": "stderr",
          "text": [
            "100%|██████████| 200/200 [00:00<00:00, 1175.26it/s, SC=-20.9, loss=1.18e+6]\n"
          ]
        },
        {
          "output_type": "stream",
          "name": "stdout",
          "text": [
            "1/1 [==============================] - 0s 20ms/step\n"
          ]
        },
        {
          "output_type": "stream",
          "name": "stderr",
          "text": [
            "100%|██████████| 200/200 [00:00<00:00, 1117.00it/s, SC=-17.8, loss=2.07e+4]\n"
          ]
        },
        {
          "output_type": "stream",
          "name": "stdout",
          "text": [
            "1/1 [==============================] - 0s 17ms/step\n"
          ]
        },
        {
          "output_type": "stream",
          "name": "stderr",
          "text": [
            "100%|██████████| 200/200 [00:00<00:00, 1190.20it/s, SC=-16.9, loss=4.1e+6]\n"
          ]
        },
        {
          "output_type": "stream",
          "name": "stdout",
          "text": [
            "1/1 [==============================] - 0s 20ms/step\n"
          ]
        },
        {
          "output_type": "stream",
          "name": "stderr",
          "text": [
            "100%|██████████| 200/200 [00:00<00:00, 1137.94it/s, SC=-15.8, loss=2.8e+6]\n"
          ]
        },
        {
          "output_type": "stream",
          "name": "stdout",
          "text": [
            "1/1 [==============================] - 0s 19ms/step\n"
          ]
        },
        {
          "output_type": "stream",
          "name": "stderr",
          "text": [
            "100%|██████████| 200/200 [00:00<00:00, 888.50it/s, SC=-18.2, loss=2.29e+6]\n"
          ]
        },
        {
          "output_type": "stream",
          "name": "stdout",
          "text": [
            "1/1 [==============================] - 0s 26ms/step\n"
          ]
        },
        {
          "output_type": "stream",
          "name": "stderr",
          "text": [
            "100%|██████████| 200/200 [00:00<00:00, 871.89it/s, SC=-16.9, loss=4.71e+6]\n"
          ]
        },
        {
          "output_type": "stream",
          "name": "stdout",
          "text": [
            "1/1 [==============================] - 0s 26ms/step\n"
          ]
        },
        {
          "output_type": "stream",
          "name": "stderr",
          "text": [
            "100%|██████████| 200/200 [00:00<00:00, 882.84it/s, SC=-17.8, loss=7.59e+4]\n"
          ]
        },
        {
          "output_type": "stream",
          "name": "stdout",
          "text": [
            "1/1 [==============================] - 0s 34ms/step\n"
          ]
        },
        {
          "output_type": "stream",
          "name": "stderr",
          "text": [
            "100%|██████████| 200/200 [00:00<00:00, 1019.68it/s, SC=-16.5, loss=5.37e+5]\n"
          ]
        },
        {
          "output_type": "stream",
          "name": "stdout",
          "text": [
            "1/1 [==============================] - 0s 27ms/step\n"
          ]
        },
        {
          "output_type": "stream",
          "name": "stderr",
          "text": [
            "100%|██████████| 200/200 [00:00<00:00, 940.11it/s, SC=-15.5, loss=6.82e+4]\n"
          ]
        },
        {
          "output_type": "stream",
          "name": "stdout",
          "text": [
            "1/1 [==============================] - 0s 27ms/step\n"
          ]
        },
        {
          "output_type": "stream",
          "name": "stderr",
          "text": [
            "100%|██████████| 200/200 [00:00<00:00, 1061.31it/s, SC=-15.8, loss=1.94e+5]\n"
          ]
        },
        {
          "output_type": "stream",
          "name": "stdout",
          "text": [
            "1/1 [==============================] - 0s 28ms/step\n"
          ]
        },
        {
          "output_type": "stream",
          "name": "stderr",
          "text": [
            "100%|██████████| 200/200 [00:00<00:00, 874.29it/s, SC=-17.9, loss=1.38e+6]\n"
          ]
        },
        {
          "output_type": "stream",
          "name": "stdout",
          "text": [
            "1/1 [==============================] - 0s 26ms/step\n"
          ]
        },
        {
          "output_type": "stream",
          "name": "stderr",
          "text": [
            "100%|██████████| 200/200 [00:00<00:00, 1062.78it/s, SC=-20.9, loss=1.17e+6]\n"
          ]
        },
        {
          "output_type": "stream",
          "name": "stdout",
          "text": [
            "1/1 [==============================] - 0s 27ms/step\n"
          ]
        },
        {
          "output_type": "stream",
          "name": "stderr",
          "text": [
            "100%|██████████| 200/200 [00:00<00:00, 807.02it/s, SC=-19.7, loss=4.4e+6]\n"
          ]
        },
        {
          "output_type": "stream",
          "name": "stdout",
          "text": [
            "1/1 [==============================] - 0s 29ms/step\n"
          ]
        },
        {
          "output_type": "stream",
          "name": "stderr",
          "text": [
            "100%|██████████| 200/200 [00:00<00:00, 794.56it/s, SC=-17.9, loss=2.65e+6]\n"
          ]
        },
        {
          "output_type": "stream",
          "name": "stdout",
          "text": [
            "1/1 [==============================] - 0s 26ms/step\n"
          ]
        },
        {
          "output_type": "stream",
          "name": "stderr",
          "text": [
            "100%|██████████| 200/200 [00:00<00:00, 794.52it/s, SC=-14.2, loss=2.04e+6]\n"
          ]
        },
        {
          "output_type": "stream",
          "name": "stdout",
          "text": [
            "1/1 [==============================] - 0s 26ms/step\n"
          ]
        },
        {
          "output_type": "stream",
          "name": "stderr",
          "text": [
            "100%|██████████| 200/200 [00:00<00:00, 1394.44it/s, SC=-16.7, loss=1.24e+5]"
          ]
        },
        {
          "output_type": "stream",
          "name": "stdout",
          "text": [
            "1/1 [==============================] - 0s 17ms/step\n"
          ]
        },
        {
          "output_type": "stream",
          "name": "stderr",
          "text": [
            "\n",
            "100%|██████████| 200/200 [00:00<00:00, 1103.30it/s, SC=-16.4, loss=1.15e+7]\n"
          ]
        },
        {
          "output_type": "stream",
          "name": "stdout",
          "text": [
            "1/1 [==============================] - 0s 25ms/step\n"
          ]
        },
        {
          "output_type": "stream",
          "name": "stderr",
          "text": [
            "100%|██████████| 200/200 [00:00<00:00, 1270.77it/s, SC=-18.4, loss=1.53e+4]\n"
          ]
        },
        {
          "output_type": "stream",
          "name": "stdout",
          "text": [
            "1/1 [==============================] - 0s 17ms/step\n"
          ]
        },
        {
          "output_type": "stream",
          "name": "stderr",
          "text": [
            "100%|██████████| 200/200 [00:00<00:00, 1221.90it/s, SC=-17.9, loss=3.44e+4]\n"
          ]
        },
        {
          "output_type": "stream",
          "name": "stdout",
          "text": [
            "1/1 [==============================] - 0s 18ms/step\n"
          ]
        },
        {
          "output_type": "stream",
          "name": "stderr",
          "text": [
            "100%|██████████| 200/200 [00:00<00:00, 952.67it/s, SC=-17.5, loss=9.12e+4]\n"
          ]
        },
        {
          "output_type": "stream",
          "name": "stdout",
          "text": [
            "1/1 [==============================] - 0s 17ms/step\n"
          ]
        },
        {
          "output_type": "stream",
          "name": "stderr",
          "text": [
            "100%|██████████| 200/200 [00:00<00:00, 1081.25it/s, SC=-18.5, loss=2.05e+6]\n"
          ]
        },
        {
          "output_type": "stream",
          "name": "stdout",
          "text": [
            "1/1 [==============================] - 0s 17ms/step\n"
          ]
        },
        {
          "output_type": "stream",
          "name": "stderr",
          "text": [
            "100%|██████████| 200/200 [00:00<00:00, 1095.14it/s, SC=-21, loss=1.77e+6]\n"
          ]
        },
        {
          "output_type": "stream",
          "name": "stdout",
          "text": [
            "1/1 [==============================] - 0s 19ms/step\n"
          ]
        },
        {
          "output_type": "stream",
          "name": "stderr",
          "text": [
            "100%|██████████| 200/200 [00:00<00:00, 1135.19it/s, SC=-16.6, loss=1.13e+5]\n"
          ]
        },
        {
          "output_type": "stream",
          "name": "stdout",
          "text": [
            "1/1 [==============================] - 0s 17ms/step\n"
          ]
        },
        {
          "output_type": "stream",
          "name": "stderr",
          "text": [
            "100%|██████████| 200/200 [00:00<00:00, 1157.44it/s, SC=-17.4, loss=1.55e+6]\n"
          ]
        },
        {
          "output_type": "stream",
          "name": "stdout",
          "text": [
            "1/1 [==============================] - 0s 19ms/step\n"
          ]
        },
        {
          "output_type": "stream",
          "name": "stderr",
          "text": [
            "100%|██████████| 200/200 [00:00<00:00, 1130.58it/s, SC=-20.5, loss=1.66e+6]\n"
          ]
        },
        {
          "output_type": "stream",
          "name": "stdout",
          "text": [
            "1/1 [==============================] - 0s 18ms/step\n"
          ]
        },
        {
          "output_type": "stream",
          "name": "stderr",
          "text": [
            "100%|██████████| 200/200 [00:00<00:00, 924.95it/s, SC=-16.1, loss=8.09e+6] \n"
          ]
        },
        {
          "output_type": "stream",
          "name": "stdout",
          "text": [
            "1/1 [==============================] - 0s 24ms/step\n"
          ]
        },
        {
          "output_type": "stream",
          "name": "stderr",
          "text": [
            "100%|██████████| 200/200 [00:00<00:00, 1021.21it/s, SC=-18.3, loss=4.35e+6]\n"
          ]
        },
        {
          "output_type": "stream",
          "name": "stdout",
          "text": [
            "1/1 [==============================] - 0s 17ms/step\n"
          ]
        },
        {
          "output_type": "stream",
          "name": "stderr",
          "text": [
            "100%|██████████| 200/200 [00:00<00:00, 1247.25it/s, SC=-16.7, loss=4.82e+6]\n"
          ]
        },
        {
          "output_type": "stream",
          "name": "stdout",
          "text": [
            "1/1 [==============================] - 0s 18ms/step\n"
          ]
        },
        {
          "output_type": "stream",
          "name": "stderr",
          "text": [
            "100%|██████████| 200/200 [00:00<00:00, 1120.62it/s, SC=-17.5, loss=1.72e+6]\n"
          ]
        },
        {
          "output_type": "stream",
          "name": "stdout",
          "text": [
            "1/1 [==============================] - 0s 17ms/step\n"
          ]
        },
        {
          "output_type": "stream",
          "name": "stderr",
          "text": [
            "100%|██████████| 200/200 [00:00<00:00, 859.75it/s, SC=-16.1, loss=3.23e+6]\n"
          ]
        },
        {
          "output_type": "stream",
          "name": "stdout",
          "text": [
            "1/1 [==============================] - 0s 28ms/step\n"
          ]
        },
        {
          "output_type": "stream",
          "name": "stderr",
          "text": [
            "100%|██████████| 200/200 [00:00<00:00, 1053.79it/s, SC=-17.2, loss=4.1e+6]\n"
          ]
        },
        {
          "output_type": "stream",
          "name": "stdout",
          "text": [
            "1/1 [==============================] - 0s 19ms/step\n"
          ]
        },
        {
          "output_type": "stream",
          "name": "stderr",
          "text": [
            "100%|██████████| 200/200 [00:00<00:00, 1140.66it/s, SC=-17.3, loss=9.49e+5]\n"
          ]
        },
        {
          "output_type": "stream",
          "name": "stdout",
          "text": [
            "1/1 [==============================] - 0s 21ms/step\n"
          ]
        },
        {
          "output_type": "stream",
          "name": "stderr",
          "text": [
            "100%|██████████| 200/200 [00:00<00:00, 1229.08it/s, SC=-20.9, loss=6.3e+3]\n"
          ]
        },
        {
          "output_type": "stream",
          "name": "stdout",
          "text": [
            "1/1 [==============================] - 0s 17ms/step\n"
          ]
        },
        {
          "output_type": "stream",
          "name": "stderr",
          "text": [
            "100%|██████████| 200/200 [00:00<00:00, 1163.32it/s, SC=-17.4, loss=1.41e+5]\n"
          ]
        },
        {
          "output_type": "stream",
          "name": "stdout",
          "text": [
            "1/1 [==============================] - 0s 19ms/step\n"
          ]
        },
        {
          "output_type": "stream",
          "name": "stderr",
          "text": [
            "100%|██████████| 200/200 [00:00<00:00, 1185.50it/s, SC=-19.6, loss=1.96e+6]\n"
          ]
        },
        {
          "output_type": "stream",
          "name": "stdout",
          "text": [
            "1/1 [==============================] - 0s 19ms/step\n"
          ]
        },
        {
          "output_type": "stream",
          "name": "stderr",
          "text": [
            "100%|██████████| 200/200 [00:00<00:00, 1244.32it/s, SC=-19, loss=2.3e+5]\n"
          ]
        },
        {
          "output_type": "stream",
          "name": "stdout",
          "text": [
            "1/1 [==============================] - 0s 21ms/step\n"
          ]
        },
        {
          "output_type": "stream",
          "name": "stderr",
          "text": [
            "100%|██████████| 200/200 [00:00<00:00, 1096.59it/s, SC=-16.4, loss=1.32e+5]\n"
          ]
        },
        {
          "output_type": "stream",
          "name": "stdout",
          "text": [
            "1/1 [==============================] - 0s 17ms/step\n"
          ]
        },
        {
          "output_type": "stream",
          "name": "stderr",
          "text": [
            "100%|██████████| 200/200 [00:00<00:00, 1126.88it/s, SC=-16.6, loss=5.1e+6]\n"
          ]
        },
        {
          "output_type": "stream",
          "name": "stdout",
          "text": [
            "1/1 [==============================] - 0s 19ms/step\n"
          ]
        },
        {
          "output_type": "stream",
          "name": "stderr",
          "text": [
            "100%|██████████| 200/200 [00:00<00:00, 1174.57it/s, SC=-21, loss=2.37e+4]\n"
          ]
        },
        {
          "output_type": "stream",
          "name": "stdout",
          "text": [
            "1/1 [==============================] - 0s 18ms/step\n"
          ]
        },
        {
          "output_type": "stream",
          "name": "stderr",
          "text": [
            "100%|██████████| 200/200 [00:00<00:00, 1196.68it/s, SC=-18.5, loss=8.63e+5]\n"
          ]
        },
        {
          "output_type": "stream",
          "name": "stdout",
          "text": [
            "1/1 [==============================] - 0s 20ms/step\n"
          ]
        },
        {
          "output_type": "stream",
          "name": "stderr",
          "text": [
            "100%|██████████| 200/200 [00:00<00:00, 1259.63it/s, SC=-16.7, loss=1.79e+7]\n"
          ]
        },
        {
          "output_type": "stream",
          "name": "stdout",
          "text": [
            "1/1 [==============================] - 0s 18ms/step\n"
          ]
        },
        {
          "output_type": "stream",
          "name": "stderr",
          "text": [
            "100%|██████████| 200/200 [00:00<00:00, 1091.12it/s, SC=-18.4, loss=2.26e+6]\n"
          ]
        },
        {
          "output_type": "stream",
          "name": "stdout",
          "text": [
            "1/1 [==============================] - 0s 20ms/step\n"
          ]
        },
        {
          "output_type": "stream",
          "name": "stderr",
          "text": [
            "100%|██████████| 200/200 [00:00<00:00, 892.10it/s, SC=-17.3, loss=9.34e+6]\n"
          ]
        },
        {
          "output_type": "stream",
          "name": "stdout",
          "text": [
            "1/1 [==============================] - 0s 33ms/step\n"
          ]
        },
        {
          "output_type": "stream",
          "name": "stderr",
          "text": [
            "100%|██████████| 200/200 [00:00<00:00, 1097.91it/s, SC=-18.4, loss=1.26e+6]\n"
          ]
        },
        {
          "output_type": "stream",
          "name": "stdout",
          "text": [
            "1/1 [==============================] - 0s 20ms/step\n"
          ]
        },
        {
          "output_type": "stream",
          "name": "stderr",
          "text": [
            "100%|██████████| 200/200 [00:00<00:00, 828.77it/s, SC=-17.1, loss=3.59e+6]\n"
          ]
        },
        {
          "output_type": "stream",
          "name": "stdout",
          "text": [
            "1/1 [==============================] - 0s 27ms/step\n"
          ]
        },
        {
          "output_type": "stream",
          "name": "stderr",
          "text": [
            "100%|██████████| 200/200 [00:00<00:00, 1110.48it/s, SC=-18, loss=2.49e+6]\n"
          ]
        },
        {
          "output_type": "stream",
          "name": "stdout",
          "text": [
            "1/1 [==============================] - 0s 18ms/step\n"
          ]
        },
        {
          "output_type": "stream",
          "name": "stderr",
          "text": [
            "100%|██████████| 200/200 [00:00<00:00, 1169.93it/s, SC=-20.5, loss=3.99e+6]\n"
          ]
        },
        {
          "output_type": "stream",
          "name": "stdout",
          "text": [
            "1/1 [==============================] - 0s 18ms/step\n"
          ]
        },
        {
          "output_type": "stream",
          "name": "stderr",
          "text": [
            "100%|██████████| 200/200 [00:00<00:00, 987.62it/s, SC=-20, loss=2.41e+6] \n"
          ]
        },
        {
          "output_type": "stream",
          "name": "stdout",
          "text": [
            "1/1 [==============================] - 0s 18ms/step\n"
          ]
        },
        {
          "output_type": "stream",
          "name": "stderr",
          "text": [
            "100%|██████████| 200/200 [00:00<00:00, 1210.24it/s, SC=-19.8, loss=9.63e+5]\n"
          ]
        },
        {
          "output_type": "stream",
          "name": "stdout",
          "text": [
            "1/1 [==============================] - 0s 18ms/step\n"
          ]
        },
        {
          "output_type": "stream",
          "name": "stderr",
          "text": [
            "100%|██████████| 200/200 [00:00<00:00, 1118.96it/s, SC=-18.8, loss=1.68e+5]\n"
          ]
        },
        {
          "output_type": "stream",
          "name": "stdout",
          "text": [
            "1/1 [==============================] - 0s 17ms/step\n"
          ]
        },
        {
          "output_type": "stream",
          "name": "stderr",
          "text": [
            "100%|██████████| 200/200 [00:00<00:00, 1136.57it/s, SC=-16, loss=7.94e+6]\n"
          ]
        },
        {
          "output_type": "stream",
          "name": "stdout",
          "text": [
            "1/1 [==============================] - 0s 19ms/step\n"
          ]
        },
        {
          "output_type": "stream",
          "name": "stderr",
          "text": [
            "100%|██████████| 200/200 [00:00<00:00, 1123.79it/s, SC=-18.8, loss=8.64e+4]\n"
          ]
        },
        {
          "output_type": "stream",
          "name": "stdout",
          "text": [
            "1/1 [==============================] - 0s 26ms/step\n"
          ]
        },
        {
          "output_type": "stream",
          "name": "stderr",
          "text": [
            "100%|██████████| 200/200 [00:00<00:00, 1103.56it/s, SC=-16.5, loss=7.2e+4]\n"
          ]
        },
        {
          "output_type": "stream",
          "name": "stdout",
          "text": [
            "1/1 [==============================] - 0s 26ms/step\n"
          ]
        },
        {
          "output_type": "stream",
          "name": "stderr",
          "text": [
            "100%|██████████| 200/200 [00:00<00:00, 894.89it/s, SC=-16.4, loss=2.55e+6]\n"
          ]
        },
        {
          "output_type": "stream",
          "name": "stdout",
          "text": [
            "1/1 [==============================] - 0s 29ms/step\n"
          ]
        },
        {
          "output_type": "stream",
          "name": "stderr",
          "text": [
            "100%|██████████| 200/200 [00:00<00:00, 941.49it/s, SC=-16.3, loss=2.13e+5]\n"
          ]
        },
        {
          "output_type": "stream",
          "name": "stdout",
          "text": [
            "1/1 [==============================] - 0s 26ms/step\n"
          ]
        },
        {
          "output_type": "stream",
          "name": "stderr",
          "text": [
            "100%|██████████| 200/200 [00:00<00:00, 1137.09it/s, SC=-19, loss=2.07e+6]\n"
          ]
        },
        {
          "output_type": "stream",
          "name": "stdout",
          "text": [
            "1/1 [==============================] - 0s 28ms/step\n"
          ]
        },
        {
          "output_type": "stream",
          "name": "stderr",
          "text": [
            "100%|██████████| 200/200 [00:00<00:00, 996.34it/s, SC=-17.2, loss=3.37e+4] \n"
          ]
        },
        {
          "output_type": "stream",
          "name": "stdout",
          "text": [
            "1/1 [==============================] - 0s 25ms/step\n"
          ]
        },
        {
          "output_type": "stream",
          "name": "stderr",
          "text": [
            "100%|██████████| 200/200 [00:00<00:00, 1099.85it/s, SC=-20.8, loss=1.04e+6]\n"
          ]
        },
        {
          "output_type": "stream",
          "name": "stdout",
          "text": [
            "1/1 [==============================] - 0s 28ms/step\n"
          ]
        },
        {
          "output_type": "stream",
          "name": "stderr",
          "text": [
            "100%|██████████| 200/200 [00:00<00:00, 921.52it/s, SC=-18.3, loss=2.33e+6]\n"
          ]
        },
        {
          "output_type": "stream",
          "name": "stdout",
          "text": [
            "1/1 [==============================] - 0s 28ms/step\n"
          ]
        },
        {
          "output_type": "stream",
          "name": "stderr",
          "text": [
            "100%|██████████| 200/200 [00:00<00:00, 977.49it/s, SC=-19.7, loss=1.83e+6]\n"
          ]
        },
        {
          "output_type": "stream",
          "name": "stdout",
          "text": [
            "1/1 [==============================] - 0s 26ms/step\n"
          ]
        },
        {
          "output_type": "stream",
          "name": "stderr",
          "text": [
            "100%|██████████| 200/200 [00:00<00:00, 892.25it/s, SC=-19.2, loss=2.2e+6]\n"
          ]
        },
        {
          "output_type": "stream",
          "name": "stdout",
          "text": [
            "1/1 [==============================] - 0s 32ms/step\n"
          ]
        },
        {
          "output_type": "stream",
          "name": "stderr",
          "text": [
            "100%|██████████| 200/200 [00:00<00:00, 706.79it/s, SC=-16.8, loss=4.49e+6]\n"
          ]
        },
        {
          "output_type": "stream",
          "name": "stdout",
          "text": [
            "1/1 [==============================] - 0s 49ms/step\n"
          ]
        },
        {
          "output_type": "stream",
          "name": "stderr",
          "text": [
            "100%|██████████| 200/200 [00:00<00:00, 815.61it/s, SC=-15.8, loss=7.04e+6]\n"
          ]
        },
        {
          "output_type": "stream",
          "name": "stdout",
          "text": [
            "1/1 [==============================] - 0s 31ms/step\n"
          ]
        },
        {
          "output_type": "stream",
          "name": "stderr",
          "text": [
            "100%|██████████| 200/200 [00:00<00:00, 767.37it/s, SC=-19, loss=4.94e+6]\n"
          ]
        },
        {
          "output_type": "stream",
          "name": "stdout",
          "text": [
            "1/1 [==============================] - 0s 28ms/step\n"
          ]
        },
        {
          "output_type": "stream",
          "name": "stderr",
          "text": [
            "100%|██████████| 200/200 [00:00<00:00, 730.39it/s, SC=-16, loss=3.5e+6]\n"
          ]
        },
        {
          "output_type": "stream",
          "name": "stdout",
          "text": [
            "1/1 [==============================] - 0s 24ms/step\n"
          ]
        },
        {
          "output_type": "stream",
          "name": "stderr",
          "text": [
            "100%|██████████| 200/200 [00:00<00:00, 1169.47it/s, SC=-19.1, loss=1.99e+4]\n"
          ]
        },
        {
          "output_type": "stream",
          "name": "stdout",
          "text": [
            "1/1 [==============================] - 0s 17ms/step\n"
          ]
        },
        {
          "output_type": "stream",
          "name": "stderr",
          "text": [
            "100%|██████████| 200/200 [00:00<00:00, 1124.12it/s, SC=-19, loss=1.58e+6]\n"
          ]
        },
        {
          "output_type": "stream",
          "name": "stdout",
          "text": [
            "1/1 [==============================] - 0s 19ms/step\n"
          ]
        },
        {
          "output_type": "stream",
          "name": "stderr",
          "text": [
            "100%|██████████| 200/200 [00:00<00:00, 1071.07it/s, SC=-17, loss=4.89e+4]\n"
          ]
        },
        {
          "output_type": "stream",
          "name": "stdout",
          "text": [
            "1/1 [==============================] - 0s 17ms/step\n"
          ]
        },
        {
          "output_type": "stream",
          "name": "stderr",
          "text": [
            "100%|██████████| 200/200 [00:00<00:00, 1005.70it/s, SC=-18.1, loss=6.35e+6]\n"
          ]
        },
        {
          "output_type": "stream",
          "name": "stdout",
          "text": [
            "1/1 [==============================] - 0s 20ms/step\n"
          ]
        },
        {
          "output_type": "stream",
          "name": "stderr",
          "text": [
            "100%|██████████| 200/200 [00:00<00:00, 1097.61it/s, SC=-17.4, loss=3.57e+6]\n"
          ]
        },
        {
          "output_type": "stream",
          "name": "stdout",
          "text": [
            "1/1 [==============================] - 0s 21ms/step\n"
          ]
        },
        {
          "output_type": "stream",
          "name": "stderr",
          "text": [
            "100%|██████████| 200/200 [00:00<00:00, 1162.02it/s, SC=-16.7, loss=8.86e+4]\n"
          ]
        },
        {
          "output_type": "stream",
          "name": "stdout",
          "text": [
            "1/1 [==============================] - 0s 21ms/step\n"
          ]
        },
        {
          "output_type": "stream",
          "name": "stderr",
          "text": [
            "100%|██████████| 200/200 [00:00<00:00, 1030.49it/s, SC=-18.5, loss=2.74e+6]\n"
          ]
        },
        {
          "output_type": "stream",
          "name": "stdout",
          "text": [
            "1/1 [==============================] - 0s 18ms/step\n"
          ]
        },
        {
          "output_type": "stream",
          "name": "stderr",
          "text": [
            "100%|██████████| 200/200 [00:00<00:00, 1043.36it/s, SC=-18.4, loss=4.6e+6]\n"
          ]
        },
        {
          "output_type": "stream",
          "name": "stdout",
          "text": [
            "1/1 [==============================] - 0s 21ms/step\n"
          ]
        },
        {
          "output_type": "stream",
          "name": "stderr",
          "text": [
            "100%|██████████| 200/200 [00:00<00:00, 1033.12it/s, SC=-19.7, loss=4.69e+6]\n"
          ]
        },
        {
          "output_type": "stream",
          "name": "stdout",
          "text": [
            "1/1 [==============================] - 0s 21ms/step\n"
          ]
        },
        {
          "output_type": "stream",
          "name": "stderr",
          "text": [
            "100%|██████████| 200/200 [00:00<00:00, 1000.45it/s, SC=-16, loss=3.67e+5]\n"
          ]
        },
        {
          "output_type": "stream",
          "name": "stdout",
          "text": [
            "1/1 [==============================] - 0s 18ms/step\n"
          ]
        },
        {
          "output_type": "stream",
          "name": "stderr",
          "text": [
            "100%|██████████| 200/200 [00:00<00:00, 1156.29it/s, SC=-16, loss=4.67e+6]\n"
          ]
        },
        {
          "output_type": "stream",
          "name": "stdout",
          "text": [
            "1/1 [==============================] - 0s 21ms/step\n"
          ]
        },
        {
          "output_type": "stream",
          "name": "stderr",
          "text": [
            "100%|██████████| 200/200 [00:00<00:00, 1046.21it/s, SC=-20.5, loss=6.77e+6]\n"
          ]
        },
        {
          "output_type": "stream",
          "name": "stdout",
          "text": [
            "1/1 [==============================] - 0s 22ms/step\n"
          ]
        },
        {
          "output_type": "stream",
          "name": "stderr",
          "text": [
            "100%|██████████| 200/200 [00:00<00:00, 1101.51it/s, SC=-18.2, loss=1.97e+4]\n"
          ]
        },
        {
          "output_type": "stream",
          "name": "stdout",
          "text": [
            "1/1 [==============================] - 0s 19ms/step\n"
          ]
        },
        {
          "output_type": "stream",
          "name": "stderr",
          "text": [
            "100%|██████████| 200/200 [00:00<00:00, 1104.87it/s, SC=-16.9, loss=5.3e+6]\n"
          ]
        },
        {
          "output_type": "stream",
          "name": "stdout",
          "text": [
            "1/1 [==============================] - 0s 18ms/step\n"
          ]
        },
        {
          "output_type": "stream",
          "name": "stderr",
          "text": [
            "100%|██████████| 200/200 [00:00<00:00, 975.78it/s, SC=-15.8, loss=9.01e+6] \n"
          ]
        },
        {
          "output_type": "stream",
          "name": "stdout",
          "text": [
            "1/1 [==============================] - 0s 18ms/step\n"
          ]
        },
        {
          "output_type": "stream",
          "name": "stderr",
          "text": [
            "100%|██████████| 200/200 [00:00<00:00, 1085.91it/s, SC=-17.2, loss=2.09e+5]\n"
          ]
        },
        {
          "output_type": "stream",
          "name": "stdout",
          "text": [
            "1/1 [==============================] - 0s 20ms/step\n"
          ]
        },
        {
          "output_type": "stream",
          "name": "stderr",
          "text": [
            "100%|██████████| 200/200 [00:00<00:00, 1012.57it/s, SC=-18.1, loss=2.75e+6]\n"
          ]
        },
        {
          "output_type": "stream",
          "name": "stdout",
          "text": [
            "1/1 [==============================] - 0s 18ms/step\n"
          ]
        },
        {
          "output_type": "stream",
          "name": "stderr",
          "text": [
            "100%|██████████| 200/200 [00:00<00:00, 901.40it/s, SC=-18.2, loss=4.93e+6]\n"
          ]
        },
        {
          "output_type": "stream",
          "name": "stdout",
          "text": [
            "1/1 [==============================] - 0s 18ms/step\n"
          ]
        },
        {
          "output_type": "stream",
          "name": "stderr",
          "text": [
            "100%|██████████| 200/200 [00:00<00:00, 1098.60it/s, SC=-19.7, loss=2.04e+6]\n"
          ]
        },
        {
          "output_type": "stream",
          "name": "stdout",
          "text": [
            "1/1 [==============================] - 0s 19ms/step\n"
          ]
        },
        {
          "output_type": "stream",
          "name": "stderr",
          "text": [
            "100%|██████████| 200/200 [00:00<00:00, 1002.40it/s, SC=-19.9, loss=1.24e+6]\n"
          ]
        },
        {
          "output_type": "stream",
          "name": "stdout",
          "text": [
            "1/1 [==============================] - 0s 17ms/step\n"
          ]
        },
        {
          "output_type": "stream",
          "name": "stderr",
          "text": [
            "100%|██████████| 200/200 [00:00<00:00, 1030.65it/s, SC=-14.5, loss=6.49e+4]\n"
          ]
        },
        {
          "output_type": "stream",
          "name": "stdout",
          "text": [
            "1/1 [==============================] - 0s 19ms/step\n"
          ]
        },
        {
          "output_type": "stream",
          "name": "stderr",
          "text": [
            "100%|██████████| 200/200 [00:00<00:00, 1222.14it/s, SC=-20.8, loss=2.77e+6]\n"
          ]
        },
        {
          "output_type": "stream",
          "name": "stdout",
          "text": [
            "1/1 [==============================] - 0s 19ms/step\n"
          ]
        },
        {
          "output_type": "stream",
          "name": "stderr",
          "text": [
            "100%|██████████| 200/200 [00:00<00:00, 1062.14it/s, SC=-15.9, loss=6.13e+6]\n"
          ]
        },
        {
          "output_type": "stream",
          "name": "stdout",
          "text": [
            "1/1 [==============================] - 0s 18ms/step\n"
          ]
        },
        {
          "output_type": "stream",
          "name": "stderr",
          "text": [
            "100%|██████████| 200/200 [00:00<00:00, 1152.99it/s, SC=-18.7, loss=1.8e+5]\n"
          ]
        },
        {
          "output_type": "stream",
          "name": "stdout",
          "text": [
            "1/1 [==============================] - 0s 19ms/step\n"
          ]
        },
        {
          "output_type": "stream",
          "name": "stderr",
          "text": [
            "100%|██████████| 200/200 [00:00<00:00, 931.99it/s, SC=-19.7, loss=2.64e+6]\n"
          ]
        },
        {
          "output_type": "stream",
          "name": "stdout",
          "text": [
            "1/1 [==============================] - 0s 18ms/step\n"
          ]
        },
        {
          "output_type": "stream",
          "name": "stderr",
          "text": [
            "100%|██████████| 200/200 [00:00<00:00, 1127.75it/s, SC=-18.8, loss=2.43e+4]\n"
          ]
        },
        {
          "output_type": "stream",
          "name": "stdout",
          "text": [
            "1/1 [==============================] - 0s 19ms/step\n"
          ]
        },
        {
          "output_type": "stream",
          "name": "stderr",
          "text": [
            "100%|██████████| 200/200 [00:00<00:00, 871.56it/s, SC=-19.3, loss=4.16e+6]\n"
          ]
        },
        {
          "output_type": "stream",
          "name": "stdout",
          "text": [
            "1/1 [==============================] - 0s 25ms/step\n"
          ]
        },
        {
          "output_type": "stream",
          "name": "stderr",
          "text": [
            "100%|██████████| 200/200 [00:00<00:00, 920.92it/s, SC=-17.1, loss=4.84e+6]\n"
          ]
        },
        {
          "output_type": "stream",
          "name": "stdout",
          "text": [
            "1/1 [==============================] - 0s 18ms/step\n"
          ]
        },
        {
          "output_type": "stream",
          "name": "stderr",
          "text": [
            "100%|██████████| 200/200 [00:00<00:00, 1090.92it/s, SC=-17.1, loss=8.2e+4]\n"
          ]
        },
        {
          "output_type": "stream",
          "name": "stdout",
          "text": [
            "1/1 [==============================] - 0s 22ms/step\n"
          ]
        },
        {
          "output_type": "stream",
          "name": "stderr",
          "text": [
            "100%|██████████| 200/200 [00:00<00:00, 1000.30it/s, SC=-15.4, loss=4.6e+5]\n"
          ]
        },
        {
          "output_type": "stream",
          "name": "stdout",
          "text": [
            "1/1 [==============================] - 0s 19ms/step\n"
          ]
        },
        {
          "output_type": "stream",
          "name": "stderr",
          "text": [
            "100%|██████████| 200/200 [00:00<00:00, 1081.65it/s, SC=-19.2, loss=3.4e+6]\n"
          ]
        },
        {
          "output_type": "stream",
          "name": "stdout",
          "text": [
            "1/1 [==============================] - 0s 20ms/step\n"
          ]
        },
        {
          "output_type": "stream",
          "name": "stderr",
          "text": [
            "100%|██████████| 200/200 [00:00<00:00, 955.25it/s, SC=-18, loss=3.71e+6] \n"
          ]
        },
        {
          "output_type": "stream",
          "name": "stdout",
          "text": [
            "1/1 [==============================] - 0s 17ms/step\n"
          ]
        },
        {
          "output_type": "stream",
          "name": "stderr",
          "text": [
            "100%|██████████| 200/200 [00:00<00:00, 1118.22it/s, SC=-17.3, loss=1.29e+5]\n"
          ]
        },
        {
          "output_type": "stream",
          "name": "stdout",
          "text": [
            "1/1 [==============================] - 0s 19ms/step\n"
          ]
        },
        {
          "output_type": "stream",
          "name": "stderr",
          "text": [
            "100%|██████████| 200/200 [00:00<00:00, 1225.06it/s, SC=-18.2, loss=2.74e+6]\n"
          ]
        },
        {
          "output_type": "stream",
          "name": "stdout",
          "text": [
            "1/1 [==============================] - 0s 20ms/step\n"
          ]
        },
        {
          "output_type": "stream",
          "name": "stderr",
          "text": [
            "100%|██████████| 200/200 [00:00<00:00, 1044.66it/s, SC=-19.3, loss=4.79e+6]\n"
          ]
        },
        {
          "output_type": "stream",
          "name": "stdout",
          "text": [
            "1/1 [==============================] - 0s 19ms/step\n"
          ]
        },
        {
          "output_type": "stream",
          "name": "stderr",
          "text": [
            "100%|██████████| 200/200 [00:00<00:00, 976.76it/s, SC=-16, loss=3.31e+6] \n"
          ]
        },
        {
          "output_type": "stream",
          "name": "stdout",
          "text": [
            "1/1 [==============================] - 0s 33ms/step\n"
          ]
        },
        {
          "output_type": "stream",
          "name": "stderr",
          "text": [
            "100%|██████████| 200/200 [00:00<00:00, 906.41it/s, SC=-15.8, loss=7.67e+6]\n"
          ]
        },
        {
          "output_type": "stream",
          "name": "stdout",
          "text": [
            "1/1 [==============================] - 0s 27ms/step\n"
          ]
        },
        {
          "output_type": "stream",
          "name": "stderr",
          "text": [
            "100%|██████████| 200/200 [00:00<00:00, 1076.88it/s, SC=-17.5, loss=3.64e+6]\n"
          ]
        },
        {
          "output_type": "stream",
          "name": "stdout",
          "text": [
            "1/1 [==============================] - 0s 26ms/step\n"
          ]
        },
        {
          "output_type": "stream",
          "name": "stderr",
          "text": [
            "100%|██████████| 200/200 [00:00<00:00, 759.17it/s, SC=-18.3, loss=3.36e+6]\n"
          ]
        },
        {
          "output_type": "stream",
          "name": "stdout",
          "text": [
            "1/1 [==============================] - 0s 27ms/step\n"
          ]
        },
        {
          "output_type": "stream",
          "name": "stderr",
          "text": [
            "100%|██████████| 200/200 [00:00<00:00, 737.37it/s, SC=-19.6, loss=1.84e+6]\n"
          ]
        },
        {
          "output_type": "stream",
          "name": "stdout",
          "text": [
            "1/1 [==============================] - 0s 28ms/step\n"
          ]
        },
        {
          "output_type": "stream",
          "name": "stderr",
          "text": [
            "100%|██████████| 200/200 [00:00<00:00, 828.78it/s, SC=-20.3, loss=2.46e+6]\n"
          ]
        },
        {
          "output_type": "stream",
          "name": "stdout",
          "text": [
            "1/1 [==============================] - 0s 26ms/step\n"
          ]
        },
        {
          "output_type": "stream",
          "name": "stderr",
          "text": [
            "100%|██████████| 200/200 [00:00<00:00, 748.17it/s, SC=-19.7, loss=5.74e+5]\n"
          ]
        },
        {
          "output_type": "stream",
          "name": "stdout",
          "text": [
            "1/1 [==============================] - 0s 27ms/step\n"
          ]
        },
        {
          "output_type": "stream",
          "name": "stderr",
          "text": [
            "100%|██████████| 200/200 [00:00<00:00, 839.83it/s, SC=-17.8, loss=6.87e+6]\n"
          ]
        },
        {
          "output_type": "stream",
          "name": "stdout",
          "text": [
            "1/1 [==============================] - 0s 26ms/step\n"
          ]
        },
        {
          "output_type": "stream",
          "name": "stderr",
          "text": [
            "100%|██████████| 200/200 [00:00<00:00, 766.59it/s, SC=-20.3, loss=2.24e+6]\n"
          ]
        },
        {
          "output_type": "stream",
          "name": "stdout",
          "text": [
            "1/1 [==============================] - 0s 27ms/step\n"
          ]
        },
        {
          "output_type": "stream",
          "name": "stderr",
          "text": [
            "100%|██████████| 200/200 [00:00<00:00, 788.39it/s, SC=-16.1, loss=7.65e+6]\n"
          ]
        },
        {
          "output_type": "stream",
          "name": "stdout",
          "text": [
            "1/1 [==============================] - 0s 30ms/step\n"
          ]
        },
        {
          "output_type": "stream",
          "name": "stderr",
          "text": [
            "100%|██████████| 200/200 [00:00<00:00, 617.07it/s, SC=-16.8, loss=3.1e+6]\n"
          ]
        },
        {
          "output_type": "stream",
          "name": "stdout",
          "text": [
            "1/1 [==============================] - 0s 56ms/step\n"
          ]
        },
        {
          "output_type": "stream",
          "name": "stderr",
          "text": [
            "100%|██████████| 200/200 [00:00<00:00, 1057.27it/s, SC=-17, loss=5.16e+6]\n"
          ]
        },
        {
          "output_type": "stream",
          "name": "stdout",
          "text": [
            "1/1 [==============================] - 0s 16ms/step\n"
          ]
        },
        {
          "output_type": "stream",
          "name": "stderr",
          "text": [
            "100%|██████████| 200/200 [00:00<00:00, 972.11it/s, SC=-17.1, loss=7.52e+6]\n"
          ]
        },
        {
          "output_type": "stream",
          "name": "stdout",
          "text": [
            "1/1 [==============================] - 0s 18ms/step\n"
          ]
        },
        {
          "output_type": "stream",
          "name": "stderr",
          "text": [
            "100%|██████████| 200/200 [00:00<00:00, 1116.79it/s, SC=-19.6, loss=3.58e+6]\n"
          ]
        },
        {
          "output_type": "stream",
          "name": "stdout",
          "text": [
            "1/1 [==============================] - 0s 20ms/step\n"
          ]
        },
        {
          "output_type": "stream",
          "name": "stderr",
          "text": [
            "100%|██████████| 200/200 [00:00<00:00, 1013.16it/s, SC=-17.7, loss=3.04e+6]\n"
          ]
        },
        {
          "output_type": "stream",
          "name": "stdout",
          "text": [
            "1/1 [==============================] - 0s 18ms/step\n"
          ]
        },
        {
          "output_type": "stream",
          "name": "stderr",
          "text": [
            "100%|██████████| 200/200 [00:00<00:00, 1092.91it/s, SC=-16.1, loss=3.1e+6]\n"
          ]
        },
        {
          "output_type": "stream",
          "name": "stdout",
          "text": [
            "1/1 [==============================] - 0s 22ms/step\n"
          ]
        },
        {
          "output_type": "stream",
          "name": "stderr",
          "text": [
            "100%|██████████| 200/200 [00:00<00:00, 1125.19it/s, SC=-16.3, loss=8.85e+4]\n"
          ]
        },
        {
          "output_type": "stream",
          "name": "stdout",
          "text": [
            "1/1 [==============================] - 0s 20ms/step\n"
          ]
        },
        {
          "output_type": "stream",
          "name": "stderr",
          "text": [
            "100%|██████████| 200/200 [00:00<00:00, 1305.51it/s, SC=-17.9, loss=1.91e+5]\n"
          ]
        },
        {
          "output_type": "stream",
          "name": "stdout",
          "text": [
            "1/1 [==============================] - 0s 20ms/step\n"
          ]
        },
        {
          "output_type": "stream",
          "name": "stderr",
          "text": [
            "100%|██████████| 200/200 [00:00<00:00, 851.79it/s, SC=-18.7, loss=3.32e+6]\n"
          ]
        },
        {
          "output_type": "stream",
          "name": "stdout",
          "text": [
            "1/1 [==============================] - 0s 25ms/step\n"
          ]
        },
        {
          "output_type": "stream",
          "name": "stderr",
          "text": [
            "100%|██████████| 200/200 [00:00<00:00, 914.33it/s, SC=-18.8, loss=3.54e+6]\n"
          ]
        },
        {
          "output_type": "stream",
          "name": "stdout",
          "text": [
            "1/1 [==============================] - 0s 22ms/step\n"
          ]
        },
        {
          "output_type": "stream",
          "name": "stderr",
          "text": [
            "100%|██████████| 200/200 [00:00<00:00, 1094.05it/s, SC=-15.9, loss=5.76e+6]\n"
          ]
        },
        {
          "output_type": "stream",
          "name": "stdout",
          "text": [
            "1/1 [==============================] - 0s 18ms/step\n"
          ]
        },
        {
          "output_type": "stream",
          "name": "stderr",
          "text": [
            "100%|██████████| 200/200 [00:00<00:00, 992.85it/s, SC=-19.4, loss=1.65e+6] \n"
          ]
        },
        {
          "output_type": "stream",
          "name": "stdout",
          "text": [
            "1/1 [==============================] - 0s 18ms/step\n"
          ]
        },
        {
          "output_type": "stream",
          "name": "stderr",
          "text": [
            "100%|██████████| 200/200 [00:00<00:00, 913.44it/s, SC=-18.7, loss=1.95e+6] \n"
          ]
        },
        {
          "output_type": "stream",
          "name": "stdout",
          "text": [
            "1/1 [==============================] - 0s 17ms/step\n"
          ]
        },
        {
          "output_type": "stream",
          "name": "stderr",
          "text": [
            "100%|██████████| 200/200 [00:00<00:00, 986.62it/s, SC=-15.6, loss=2.8e+6] \n"
          ]
        },
        {
          "output_type": "stream",
          "name": "stdout",
          "text": [
            "1/1 [==============================] - 0s 17ms/step\n"
          ]
        },
        {
          "output_type": "stream",
          "name": "stderr",
          "text": [
            "100%|██████████| 200/200 [00:00<00:00, 1073.76it/s, SC=-15.9, loss=1.43e+7]\n"
          ]
        },
        {
          "output_type": "stream",
          "name": "stdout",
          "text": [
            "1/1 [==============================] - 0s 18ms/step\n"
          ]
        },
        {
          "output_type": "stream",
          "name": "stderr",
          "text": [
            "100%|██████████| 200/200 [00:00<00:00, 850.78it/s, SC=-16.4, loss=3.38e+5]\n"
          ]
        },
        {
          "output_type": "stream",
          "name": "stdout",
          "text": [
            "1/1 [==============================] - 0s 29ms/step\n"
          ]
        },
        {
          "output_type": "stream",
          "name": "stderr",
          "text": [
            "100%|██████████| 200/200 [00:00<00:00, 811.70it/s, SC=-16.4, loss=3.47e+6]\n"
          ]
        },
        {
          "output_type": "stream",
          "name": "stdout",
          "text": [
            "1/1 [==============================] - 0s 28ms/step\n"
          ]
        },
        {
          "output_type": "stream",
          "name": "stderr",
          "text": [
            "100%|██████████| 200/200 [00:00<00:00, 1255.28it/s, SC=-17.6, loss=7.51e+4]\n"
          ]
        },
        {
          "output_type": "stream",
          "name": "stdout",
          "text": [
            "1/1 [==============================] - 0s 20ms/step\n"
          ]
        },
        {
          "output_type": "stream",
          "name": "stderr",
          "text": [
            "100%|██████████| 200/200 [00:00<00:00, 955.40it/s, SC=-18.8, loss=4.7e+6] \n"
          ]
        },
        {
          "output_type": "stream",
          "name": "stdout",
          "text": [
            "1/1 [==============================] - 0s 19ms/step\n"
          ]
        },
        {
          "output_type": "stream",
          "name": "stderr",
          "text": [
            "100%|██████████| 200/200 [00:00<00:00, 1215.85it/s, SC=-16.7, loss=5.96e+4]\n"
          ]
        },
        {
          "output_type": "stream",
          "name": "stdout",
          "text": [
            "1/1 [==============================] - 0s 17ms/step\n"
          ]
        },
        {
          "output_type": "stream",
          "name": "stderr",
          "text": [
            "100%|██████████| 200/200 [00:00<00:00, 1067.66it/s, SC=-16, loss=1.44e+5]\n"
          ]
        },
        {
          "output_type": "stream",
          "name": "stdout",
          "text": [
            "1/1 [==============================] - 0s 22ms/step\n"
          ]
        },
        {
          "output_type": "stream",
          "name": "stderr",
          "text": [
            "100%|██████████| 200/200 [00:00<00:00, 1064.17it/s, SC=-18.9, loss=1.61e+6]\n"
          ]
        },
        {
          "output_type": "stream",
          "name": "stdout",
          "text": [
            "1/1 [==============================] - 0s 17ms/step\n"
          ]
        },
        {
          "output_type": "stream",
          "name": "stderr",
          "text": [
            "100%|██████████| 200/200 [00:00<00:00, 1132.74it/s, SC=-18.6, loss=1.65e+6]\n"
          ]
        },
        {
          "output_type": "stream",
          "name": "stdout",
          "text": [
            "1/1 [==============================] - 0s 19ms/step\n"
          ]
        },
        {
          "output_type": "stream",
          "name": "stderr",
          "text": [
            "100%|██████████| 200/200 [00:00<00:00, 921.00it/s, SC=-17.4, loss=9.32e+5]\n"
          ]
        },
        {
          "output_type": "stream",
          "name": "stdout",
          "text": [
            "1/1 [==============================] - 0s 22ms/step\n"
          ]
        },
        {
          "output_type": "stream",
          "name": "stderr",
          "text": [
            "100%|██████████| 200/200 [00:00<00:00, 1034.23it/s, SC=-16.4, loss=5.18e+6]\n"
          ]
        },
        {
          "output_type": "stream",
          "name": "stdout",
          "text": [
            "1/1 [==============================] - 0s 17ms/step\n"
          ]
        },
        {
          "output_type": "stream",
          "name": "stderr",
          "text": [
            "100%|██████████| 200/200 [00:00<00:00, 1101.42it/s, SC=-18.9, loss=4.46e+6]\n"
          ]
        },
        {
          "output_type": "stream",
          "name": "stdout",
          "text": [
            "1/1 [==============================] - 0s 19ms/step\n"
          ]
        },
        {
          "output_type": "stream",
          "name": "stderr",
          "text": [
            "100%|██████████| 200/200 [00:00<00:00, 1172.99it/s, SC=-16.3, loss=2e+5]\n"
          ]
        },
        {
          "output_type": "stream",
          "name": "stdout",
          "text": [
            "1/1 [==============================] - 0s 17ms/step\n"
          ]
        },
        {
          "output_type": "stream",
          "name": "stderr",
          "text": [
            "100%|██████████| 200/200 [00:00<00:00, 1023.07it/s, SC=-17.9, loss=4.06e+6]\n"
          ]
        },
        {
          "output_type": "stream",
          "name": "stdout",
          "text": [
            "1/1 [==============================] - 0s 18ms/step\n"
          ]
        },
        {
          "output_type": "stream",
          "name": "stderr",
          "text": [
            "100%|██████████| 200/200 [00:00<00:00, 1167.31it/s, SC=-16.9, loss=1.42e+5]\n"
          ]
        },
        {
          "output_type": "stream",
          "name": "stdout",
          "text": [
            "1/1 [==============================] - 0s 19ms/step\n"
          ]
        },
        {
          "output_type": "stream",
          "name": "stderr",
          "text": [
            "100%|██████████| 200/200 [00:00<00:00, 914.38it/s, SC=-15.6, loss=3.29e+6] \n"
          ]
        },
        {
          "output_type": "stream",
          "name": "stdout",
          "text": [
            "1/1 [==============================] - 0s 17ms/step\n"
          ]
        },
        {
          "output_type": "stream",
          "name": "stderr",
          "text": [
            "100%|██████████| 200/200 [00:00<00:00, 1035.53it/s, SC=-15.7, loss=2.23e+6]\n"
          ]
        },
        {
          "output_type": "stream",
          "name": "stdout",
          "text": [
            "1/1 [==============================] - 0s 22ms/step\n"
          ]
        },
        {
          "output_type": "stream",
          "name": "stderr",
          "text": [
            "100%|██████████| 200/200 [00:00<00:00, 1040.01it/s, SC=-18.9, loss=4.88e+6]\n"
          ]
        },
        {
          "output_type": "stream",
          "name": "stdout",
          "text": [
            "1/1 [==============================] - 0s 19ms/step\n"
          ]
        },
        {
          "output_type": "stream",
          "name": "stderr",
          "text": [
            "100%|██████████| 200/200 [00:00<00:00, 983.16it/s, SC=-18.9, loss=4.91e+4] \n"
          ]
        },
        {
          "output_type": "stream",
          "name": "stdout",
          "text": [
            "1/1 [==============================] - 0s 19ms/step\n"
          ]
        },
        {
          "output_type": "stream",
          "name": "stderr",
          "text": [
            "100%|██████████| 200/200 [00:00<00:00, 1139.00it/s, SC=-18.4, loss=1.47e+6]\n"
          ]
        },
        {
          "output_type": "stream",
          "name": "stdout",
          "text": [
            "1/1 [==============================] - 0s 18ms/step\n"
          ]
        },
        {
          "output_type": "stream",
          "name": "stderr",
          "text": [
            "100%|██████████| 200/200 [00:00<00:00, 1010.15it/s, SC=-20.7, loss=7.1e+6]\n"
          ]
        },
        {
          "output_type": "stream",
          "name": "stdout",
          "text": [
            "1/1 [==============================] - 0s 17ms/step\n"
          ]
        },
        {
          "output_type": "stream",
          "name": "stderr",
          "text": [
            "100%|██████████| 200/200 [00:00<00:00, 1105.46it/s, SC=-15.6, loss=8.61e+4]\n"
          ]
        },
        {
          "output_type": "stream",
          "name": "stdout",
          "text": [
            "1/1 [==============================] - 0s 17ms/step\n"
          ]
        },
        {
          "output_type": "stream",
          "name": "stderr",
          "text": [
            "100%|██████████| 200/200 [00:00<00:00, 786.05it/s, SC=-19.1, loss=5.92e+6]\n"
          ]
        },
        {
          "output_type": "stream",
          "name": "stdout",
          "text": [
            "1/1 [==============================] - 0s 28ms/step\n"
          ]
        },
        {
          "output_type": "stream",
          "name": "stderr",
          "text": [
            "100%|██████████| 200/200 [00:00<00:00, 1034.76it/s, SC=-19, loss=3.36e+4]\n"
          ]
        },
        {
          "output_type": "stream",
          "name": "stdout",
          "text": [
            "1/1 [==============================] - 0s 33ms/step\n"
          ]
        },
        {
          "output_type": "stream",
          "name": "stderr",
          "text": [
            "100%|██████████| 200/200 [00:00<00:00, 1040.07it/s, SC=-18.2, loss=1.22e+4]\n"
          ]
        },
        {
          "output_type": "stream",
          "name": "stdout",
          "text": [
            "1/1 [==============================] - 0s 27ms/step\n"
          ]
        },
        {
          "output_type": "stream",
          "name": "stderr",
          "text": [
            "100%|██████████| 200/200 [00:00<00:00, 805.87it/s, SC=-15.9, loss=5.31e+6]\n"
          ]
        },
        {
          "output_type": "stream",
          "name": "stdout",
          "text": [
            "1/1 [==============================] - 0s 26ms/step\n"
          ]
        },
        {
          "output_type": "stream",
          "name": "stderr",
          "text": [
            "100%|██████████| 200/200 [00:00<00:00, 950.33it/s, SC=-18.4, loss=3.09e+6]\n"
          ]
        },
        {
          "output_type": "stream",
          "name": "stdout",
          "text": [
            "1/1 [==============================] - 0s 25ms/step\n"
          ]
        },
        {
          "output_type": "stream",
          "name": "stderr",
          "text": [
            "100%|██████████| 200/200 [00:00<00:00, 827.57it/s, SC=-19.9, loss=1.85e+6]\n"
          ]
        },
        {
          "output_type": "stream",
          "name": "stdout",
          "text": [
            "1/1 [==============================] - 0s 29ms/step\n"
          ]
        },
        {
          "output_type": "stream",
          "name": "stderr",
          "text": [
            "100%|██████████| 200/200 [00:00<00:00, 771.13it/s, SC=-20.9, loss=4.64e+6]\n"
          ]
        },
        {
          "output_type": "stream",
          "name": "stdout",
          "text": [
            "1/1 [==============================] - 0s 25ms/step\n"
          ]
        },
        {
          "output_type": "stream",
          "name": "stderr",
          "text": [
            "100%|██████████| 200/200 [00:00<00:00, 1063.47it/s, SC=-20.1, loss=1.19e+6]\n"
          ]
        },
        {
          "output_type": "stream",
          "name": "stdout",
          "text": [
            "1/1 [==============================] - 0s 26ms/step\n"
          ]
        },
        {
          "output_type": "stream",
          "name": "stderr",
          "text": [
            "100%|██████████| 200/200 [00:00<00:00, 848.84it/s, SC=-15.9, loss=6.47e+6]\n"
          ]
        },
        {
          "output_type": "stream",
          "name": "stdout",
          "text": [
            "1/1 [==============================] - 0s 27ms/step\n"
          ]
        },
        {
          "output_type": "stream",
          "name": "stderr",
          "text": [
            "100%|██████████| 200/200 [00:00<00:00, 989.96it/s, SC=-17.3, loss=5.08e+6]\n"
          ]
        },
        {
          "output_type": "stream",
          "name": "stdout",
          "text": [
            "1/1 [==============================] - 0s 26ms/step\n"
          ]
        },
        {
          "output_type": "stream",
          "name": "stderr",
          "text": [
            "100%|██████████| 200/200 [00:00<00:00, 1009.76it/s, SC=-18.2, loss=5.36e+6]\n"
          ]
        },
        {
          "output_type": "stream",
          "name": "stdout",
          "text": [
            "1/1 [==============================] - 0s 26ms/step\n"
          ]
        },
        {
          "output_type": "stream",
          "name": "stderr",
          "text": [
            "100%|██████████| 200/200 [00:00<00:00, 778.77it/s, SC=-19.5, loss=5.67e+6]\n"
          ]
        },
        {
          "output_type": "stream",
          "name": "stdout",
          "text": [
            "1/1 [==============================] - 0s 27ms/step\n"
          ]
        },
        {
          "output_type": "stream",
          "name": "stderr",
          "text": [
            "100%|██████████| 200/200 [00:00<00:00, 796.46it/s, SC=-22.7, loss=2.21e+6]\n"
          ]
        },
        {
          "output_type": "stream",
          "name": "stdout",
          "text": [
            "1/1 [==============================] - 0s 27ms/step\n"
          ]
        },
        {
          "output_type": "stream",
          "name": "stderr",
          "text": [
            "100%|██████████| 200/200 [00:00<00:00, 881.70it/s, SC=-17.1, loss=3.46e+5]\n"
          ]
        },
        {
          "output_type": "stream",
          "name": "stdout",
          "text": [
            "1/1 [==============================] - 0s 28ms/step\n"
          ]
        },
        {
          "output_type": "stream",
          "name": "stderr",
          "text": [
            "100%|██████████| 200/200 [00:00<00:00, 988.20it/s, SC=-20.7, loss=3.54e+6] \n"
          ]
        },
        {
          "output_type": "stream",
          "name": "stdout",
          "text": [
            "1/1 [==============================] - 0s 17ms/step\n"
          ]
        },
        {
          "output_type": "stream",
          "name": "stderr",
          "text": [
            "100%|██████████| 200/200 [00:00<00:00, 1062.04it/s, SC=-17.3, loss=9.4e+6]\n"
          ]
        },
        {
          "output_type": "stream",
          "name": "stdout",
          "text": [
            "1/1 [==============================] - 0s 17ms/step\n"
          ]
        },
        {
          "output_type": "stream",
          "name": "stderr",
          "text": [
            "100%|██████████| 200/200 [00:00<00:00, 1082.16it/s, SC=-16.5, loss=1.63e+6]\n"
          ]
        },
        {
          "output_type": "stream",
          "name": "stdout",
          "text": [
            "1/1 [==============================] - 0s 18ms/step\n"
          ]
        },
        {
          "output_type": "stream",
          "name": "stderr",
          "text": [
            "100%|██████████| 200/200 [00:00<00:00, 1014.12it/s, SC=-17.8, loss=2.38e+4]\n"
          ]
        },
        {
          "output_type": "stream",
          "name": "stdout",
          "text": [
            "1/1 [==============================] - 0s 18ms/step\n"
          ]
        },
        {
          "output_type": "stream",
          "name": "stderr",
          "text": [
            "100%|██████████| 200/200 [00:00<00:00, 1110.50it/s, SC=-18, loss=5.41e+4]\n"
          ]
        },
        {
          "output_type": "stream",
          "name": "stdout",
          "text": [
            "1/1 [==============================] - 0s 17ms/step\n"
          ]
        },
        {
          "output_type": "stream",
          "name": "stderr",
          "text": [
            "100%|██████████| 200/200 [00:00<00:00, 1172.82it/s, SC=-16.7, loss=7.85e+4]\n"
          ]
        },
        {
          "output_type": "stream",
          "name": "stdout",
          "text": [
            "1/1 [==============================] - 0s 19ms/step\n"
          ]
        },
        {
          "output_type": "stream",
          "name": "stderr",
          "text": [
            "100%|██████████| 200/200 [00:00<00:00, 1161.69it/s, SC=-15.8, loss=3.1e+6]\n"
          ]
        },
        {
          "output_type": "stream",
          "name": "stdout",
          "text": [
            "1/1 [==============================] - 0s 17ms/step\n"
          ]
        },
        {
          "output_type": "stream",
          "name": "stderr",
          "text": [
            "100%|██████████| 200/200 [00:00<00:00, 1147.66it/s, SC=-17, loss=3.08e+6]\n"
          ]
        },
        {
          "output_type": "stream",
          "name": "stdout",
          "text": [
            "1/1 [==============================] - 0s 18ms/step\n"
          ]
        },
        {
          "output_type": "stream",
          "name": "stderr",
          "text": [
            "100%|██████████| 200/200 [00:00<00:00, 931.46it/s, SC=-17.5, loss=2.91e+6]\n"
          ]
        },
        {
          "output_type": "stream",
          "name": "stdout",
          "text": [
            "1/1 [==============================] - 0s 19ms/step\n"
          ]
        },
        {
          "output_type": "stream",
          "name": "stderr",
          "text": [
            "100%|██████████| 200/200 [00:00<00:00, 873.08it/s, SC=-16.8, loss=7.19e+6]\n"
          ]
        },
        {
          "output_type": "stream",
          "name": "stdout",
          "text": [
            "1/1 [==============================] - 0s 27ms/step\n"
          ]
        },
        {
          "output_type": "stream",
          "name": "stderr",
          "text": [
            "100%|██████████| 200/200 [00:00<00:00, 1050.08it/s, SC=-16.2, loss=1.64e+6]\n"
          ]
        },
        {
          "output_type": "stream",
          "name": "stdout",
          "text": [
            "1/1 [==============================] - 0s 19ms/step\n"
          ]
        },
        {
          "output_type": "stream",
          "name": "stderr",
          "text": [
            "100%|██████████| 200/200 [00:00<00:00, 1110.88it/s, SC=-20.2, loss=1.19e+6]\n"
          ]
        },
        {
          "output_type": "stream",
          "name": "stdout",
          "text": [
            "1/1 [==============================] - 0s 18ms/step\n"
          ]
        },
        {
          "output_type": "stream",
          "name": "stderr",
          "text": [
            "100%|██████████| 200/200 [00:00<00:00, 1019.65it/s, SC=-16.9, loss=1.25e+5]\n"
          ]
        },
        {
          "output_type": "stream",
          "name": "stdout",
          "text": [
            "1/1 [==============================] - 0s 20ms/step\n"
          ]
        },
        {
          "output_type": "stream",
          "name": "stderr",
          "text": [
            "100%|██████████| 200/200 [00:00<00:00, 729.36it/s, SC=-17.6, loss=9.43e+5]\n"
          ]
        },
        {
          "output_type": "stream",
          "name": "stdout",
          "text": [
            "1/1 [==============================] - 0s 24ms/step\n"
          ]
        },
        {
          "output_type": "stream",
          "name": "stderr",
          "text": [
            "100%|██████████| 200/200 [00:00<00:00, 1009.49it/s, SC=-18.1, loss=3.42e+6]\n"
          ]
        },
        {
          "output_type": "stream",
          "name": "stdout",
          "text": [
            "1/1 [==============================] - 0s 19ms/step\n"
          ]
        },
        {
          "output_type": "stream",
          "name": "stderr",
          "text": [
            "100%|██████████| 200/200 [00:00<00:00, 1071.56it/s, SC=-14.8, loss=4.39e+5]\n"
          ]
        },
        {
          "output_type": "stream",
          "name": "stdout",
          "text": [
            "1/1 [==============================] - 0s 17ms/step\n"
          ]
        },
        {
          "output_type": "stream",
          "name": "stderr",
          "text": [
            "100%|██████████| 200/200 [00:00<00:00, 1125.45it/s, SC=-16.1, loss=3.47e+6]\n"
          ]
        },
        {
          "output_type": "stream",
          "name": "stdout",
          "text": [
            "1/1 [==============================] - 0s 21ms/step\n"
          ]
        },
        {
          "output_type": "stream",
          "name": "stderr",
          "text": [
            "100%|██████████| 200/200 [00:00<00:00, 915.70it/s, SC=-17.8, loss=3.46e+4]\n"
          ]
        },
        {
          "output_type": "stream",
          "name": "stdout",
          "text": [
            "1/1 [==============================] - 0s 17ms/step\n"
          ]
        },
        {
          "output_type": "stream",
          "name": "stderr",
          "text": [
            "100%|██████████| 200/200 [00:00<00:00, 1035.05it/s, SC=-20.2, loss=4.21e+6]\n"
          ]
        },
        {
          "output_type": "stream",
          "name": "stdout",
          "text": [
            "1/1 [==============================] - 0s 18ms/step\n"
          ]
        },
        {
          "output_type": "stream",
          "name": "stderr",
          "text": [
            "100%|██████████| 200/200 [00:00<00:00, 962.26it/s, SC=-19.2, loss=4.43e+5]\n"
          ]
        },
        {
          "output_type": "stream",
          "name": "stdout",
          "text": [
            "1/1 [==============================] - 0s 17ms/step\n"
          ]
        },
        {
          "output_type": "stream",
          "name": "stderr",
          "text": [
            "100%|██████████| 200/200 [00:00<00:00, 1044.61it/s, SC=-16.2, loss=2.38e+6]\n"
          ]
        },
        {
          "output_type": "stream",
          "name": "stdout",
          "text": [
            "1/1 [==============================] - 0s 19ms/step\n"
          ]
        },
        {
          "output_type": "stream",
          "name": "stderr",
          "text": [
            "100%|██████████| 200/200 [00:00<00:00, 1041.23it/s, SC=-19.3, loss=2.37e+6]\n"
          ]
        },
        {
          "output_type": "stream",
          "name": "stdout",
          "text": [
            "1/1 [==============================] - 0s 20ms/step\n"
          ]
        },
        {
          "output_type": "stream",
          "name": "stderr",
          "text": [
            "100%|██████████| 200/200 [00:00<00:00, 896.48it/s, SC=-15.6, loss=6e+6]\n"
          ]
        },
        {
          "output_type": "stream",
          "name": "stdout",
          "text": [
            "1/1 [==============================] - 0s 17ms/step\n"
          ]
        },
        {
          "output_type": "stream",
          "name": "stderr",
          "text": [
            "100%|██████████| 200/200 [00:00<00:00, 902.43it/s, SC=-15.6, loss=7.59e+6]\n"
          ]
        },
        {
          "output_type": "stream",
          "name": "stdout",
          "text": [
            "1/1 [==============================] - 0s 18ms/step\n"
          ]
        },
        {
          "output_type": "stream",
          "name": "stderr",
          "text": [
            "100%|██████████| 200/200 [00:00<00:00, 1066.01it/s, SC=-19, loss=1.68e+4]\n"
          ]
        },
        {
          "output_type": "stream",
          "name": "stdout",
          "text": [
            "1/1 [==============================] - 0s 19ms/step\n"
          ]
        },
        {
          "output_type": "stream",
          "name": "stderr",
          "text": [
            "100%|██████████| 200/200 [00:00<00:00, 934.83it/s, SC=-17.7, loss=5.46e+6] \n"
          ]
        },
        {
          "output_type": "stream",
          "name": "stdout",
          "text": [
            "1/1 [==============================] - 0s 19ms/step\n"
          ]
        },
        {
          "output_type": "stream",
          "name": "stderr",
          "text": [
            "100%|██████████| 200/200 [00:00<00:00, 1046.73it/s, SC=-17.5, loss=2.57e+4]\n"
          ]
        },
        {
          "output_type": "stream",
          "name": "stdout",
          "text": [
            "1/1 [==============================] - 0s 19ms/step\n"
          ]
        },
        {
          "output_type": "stream",
          "name": "stderr",
          "text": [
            "100%|██████████| 200/200 [00:00<00:00, 975.33it/s, SC=-22.3, loss=5.46e+6]\n"
          ]
        },
        {
          "output_type": "stream",
          "name": "stdout",
          "text": [
            "1/1 [==============================] - 0s 17ms/step\n"
          ]
        },
        {
          "output_type": "stream",
          "name": "stderr",
          "text": [
            "100%|██████████| 200/200 [00:00<00:00, 969.71it/s, SC=-16.6, loss=1.91e+5]\n"
          ]
        },
        {
          "output_type": "stream",
          "name": "stdout",
          "text": [
            "1/1 [==============================] - 0s 19ms/step\n"
          ]
        },
        {
          "output_type": "stream",
          "name": "stderr",
          "text": [
            "100%|██████████| 200/200 [00:00<00:00, 954.92it/s, SC=-16.7, loss=3.88e+6]\n"
          ]
        },
        {
          "output_type": "stream",
          "name": "stdout",
          "text": [
            "1/1 [==============================] - 0s 18ms/step\n"
          ]
        },
        {
          "output_type": "stream",
          "name": "stderr",
          "text": [
            "100%|██████████| 200/200 [00:00<00:00, 1143.51it/s, SC=-17.2, loss=4.2e+4]\n"
          ]
        },
        {
          "output_type": "stream",
          "name": "stdout",
          "text": [
            "1/1 [==============================] - 0s 19ms/step\n"
          ]
        },
        {
          "output_type": "stream",
          "name": "stderr",
          "text": [
            "100%|██████████| 200/200 [00:00<00:00, 1035.77it/s, SC=-13, loss=3.61e+5]\n"
          ]
        },
        {
          "output_type": "stream",
          "name": "stdout",
          "text": [
            "1/1 [==============================] - 0s 18ms/step\n"
          ]
        },
        {
          "output_type": "stream",
          "name": "stderr",
          "text": [
            "100%|██████████| 200/200 [00:00<00:00, 1143.08it/s, SC=-19.2, loss=6.43e+6]\n"
          ]
        },
        {
          "output_type": "stream",
          "name": "stdout",
          "text": [
            "1/1 [==============================] - 0s 28ms/step\n"
          ]
        },
        {
          "output_type": "stream",
          "name": "stderr",
          "text": [
            "100%|██████████| 200/200 [00:00<00:00, 997.03it/s, SC=-19.1, loss=2.39e+6] \n"
          ]
        },
        {
          "output_type": "stream",
          "name": "stdout",
          "text": [
            "1/1 [==============================] - 0s 18ms/step\n"
          ]
        },
        {
          "output_type": "stream",
          "name": "stderr",
          "text": [
            "100%|██████████| 200/200 [00:00<00:00, 1115.73it/s, SC=-17.2, loss=3e+5]\n"
          ]
        },
        {
          "output_type": "stream",
          "name": "stdout",
          "text": [
            "1/1 [==============================] - 0s 32ms/step\n"
          ]
        },
        {
          "output_type": "stream",
          "name": "stderr",
          "text": [
            "100%|██████████| 200/200 [00:00<00:00, 803.12it/s, SC=-16.7, loss=3.75e+6]\n"
          ]
        },
        {
          "output_type": "stream",
          "name": "stdout",
          "text": [
            "1/1 [==============================] - 0s 31ms/step\n"
          ]
        },
        {
          "output_type": "stream",
          "name": "stderr",
          "text": [
            "100%|██████████| 200/200 [00:00<00:00, 704.72it/s, SC=-19.2, loss=1.88e+6]\n"
          ]
        },
        {
          "output_type": "stream",
          "name": "stdout",
          "text": [
            "1/1 [==============================] - 0s 29ms/step\n"
          ]
        },
        {
          "output_type": "stream",
          "name": "stderr",
          "text": [
            "100%|██████████| 200/200 [00:00<00:00, 791.52it/s, SC=-16.2, loss=6.52e+6]\n"
          ]
        },
        {
          "output_type": "stream",
          "name": "stdout",
          "text": [
            "1/1 [==============================] - 0s 27ms/step\n"
          ]
        },
        {
          "output_type": "stream",
          "name": "stderr",
          "text": [
            "100%|██████████| 200/200 [00:00<00:00, 835.59it/s, SC=-18.8, loss=8.94e+4]\n"
          ]
        },
        {
          "output_type": "stream",
          "name": "stdout",
          "text": [
            "1/1 [==============================] - 0s 37ms/step\n"
          ]
        },
        {
          "output_type": "stream",
          "name": "stderr",
          "text": [
            "100%|██████████| 200/200 [00:00<00:00, 727.03it/s, SC=-19.4, loss=2.93e+6]\n"
          ]
        },
        {
          "output_type": "stream",
          "name": "stdout",
          "text": [
            "1/1 [==============================] - 0s 25ms/step\n"
          ]
        },
        {
          "output_type": "stream",
          "name": "stderr",
          "text": [
            "100%|██████████| 200/200 [00:00<00:00, 816.64it/s, SC=-17.5, loss=7.46e+6]\n"
          ]
        },
        {
          "output_type": "stream",
          "name": "stdout",
          "text": [
            "1/1 [==============================] - 0s 27ms/step\n"
          ]
        },
        {
          "output_type": "stream",
          "name": "stderr",
          "text": [
            "100%|██████████| 200/200 [00:00<00:00, 781.85it/s, SC=-17.6, loss=3.52e+4]\n"
          ]
        },
        {
          "output_type": "stream",
          "name": "stdout",
          "text": [
            "1/1 [==============================] - 0s 27ms/step\n"
          ]
        },
        {
          "output_type": "stream",
          "name": "stderr",
          "text": [
            "100%|██████████| 200/200 [00:00<00:00, 765.70it/s, SC=-19.7, loss=4.61e+6]\n"
          ]
        },
        {
          "output_type": "stream",
          "name": "stdout",
          "text": [
            "1/1 [==============================] - 0s 28ms/step\n"
          ]
        },
        {
          "output_type": "stream",
          "name": "stderr",
          "text": [
            "100%|██████████| 200/200 [00:00<00:00, 624.09it/s, SC=-19.1, loss=3.86e+6]\n"
          ]
        },
        {
          "output_type": "stream",
          "name": "stdout",
          "text": [
            "1/1 [==============================] - 0s 67ms/step\n"
          ]
        },
        {
          "output_type": "stream",
          "name": "stderr",
          "text": [
            "100%|██████████| 200/200 [00:00<00:00, 800.40it/s, SC=-18.5, loss=1.14e+6]\n"
          ]
        },
        {
          "output_type": "stream",
          "name": "stdout",
          "text": [
            "1/1 [==============================] - 0s 27ms/step\n"
          ]
        },
        {
          "output_type": "stream",
          "name": "stderr",
          "text": [
            "100%|██████████| 200/200 [00:00<00:00, 861.75it/s, SC=-20.9, loss=2.79e+6]\n"
          ]
        },
        {
          "output_type": "stream",
          "name": "stdout",
          "text": [
            "1/1 [==============================] - 0s 17ms/step\n"
          ]
        },
        {
          "output_type": "stream",
          "name": "stderr",
          "text": [
            "100%|██████████| 200/200 [00:00<00:00, 1157.07it/s, SC=-18.1, loss=4.36e+4]\n"
          ]
        },
        {
          "output_type": "stream",
          "name": "stdout",
          "text": [
            "1/1 [==============================] - 0s 18ms/step\n"
          ]
        },
        {
          "output_type": "stream",
          "name": "stderr",
          "text": [
            "100%|██████████| 200/200 [00:00<00:00, 937.00it/s, SC=-17.4, loss=5.58e+4]\n"
          ]
        },
        {
          "output_type": "stream",
          "name": "stdout",
          "text": [
            "1/1 [==============================] - 0s 19ms/step\n"
          ]
        },
        {
          "output_type": "stream",
          "name": "stderr",
          "text": [
            "100%|██████████| 200/200 [00:00<00:00, 1022.54it/s, SC=-19.1, loss=4.65e+6]\n"
          ]
        },
        {
          "output_type": "stream",
          "name": "stdout",
          "text": [
            "1/1 [==============================] - 0s 18ms/step\n"
          ]
        },
        {
          "output_type": "stream",
          "name": "stderr",
          "text": [
            "100%|██████████| 200/200 [00:00<00:00, 952.33it/s, SC=-18.3, loss=2.48e+6]\n"
          ]
        },
        {
          "output_type": "stream",
          "name": "stdout",
          "text": [
            "1/1 [==============================] - 0s 19ms/step\n"
          ]
        },
        {
          "output_type": "stream",
          "name": "stderr",
          "text": [
            "100%|██████████| 200/200 [00:00<00:00, 729.68it/s, SC=-16.5, loss=2.29e+6]\n"
          ]
        },
        {
          "output_type": "stream",
          "name": "stdout",
          "text": [
            "1/1 [==============================] - 0s 28ms/step\n"
          ]
        },
        {
          "output_type": "stream",
          "name": "stderr",
          "text": [
            "100%|██████████| 200/200 [00:00<00:00, 1062.11it/s, SC=-16.7, loss=4.12e+6]\n"
          ]
        },
        {
          "output_type": "stream",
          "name": "stdout",
          "text": [
            "1/1 [==============================] - 0s 19ms/step\n"
          ]
        },
        {
          "output_type": "stream",
          "name": "stderr",
          "text": [
            "100%|██████████| 200/200 [00:00<00:00, 1001.97it/s, SC=-20, loss=4.3e+6]\n"
          ]
        },
        {
          "output_type": "stream",
          "name": "stdout",
          "text": [
            "1/1 [==============================] - 0s 18ms/step\n"
          ]
        },
        {
          "output_type": "stream",
          "name": "stderr",
          "text": [
            "100%|██████████| 200/200 [00:00<00:00, 1225.37it/s, SC=-18.3, loss=2.02e+6]\n"
          ]
        },
        {
          "output_type": "stream",
          "name": "stdout",
          "text": [
            "1/1 [==============================] - 0s 23ms/step\n"
          ]
        },
        {
          "output_type": "stream",
          "name": "stderr",
          "text": [
            "100%|██████████| 200/200 [00:00<00:00, 899.91it/s, SC=-17.1, loss=4.41e+4]\n"
          ]
        },
        {
          "output_type": "stream",
          "name": "stdout",
          "text": [
            "1/1 [==============================] - 0s 17ms/step\n"
          ]
        },
        {
          "output_type": "stream",
          "name": "stderr",
          "text": [
            "100%|██████████| 200/200 [00:00<00:00, 933.44it/s, SC=-18.2, loss=3.64e+6]\n"
          ]
        },
        {
          "output_type": "stream",
          "name": "stdout",
          "text": [
            "1/1 [==============================] - 0s 19ms/step\n"
          ]
        },
        {
          "output_type": "stream",
          "name": "stderr",
          "text": [
            "100%|██████████| 200/200 [00:00<00:00, 1138.76it/s, SC=-16.8, loss=8.8e+4]\n"
          ]
        },
        {
          "output_type": "stream",
          "name": "stdout",
          "text": [
            "1/1 [==============================] - 0s 19ms/step\n"
          ]
        },
        {
          "output_type": "stream",
          "name": "stderr",
          "text": [
            "100%|██████████| 200/200 [00:00<00:00, 1033.10it/s, SC=-16.4, loss=5.28e+4]\n"
          ]
        },
        {
          "output_type": "stream",
          "name": "stdout",
          "text": [
            "1/1 [==============================] - 0s 18ms/step\n"
          ]
        },
        {
          "output_type": "stream",
          "name": "stderr",
          "text": [
            "100%|██████████| 200/200 [00:00<00:00, 845.35it/s, SC=-17.6, loss=2.92e+5]\n"
          ]
        },
        {
          "output_type": "stream",
          "name": "stdout",
          "text": [
            "1/1 [==============================] - 0s 26ms/step\n"
          ]
        },
        {
          "output_type": "stream",
          "name": "stderr",
          "text": [
            "100%|██████████| 200/200 [00:00<00:00, 984.86it/s, SC=-17.6, loss=6.53e+4]\n"
          ]
        },
        {
          "output_type": "stream",
          "name": "stdout",
          "text": [
            "1/1 [==============================] - 0s 22ms/step\n"
          ]
        },
        {
          "output_type": "stream",
          "name": "stderr",
          "text": [
            "100%|██████████| 200/200 [00:00<00:00, 1072.39it/s, SC=-16.7, loss=3.59e+4]\n"
          ]
        },
        {
          "output_type": "stream",
          "name": "stdout",
          "text": [
            "1/1 [==============================] - 0s 29ms/step\n"
          ]
        },
        {
          "output_type": "stream",
          "name": "stderr",
          "text": [
            "100%|██████████| 200/200 [00:00<00:00, 1035.97it/s, SC=-18, loss=7.41e+6]\n"
          ]
        },
        {
          "output_type": "stream",
          "name": "stdout",
          "text": [
            "1/1 [==============================] - 0s 21ms/step\n"
          ]
        },
        {
          "output_type": "stream",
          "name": "stderr",
          "text": [
            "100%|██████████| 200/200 [00:00<00:00, 1174.80it/s, SC=-18.7, loss=1.95e+4]\n"
          ]
        },
        {
          "output_type": "stream",
          "name": "stdout",
          "text": [
            "1/1 [==============================] - 0s 18ms/step\n"
          ]
        },
        {
          "output_type": "stream",
          "name": "stderr",
          "text": [
            "100%|██████████| 200/200 [00:00<00:00, 1110.14it/s, SC=-16, loss=4.65e+6]\n"
          ]
        },
        {
          "output_type": "stream",
          "name": "stdout",
          "text": [
            "1/1 [==============================] - 0s 19ms/step\n"
          ]
        },
        {
          "output_type": "stream",
          "name": "stderr",
          "text": [
            "100%|██████████| 200/200 [00:00<00:00, 1069.08it/s, SC=-17.3, loss=1.59e+6]\n"
          ]
        },
        {
          "output_type": "stream",
          "name": "stdout",
          "text": [
            "1/1 [==============================] - 0s 19ms/step\n"
          ]
        },
        {
          "output_type": "stream",
          "name": "stderr",
          "text": [
            "100%|██████████| 200/200 [00:00<00:00, 1127.83it/s, SC=-19.3, loss=2.36e+6]\n"
          ]
        },
        {
          "output_type": "stream",
          "name": "stdout",
          "text": [
            "1/1 [==============================] - 0s 20ms/step\n"
          ]
        },
        {
          "output_type": "stream",
          "name": "stderr",
          "text": [
            "100%|██████████| 200/200 [00:00<00:00, 986.75it/s, SC=-18, loss=5.35e+6] \n"
          ]
        },
        {
          "output_type": "stream",
          "name": "stdout",
          "text": [
            "1/1 [==============================] - 0s 18ms/step\n"
          ]
        },
        {
          "output_type": "stream",
          "name": "stderr",
          "text": [
            "100%|██████████| 200/200 [00:00<00:00, 1094.96it/s, SC=-17.8, loss=3.99e+6]\n"
          ]
        },
        {
          "output_type": "stream",
          "name": "stdout",
          "text": [
            "1/1 [==============================] - 0s 19ms/step\n"
          ]
        },
        {
          "output_type": "stream",
          "name": "stderr",
          "text": [
            "100%|██████████| 200/200 [00:00<00:00, 1057.41it/s, SC=-16.7, loss=1.63e+5]\n"
          ]
        },
        {
          "output_type": "stream",
          "name": "stdout",
          "text": [
            "1/1 [==============================] - 0s 23ms/step\n"
          ]
        },
        {
          "output_type": "stream",
          "name": "stderr",
          "text": [
            "100%|██████████| 200/200 [00:00<00:00, 1058.79it/s, SC=-16.6, loss=2.59e+6]\n"
          ]
        },
        {
          "output_type": "stream",
          "name": "stdout",
          "text": [
            "1/1 [==============================] - 0s 17ms/step\n"
          ]
        },
        {
          "output_type": "stream",
          "name": "stderr",
          "text": [
            "100%|██████████| 200/200 [00:00<00:00, 800.32it/s, SC=-16.1, loss=6.12e+6]\n"
          ]
        },
        {
          "output_type": "stream",
          "name": "stdout",
          "text": [
            "1/1 [==============================] - 0s 25ms/step\n"
          ]
        },
        {
          "output_type": "stream",
          "name": "stderr",
          "text": [
            "100%|██████████| 200/200 [00:00<00:00, 777.57it/s, SC=-18.6, loss=3.44e+6]\n"
          ]
        },
        {
          "output_type": "stream",
          "name": "stdout",
          "text": [
            "1/1 [==============================] - 0s 24ms/step\n"
          ]
        },
        {
          "output_type": "stream",
          "name": "stderr",
          "text": [
            "100%|██████████| 200/200 [00:00<00:00, 1027.05it/s, SC=-18.8, loss=1.15e+5]\n"
          ]
        },
        {
          "output_type": "stream",
          "name": "stdout",
          "text": [
            "1/1 [==============================] - 0s 17ms/step\n"
          ]
        },
        {
          "output_type": "stream",
          "name": "stderr",
          "text": [
            "100%|██████████| 200/200 [00:00<00:00, 905.51it/s, SC=-16.7, loss=3.96e+6]\n"
          ]
        },
        {
          "output_type": "stream",
          "name": "stdout",
          "text": [
            "1/1 [==============================] - 0s 18ms/step\n"
          ]
        },
        {
          "output_type": "stream",
          "name": "stderr",
          "text": [
            "100%|██████████| 200/200 [00:00<00:00, 929.95it/s, SC=-16.1, loss=9.44e+6]\n"
          ]
        },
        {
          "output_type": "stream",
          "name": "stdout",
          "text": [
            "1/1 [==============================] - 0s 18ms/step\n"
          ]
        },
        {
          "output_type": "stream",
          "name": "stderr",
          "text": [
            "100%|██████████| 200/200 [00:00<00:00, 992.52it/s, SC=-17.5, loss=9.96e+6] \n"
          ]
        },
        {
          "output_type": "stream",
          "name": "stdout",
          "text": [
            "1/1 [==============================] - 0s 18ms/step\n"
          ]
        },
        {
          "output_type": "stream",
          "name": "stderr",
          "text": [
            "100%|██████████| 200/200 [00:00<00:00, 1032.34it/s, SC=-17, loss=2.37e+5]\n"
          ]
        },
        {
          "output_type": "stream",
          "name": "stdout",
          "text": [
            "1/1 [==============================] - 0s 19ms/step\n"
          ]
        },
        {
          "output_type": "stream",
          "name": "stderr",
          "text": [
            "100%|██████████| 200/200 [00:00<00:00, 1124.28it/s, SC=-17.4, loss=1.21e+7]\n"
          ]
        },
        {
          "output_type": "stream",
          "name": "stdout",
          "text": [
            "1/1 [==============================] - 0s 24ms/step\n"
          ]
        },
        {
          "output_type": "stream",
          "name": "stderr",
          "text": [
            "100%|██████████| 200/200 [00:00<00:00, 997.04it/s, SC=-18.4, loss=7.95e+5] \n"
          ]
        },
        {
          "output_type": "stream",
          "name": "stdout",
          "text": [
            "1/1 [==============================] - 0s 21ms/step\n"
          ]
        },
        {
          "output_type": "stream",
          "name": "stderr",
          "text": [
            "100%|██████████| 200/200 [00:00<00:00, 845.24it/s, SC=-16.6, loss=5.58e+6]\n"
          ]
        },
        {
          "output_type": "stream",
          "name": "stdout",
          "text": [
            "1/1 [==============================] - 0s 42ms/step\n"
          ]
        },
        {
          "output_type": "stream",
          "name": "stderr",
          "text": [
            "100%|██████████| 200/200 [00:00<00:00, 935.84it/s, SC=-17.4, loss=4.58e+6]\n"
          ]
        },
        {
          "output_type": "stream",
          "name": "stdout",
          "text": [
            "1/1 [==============================] - 0s 30ms/step\n"
          ]
        },
        {
          "output_type": "stream",
          "name": "stderr",
          "text": [
            "100%|██████████| 200/200 [00:00<00:00, 939.53it/s, SC=-20.3, loss=4.38e+5] \n"
          ]
        },
        {
          "output_type": "stream",
          "name": "stdout",
          "text": [
            "1/1 [==============================] - 0s 28ms/step\n"
          ]
        },
        {
          "output_type": "stream",
          "name": "stderr",
          "text": [
            "100%|██████████| 200/200 [00:00<00:00, 915.26it/s, SC=-18.6, loss=8.61e+5]\n"
          ]
        },
        {
          "output_type": "stream",
          "name": "stdout",
          "text": [
            "1/1 [==============================] - 0s 28ms/step\n"
          ]
        },
        {
          "output_type": "stream",
          "name": "stderr",
          "text": [
            "100%|██████████| 200/200 [00:00<00:00, 661.56it/s, SC=-16.3, loss=1e+7]\n"
          ]
        },
        {
          "output_type": "stream",
          "name": "stdout",
          "text": [
            "1/1 [==============================] - 0s 46ms/step\n"
          ]
        },
        {
          "output_type": "stream",
          "name": "stderr",
          "text": [
            "100%|██████████| 200/200 [00:00<00:00, 1100.96it/s, SC=-18.3, loss=2.16e+5]\n"
          ]
        },
        {
          "output_type": "stream",
          "name": "stdout",
          "text": [
            "1/1 [==============================] - 0s 29ms/step\n"
          ]
        },
        {
          "output_type": "stream",
          "name": "stderr",
          "text": [
            "100%|██████████| 200/200 [00:00<00:00, 818.81it/s, SC=-16, loss=7.29e+6]\n"
          ]
        },
        {
          "output_type": "stream",
          "name": "stdout",
          "text": [
            "1/1 [==============================] - 0s 41ms/step\n"
          ]
        },
        {
          "output_type": "stream",
          "name": "stderr",
          "text": [
            "100%|██████████| 200/200 [00:00<00:00, 903.45it/s, SC=-16.5, loss=6.3e+6]\n"
          ]
        },
        {
          "output_type": "stream",
          "name": "stdout",
          "text": [
            "1/1 [==============================] - 0s 25ms/step\n"
          ]
        },
        {
          "output_type": "stream",
          "name": "stderr",
          "text": [
            "100%|██████████| 200/200 [00:00<00:00, 870.57it/s, SC=-17.7, loss=2.27e+5]\n"
          ]
        },
        {
          "output_type": "stream",
          "name": "stdout",
          "text": [
            "1/1 [==============================] - 0s 29ms/step\n"
          ]
        },
        {
          "output_type": "stream",
          "name": "stderr",
          "text": [
            "100%|██████████| 200/200 [00:00<00:00, 689.70it/s, SC=-18.6, loss=1.23e+6]\n"
          ]
        },
        {
          "output_type": "stream",
          "name": "stdout",
          "text": [
            "1/1 [==============================] - 0s 29ms/step\n"
          ]
        },
        {
          "output_type": "stream",
          "name": "stderr",
          "text": [
            "100%|██████████| 200/200 [00:00<00:00, 805.13it/s, SC=-19.7, loss=8.06e+5]\n"
          ]
        },
        {
          "output_type": "stream",
          "name": "stdout",
          "text": [
            "1/1 [==============================] - 0s 25ms/step\n"
          ]
        },
        {
          "output_type": "stream",
          "name": "stderr",
          "text": [
            "100%|██████████| 200/200 [00:00<00:00, 841.70it/s, SC=-19.3, loss=1.25e+6]\n"
          ]
        },
        {
          "output_type": "stream",
          "name": "stdout",
          "text": [
            "1/1 [==============================] - 0s 26ms/step\n"
          ]
        },
        {
          "output_type": "stream",
          "name": "stderr",
          "text": [
            "100%|██████████| 200/200 [00:00<00:00, 978.70it/s, SC=-16.2, loss=7.19e+4]\n"
          ]
        },
        {
          "output_type": "stream",
          "name": "stdout",
          "text": [
            "1/1 [==============================] - 0s 34ms/step\n"
          ]
        },
        {
          "output_type": "stream",
          "name": "stderr",
          "text": [
            "100%|██████████| 200/200 [00:00<00:00, 743.93it/s, SC=-20.5, loss=2.96e+6]\n"
          ]
        },
        {
          "output_type": "stream",
          "name": "stdout",
          "text": [
            "1/1 [==============================] - 0s 26ms/step\n"
          ]
        },
        {
          "output_type": "stream",
          "name": "stderr",
          "text": [
            "100%|██████████| 200/200 [00:00<00:00, 912.25it/s, SC=-18.6, loss=2.32e+6]\n"
          ]
        },
        {
          "output_type": "stream",
          "name": "stdout",
          "text": [
            "1/1 [==============================] - 0s 25ms/step\n"
          ]
        },
        {
          "output_type": "stream",
          "name": "stderr",
          "text": [
            "100%|██████████| 200/200 [00:00<00:00, 959.43it/s, SC=-17.2, loss=2.33e+6] \n"
          ]
        },
        {
          "output_type": "stream",
          "name": "stdout",
          "text": [
            "1/1 [==============================] - 0s 17ms/step\n"
          ]
        },
        {
          "output_type": "stream",
          "name": "stderr",
          "text": [
            "100%|██████████| 200/200 [00:00<00:00, 1034.92it/s, SC=-16.5, loss=2.14e+5]\n"
          ]
        },
        {
          "output_type": "stream",
          "name": "stdout",
          "text": [
            "1/1 [==============================] - 0s 24ms/step\n"
          ]
        },
        {
          "output_type": "stream",
          "name": "stderr",
          "text": [
            "100%|██████████| 200/200 [00:00<00:00, 1013.89it/s, SC=-16.3, loss=3.45e+4]\n"
          ]
        },
        {
          "output_type": "stream",
          "name": "stdout",
          "text": [
            "1/1 [==============================] - 0s 18ms/step\n"
          ]
        },
        {
          "output_type": "stream",
          "name": "stderr",
          "text": [
            "100%|██████████| 200/200 [00:00<00:00, 866.72it/s, SC=-21.6, loss=1.73e+6]\n"
          ]
        },
        {
          "output_type": "stream",
          "name": "stdout",
          "text": [
            "1/1 [==============================] - 0s 19ms/step\n"
          ]
        },
        {
          "output_type": "stream",
          "name": "stderr",
          "text": [
            "100%|██████████| 200/200 [00:00<00:00, 837.88it/s, SC=-17.2, loss=3.92e+6]\n"
          ]
        },
        {
          "output_type": "stream",
          "name": "stdout",
          "text": [
            "1/1 [==============================] - 0s 25ms/step\n"
          ]
        },
        {
          "output_type": "stream",
          "name": "stderr",
          "text": [
            "100%|██████████| 200/200 [00:00<00:00, 890.77it/s, SC=-17.7, loss=3.42e+6]\n"
          ]
        },
        {
          "output_type": "stream",
          "name": "stdout",
          "text": [
            "1/1 [==============================] - 0s 18ms/step\n"
          ]
        },
        {
          "output_type": "stream",
          "name": "stderr",
          "text": [
            "100%|██████████| 200/200 [00:00<00:00, 885.75it/s, SC=-17.3, loss=3.73e+6]\n"
          ]
        },
        {
          "output_type": "stream",
          "name": "stdout",
          "text": [
            "1/1 [==============================] - 0s 24ms/step\n"
          ]
        },
        {
          "output_type": "stream",
          "name": "stderr",
          "text": [
            "100%|██████████| 200/200 [00:00<00:00, 1125.91it/s, SC=-19, loss=7.07e+4]\n"
          ]
        },
        {
          "output_type": "stream",
          "name": "stdout",
          "text": [
            "1/1 [==============================] - 0s 21ms/step\n"
          ]
        },
        {
          "output_type": "stream",
          "name": "stderr",
          "text": [
            "100%|██████████| 200/200 [00:00<00:00, 1083.82it/s, SC=-17.9, loss=2.29e+6]\n"
          ]
        },
        {
          "output_type": "stream",
          "name": "stdout",
          "text": [
            "1/1 [==============================] - 0s 20ms/step\n"
          ]
        },
        {
          "output_type": "stream",
          "name": "stderr",
          "text": [
            "100%|██████████| 200/200 [00:00<00:00, 1138.93it/s, SC=-16.9, loss=1.8e+5]\n"
          ]
        },
        {
          "output_type": "stream",
          "name": "stdout",
          "text": [
            "1/1 [==============================] - 0s 18ms/step\n"
          ]
        },
        {
          "output_type": "stream",
          "name": "stderr",
          "text": [
            "100%|██████████| 200/200 [00:00<00:00, 877.30it/s, SC=-17.6, loss=2.14e+6]\n"
          ]
        },
        {
          "output_type": "stream",
          "name": "stdout",
          "text": [
            "1/1 [==============================] - 0s 19ms/step\n"
          ]
        },
        {
          "output_type": "stream",
          "name": "stderr",
          "text": [
            "100%|██████████| 200/200 [00:00<00:00, 928.73it/s, SC=-19.2, loss=2.93e+6]\n"
          ]
        },
        {
          "output_type": "stream",
          "name": "stdout",
          "text": [
            "1/1 [==============================] - 0s 21ms/step\n"
          ]
        },
        {
          "output_type": "stream",
          "name": "stderr",
          "text": [
            "100%|██████████| 200/200 [00:00<00:00, 889.17it/s, SC=-17.7, loss=8.41e+6]\n"
          ]
        },
        {
          "output_type": "stream",
          "name": "stdout",
          "text": [
            "1/1 [==============================] - 0s 20ms/step\n"
          ]
        },
        {
          "output_type": "stream",
          "name": "stderr",
          "text": [
            "100%|██████████| 200/200 [00:00<00:00, 951.72it/s, SC=-17.1, loss=3.06e+6]\n"
          ]
        },
        {
          "output_type": "stream",
          "name": "stdout",
          "text": [
            "1/1 [==============================] - 0s 18ms/step\n"
          ]
        },
        {
          "output_type": "stream",
          "name": "stderr",
          "text": [
            "100%|██████████| 200/200 [00:00<00:00, 1097.70it/s, SC=-16.6, loss=2.08e+5]\n"
          ]
        },
        {
          "output_type": "stream",
          "name": "stdout",
          "text": [
            "1/1 [==============================] - 0s 18ms/step\n"
          ]
        },
        {
          "output_type": "stream",
          "name": "stderr",
          "text": [
            "100%|██████████| 200/200 [00:00<00:00, 974.73it/s, SC=-19.4, loss=4.07e+6] \n"
          ]
        },
        {
          "output_type": "stream",
          "name": "stdout",
          "text": [
            "1/1 [==============================] - 0s 22ms/step\n"
          ]
        },
        {
          "output_type": "stream",
          "name": "stderr",
          "text": [
            "100%|██████████| 200/200 [00:00<00:00, 809.19it/s, SC=-15.3, loss=2.14e+5]\n"
          ]
        },
        {
          "output_type": "stream",
          "name": "stdout",
          "text": [
            "1/1 [==============================] - 0s 26ms/step\n"
          ]
        },
        {
          "output_type": "stream",
          "name": "stderr",
          "text": [
            "100%|██████████| 200/200 [00:00<00:00, 789.82it/s, SC=-18.4, loss=4.09e+6]\n"
          ]
        },
        {
          "output_type": "stream",
          "name": "stdout",
          "text": [
            "1/1 [==============================] - 0s 17ms/step\n"
          ]
        },
        {
          "output_type": "stream",
          "name": "stderr",
          "text": [
            "100%|██████████| 200/200 [00:00<00:00, 946.97it/s, SC=-18.5, loss=5.8e+6] \n"
          ]
        },
        {
          "output_type": "stream",
          "name": "stdout",
          "text": [
            "1/1 [==============================] - 0s 21ms/step\n"
          ]
        },
        {
          "output_type": "stream",
          "name": "stderr",
          "text": [
            "100%|██████████| 200/200 [00:00<00:00, 1202.15it/s, SC=-19.6, loss=3.33e+4]\n"
          ]
        },
        {
          "output_type": "stream",
          "name": "stdout",
          "text": [
            "1/1 [==============================] - 0s 17ms/step\n"
          ]
        },
        {
          "output_type": "stream",
          "name": "stderr",
          "text": [
            "100%|██████████| 200/200 [00:00<00:00, 911.00it/s, SC=-20.6, loss=3.22e+6]\n"
          ]
        },
        {
          "output_type": "stream",
          "name": "stdout",
          "text": [
            "1/1 [==============================] - 0s 20ms/step\n"
          ]
        },
        {
          "output_type": "stream",
          "name": "stderr",
          "text": [
            "100%|██████████| 200/200 [00:00<00:00, 1126.24it/s, SC=-15.8, loss=7.89e+6]\n"
          ]
        },
        {
          "output_type": "stream",
          "name": "stdout",
          "text": [
            "1/1 [==============================] - 0s 18ms/step\n"
          ]
        },
        {
          "output_type": "stream",
          "name": "stderr",
          "text": [
            "100%|██████████| 200/200 [00:00<00:00, 978.31it/s, SC=-16.1, loss=2.75e+6] \n"
          ]
        },
        {
          "output_type": "stream",
          "name": "stdout",
          "text": [
            "1/1 [==============================] - 0s 24ms/step\n"
          ]
        },
        {
          "output_type": "stream",
          "name": "stderr",
          "text": [
            "100%|██████████| 200/200 [00:00<00:00, 985.27it/s, SC=-19.4, loss=4.57e+6] \n"
          ]
        },
        {
          "output_type": "stream",
          "name": "stdout",
          "text": [
            "1/1 [==============================] - 0s 18ms/step\n"
          ]
        },
        {
          "output_type": "stream",
          "name": "stderr",
          "text": [
            "100%|██████████| 200/200 [00:00<00:00, 1091.32it/s, SC=-16.4, loss=5.47e+6]\n"
          ]
        },
        {
          "output_type": "stream",
          "name": "stdout",
          "text": [
            "1/1 [==============================] - 0s 17ms/step\n"
          ]
        },
        {
          "output_type": "stream",
          "name": "stderr",
          "text": [
            "100%|██████████| 200/200 [00:00<00:00, 940.23it/s, SC=-17.4, loss=1.69e+6]\n"
          ]
        },
        {
          "output_type": "stream",
          "name": "stdout",
          "text": [
            "1/1 [==============================] - 0s 21ms/step\n"
          ]
        },
        {
          "output_type": "stream",
          "name": "stderr",
          "text": [
            "100%|██████████| 200/200 [00:00<00:00, 798.53it/s, SC=-19.8, loss=1.24e+6]\n"
          ]
        },
        {
          "output_type": "stream",
          "name": "stdout",
          "text": [
            "1/1 [==============================] - 0s 17ms/step\n"
          ]
        },
        {
          "output_type": "stream",
          "name": "stderr",
          "text": [
            "100%|██████████| 200/200 [00:00<00:00, 1015.70it/s, SC=-17.8, loss=5.06e+4]\n"
          ]
        },
        {
          "output_type": "stream",
          "name": "stdout",
          "text": [
            "1/1 [==============================] - 0s 19ms/step\n"
          ]
        },
        {
          "output_type": "stream",
          "name": "stderr",
          "text": [
            "100%|██████████| 200/200 [00:00<00:00, 893.78it/s, SC=-18.3, loss=6.48e+6]\n"
          ]
        },
        {
          "output_type": "stream",
          "name": "stdout",
          "text": [
            "1/1 [==============================] - 0s 26ms/step\n"
          ]
        },
        {
          "output_type": "stream",
          "name": "stderr",
          "text": [
            "100%|██████████| 200/200 [00:00<00:00, 1076.90it/s, SC=-17.9, loss=2.34e+4]\n"
          ]
        },
        {
          "output_type": "stream",
          "name": "stdout",
          "text": [
            "1/1 [==============================] - 0s 20ms/step\n"
          ]
        },
        {
          "output_type": "stream",
          "name": "stderr",
          "text": [
            "100%|██████████| 200/200 [00:00<00:00, 1022.47it/s, SC=-18.4, loss=5.56e+6]\n"
          ]
        },
        {
          "output_type": "stream",
          "name": "stdout",
          "text": [
            "1/1 [==============================] - 0s 19ms/step\n"
          ]
        },
        {
          "output_type": "stream",
          "name": "stderr",
          "text": [
            "100%|██████████| 200/200 [00:00<00:00, 895.55it/s, SC=-18.3, loss=3.43e+6]\n"
          ]
        },
        {
          "output_type": "stream",
          "name": "stdout",
          "text": [
            "1/1 [==============================] - 0s 19ms/step\n"
          ]
        },
        {
          "output_type": "stream",
          "name": "stderr",
          "text": [
            "100%|██████████| 200/200 [00:00<00:00, 892.98it/s, SC=-17.5, loss=1.14e+7]\n"
          ]
        },
        {
          "output_type": "stream",
          "name": "stdout",
          "text": [
            "1/1 [==============================] - 0s 33ms/step\n"
          ]
        },
        {
          "output_type": "stream",
          "name": "stderr",
          "text": [
            "100%|██████████| 200/200 [00:00<00:00, 688.02it/s, SC=-16.1, loss=3.83e+6]\n"
          ]
        },
        {
          "output_type": "stream",
          "name": "stdout",
          "text": [
            "1/1 [==============================] - 0s 52ms/step\n"
          ]
        },
        {
          "output_type": "stream",
          "name": "stderr",
          "text": [
            "100%|██████████| 200/200 [00:00<00:00, 747.38it/s, SC=-16.9, loss=1.31e+6]\n"
          ]
        },
        {
          "output_type": "stream",
          "name": "stdout",
          "text": [
            "1/1 [==============================] - 0s 37ms/step\n"
          ]
        },
        {
          "output_type": "stream",
          "name": "stderr",
          "text": [
            "100%|██████████| 200/200 [00:00<00:00, 647.92it/s, SC=-17.7, loss=3.34e+6]\n"
          ]
        },
        {
          "output_type": "stream",
          "name": "stdout",
          "text": [
            "1/1 [==============================] - 0s 36ms/step\n"
          ]
        },
        {
          "output_type": "stream",
          "name": "stderr",
          "text": [
            "100%|██████████| 200/200 [00:00<00:00, 776.25it/s, SC=-17.5, loss=9.47e+4]\n"
          ]
        },
        {
          "output_type": "stream",
          "name": "stdout",
          "text": [
            "1/1 [==============================] - 0s 28ms/step\n"
          ]
        },
        {
          "output_type": "stream",
          "name": "stderr",
          "text": [
            "100%|██████████| 200/200 [00:00<00:00, 800.14it/s, SC=-16.1, loss=4.19e+6]\n"
          ]
        },
        {
          "output_type": "stream",
          "name": "stdout",
          "text": [
            "1/1 [==============================] - 0s 27ms/step\n"
          ]
        },
        {
          "output_type": "stream",
          "name": "stderr",
          "text": [
            "100%|██████████| 200/200 [00:00<00:00, 814.36it/s, SC=-17.9, loss=9.62e+6]\n"
          ]
        },
        {
          "output_type": "stream",
          "name": "stdout",
          "text": [
            "1/1 [==============================] - 0s 29ms/step\n"
          ]
        },
        {
          "output_type": "stream",
          "name": "stderr",
          "text": [
            "100%|██████████| 200/200 [00:00<00:00, 884.58it/s, SC=-17.7, loss=5.93e+6]\n"
          ]
        },
        {
          "output_type": "stream",
          "name": "stdout",
          "text": [
            "1/1 [==============================] - 0s 38ms/step\n"
          ]
        },
        {
          "output_type": "stream",
          "name": "stderr",
          "text": [
            "100%|██████████| 200/200 [00:00<00:00, 858.02it/s, SC=-16, loss=2.91e+6]\n"
          ]
        },
        {
          "output_type": "stream",
          "name": "stdout",
          "text": [
            "1/1 [==============================] - 0s 25ms/step\n"
          ]
        },
        {
          "output_type": "stream",
          "name": "stderr",
          "text": [
            "100%|██████████| 200/200 [00:00<00:00, 645.22it/s, SC=-17.6, loss=1.9e+6]\n"
          ]
        },
        {
          "output_type": "stream",
          "name": "stdout",
          "text": [
            "1/1 [==============================] - 0s 29ms/step\n"
          ]
        },
        {
          "output_type": "stream",
          "name": "stderr",
          "text": [
            "100%|██████████| 200/200 [00:00<00:00, 890.80it/s, SC=-16.6, loss=2.04e+6]\n"
          ]
        },
        {
          "output_type": "stream",
          "name": "stdout",
          "text": [
            "1/1 [==============================] - 0s 39ms/step\n"
          ]
        },
        {
          "output_type": "stream",
          "name": "stderr",
          "text": [
            "100%|██████████| 200/200 [00:00<00:00, 805.84it/s, SC=-19.5, loss=1.22e+6]\n"
          ]
        },
        {
          "output_type": "stream",
          "name": "stdout",
          "text": [
            "1/1 [==============================] - 0s 39ms/step\n"
          ]
        },
        {
          "output_type": "stream",
          "name": "stderr",
          "text": [
            "100%|██████████| 200/200 [00:00<00:00, 696.50it/s, SC=-16.4, loss=4.5e+6]\n"
          ]
        },
        {
          "output_type": "stream",
          "name": "stdout",
          "text": [
            "1/1 [==============================] - 0s 27ms/step\n"
          ]
        },
        {
          "output_type": "stream",
          "name": "stderr",
          "text": [
            "100%|██████████| 200/200 [00:00<00:00, 762.23it/s, SC=-19, loss=2.49e+4]\n"
          ]
        },
        {
          "output_type": "stream",
          "name": "stdout",
          "text": [
            "1/1 [==============================] - 0s 23ms/step\n"
          ]
        },
        {
          "output_type": "stream",
          "name": "stderr",
          "text": [
            "100%|██████████| 200/200 [00:00<00:00, 913.65it/s, SC=-17.5, loss=6.09e+6]\n"
          ]
        },
        {
          "output_type": "stream",
          "name": "stdout",
          "text": [
            "1/1 [==============================] - 0s 19ms/step\n"
          ]
        },
        {
          "output_type": "stream",
          "name": "stderr",
          "text": [
            "100%|██████████| 200/200 [00:00<00:00, 639.84it/s, SC=-16.2, loss=2.99e+6]\n"
          ]
        },
        {
          "output_type": "stream",
          "name": "stdout",
          "text": [
            "1/1 [==============================] - 0s 27ms/step\n"
          ]
        },
        {
          "output_type": "stream",
          "name": "stderr",
          "text": [
            "100%|██████████| 200/200 [00:00<00:00, 824.05it/s, SC=-18.9, loss=1.61e+6]\n"
          ]
        },
        {
          "output_type": "stream",
          "name": "stdout",
          "text": [
            "1/1 [==============================] - 0s 19ms/step\n"
          ]
        },
        {
          "output_type": "stream",
          "name": "stderr",
          "text": [
            "100%|██████████| 200/200 [00:00<00:00, 1059.14it/s, SC=-19.9, loss=1.07e+6]\n"
          ]
        },
        {
          "output_type": "stream",
          "name": "stdout",
          "text": [
            "1/1 [==============================] - 0s 22ms/step\n"
          ]
        },
        {
          "output_type": "stream",
          "name": "stderr",
          "text": [
            "100%|██████████| 200/200 [00:00<00:00, 1146.97it/s, SC=-18.2, loss=1.66e+6]\n"
          ]
        },
        {
          "output_type": "stream",
          "name": "stdout",
          "text": [
            "1/1 [==============================] - 0s 18ms/step\n"
          ]
        },
        {
          "output_type": "stream",
          "name": "stderr",
          "text": [
            "100%|██████████| 200/200 [00:00<00:00, 1078.22it/s, SC=-20.9, loss=1.35e+6]\n"
          ]
        },
        {
          "output_type": "stream",
          "name": "stdout",
          "text": [
            "1/1 [==============================] - 0s 18ms/step\n"
          ]
        },
        {
          "output_type": "stream",
          "name": "stderr",
          "text": [
            "100%|██████████| 200/200 [00:00<00:00, 877.84it/s, SC=-17.1, loss=3.04e+6]\n"
          ]
        },
        {
          "output_type": "stream",
          "name": "stdout",
          "text": [
            "1/1 [==============================] - 0s 19ms/step\n"
          ]
        },
        {
          "output_type": "stream",
          "name": "stderr",
          "text": [
            "100%|██████████| 200/200 [00:00<00:00, 1139.91it/s, SC=-19.3, loss=4.09e+4]\n"
          ]
        },
        {
          "output_type": "stream",
          "name": "stdout",
          "text": [
            "1/1 [==============================] - 0s 17ms/step\n"
          ]
        },
        {
          "output_type": "stream",
          "name": "stderr",
          "text": [
            "100%|██████████| 200/200 [00:00<00:00, 738.92it/s, SC=-16.8, loss=5.77e+6]\n"
          ]
        },
        {
          "output_type": "stream",
          "name": "stdout",
          "text": [
            "1/1 [==============================] - 0s 25ms/step\n"
          ]
        },
        {
          "output_type": "stream",
          "name": "stderr",
          "text": [
            "100%|██████████| 200/200 [00:00<00:00, 1061.64it/s, SC=-19.6, loss=2.47e+4]\n"
          ]
        },
        {
          "output_type": "stream",
          "name": "stdout",
          "text": [
            "1/1 [==============================] - 0s 19ms/step\n"
          ]
        },
        {
          "output_type": "stream",
          "name": "stderr",
          "text": [
            "100%|██████████| 200/200 [00:00<00:00, 903.49it/s, SC=-19, loss=4.01e+6]\n"
          ]
        },
        {
          "output_type": "stream",
          "name": "stdout",
          "text": [
            "1/1 [==============================] - 0s 23ms/step\n"
          ]
        },
        {
          "output_type": "stream",
          "name": "stderr",
          "text": [
            "100%|██████████| 200/200 [00:00<00:00, 804.01it/s, SC=-18.2, loss=6.73e+6]\n"
          ]
        },
        {
          "output_type": "stream",
          "name": "stdout",
          "text": [
            "1/1 [==============================] - 0s 28ms/step\n"
          ]
        },
        {
          "output_type": "stream",
          "name": "stderr",
          "text": [
            "100%|██████████| 200/200 [00:00<00:00, 910.30it/s, SC=-19, loss=5.37e+6]\n"
          ]
        },
        {
          "output_type": "stream",
          "name": "stdout",
          "text": [
            "1/1 [==============================] - 0s 20ms/step\n"
          ]
        },
        {
          "output_type": "stream",
          "name": "stderr",
          "text": [
            "100%|██████████| 200/200 [00:00<00:00, 1101.59it/s, SC=-16.5, loss=4.43e+5]\n"
          ]
        },
        {
          "output_type": "stream",
          "name": "stdout",
          "text": [
            "1/1 [==============================] - 0s 18ms/step\n"
          ]
        },
        {
          "output_type": "stream",
          "name": "stderr",
          "text": [
            "100%|██████████| 200/200 [00:00<00:00, 945.76it/s, SC=-18.6, loss=1.07e+7]\n"
          ]
        },
        {
          "output_type": "stream",
          "name": "stdout",
          "text": [
            "1/1 [==============================] - 0s 18ms/step\n"
          ]
        },
        {
          "output_type": "stream",
          "name": "stderr",
          "text": [
            "100%|██████████| 200/200 [00:00<00:00, 487.52it/s, SC=-14.8, loss=1.92e+4]\n"
          ]
        },
        {
          "output_type": "stream",
          "name": "stdout",
          "text": [
            "1/1 [==============================] - 0s 31ms/step\n"
          ]
        },
        {
          "output_type": "stream",
          "name": "stderr",
          "text": [
            "100%|██████████| 200/200 [00:00<00:00, 1121.30it/s, SC=-17.3, loss=6.94e+4]\n"
          ]
        },
        {
          "output_type": "stream",
          "name": "stdout",
          "text": [
            "1/1 [==============================] - 0s 22ms/step\n"
          ]
        },
        {
          "output_type": "stream",
          "name": "stderr",
          "text": [
            "100%|██████████| 200/200 [00:00<00:00, 996.17it/s, SC=-17.6, loss=1.11e+5] \n"
          ]
        },
        {
          "output_type": "stream",
          "name": "stdout",
          "text": [
            "1/1 [==============================] - 0s 19ms/step\n"
          ]
        },
        {
          "output_type": "stream",
          "name": "stderr",
          "text": [
            "100%|██████████| 200/200 [00:00<00:00, 985.08it/s, SC=-18.9, loss=1.84e+6] \n"
          ]
        },
        {
          "output_type": "stream",
          "name": "stdout",
          "text": [
            "1/1 [==============================] - 0s 17ms/step\n"
          ]
        },
        {
          "output_type": "stream",
          "name": "stderr",
          "text": [
            "100%|██████████| 200/200 [00:00<00:00, 1007.00it/s, SC=-18, loss=8.83e+6]\n"
          ]
        },
        {
          "output_type": "stream",
          "name": "stdout",
          "text": [
            "1/1 [==============================] - 0s 18ms/step\n"
          ]
        },
        {
          "output_type": "stream",
          "name": "stderr",
          "text": [
            "100%|██████████| 200/200 [00:00<00:00, 947.57it/s, SC=-20.3, loss=2.63e+6] \n"
          ]
        },
        {
          "output_type": "stream",
          "name": "stdout",
          "text": [
            "1/1 [==============================] - 0s 18ms/step\n"
          ]
        },
        {
          "output_type": "stream",
          "name": "stderr",
          "text": [
            "100%|██████████| 200/200 [00:00<00:00, 1121.04it/s, SC=-18.2, loss=7.31e+4]\n"
          ]
        },
        {
          "output_type": "stream",
          "name": "stdout",
          "text": [
            "1/1 [==============================] - 0s 19ms/step\n"
          ]
        },
        {
          "output_type": "stream",
          "name": "stderr",
          "text": [
            "100%|██████████| 200/200 [00:00<00:00, 1059.60it/s, SC=-17.7, loss=3.83e+6]\n"
          ]
        },
        {
          "output_type": "stream",
          "name": "stdout",
          "text": [
            "1/1 [==============================] - 0s 17ms/step\n"
          ]
        },
        {
          "output_type": "stream",
          "name": "stderr",
          "text": [
            "100%|██████████| 200/200 [00:00<00:00, 927.85it/s, SC=-16.1, loss=1.1e+7]\n"
          ]
        },
        {
          "output_type": "stream",
          "name": "stdout",
          "text": [
            "1/1 [==============================] - 0s 19ms/step\n"
          ]
        },
        {
          "output_type": "stream",
          "name": "stderr",
          "text": [
            "100%|██████████| 200/200 [00:00<00:00, 1089.11it/s, SC=-13.8, loss=6.09e+5]\n"
          ]
        },
        {
          "output_type": "stream",
          "name": "stdout",
          "text": [
            "1/1 [==============================] - 0s 19ms/step\n"
          ]
        },
        {
          "output_type": "stream",
          "name": "stderr",
          "text": [
            "100%|██████████| 200/200 [00:00<00:00, 1035.23it/s, SC=-19.8, loss=3.25e+6]\n"
          ]
        },
        {
          "output_type": "stream",
          "name": "stdout",
          "text": [
            "1/1 [==============================] - 0s 22ms/step\n"
          ]
        },
        {
          "output_type": "stream",
          "name": "stderr",
          "text": [
            "100%|██████████| 200/200 [00:00<00:00, 743.26it/s, SC=-17, loss=4.38e+6]\n"
          ]
        },
        {
          "output_type": "stream",
          "name": "stdout",
          "text": [
            "1/1 [==============================] - 0s 24ms/step\n"
          ]
        },
        {
          "output_type": "stream",
          "name": "stderr",
          "text": [
            "100%|██████████| 200/200 [00:00<00:00, 919.72it/s, SC=-16, loss=1.47e+5]\n"
          ]
        },
        {
          "output_type": "stream",
          "name": "stdout",
          "text": [
            "1/1 [==============================] - 0s 18ms/step\n"
          ]
        },
        {
          "output_type": "stream",
          "name": "stderr",
          "text": [
            "100%|██████████| 200/200 [00:00<00:00, 1023.96it/s, SC=-17.6, loss=9.74e+4]\n"
          ]
        },
        {
          "output_type": "stream",
          "name": "stdout",
          "text": [
            "1/1 [==============================] - 0s 17ms/step\n"
          ]
        },
        {
          "output_type": "stream",
          "name": "stderr",
          "text": [
            "100%|██████████| 200/200 [00:00<00:00, 751.17it/s, SC=-19.2, loss=8.67e+6]\n"
          ]
        },
        {
          "output_type": "stream",
          "name": "stdout",
          "text": [
            "1/1 [==============================] - 0s 24ms/step\n"
          ]
        },
        {
          "output_type": "stream",
          "name": "stderr",
          "text": [
            "100%|██████████| 200/200 [00:00<00:00, 781.99it/s, SC=-17.9, loss=2.67e+6]\n"
          ]
        },
        {
          "output_type": "stream",
          "name": "stdout",
          "text": [
            "1/1 [==============================] - 0s 47ms/step\n"
          ]
        },
        {
          "output_type": "stream",
          "name": "stderr",
          "text": [
            "100%|██████████| 200/200 [00:00<00:00, 779.62it/s, SC=-17.7, loss=2.8e+6]\n"
          ]
        },
        {
          "output_type": "stream",
          "name": "stdout",
          "text": [
            "1/1 [==============================] - 0s 27ms/step\n"
          ]
        },
        {
          "output_type": "stream",
          "name": "stderr",
          "text": [
            "100%|██████████| 200/200 [00:00<00:00, 834.90it/s, SC=-17.5, loss=4.34e+6]\n"
          ]
        },
        {
          "output_type": "stream",
          "name": "stdout",
          "text": [
            "1/1 [==============================] - 0s 56ms/step\n"
          ]
        },
        {
          "output_type": "stream",
          "name": "stderr",
          "text": [
            "100%|██████████| 200/200 [00:00<00:00, 909.03it/s, SC=-16.7, loss=1.7e+5]\n"
          ]
        },
        {
          "output_type": "stream",
          "name": "stdout",
          "text": [
            "1/1 [==============================] - 0s 53ms/step\n"
          ]
        },
        {
          "output_type": "stream",
          "name": "stderr",
          "text": [
            "100%|██████████| 200/200 [00:00<00:00, 968.59it/s, SC=-17.5, loss=9.66e+4]\n"
          ]
        },
        {
          "output_type": "stream",
          "name": "stdout",
          "text": [
            "1/1 [==============================] - 0s 33ms/step\n"
          ]
        },
        {
          "output_type": "stream",
          "name": "stderr",
          "text": [
            "100%|██████████| 200/200 [00:00<00:00, 864.77it/s, SC=-16, loss=1.04e+7]\n"
          ]
        },
        {
          "output_type": "stream",
          "name": "stdout",
          "text": [
            "1/1 [==============================] - 0s 30ms/step\n"
          ]
        },
        {
          "output_type": "stream",
          "name": "stderr",
          "text": [
            "100%|██████████| 200/200 [00:00<00:00, 760.04it/s, SC=-18.5, loss=4.29e+6]\n"
          ]
        },
        {
          "output_type": "stream",
          "name": "stdout",
          "text": [
            "1/1 [==============================] - 0s 30ms/step\n"
          ]
        },
        {
          "output_type": "stream",
          "name": "stderr",
          "text": [
            "100%|██████████| 200/200 [00:00<00:00, 856.16it/s, SC=-17.1, loss=5.97e+6]\n"
          ]
        },
        {
          "output_type": "stream",
          "name": "stdout",
          "text": [
            "1/1 [==============================] - 0s 40ms/step\n"
          ]
        },
        {
          "output_type": "stream",
          "name": "stderr",
          "text": [
            "100%|██████████| 200/200 [00:00<00:00, 855.07it/s, SC=-17.5, loss=8.73e+5]\n"
          ]
        },
        {
          "output_type": "stream",
          "name": "stdout",
          "text": [
            "1/1 [==============================] - 0s 50ms/step\n"
          ]
        },
        {
          "output_type": "stream",
          "name": "stderr",
          "text": [
            "100%|██████████| 200/200 [00:00<00:00, 800.83it/s, SC=-20.3, loss=9.75e+4]\n"
          ]
        },
        {
          "output_type": "stream",
          "name": "stdout",
          "text": [
            "1/1 [==============================] - 0s 32ms/step\n"
          ]
        },
        {
          "output_type": "stream",
          "name": "stderr",
          "text": [
            "100%|██████████| 200/200 [00:00<00:00, 840.82it/s, SC=-16.6, loss=2.27e+5]\n"
          ]
        },
        {
          "output_type": "stream",
          "name": "stdout",
          "text": [
            "1/1 [==============================] - 0s 37ms/step\n"
          ]
        },
        {
          "output_type": "stream",
          "name": "stderr",
          "text": [
            "100%|██████████| 200/200 [00:00<00:00, 856.34it/s, SC=-15.6, loss=1.49e+6]\n"
          ]
        },
        {
          "output_type": "stream",
          "name": "stdout",
          "text": [
            "1/1 [==============================] - 0s 35ms/step\n"
          ]
        },
        {
          "output_type": "stream",
          "name": "stderr",
          "text": [
            "100%|██████████| 200/200 [00:00<00:00, 953.50it/s, SC=-17.6, loss=5.88e+6]\n"
          ]
        },
        {
          "output_type": "stream",
          "name": "stdout",
          "text": [
            "1/1 [==============================] - 0s 42ms/step\n"
          ]
        },
        {
          "output_type": "stream",
          "name": "stderr",
          "text": [
            "100%|██████████| 200/200 [00:00<00:00, 996.85it/s, SC=-19.6, loss=8.42e+5]\n"
          ]
        },
        {
          "output_type": "stream",
          "name": "stdout",
          "text": [
            "1/1 [==============================] - 0s 36ms/step\n"
          ]
        },
        {
          "output_type": "stream",
          "name": "stderr",
          "text": [
            "100%|██████████| 200/200 [00:00<00:00, 809.04it/s, SC=-17.2, loss=1.69e+6]\n"
          ]
        },
        {
          "output_type": "stream",
          "name": "stdout",
          "text": [
            "1/1 [==============================] - 0s 26ms/step\n"
          ]
        },
        {
          "output_type": "stream",
          "name": "stderr",
          "text": [
            "100%|██████████| 200/200 [00:00<00:00, 923.18it/s, SC=-17.3, loss=3.67e+5]\n"
          ]
        },
        {
          "output_type": "stream",
          "name": "stdout",
          "text": [
            "1/1 [==============================] - 0s 25ms/step\n"
          ]
        },
        {
          "output_type": "stream",
          "name": "stderr",
          "text": [
            "100%|██████████| 200/200 [00:00<00:00, 1015.53it/s, SC=-16.3, loss=4.57e+5]\n"
          ]
        },
        {
          "output_type": "stream",
          "name": "stdout",
          "text": [
            "1/1 [==============================] - 0s 19ms/step\n"
          ]
        },
        {
          "output_type": "stream",
          "name": "stderr",
          "text": [
            "100%|██████████| 200/200 [00:00<00:00, 943.61it/s, SC=-17.8, loss=2e+4]\n"
          ]
        },
        {
          "output_type": "stream",
          "name": "stdout",
          "text": [
            "1/1 [==============================] - 0s 18ms/step\n"
          ]
        },
        {
          "output_type": "stream",
          "name": "stderr",
          "text": [
            "100%|██████████| 200/200 [00:00<00:00, 774.60it/s, SC=-17.7, loss=1.06e+6]\n"
          ]
        },
        {
          "output_type": "stream",
          "name": "stdout",
          "text": [
            "1/1 [==============================] - 0s 24ms/step\n"
          ]
        },
        {
          "output_type": "stream",
          "name": "stderr",
          "text": [
            "100%|██████████| 200/200 [00:00<00:00, 790.89it/s, SC=-18.1, loss=4.35e+6]\n"
          ]
        },
        {
          "output_type": "stream",
          "name": "stdout",
          "text": [
            "1/1 [==============================] - 0s 23ms/step\n"
          ]
        },
        {
          "output_type": "stream",
          "name": "stderr",
          "text": [
            "100%|██████████| 200/200 [00:00<00:00, 960.02it/s, SC=-18.7, loss=1.08e+6]\n"
          ]
        },
        {
          "output_type": "stream",
          "name": "stdout",
          "text": [
            "1/1 [==============================] - 0s 19ms/step\n"
          ]
        },
        {
          "output_type": "stream",
          "name": "stderr",
          "text": [
            "100%|██████████| 200/200 [00:00<00:00, 1052.05it/s, SC=-18.2, loss=1.97e+5]\n"
          ]
        },
        {
          "output_type": "stream",
          "name": "stdout",
          "text": [
            "1/1 [==============================] - 0s 18ms/step\n"
          ]
        },
        {
          "output_type": "stream",
          "name": "stderr",
          "text": [
            "100%|██████████| 200/200 [00:00<00:00, 905.80it/s, SC=-17.5, loss=2.49e+6]\n"
          ]
        },
        {
          "output_type": "stream",
          "name": "stdout",
          "text": [
            "1/1 [==============================] - 0s 19ms/step\n"
          ]
        },
        {
          "output_type": "stream",
          "name": "stderr",
          "text": [
            "100%|██████████| 200/200 [00:00<00:00, 940.51it/s, SC=-20.7, loss=2.9e+6]\n"
          ]
        },
        {
          "output_type": "stream",
          "name": "stdout",
          "text": [
            "1/1 [==============================] - 0s 24ms/step\n"
          ]
        },
        {
          "output_type": "stream",
          "name": "stderr",
          "text": [
            "100%|██████████| 200/200 [00:00<00:00, 931.36it/s, SC=-19.2, loss=2.66e+6]\n"
          ]
        },
        {
          "output_type": "stream",
          "name": "stdout",
          "text": [
            "1/1 [==============================] - 0s 17ms/step\n"
          ]
        },
        {
          "output_type": "stream",
          "name": "stderr",
          "text": [
            "100%|██████████| 200/200 [00:00<00:00, 911.22it/s, SC=-19, loss=1.29e+6]\n"
          ]
        },
        {
          "output_type": "stream",
          "name": "stdout",
          "text": [
            "1/1 [==============================] - 0s 20ms/step\n"
          ]
        },
        {
          "output_type": "stream",
          "name": "stderr",
          "text": [
            "100%|██████████| 200/200 [00:00<00:00, 1124.58it/s, SC=-17.5, loss=1.92e+5]\n"
          ]
        },
        {
          "output_type": "stream",
          "name": "stdout",
          "text": [
            "1/1 [==============================] - 0s 17ms/step\n"
          ]
        },
        {
          "output_type": "stream",
          "name": "stderr",
          "text": [
            "100%|██████████| 200/200 [00:00<00:00, 1001.61it/s, SC=-19.8, loss=2.48e+6]\n"
          ]
        },
        {
          "output_type": "stream",
          "name": "stdout",
          "text": [
            "1/1 [==============================] - 0s 18ms/step\n"
          ]
        },
        {
          "output_type": "stream",
          "name": "stderr",
          "text": [
            "100%|██████████| 200/200 [00:00<00:00, 957.77it/s, SC=-19, loss=2.95e+4]\n"
          ]
        },
        {
          "output_type": "stream",
          "name": "stdout",
          "text": [
            "1/1 [==============================] - 0s 18ms/step\n"
          ]
        },
        {
          "output_type": "stream",
          "name": "stderr",
          "text": [
            "100%|██████████| 200/200 [00:00<00:00, 994.72it/s, SC=-15.5, loss=1.05e+5] \n"
          ]
        },
        {
          "output_type": "stream",
          "name": "stdout",
          "text": [
            "1/1 [==============================] - 0s 19ms/step\n"
          ]
        },
        {
          "output_type": "stream",
          "name": "stderr",
          "text": [
            "100%|██████████| 200/200 [00:00<00:00, 943.83it/s, SC=-17.7, loss=2.29e+4]\n"
          ]
        },
        {
          "output_type": "stream",
          "name": "stdout",
          "text": [
            "1/1 [==============================] - 0s 18ms/step\n"
          ]
        },
        {
          "output_type": "stream",
          "name": "stderr",
          "text": [
            "100%|██████████| 200/200 [00:00<00:00, 915.08it/s, SC=-17.3, loss=2.3e+6]\n"
          ]
        },
        {
          "output_type": "stream",
          "name": "stdout",
          "text": [
            "1/1 [==============================] - 0s 21ms/step\n"
          ]
        },
        {
          "output_type": "stream",
          "name": "stderr",
          "text": [
            "100%|██████████| 200/200 [00:00<00:00, 841.30it/s, SC=-16.4, loss=1.45e+7]\n"
          ]
        },
        {
          "output_type": "stream",
          "name": "stdout",
          "text": [
            "1/1 [==============================] - 0s 18ms/step\n"
          ]
        },
        {
          "output_type": "stream",
          "name": "stderr",
          "text": [
            "100%|██████████| 200/200 [00:00<00:00, 963.00it/s, SC=-16.7, loss=9.03e+6]\n"
          ]
        },
        {
          "output_type": "stream",
          "name": "stdout",
          "text": [
            "1/1 [==============================] - 0s 19ms/step\n"
          ]
        },
        {
          "output_type": "stream",
          "name": "stderr",
          "text": [
            "100%|██████████| 200/200 [00:00<00:00, 832.22it/s, SC=-17.3, loss=9.1e+6]\n"
          ]
        },
        {
          "output_type": "stream",
          "name": "stdout",
          "text": [
            "1/1 [==============================] - 0s 18ms/step\n"
          ]
        },
        {
          "output_type": "stream",
          "name": "stderr",
          "text": [
            "100%|██████████| 200/200 [00:00<00:00, 1120.49it/s, SC=-16.7, loss=2.2e+5]\n"
          ]
        },
        {
          "output_type": "stream",
          "name": "stdout",
          "text": [
            "1/1 [==============================] - 0s 26ms/step\n"
          ]
        },
        {
          "output_type": "stream",
          "name": "stderr",
          "text": [
            "100%|██████████| 200/200 [00:00<00:00, 925.61it/s, SC=-20, loss=2.74e+6]\n"
          ]
        },
        {
          "output_type": "stream",
          "name": "stdout",
          "text": [
            "1/1 [==============================] - 0s 18ms/step\n"
          ]
        },
        {
          "output_type": "stream",
          "name": "stderr",
          "text": [
            "100%|██████████| 200/200 [00:00<00:00, 955.94it/s, SC=-15.8, loss=1.68e+5] \n"
          ]
        },
        {
          "output_type": "stream",
          "name": "stdout",
          "text": [
            "1/1 [==============================] - 0s 18ms/step\n"
          ]
        },
        {
          "output_type": "stream",
          "name": "stderr",
          "text": [
            "100%|██████████| 200/200 [00:00<00:00, 1033.32it/s, SC=-17.5, loss=2.18e+6]\n"
          ]
        },
        {
          "output_type": "stream",
          "name": "stdout",
          "text": [
            "1/1 [==============================] - 0s 18ms/step\n"
          ]
        },
        {
          "output_type": "stream",
          "name": "stderr",
          "text": [
            "100%|██████████| 200/200 [00:00<00:00, 823.09it/s, SC=-17.8, loss=2.11e+6]\n"
          ]
        },
        {
          "output_type": "stream",
          "name": "stdout",
          "text": [
            "1/1 [==============================] - 0s 18ms/step\n"
          ]
        },
        {
          "output_type": "stream",
          "name": "stderr",
          "text": [
            "100%|██████████| 200/200 [00:00<00:00, 1040.28it/s, SC=-17.2, loss=1.13e+5]\n"
          ]
        },
        {
          "output_type": "stream",
          "name": "stdout",
          "text": [
            "1/1 [==============================] - 0s 18ms/step\n"
          ]
        },
        {
          "output_type": "stream",
          "name": "stderr",
          "text": [
            "100%|██████████| 200/200 [00:00<00:00, 1064.83it/s, SC=-16.4, loss=3.28e+5]\n"
          ]
        },
        {
          "output_type": "stream",
          "name": "stdout",
          "text": [
            "1/1 [==============================] - 0s 18ms/step\n"
          ]
        },
        {
          "output_type": "stream",
          "name": "stderr",
          "text": [
            "100%|██████████| 200/200 [00:00<00:00, 902.78it/s, SC=-16.9, loss=3.59e+6]\n"
          ]
        },
        {
          "output_type": "stream",
          "name": "stdout",
          "text": [
            "1/1 [==============================] - 0s 17ms/step\n"
          ]
        },
        {
          "output_type": "stream",
          "name": "stderr",
          "text": [
            "100%|██████████| 200/200 [00:00<00:00, 1126.98it/s, SC=-17.8, loss=4.1e+4]\n"
          ]
        },
        {
          "output_type": "stream",
          "name": "stdout",
          "text": [
            "1/1 [==============================] - 0s 24ms/step\n"
          ]
        },
        {
          "output_type": "stream",
          "name": "stderr",
          "text": [
            "100%|██████████| 200/200 [00:00<00:00, 956.96it/s, SC=-20.3, loss=3.26e+6]\n"
          ]
        },
        {
          "output_type": "stream",
          "name": "stdout",
          "text": [
            "1/1 [==============================] - 0s 18ms/step\n"
          ]
        },
        {
          "output_type": "stream",
          "name": "stderr",
          "text": [
            "100%|██████████| 200/200 [00:00<00:00, 795.74it/s, SC=-17.1, loss=3.17e+6]\n"
          ]
        },
        {
          "output_type": "stream",
          "name": "stdout",
          "text": [
            "1/1 [==============================] - 0s 47ms/step\n"
          ]
        },
        {
          "output_type": "stream",
          "name": "stderr",
          "text": [
            "100%|██████████| 200/200 [00:00<00:00, 710.31it/s, SC=-16.6, loss=2.07e+6]\n"
          ]
        },
        {
          "output_type": "stream",
          "name": "stdout",
          "text": [
            "1/1 [==============================] - 0s 34ms/step\n"
          ]
        },
        {
          "output_type": "stream",
          "name": "stderr",
          "text": [
            "100%|██████████| 200/200 [00:00<00:00, 820.52it/s, SC=-18.7, loss=2.44e+6]\n"
          ]
        },
        {
          "output_type": "stream",
          "name": "stdout",
          "text": [
            "1/1 [==============================] - 0s 25ms/step\n"
          ]
        },
        {
          "output_type": "stream",
          "name": "stderr",
          "text": [
            "100%|██████████| 200/200 [00:00<00:00, 991.44it/s, SC=-18, loss=2.52e+6] \n"
          ]
        },
        {
          "output_type": "stream",
          "name": "stdout",
          "text": [
            "1/1 [==============================] - 0s 26ms/step\n"
          ]
        },
        {
          "output_type": "stream",
          "name": "stderr",
          "text": [
            "100%|██████████| 200/200 [00:00<00:00, 868.58it/s, SC=-18, loss=2.86e+6]\n"
          ]
        },
        {
          "output_type": "stream",
          "name": "stdout",
          "text": [
            "1/1 [==============================] - 0s 27ms/step\n"
          ]
        },
        {
          "output_type": "stream",
          "name": "stderr",
          "text": [
            "100%|██████████| 200/200 [00:00<00:00, 845.61it/s, SC=-16.6, loss=4.32e+6]\n"
          ]
        },
        {
          "output_type": "stream",
          "name": "stdout",
          "text": [
            "1/1 [==============================] - 0s 32ms/step\n"
          ]
        },
        {
          "output_type": "stream",
          "name": "stderr",
          "text": [
            "100%|██████████| 200/200 [00:00<00:00, 802.38it/s, SC=-18.8, loss=2.88e+6]\n"
          ]
        },
        {
          "output_type": "stream",
          "name": "stdout",
          "text": [
            "1/1 [==============================] - 0s 44ms/step\n"
          ]
        },
        {
          "output_type": "stream",
          "name": "stderr",
          "text": [
            "100%|██████████| 200/200 [00:00<00:00, 603.13it/s, SC=-14.3, loss=3.97e+5]\n"
          ]
        },
        {
          "output_type": "stream",
          "name": "stdout",
          "text": [
            "1/1 [==============================] - 0s 26ms/step\n"
          ]
        },
        {
          "output_type": "stream",
          "name": "stderr",
          "text": [
            "100%|██████████| 200/200 [00:00<00:00, 729.15it/s, SC=-17.8, loss=1.32e+6]\n"
          ]
        },
        {
          "output_type": "stream",
          "name": "stdout",
          "text": [
            "1/1 [==============================] - 0s 37ms/step\n"
          ]
        },
        {
          "output_type": "stream",
          "name": "stderr",
          "text": [
            "100%|██████████| 200/200 [00:00<00:00, 891.32it/s, SC=-16.8, loss=4.06e+6]\n"
          ]
        },
        {
          "output_type": "stream",
          "name": "stdout",
          "text": [
            "1/1 [==============================] - 0s 26ms/step\n"
          ]
        },
        {
          "output_type": "stream",
          "name": "stderr",
          "text": [
            "100%|██████████| 200/200 [00:00<00:00, 579.03it/s, SC=-16.1, loss=5.11e+6]\n"
          ]
        },
        {
          "output_type": "stream",
          "name": "stdout",
          "text": [
            "1/1 [==============================] - 0s 48ms/step\n"
          ]
        },
        {
          "output_type": "stream",
          "name": "stderr",
          "text": [
            "100%|██████████| 200/200 [00:00<00:00, 764.50it/s, SC=-20.7, loss=1.86e+6]\n"
          ]
        },
        {
          "output_type": "stream",
          "name": "stdout",
          "text": [
            "1/1 [==============================] - 0s 40ms/step\n"
          ]
        },
        {
          "output_type": "stream",
          "name": "stderr",
          "text": [
            "100%|██████████| 200/200 [00:00<00:00, 795.63it/s, SC=-14.6, loss=2.91e+5]\n"
          ]
        },
        {
          "output_type": "stream",
          "name": "stdout",
          "text": [
            "1/1 [==============================] - 0s 37ms/step\n"
          ]
        },
        {
          "output_type": "stream",
          "name": "stderr",
          "text": [
            "100%|██████████| 200/200 [00:00<00:00, 740.78it/s, SC=-18.2, loss=5.58e+6]\n"
          ]
        },
        {
          "output_type": "stream",
          "name": "stdout",
          "text": [
            "1/1 [==============================] - 0s 44ms/step\n"
          ]
        },
        {
          "output_type": "stream",
          "name": "stderr",
          "text": [
            "100%|██████████| 200/200 [00:00<00:00, 787.98it/s, SC=-16.2, loss=1.25e+6]\n"
          ]
        },
        {
          "output_type": "stream",
          "name": "stdout",
          "text": [
            "1/1 [==============================] - 0s 29ms/step\n"
          ]
        },
        {
          "output_type": "stream",
          "name": "stderr",
          "text": [
            "100%|██████████| 200/200 [00:00<00:00, 724.56it/s, SC=-16.7, loss=3.54e+6]\n"
          ]
        },
        {
          "output_type": "stream",
          "name": "stdout",
          "text": [
            "1/1 [==============================] - 0s 53ms/step\n"
          ]
        },
        {
          "output_type": "stream",
          "name": "stderr",
          "text": [
            "100%|██████████| 200/200 [00:00<00:00, 821.31it/s, SC=-15.7, loss=2.57e+6]\n"
          ]
        },
        {
          "output_type": "stream",
          "name": "stdout",
          "text": [
            "1/1 [==============================] - 0s 39ms/step\n"
          ]
        },
        {
          "output_type": "stream",
          "name": "stderr",
          "text": [
            "100%|██████████| 200/200 [00:00<00:00, 976.93it/s, SC=-17.7, loss=1.96e+6] \n"
          ]
        },
        {
          "output_type": "stream",
          "name": "stdout",
          "text": [
            "1/1 [==============================] - 0s 23ms/step\n"
          ]
        },
        {
          "output_type": "stream",
          "name": "stderr",
          "text": [
            "100%|██████████| 200/200 [00:00<00:00, 878.33it/s, SC=-16.9, loss=4.21e+4]\n"
          ]
        },
        {
          "output_type": "stream",
          "name": "stdout",
          "text": [
            "1/1 [==============================] - 0s 19ms/step\n"
          ]
        },
        {
          "output_type": "stream",
          "name": "stderr",
          "text": [
            "100%|██████████| 200/200 [00:00<00:00, 932.57it/s, SC=-17.1, loss=5.61e+4]\n"
          ]
        },
        {
          "output_type": "stream",
          "name": "stdout",
          "text": [
            "1/1 [==============================] - 0s 28ms/step\n"
          ]
        },
        {
          "output_type": "stream",
          "name": "stderr",
          "text": [
            "100%|██████████| 200/200 [00:00<00:00, 967.44it/s, SC=-16.7, loss=8.13e+6]\n"
          ]
        },
        {
          "output_type": "stream",
          "name": "stdout",
          "text": [
            "1/1 [==============================] - 0s 18ms/step\n"
          ]
        },
        {
          "output_type": "stream",
          "name": "stderr",
          "text": [
            "100%|██████████| 200/200 [00:00<00:00, 916.16it/s, SC=-17.6, loss=2.42e+6]\n"
          ]
        },
        {
          "output_type": "stream",
          "name": "stdout",
          "text": [
            "1/1 [==============================] - 0s 17ms/step\n"
          ]
        },
        {
          "output_type": "stream",
          "name": "stderr",
          "text": [
            "100%|██████████| 200/200 [00:00<00:00, 852.81it/s, SC=-17, loss=4.68e+4]\n"
          ]
        },
        {
          "output_type": "stream",
          "name": "stdout",
          "text": [
            "1/1 [==============================] - 0s 18ms/step\n"
          ]
        },
        {
          "output_type": "stream",
          "name": "stderr",
          "text": [
            "100%|██████████| 200/200 [00:00<00:00, 1002.56it/s, SC=-15.7, loss=1.51e+5]\n"
          ]
        },
        {
          "output_type": "stream",
          "name": "stdout",
          "text": [
            "1/1 [==============================] - 0s 22ms/step\n"
          ]
        },
        {
          "output_type": "stream",
          "name": "stderr",
          "text": [
            "100%|██████████| 200/200 [00:00<00:00, 908.09it/s, SC=-17.7, loss=9.15e+6]\n"
          ]
        },
        {
          "output_type": "stream",
          "name": "stdout",
          "text": [
            "1/1 [==============================] - 0s 19ms/step\n"
          ]
        },
        {
          "output_type": "stream",
          "name": "stderr",
          "text": [
            "100%|██████████| 200/200 [00:00<00:00, 774.99it/s, SC=-18.1, loss=2.9e+6]\n"
          ]
        },
        {
          "output_type": "stream",
          "name": "stdout",
          "text": [
            "1/1 [==============================] - 0s 31ms/step\n"
          ]
        },
        {
          "output_type": "stream",
          "name": "stderr",
          "text": [
            "100%|██████████| 200/200 [00:00<00:00, 911.11it/s, SC=-18.8, loss=5.25e+6]\n"
          ]
        },
        {
          "output_type": "stream",
          "name": "stdout",
          "text": [
            "1/1 [==============================] - 0s 17ms/step\n"
          ]
        },
        {
          "output_type": "stream",
          "name": "stderr",
          "text": [
            "100%|██████████| 200/200 [00:00<00:00, 928.22it/s, SC=-18.9, loss=4.83e+6] \n"
          ]
        },
        {
          "output_type": "stream",
          "name": "stdout",
          "text": [
            "1/1 [==============================] - 0s 19ms/step\n"
          ]
        },
        {
          "output_type": "stream",
          "name": "stderr",
          "text": [
            "100%|██████████| 200/200 [00:00<00:00, 1057.26it/s, SC=-19.1, loss=1.66e+6]\n"
          ]
        },
        {
          "output_type": "stream",
          "name": "stdout",
          "text": [
            "1/1 [==============================] - 0s 20ms/step\n"
          ]
        },
        {
          "output_type": "stream",
          "name": "stderr",
          "text": [
            "100%|██████████| 200/200 [00:00<00:00, 967.74it/s, SC=-17, loss=1.58e+5]\n"
          ]
        },
        {
          "output_type": "stream",
          "name": "stdout",
          "text": [
            "1/1 [==============================] - 0s 18ms/step\n"
          ]
        },
        {
          "output_type": "stream",
          "name": "stderr",
          "text": [
            "100%|██████████| 200/200 [00:00<00:00, 742.17it/s, SC=-16.1, loss=9.75e+6]\n"
          ]
        },
        {
          "output_type": "stream",
          "name": "stdout",
          "text": [
            "1/1 [==============================] - 0s 25ms/step\n"
          ]
        },
        {
          "output_type": "stream",
          "name": "stderr",
          "text": [
            "100%|██████████| 200/200 [00:00<00:00, 1042.11it/s, SC=-16.3, loss=6.2e+6]\n"
          ]
        },
        {
          "output_type": "stream",
          "name": "stdout",
          "text": [
            "1/1 [==============================] - 0s 22ms/step\n"
          ]
        },
        {
          "output_type": "stream",
          "name": "stderr",
          "text": [
            "100%|██████████| 200/200 [00:00<00:00, 1010.70it/s, SC=-15.6, loss=3.2e+4]\n"
          ]
        },
        {
          "output_type": "stream",
          "name": "stdout",
          "text": [
            "1/1 [==============================] - 0s 20ms/step\n"
          ]
        },
        {
          "output_type": "stream",
          "name": "stderr",
          "text": [
            "100%|██████████| 200/200 [00:00<00:00, 946.12it/s, SC=-17.6, loss=1.8e+5]\n"
          ]
        },
        {
          "output_type": "stream",
          "name": "stdout",
          "text": [
            "1/1 [==============================] - 0s 17ms/step\n"
          ]
        },
        {
          "output_type": "stream",
          "name": "stderr",
          "text": [
            "100%|██████████| 200/200 [00:00<00:00, 961.01it/s, SC=-17.5, loss=8.06e+6] \n"
          ]
        },
        {
          "output_type": "stream",
          "name": "stdout",
          "text": [
            "1/1 [==============================] - 0s 17ms/step\n"
          ]
        },
        {
          "output_type": "stream",
          "name": "stderr",
          "text": [
            "100%|██████████| 200/200 [00:00<00:00, 914.04it/s, SC=-16.5, loss=8.86e+6]\n"
          ]
        },
        {
          "output_type": "stream",
          "name": "stdout",
          "text": [
            "1/1 [==============================] - 0s 18ms/step\n"
          ]
        },
        {
          "output_type": "stream",
          "name": "stderr",
          "text": [
            "100%|██████████| 200/200 [00:00<00:00, 952.18it/s, SC=-15.5, loss=2.19e+5] \n"
          ]
        },
        {
          "output_type": "stream",
          "name": "stdout",
          "text": [
            "1/1 [==============================] - 0s 20ms/step\n"
          ]
        },
        {
          "output_type": "stream",
          "name": "stderr",
          "text": [
            "100%|██████████| 200/200 [00:00<00:00, 1040.23it/s, SC=-17.8, loss=2.17e+6]\n"
          ]
        },
        {
          "output_type": "stream",
          "name": "stdout",
          "text": [
            "1/1 [==============================] - 0s 19ms/step\n"
          ]
        },
        {
          "output_type": "stream",
          "name": "stderr",
          "text": [
            "100%|██████████| 200/200 [00:00<00:00, 828.91it/s, SC=-16.2, loss=2.58e+6]\n"
          ]
        },
        {
          "output_type": "stream",
          "name": "stdout",
          "text": [
            "1/1 [==============================] - 0s 18ms/step\n"
          ]
        },
        {
          "output_type": "stream",
          "name": "stderr",
          "text": [
            "100%|██████████| 200/200 [00:00<00:00, 769.63it/s, SC=-15.9, loss=4.03e+6]\n"
          ]
        },
        {
          "output_type": "stream",
          "name": "stdout",
          "text": [
            "1/1 [==============================] - 0s 23ms/step\n"
          ]
        },
        {
          "output_type": "stream",
          "name": "stderr",
          "text": [
            "100%|██████████| 200/200 [00:00<00:00, 837.27it/s, SC=-19.4, loss=5.04e+6]\n"
          ]
        },
        {
          "output_type": "stream",
          "name": "stdout",
          "text": [
            "1/1 [==============================] - 0s 20ms/step\n"
          ]
        },
        {
          "output_type": "stream",
          "name": "stderr",
          "text": [
            "100%|██████████| 200/200 [00:00<00:00, 927.91it/s, SC=-16.5, loss=3.55e+6]\n"
          ]
        },
        {
          "output_type": "stream",
          "name": "stdout",
          "text": [
            "1/1 [==============================] - 0s 17ms/step\n"
          ]
        },
        {
          "output_type": "stream",
          "name": "stderr",
          "text": [
            "100%|██████████| 200/200 [00:00<00:00, 929.21it/s, SC=-16.3, loss=6.9e+6]\n"
          ]
        },
        {
          "output_type": "stream",
          "name": "stdout",
          "text": [
            "1/1 [==============================] - 0s 24ms/step\n"
          ]
        },
        {
          "output_type": "stream",
          "name": "stderr",
          "text": [
            "100%|██████████| 200/200 [00:00<00:00, 1065.25it/s, SC=-20.9, loss=1.16e+6]\n"
          ]
        },
        {
          "output_type": "stream",
          "name": "stdout",
          "text": [
            "1/1 [==============================] - 0s 18ms/step\n"
          ]
        },
        {
          "output_type": "stream",
          "name": "stderr",
          "text": [
            "100%|██████████| 200/200 [00:00<00:00, 952.56it/s, SC=-17.1, loss=4.27e+4]\n"
          ]
        },
        {
          "output_type": "stream",
          "name": "stdout",
          "text": [
            "1/1 [==============================] - 0s 25ms/step\n"
          ]
        },
        {
          "output_type": "stream",
          "name": "stderr",
          "text": [
            "100%|██████████| 200/200 [00:00<00:00, 1051.49it/s, SC=-17.3, loss=1.33e+5]\n"
          ]
        },
        {
          "output_type": "stream",
          "name": "stdout",
          "text": [
            "1/1 [==============================] - 0s 32ms/step\n"
          ]
        },
        {
          "output_type": "stream",
          "name": "stderr",
          "text": [
            "100%|██████████| 200/200 [00:00<00:00, 715.20it/s, SC=-16.8, loss=4.57e+4]\n"
          ]
        },
        {
          "output_type": "stream",
          "name": "stdout",
          "text": [
            "1/1 [==============================] - 0s 29ms/step\n"
          ]
        },
        {
          "output_type": "stream",
          "name": "stderr",
          "text": [
            "100%|██████████| 200/200 [00:00<00:00, 955.49it/s, SC=-16.5, loss=2.42e+6] \n"
          ]
        },
        {
          "output_type": "stream",
          "name": "stdout",
          "text": [
            "1/1 [==============================] - 0s 48ms/step\n"
          ]
        },
        {
          "output_type": "stream",
          "name": "stderr",
          "text": [
            "100%|██████████| 200/200 [00:00<00:00, 970.30it/s, SC=-18.5, loss=2.32e+5]\n"
          ]
        },
        {
          "output_type": "stream",
          "name": "stdout",
          "text": [
            "1/1 [==============================] - 0s 34ms/step\n"
          ]
        },
        {
          "output_type": "stream",
          "name": "stderr",
          "text": [
            "100%|██████████| 200/200 [00:00<00:00, 706.91it/s, SC=-16.5, loss=1.35e+5]\n"
          ]
        },
        {
          "output_type": "stream",
          "name": "stdout",
          "text": [
            "1/1 [==============================] - 0s 39ms/step\n"
          ]
        },
        {
          "output_type": "stream",
          "name": "stderr",
          "text": [
            "100%|██████████| 200/200 [00:00<00:00, 725.50it/s, SC=-18.8, loss=2.45e+6]\n"
          ]
        },
        {
          "output_type": "stream",
          "name": "stdout",
          "text": [
            "1/1 [==============================] - 0s 28ms/step\n"
          ]
        },
        {
          "output_type": "stream",
          "name": "stderr",
          "text": [
            "100%|██████████| 200/200 [00:00<00:00, 687.14it/s, SC=-17.6, loss=2.56e+6]\n"
          ]
        },
        {
          "output_type": "stream",
          "name": "stdout",
          "text": [
            "1/1 [==============================] - 0s 39ms/step\n"
          ]
        },
        {
          "output_type": "stream",
          "name": "stderr",
          "text": [
            "100%|██████████| 200/200 [00:00<00:00, 874.19it/s, SC=-17.3, loss=3.58e+4]\n"
          ]
        },
        {
          "output_type": "stream",
          "name": "stdout",
          "text": [
            "1/1 [==============================] - 0s 47ms/step\n"
          ]
        },
        {
          "output_type": "stream",
          "name": "stderr",
          "text": [
            "100%|██████████| 200/200 [00:00<00:00, 773.84it/s, SC=-18.3, loss=2.55e+6]\n"
          ]
        },
        {
          "output_type": "stream",
          "name": "stdout",
          "text": [
            "1/1 [==============================] - 0s 39ms/step\n"
          ]
        },
        {
          "output_type": "stream",
          "name": "stderr",
          "text": [
            "100%|██████████| 200/200 [00:00<00:00, 716.86it/s, SC=-20.2, loss=1.87e+6]\n"
          ]
        },
        {
          "output_type": "stream",
          "name": "stdout",
          "text": [
            "1/1 [==============================] - 0s 53ms/step\n"
          ]
        },
        {
          "output_type": "stream",
          "name": "stderr",
          "text": [
            "100%|██████████| 200/200 [00:00<00:00, 723.20it/s, SC=-19.1, loss=5.39e+6]\n"
          ]
        },
        {
          "output_type": "stream",
          "name": "stdout",
          "text": [
            "1/1 [==============================] - 0s 28ms/step\n"
          ]
        },
        {
          "output_type": "stream",
          "name": "stderr",
          "text": [
            "100%|██████████| 200/200 [00:00<00:00, 1006.74it/s, SC=-18.8, loss=2.29e+6]\n"
          ]
        },
        {
          "output_type": "stream",
          "name": "stdout",
          "text": [
            "1/1 [==============================] - 0s 31ms/step\n"
          ]
        },
        {
          "output_type": "stream",
          "name": "stderr",
          "text": [
            "100%|██████████| 200/200 [00:00<00:00, 743.36it/s, SC=-20.2, loss=3.51e+6]\n"
          ]
        },
        {
          "output_type": "stream",
          "name": "stdout",
          "text": [
            "1/1 [==============================] - 0s 38ms/step\n"
          ]
        },
        {
          "output_type": "stream",
          "name": "stderr",
          "text": [
            "100%|██████████| 200/200 [00:00<00:00, 1012.84it/s, SC=-18.3, loss=4.19e+4]\n"
          ]
        },
        {
          "output_type": "stream",
          "name": "stdout",
          "text": [
            "1/1 [==============================] - 0s 25ms/step\n"
          ]
        },
        {
          "output_type": "stream",
          "name": "stderr",
          "text": [
            "100%|██████████| 200/200 [00:00<00:00, 939.24it/s, SC=-17.9, loss=4.57e+6]\n"
          ]
        },
        {
          "output_type": "stream",
          "name": "stdout",
          "text": [
            "1/1 [==============================] - 0s 40ms/step\n"
          ]
        },
        {
          "output_type": "stream",
          "name": "stderr",
          "text": [
            "100%|██████████| 200/200 [00:00<00:00, 887.00it/s, SC=-16.2, loss=2.5e+6]\n"
          ]
        },
        {
          "output_type": "stream",
          "name": "stdout",
          "text": [
            "1/1 [==============================] - 0s 30ms/step\n"
          ]
        },
        {
          "output_type": "stream",
          "name": "stderr",
          "text": [
            "100%|██████████| 200/200 [00:00<00:00, 875.65it/s, SC=-18.9, loss=1.03e+4]\n"
          ]
        },
        {
          "output_type": "stream",
          "name": "stdout",
          "text": [
            "1/1 [==============================] - 0s 26ms/step\n"
          ]
        },
        {
          "output_type": "stream",
          "name": "stderr",
          "text": [
            "100%|██████████| 200/200 [00:00<00:00, 875.97it/s, SC=-18.6, loss=9.69e+3]\n"
          ]
        },
        {
          "output_type": "stream",
          "name": "stdout",
          "text": [
            "1/1 [==============================] - 0s 33ms/step\n"
          ]
        },
        {
          "output_type": "stream",
          "name": "stderr",
          "text": [
            "100%|██████████| 200/200 [00:00<00:00, 836.50it/s, SC=-18.9, loss=4.95e+6]\n"
          ]
        },
        {
          "output_type": "stream",
          "name": "stdout",
          "text": [
            "1/1 [==============================] - 0s 25ms/step\n"
          ]
        },
        {
          "output_type": "stream",
          "name": "stderr",
          "text": [
            "100%|██████████| 200/200 [00:00<00:00, 926.36it/s, SC=-17.7, loss=2.69e+6]\n"
          ]
        },
        {
          "output_type": "stream",
          "name": "stdout",
          "text": [
            "1/1 [==============================] - 0s 29ms/step\n"
          ]
        },
        {
          "output_type": "stream",
          "name": "stderr",
          "text": [
            "100%|██████████| 200/200 [00:00<00:00, 1179.36it/s, SC=-17.5, loss=1.89e+5]\n"
          ]
        },
        {
          "output_type": "stream",
          "name": "stdout",
          "text": [
            "1/1 [==============================] - 0s 39ms/step\n"
          ]
        },
        {
          "output_type": "stream",
          "name": "stderr",
          "text": [
            "100%|██████████| 200/200 [00:00<00:00, 921.52it/s, SC=-18.3, loss=1.33e+4]\n"
          ]
        },
        {
          "output_type": "stream",
          "name": "stdout",
          "text": [
            "1/1 [==============================] - 0s 28ms/step\n"
          ]
        },
        {
          "output_type": "stream",
          "name": "stderr",
          "text": [
            "100%|██████████| 200/200 [00:00<00:00, 783.12it/s, SC=-20.6, loss=1.77e+6]\n"
          ]
        },
        {
          "output_type": "stream",
          "name": "stdout",
          "text": [
            "1/1 [==============================] - 0s 20ms/step\n"
          ]
        },
        {
          "output_type": "stream",
          "name": "stderr",
          "text": [
            "100%|██████████| 200/200 [00:00<00:00, 725.45it/s, SC=-16.1, loss=7.73e+6]\n"
          ]
        },
        {
          "output_type": "stream",
          "name": "stdout",
          "text": [
            "1/1 [==============================] - 0s 29ms/step\n"
          ]
        },
        {
          "output_type": "stream",
          "name": "stderr",
          "text": [
            "100%|██████████| 200/200 [00:00<00:00, 845.61it/s, SC=-17.8, loss=1.48e+5]\n"
          ]
        },
        {
          "output_type": "stream",
          "name": "stdout",
          "text": [
            "1/1 [==============================] - 0s 18ms/step\n"
          ]
        },
        {
          "output_type": "stream",
          "name": "stderr",
          "text": [
            "100%|██████████| 200/200 [00:00<00:00, 1032.97it/s, SC=-15.8, loss=2.68e+6]\n"
          ]
        },
        {
          "output_type": "stream",
          "name": "stdout",
          "text": [
            "1/1 [==============================] - 0s 30ms/step\n"
          ]
        },
        {
          "output_type": "stream",
          "name": "stderr",
          "text": [
            "100%|██████████| 200/200 [00:00<00:00, 920.97it/s, SC=-17, loss=4.96e+4]\n"
          ]
        },
        {
          "output_type": "stream",
          "name": "stdout",
          "text": [
            "1/1 [==============================] - 0s 21ms/step\n"
          ]
        },
        {
          "output_type": "stream",
          "name": "stderr",
          "text": [
            "100%|██████████| 200/200 [00:00<00:00, 1058.57it/s, SC=-17.1, loss=4.28e+6]\n"
          ]
        },
        {
          "output_type": "stream",
          "name": "stdout",
          "text": [
            "1/1 [==============================] - 0s 20ms/step\n"
          ]
        },
        {
          "output_type": "stream",
          "name": "stderr",
          "text": [
            "100%|██████████| 200/200 [00:00<00:00, 983.53it/s, SC=-19.1, loss=4.97e+6] \n"
          ]
        },
        {
          "output_type": "stream",
          "name": "stdout",
          "text": [
            "1/1 [==============================] - 0s 18ms/step\n"
          ]
        },
        {
          "output_type": "stream",
          "name": "stderr",
          "text": [
            "100%|██████████| 200/200 [00:00<00:00, 1070.97it/s, SC=-16.6, loss=1.31e+6]\n"
          ]
        },
        {
          "output_type": "stream",
          "name": "stdout",
          "text": [
            "1/1 [==============================] - 0s 25ms/step\n"
          ]
        },
        {
          "output_type": "stream",
          "name": "stderr",
          "text": [
            "100%|██████████| 200/200 [00:00<00:00, 1135.09it/s, SC=-16.2, loss=6.27e+4]\n"
          ]
        },
        {
          "output_type": "stream",
          "name": "stdout",
          "text": [
            "1/1 [==============================] - 0s 24ms/step\n"
          ]
        },
        {
          "output_type": "stream",
          "name": "stderr",
          "text": [
            "100%|██████████| 200/200 [00:00<00:00, 956.64it/s, SC=-16.2, loss=3.48e+5]\n"
          ]
        },
        {
          "output_type": "stream",
          "name": "stdout",
          "text": [
            "1/1 [==============================] - 0s 20ms/step\n"
          ]
        },
        {
          "output_type": "stream",
          "name": "stderr",
          "text": [
            "100%|██████████| 200/200 [00:00<00:00, 893.12it/s, SC=-19.8, loss=7.26e+6]\n"
          ]
        },
        {
          "output_type": "stream",
          "name": "stdout",
          "text": [
            "1/1 [==============================] - 0s 18ms/step\n"
          ]
        },
        {
          "output_type": "stream",
          "name": "stderr",
          "text": [
            "100%|██████████| 200/200 [00:00<00:00, 956.19it/s, SC=-18.1, loss=9.69e+3]\n"
          ]
        },
        {
          "output_type": "stream",
          "name": "stdout",
          "text": [
            "1/1 [==============================] - 0s 26ms/step\n"
          ]
        },
        {
          "output_type": "stream",
          "name": "stderr",
          "text": [
            "100%|██████████| 200/200 [00:00<00:00, 1131.22it/s, SC=-19.2, loss=4.78e+5]\n"
          ]
        },
        {
          "output_type": "stream",
          "name": "stdout",
          "text": [
            "1/1 [==============================] - 0s 31ms/step\n"
          ]
        },
        {
          "output_type": "stream",
          "name": "stderr",
          "text": [
            "100%|██████████| 200/200 [00:00<00:00, 873.04it/s, SC=-21.9, loss=1.14e+6]\n"
          ]
        },
        {
          "output_type": "stream",
          "name": "stdout",
          "text": [
            "1/1 [==============================] - 0s 18ms/step\n"
          ]
        },
        {
          "output_type": "stream",
          "name": "stderr",
          "text": [
            "100%|██████████| 200/200 [00:00<00:00, 632.35it/s, SC=-15.2, loss=7.33e+6]\n"
          ]
        },
        {
          "output_type": "stream",
          "name": "stdout",
          "text": [
            "1/1 [==============================] - 0s 24ms/step\n"
          ]
        },
        {
          "output_type": "stream",
          "name": "stderr",
          "text": [
            "100%|██████████| 200/200 [00:00<00:00, 865.12it/s, SC=-18.4, loss=9.66e+6]\n"
          ]
        },
        {
          "output_type": "stream",
          "name": "stdout",
          "text": [
            "1/1 [==============================] - 0s 19ms/step\n"
          ]
        },
        {
          "output_type": "stream",
          "name": "stderr",
          "text": [
            "100%|██████████| 200/200 [00:00<00:00, 873.94it/s, SC=-17.4, loss=4.47e+5]\n"
          ]
        },
        {
          "output_type": "stream",
          "name": "stdout",
          "text": [
            "1/1 [==============================] - 0s 20ms/step\n"
          ]
        },
        {
          "output_type": "stream",
          "name": "stderr",
          "text": [
            "100%|██████████| 200/200 [00:00<00:00, 858.55it/s, SC=-17.1, loss=3.53e+6]\n"
          ]
        },
        {
          "output_type": "stream",
          "name": "stdout",
          "text": [
            "1/1 [==============================] - 0s 20ms/step\n"
          ]
        },
        {
          "output_type": "stream",
          "name": "stderr",
          "text": [
            "100%|██████████| 200/200 [00:00<00:00, 808.78it/s, SC=-16.6, loss=3.64e+6]\n"
          ]
        },
        {
          "output_type": "stream",
          "name": "stdout",
          "text": [
            "1/1 [==============================] - 0s 20ms/step\n"
          ]
        },
        {
          "output_type": "stream",
          "name": "stderr",
          "text": [
            "100%|██████████| 200/200 [00:00<00:00, 1000.96it/s, SC=-17.1, loss=2.05e+6]\n"
          ]
        },
        {
          "output_type": "stream",
          "name": "stdout",
          "text": [
            "1/1 [==============================] - 0s 18ms/step\n"
          ]
        },
        {
          "output_type": "stream",
          "name": "stderr",
          "text": [
            "100%|██████████| 200/200 [00:00<00:00, 909.62it/s, SC=-15.6, loss=1.4e+6]\n"
          ]
        },
        {
          "output_type": "stream",
          "name": "stdout",
          "text": [
            "1/1 [==============================] - 0s 25ms/step\n"
          ]
        },
        {
          "output_type": "stream",
          "name": "stderr",
          "text": [
            "100%|██████████| 200/200 [00:00<00:00, 874.93it/s, SC=-17.5, loss=4.4e+6]\n"
          ]
        },
        {
          "output_type": "stream",
          "name": "stdout",
          "text": [
            "1/1 [==============================] - 0s 18ms/step\n"
          ]
        },
        {
          "output_type": "stream",
          "name": "stderr",
          "text": [
            "100%|██████████| 200/200 [00:00<00:00, 787.46it/s, SC=-18.5, loss=3.02e+6]\n"
          ]
        },
        {
          "output_type": "stream",
          "name": "stdout",
          "text": [
            "1/1 [==============================] - 0s 42ms/step\n"
          ]
        },
        {
          "output_type": "stream",
          "name": "stderr",
          "text": [
            "100%|██████████| 200/200 [00:00<00:00, 908.18it/s, SC=-21.2, loss=6.45e+5]\n"
          ]
        },
        {
          "output_type": "stream",
          "name": "stdout",
          "text": [
            "1/1 [==============================] - 0s 32ms/step\n"
          ]
        },
        {
          "output_type": "stream",
          "name": "stderr",
          "text": [
            "100%|██████████| 200/200 [00:00<00:00, 769.32it/s, SC=-19.7, loss=1.34e+6]\n"
          ]
        },
        {
          "output_type": "stream",
          "name": "stdout",
          "text": [
            "1/1 [==============================] - 0s 28ms/step\n"
          ]
        },
        {
          "output_type": "stream",
          "name": "stderr",
          "text": [
            "100%|██████████| 200/200 [00:00<00:00, 1092.57it/s, SC=-16.4, loss=2.23e+5]\n"
          ]
        },
        {
          "output_type": "stream",
          "name": "stdout",
          "text": [
            "1/1 [==============================] - 0s 31ms/step\n"
          ]
        },
        {
          "output_type": "stream",
          "name": "stderr",
          "text": [
            "100%|██████████| 200/200 [00:00<00:00, 917.26it/s, SC=-16.2, loss=1.4e+6]\n"
          ]
        },
        {
          "output_type": "stream",
          "name": "stdout",
          "text": [
            "1/1 [==============================] - 0s 31ms/step\n"
          ]
        },
        {
          "output_type": "stream",
          "name": "stderr",
          "text": [
            "100%|██████████| 200/200 [00:00<00:00, 615.75it/s, SC=-19, loss=3.14e+6]\n"
          ]
        },
        {
          "output_type": "stream",
          "name": "stdout",
          "text": [
            "1/1 [==============================] - 0s 36ms/step\n"
          ]
        },
        {
          "output_type": "stream",
          "name": "stderr",
          "text": [
            "100%|██████████| 200/200 [00:00<00:00, 699.91it/s, SC=-20.1, loss=4.89e+6]\n"
          ]
        },
        {
          "output_type": "stream",
          "name": "stdout",
          "text": [
            "1/1 [==============================] - 0s 38ms/step\n"
          ]
        },
        {
          "output_type": "stream",
          "name": "stderr",
          "text": [
            "100%|██████████| 200/200 [00:00<00:00, 790.98it/s, SC=-19.2, loss=3.99e+6]\n"
          ]
        },
        {
          "output_type": "stream",
          "name": "stdout",
          "text": [
            "1/1 [==============================] - 0s 43ms/step\n"
          ]
        },
        {
          "output_type": "stream",
          "name": "stderr",
          "text": [
            "100%|██████████| 200/200 [00:00<00:00, 930.07it/s, SC=-17.6, loss=1.35e+5]\n"
          ]
        },
        {
          "output_type": "stream",
          "name": "stdout",
          "text": [
            "1/1 [==============================] - 0s 34ms/step\n"
          ]
        },
        {
          "output_type": "stream",
          "name": "stderr",
          "text": [
            "100%|██████████| 200/200 [00:00<00:00, 707.56it/s, SC=-21.3, loss=4.72e+6]\n"
          ]
        },
        {
          "output_type": "stream",
          "name": "stdout",
          "text": [
            "1/1 [==============================] - 0s 41ms/step\n"
          ]
        },
        {
          "output_type": "stream",
          "name": "stderr",
          "text": [
            "100%|██████████| 200/200 [00:00<00:00, 642.28it/s, SC=-17.3, loss=7.28e+6]\n"
          ]
        },
        {
          "output_type": "stream",
          "name": "stdout",
          "text": [
            "1/1 [==============================] - 0s 40ms/step\n"
          ]
        },
        {
          "output_type": "stream",
          "name": "stderr",
          "text": [
            "100%|██████████| 200/200 [00:00<00:00, 902.00it/s, SC=-16.8, loss=4.17e+4]\n"
          ]
        },
        {
          "output_type": "stream",
          "name": "stdout",
          "text": [
            "1/1 [==============================] - 0s 26ms/step\n"
          ]
        },
        {
          "output_type": "stream",
          "name": "stderr",
          "text": [
            "100%|██████████| 200/200 [00:00<00:00, 1186.51it/s, SC=-17.8, loss=8.73e+4]\n"
          ]
        },
        {
          "output_type": "stream",
          "name": "stdout",
          "text": [
            "1/1 [==============================] - 0s 26ms/step\n"
          ]
        },
        {
          "output_type": "stream",
          "name": "stderr",
          "text": [
            "100%|██████████| 200/200 [00:00<00:00, 949.82it/s, SC=-18, loss=6.48e+6]\n"
          ]
        },
        {
          "output_type": "stream",
          "name": "stdout",
          "text": [
            "1/1 [==============================] - 0s 29ms/step\n"
          ]
        },
        {
          "output_type": "stream",
          "name": "stderr",
          "text": [
            "100%|██████████| 200/200 [00:00<00:00, 689.02it/s, SC=-18.4, loss=3.31e+6]\n"
          ]
        },
        {
          "output_type": "stream",
          "name": "stdout",
          "text": [
            "1/1 [==============================] - 0s 35ms/step\n"
          ]
        },
        {
          "output_type": "stream",
          "name": "stderr",
          "text": [
            "100%|██████████| 200/200 [00:00<00:00, 1033.20it/s, SC=-16.9, loss=7.1e+4]\n"
          ]
        },
        {
          "output_type": "stream",
          "name": "stdout",
          "text": [
            "1/1 [==============================] - 0s 42ms/step\n"
          ]
        },
        {
          "output_type": "stream",
          "name": "stderr",
          "text": [
            "100%|██████████| 200/200 [00:00<00:00, 989.38it/s, SC=-15.9, loss=3.84e+6] \n"
          ]
        },
        {
          "output_type": "stream",
          "name": "stdout",
          "text": [
            "1/1 [==============================] - 0s 26ms/step\n"
          ]
        },
        {
          "output_type": "stream",
          "name": "stderr",
          "text": [
            "100%|██████████| 200/200 [00:00<00:00, 966.64it/s, SC=-16.5, loss=6.23e+6]\n"
          ]
        },
        {
          "output_type": "stream",
          "name": "stdout",
          "text": [
            "1/1 [==============================] - 0s 28ms/step\n"
          ]
        },
        {
          "output_type": "stream",
          "name": "stderr",
          "text": [
            "100%|██████████| 200/200 [00:00<00:00, 1069.29it/s, SC=-14.2, loss=2.7e+5]\n"
          ]
        },
        {
          "output_type": "stream",
          "name": "stdout",
          "text": [
            "1/1 [==============================] - 0s 28ms/step\n"
          ]
        },
        {
          "output_type": "stream",
          "name": "stderr",
          "text": [
            "100%|██████████| 200/200 [00:00<00:00, 1071.73it/s, SC=-20, loss=1.87e+6]\n"
          ]
        },
        {
          "output_type": "stream",
          "name": "stdout",
          "text": [
            "1/1 [==============================] - 0s 30ms/step\n"
          ]
        },
        {
          "output_type": "stream",
          "name": "stderr",
          "text": [
            "100%|██████████| 200/200 [00:00<00:00, 994.57it/s, SC=-19.4, loss=1.23e+6]\n"
          ]
        },
        {
          "output_type": "stream",
          "name": "stdout",
          "text": [
            "1/1 [==============================] - 0s 28ms/step\n"
          ]
        },
        {
          "output_type": "stream",
          "name": "stderr",
          "text": [
            "100%|██████████| 200/200 [00:00<00:00, 923.68it/s, SC=-20.6, loss=1.22e+6]\n"
          ]
        },
        {
          "output_type": "stream",
          "name": "stdout",
          "text": [
            "1/1 [==============================] - 0s 33ms/step\n"
          ]
        },
        {
          "output_type": "stream",
          "name": "stderr",
          "text": [
            "100%|██████████| 200/200 [00:00<00:00, 788.71it/s, SC=-16.2, loss=1.34e+6]\n"
          ]
        },
        {
          "output_type": "stream",
          "name": "stdout",
          "text": [
            "1/1 [==============================] - 0s 25ms/step\n"
          ]
        },
        {
          "output_type": "stream",
          "name": "stderr",
          "text": [
            "100%|██████████| 200/200 [00:00<00:00, 1010.02it/s, SC=-21.7, loss=1.42e+6]\n"
          ]
        },
        {
          "output_type": "stream",
          "name": "stdout",
          "text": [
            "1/1 [==============================] - 0s 26ms/step\n"
          ]
        },
        {
          "output_type": "stream",
          "name": "stderr",
          "text": [
            "100%|██████████| 200/200 [00:00<00:00, 956.81it/s, SC=-19, loss=2.19e+6]\n"
          ]
        },
        {
          "output_type": "stream",
          "name": "stdout",
          "text": [
            "1/1 [==============================] - 0s 27ms/step\n"
          ]
        },
        {
          "output_type": "stream",
          "name": "stderr",
          "text": [
            "100%|██████████| 200/200 [00:00<00:00, 990.61it/s, SC=-18.4, loss=1.83e+5] \n"
          ]
        },
        {
          "output_type": "stream",
          "name": "stdout",
          "text": [
            "1/1 [==============================] - 0s 24ms/step\n"
          ]
        },
        {
          "output_type": "stream",
          "name": "stderr",
          "text": [
            "100%|██████████| 200/200 [00:00<00:00, 780.70it/s, SC=-20.6, loss=3.63e+6]\n"
          ]
        },
        {
          "output_type": "stream",
          "name": "stdout",
          "text": [
            "1/1 [==============================] - 0s 26ms/step\n"
          ]
        },
        {
          "output_type": "stream",
          "name": "stderr",
          "text": [
            "100%|██████████| 200/200 [00:00<00:00, 935.82it/s, SC=-20.8, loss=2.61e+6]\n"
          ]
        },
        {
          "output_type": "stream",
          "name": "stdout",
          "text": [
            "1/1 [==============================] - 0s 34ms/step\n"
          ]
        },
        {
          "output_type": "stream",
          "name": "stderr",
          "text": [
            "100%|██████████| 200/200 [00:00<00:00, 829.12it/s, SC=-18.6, loss=2.12e+6]\n"
          ]
        },
        {
          "output_type": "stream",
          "name": "stdout",
          "text": [
            "1/1 [==============================] - 0s 25ms/step\n"
          ]
        },
        {
          "output_type": "stream",
          "name": "stderr",
          "text": [
            "100%|██████████| 200/200 [00:00<00:00, 876.42it/s, SC=-17.3, loss=3.59e+4]\n"
          ]
        },
        {
          "output_type": "stream",
          "name": "stdout",
          "text": [
            "1/1 [==============================] - 0s 35ms/step\n"
          ]
        },
        {
          "output_type": "stream",
          "name": "stderr",
          "text": [
            "100%|██████████| 200/200 [00:00<00:00, 1017.07it/s, SC=-21.1, loss=8.67e+5]\n"
          ]
        },
        {
          "output_type": "stream",
          "name": "stdout",
          "text": [
            "1/1 [==============================] - 0s 25ms/step\n"
          ]
        },
        {
          "output_type": "stream",
          "name": "stderr",
          "text": [
            "100%|██████████| 200/200 [00:00<00:00, 1064.67it/s, SC=-17.5, loss=1.02e+6]\n"
          ]
        },
        {
          "output_type": "stream",
          "name": "stdout",
          "text": [
            "1/1 [==============================] - 0s 27ms/step\n"
          ]
        },
        {
          "output_type": "stream",
          "name": "stderr",
          "text": [
            "100%|██████████| 200/200 [00:00<00:00, 795.78it/s, SC=-18.7, loss=2.64e+6]\n"
          ]
        },
        {
          "output_type": "stream",
          "name": "stdout",
          "text": [
            "1/1 [==============================] - 0s 25ms/step\n"
          ]
        },
        {
          "output_type": "stream",
          "name": "stderr",
          "text": [
            "100%|██████████| 200/200 [00:00<00:00, 954.99it/s, SC=-18.5, loss=7.81e+4] \n"
          ]
        },
        {
          "output_type": "stream",
          "name": "stdout",
          "text": [
            "1/1 [==============================] - 0s 26ms/step\n"
          ]
        },
        {
          "output_type": "stream",
          "name": "stderr",
          "text": [
            "100%|██████████| 200/200 [00:00<00:00, 673.06it/s, SC=-17, loss=1.37e+6]\n"
          ]
        },
        {
          "output_type": "stream",
          "name": "stdout",
          "text": [
            "1/1 [==============================] - 0s 46ms/step\n"
          ]
        },
        {
          "output_type": "stream",
          "name": "stderr",
          "text": [
            "100%|██████████| 200/200 [00:00<00:00, 832.36it/s, SC=-16.8, loss=1.48e+4]\n"
          ]
        },
        {
          "output_type": "stream",
          "name": "stdout",
          "text": [
            "1/1 [==============================] - 0s 25ms/step\n"
          ]
        },
        {
          "output_type": "stream",
          "name": "stderr",
          "text": [
            "100%|██████████| 200/200 [00:00<00:00, 931.38it/s, SC=-19.3, loss=3.17e+6]\n"
          ]
        },
        {
          "output_type": "stream",
          "name": "stdout",
          "text": [
            "1/1 [==============================] - 0s 28ms/step\n"
          ]
        },
        {
          "output_type": "stream",
          "name": "stderr",
          "text": [
            "100%|██████████| 200/200 [00:00<00:00, 910.55it/s, SC=-19.5, loss=3.53e+6]\n"
          ]
        },
        {
          "output_type": "stream",
          "name": "stdout",
          "text": [
            "1/1 [==============================] - 0s 26ms/step\n"
          ]
        },
        {
          "output_type": "stream",
          "name": "stderr",
          "text": [
            "100%|██████████| 200/200 [00:00<00:00, 875.32it/s, SC=-16.9, loss=3.86e+6]\n"
          ]
        },
        {
          "output_type": "stream",
          "name": "stdout",
          "text": [
            "1/1 [==============================] - 0s 25ms/step\n"
          ]
        },
        {
          "output_type": "stream",
          "name": "stderr",
          "text": [
            "100%|██████████| 200/200 [00:00<00:00, 1153.52it/s, SC=-18.6, loss=1.27e+6]\n"
          ]
        },
        {
          "output_type": "stream",
          "name": "stdout",
          "text": [
            "1/1 [==============================] - 0s 26ms/step\n"
          ]
        },
        {
          "output_type": "stream",
          "name": "stderr",
          "text": [
            "100%|██████████| 200/200 [00:00<00:00, 933.49it/s, SC=-17.1, loss=1.23e+4]\n"
          ]
        },
        {
          "output_type": "stream",
          "name": "stdout",
          "text": [
            "1/1 [==============================] - 0s 28ms/step\n"
          ]
        },
        {
          "output_type": "stream",
          "name": "stderr",
          "text": [
            "100%|██████████| 200/200 [00:00<00:00, 879.87it/s, SC=-16.2, loss=1.62e+7]\n"
          ]
        },
        {
          "output_type": "stream",
          "name": "stdout",
          "text": [
            "1/1 [==============================] - 0s 28ms/step\n"
          ]
        },
        {
          "output_type": "stream",
          "name": "stderr",
          "text": [
            "100%|██████████| 200/200 [00:00<00:00, 1070.74it/s, SC=-18, loss=9.48e+4]\n"
          ]
        },
        {
          "output_type": "stream",
          "name": "stdout",
          "text": [
            "1/1 [==============================] - 0s 29ms/step\n"
          ]
        },
        {
          "output_type": "stream",
          "name": "stderr",
          "text": [
            "100%|██████████| 200/200 [00:00<00:00, 732.77it/s, SC=-21, loss=2.84e+6]\n"
          ]
        },
        {
          "output_type": "stream",
          "name": "stdout",
          "text": [
            "1/1 [==============================] - 0s 37ms/step\n"
          ]
        },
        {
          "output_type": "stream",
          "name": "stderr",
          "text": [
            "100%|██████████| 200/200 [00:00<00:00, 666.46it/s, SC=-16.3, loss=3.49e+6]\n"
          ]
        },
        {
          "output_type": "stream",
          "name": "stdout",
          "text": [
            "1/1 [==============================] - 0s 49ms/step\n"
          ]
        },
        {
          "output_type": "stream",
          "name": "stderr",
          "text": [
            "100%|██████████| 200/200 [00:00<00:00, 590.71it/s, SC=-15.5, loss=4.93e+6]\n"
          ]
        },
        {
          "output_type": "stream",
          "name": "stdout",
          "text": [
            "1/1 [==============================] - 0s 47ms/step\n"
          ]
        },
        {
          "output_type": "stream",
          "name": "stderr",
          "text": [
            "100%|██████████| 200/200 [00:00<00:00, 793.39it/s, SC=-16.2, loss=4.18e+6]\n"
          ]
        },
        {
          "output_type": "stream",
          "name": "stdout",
          "text": [
            "1/1 [==============================] - 0s 34ms/step\n"
          ]
        },
        {
          "output_type": "stream",
          "name": "stderr",
          "text": [
            "100%|██████████| 200/200 [00:00<00:00, 751.42it/s, SC=-16.8, loss=2.59e+6]\n"
          ]
        },
        {
          "output_type": "stream",
          "name": "stdout",
          "text": [
            "1/1 [==============================] - 0s 36ms/step\n"
          ]
        },
        {
          "output_type": "stream",
          "name": "stderr",
          "text": [
            "100%|██████████| 200/200 [00:00<00:00, 1045.37it/s, SC=-17.7, loss=1.69e+5]\n"
          ]
        },
        {
          "output_type": "stream",
          "name": "stdout",
          "text": [
            "1/1 [==============================] - 0s 27ms/step\n"
          ]
        },
        {
          "output_type": "stream",
          "name": "stderr",
          "text": [
            "100%|██████████| 200/200 [00:00<00:00, 796.73it/s, SC=-16.4, loss=3.34e+6]\n"
          ]
        },
        {
          "output_type": "stream",
          "name": "stdout",
          "text": [
            "1/1 [==============================] - 0s 29ms/step\n"
          ]
        },
        {
          "output_type": "stream",
          "name": "stderr",
          "text": [
            "100%|██████████| 200/200 [00:00<00:00, 820.77it/s, SC=-16.7, loss=4.86e+6]\n"
          ]
        },
        {
          "output_type": "stream",
          "name": "stdout",
          "text": [
            "1/1 [==============================] - 0s 31ms/step\n"
          ]
        },
        {
          "output_type": "stream",
          "name": "stderr",
          "text": [
            "100%|██████████| 200/200 [00:00<00:00, 973.95it/s, SC=-20.4, loss=3.16e+6]\n"
          ]
        },
        {
          "output_type": "stream",
          "name": "stdout",
          "text": [
            "1/1 [==============================] - 0s 46ms/step\n"
          ]
        },
        {
          "output_type": "stream",
          "name": "stderr",
          "text": [
            "100%|██████████| 200/200 [00:00<00:00, 1078.25it/s, SC=-15, loss=3.57e+5]\n"
          ]
        },
        {
          "output_type": "stream",
          "name": "stdout",
          "text": [
            "1/1 [==============================] - 0s 34ms/step\n"
          ]
        },
        {
          "output_type": "stream",
          "name": "stderr",
          "text": [
            "100%|██████████| 200/200 [00:00<00:00, 750.33it/s, SC=-17.9, loss=6.03e+6]\n"
          ]
        },
        {
          "output_type": "stream",
          "name": "stdout",
          "text": [
            "1/1 [==============================] - 0s 43ms/step\n"
          ]
        },
        {
          "output_type": "stream",
          "name": "stderr",
          "text": [
            "100%|██████████| 200/200 [00:00<00:00, 804.31it/s, SC=-16.9, loss=1.4e+5]\n"
          ]
        },
        {
          "output_type": "stream",
          "name": "stdout",
          "text": [
            "1/1 [==============================] - 0s 27ms/step\n"
          ]
        },
        {
          "output_type": "stream",
          "name": "stderr",
          "text": [
            "100%|██████████| 200/200 [00:00<00:00, 1019.27it/s, SC=-17.9, loss=2.67e+6]\n"
          ]
        },
        {
          "output_type": "stream",
          "name": "stdout",
          "text": [
            "1/1 [==============================] - 0s 47ms/step\n"
          ]
        },
        {
          "output_type": "stream",
          "name": "stderr",
          "text": [
            "100%|██████████| 200/200 [00:00<00:00, 1088.99it/s, SC=-16, loss=1.24e+5]\n"
          ]
        },
        {
          "output_type": "stream",
          "name": "stdout",
          "text": [
            "1/1 [==============================] - 0s 37ms/step\n"
          ]
        },
        {
          "output_type": "stream",
          "name": "stderr",
          "text": [
            "100%|██████████| 200/200 [00:00<00:00, 773.73it/s, SC=-21.6, loss=4.23e+5]\n"
          ]
        },
        {
          "output_type": "stream",
          "name": "stdout",
          "text": [
            "1/1 [==============================] - 0s 28ms/step\n"
          ]
        },
        {
          "output_type": "stream",
          "name": "stderr",
          "text": [
            "100%|██████████| 200/200 [00:00<00:00, 670.13it/s, SC=-16.9, loss=3.93e+6]\n"
          ]
        },
        {
          "output_type": "stream",
          "name": "stdout",
          "text": [
            "1/1 [==============================] - 0s 39ms/step\n"
          ]
        },
        {
          "output_type": "stream",
          "name": "stderr",
          "text": [
            "100%|██████████| 200/200 [00:00<00:00, 807.56it/s, SC=-17, loss=1.21e+5]\n"
          ]
        },
        {
          "output_type": "stream",
          "name": "stdout",
          "text": [
            "1/1 [==============================] - 0s 40ms/step\n"
          ]
        },
        {
          "output_type": "stream",
          "name": "stderr",
          "text": [
            "100%|██████████| 200/200 [00:00<00:00, 726.61it/s, SC=-17.2, loss=4.99e+6]\n"
          ]
        },
        {
          "output_type": "stream",
          "name": "stdout",
          "text": [
            "1/1 [==============================] - 0s 31ms/step\n"
          ]
        },
        {
          "output_type": "stream",
          "name": "stderr",
          "text": [
            "100%|██████████| 200/200 [00:00<00:00, 869.67it/s, SC=-18.7, loss=2.38e+6]\n"
          ]
        },
        {
          "output_type": "stream",
          "name": "stdout",
          "text": [
            "1/1 [==============================] - 0s 26ms/step\n"
          ]
        },
        {
          "output_type": "stream",
          "name": "stderr",
          "text": [
            "100%|██████████| 200/200 [00:00<00:00, 1011.68it/s, SC=-20.1, loss=3.78e+6]\n"
          ]
        },
        {
          "output_type": "stream",
          "name": "stdout",
          "text": [
            "1/1 [==============================] - 0s 28ms/step\n"
          ]
        },
        {
          "output_type": "stream",
          "name": "stderr",
          "text": [
            "100%|██████████| 200/200 [00:00<00:00, 853.85it/s, SC=-15.4, loss=4.57e+5]\n"
          ]
        },
        {
          "output_type": "stream",
          "name": "stdout",
          "text": [
            "1/1 [==============================] - 0s 27ms/step\n"
          ]
        },
        {
          "output_type": "stream",
          "name": "stderr",
          "text": [
            "100%|██████████| 200/200 [00:00<00:00, 1044.36it/s, SC=-19.7, loss=1.98e+6]\n"
          ]
        },
        {
          "output_type": "stream",
          "name": "stdout",
          "text": [
            "1/1 [==============================] - 0s 29ms/step\n"
          ]
        },
        {
          "output_type": "stream",
          "name": "stderr",
          "text": [
            "100%|██████████| 200/200 [00:00<00:00, 904.25it/s, SC=-17.5, loss=2.48e+6]\n"
          ]
        },
        {
          "output_type": "stream",
          "name": "stdout",
          "text": [
            "1/1 [==============================] - 0s 27ms/step\n"
          ]
        },
        {
          "output_type": "stream",
          "name": "stderr",
          "text": [
            "100%|██████████| 200/200 [00:00<00:00, 939.76it/s, SC=-17.9, loss=2.57e+6]\n"
          ]
        },
        {
          "output_type": "stream",
          "name": "stdout",
          "text": [
            "1/1 [==============================] - 0s 28ms/step\n"
          ]
        },
        {
          "output_type": "stream",
          "name": "stderr",
          "text": [
            "100%|██████████| 200/200 [00:00<00:00, 905.13it/s, SC=-18.7, loss=2.57e+6]\n"
          ]
        },
        {
          "output_type": "stream",
          "name": "stdout",
          "text": [
            "1/1 [==============================] - 0s 31ms/step\n"
          ]
        },
        {
          "output_type": "stream",
          "name": "stderr",
          "text": [
            "100%|██████████| 200/200 [00:00<00:00, 732.08it/s, SC=-18.7, loss=2.93e+6]\n"
          ]
        },
        {
          "output_type": "stream",
          "name": "stdout",
          "text": [
            "1/1 [==============================] - 0s 29ms/step\n"
          ]
        },
        {
          "output_type": "stream",
          "name": "stderr",
          "text": [
            "100%|██████████| 200/200 [00:00<00:00, 777.16it/s, SC=-19.8, loss=1.76e+6]\n"
          ]
        },
        {
          "output_type": "stream",
          "name": "stdout",
          "text": [
            "1/1 [==============================] - 0s 29ms/step\n"
          ]
        },
        {
          "output_type": "stream",
          "name": "stderr",
          "text": [
            "100%|██████████| 200/200 [00:00<00:00, 884.51it/s, SC=-19, loss=1.18e+5]\n"
          ]
        },
        {
          "output_type": "stream",
          "name": "stdout",
          "text": [
            "1/1 [==============================] - 0s 27ms/step\n"
          ]
        },
        {
          "output_type": "stream",
          "name": "stderr",
          "text": [
            "100%|██████████| 200/200 [00:00<00:00, 922.06it/s, SC=-18.7, loss=4.44e+6]\n"
          ]
        },
        {
          "output_type": "stream",
          "name": "stdout",
          "text": [
            "1/1 [==============================] - 0s 28ms/step\n"
          ]
        },
        {
          "output_type": "stream",
          "name": "stderr",
          "text": [
            "100%|██████████| 200/200 [00:00<00:00, 906.43it/s, SC=-17.9, loss=9.14e+4]\n"
          ]
        },
        {
          "output_type": "stream",
          "name": "stdout",
          "text": [
            "1/1 [==============================] - 0s 26ms/step\n"
          ]
        },
        {
          "output_type": "stream",
          "name": "stderr",
          "text": [
            "100%|██████████| 200/200 [00:00<00:00, 1052.05it/s, SC=-18.6, loss=2.45e+5]\n"
          ]
        },
        {
          "output_type": "stream",
          "name": "stdout",
          "text": [
            "1/1 [==============================] - 0s 30ms/step\n"
          ]
        },
        {
          "output_type": "stream",
          "name": "stderr",
          "text": [
            "100%|██████████| 200/200 [00:00<00:00, 1059.60it/s, SC=-19.4, loss=2.52e+4]\n"
          ]
        },
        {
          "output_type": "stream",
          "name": "stdout",
          "text": [
            "1/1 [==============================] - 0s 26ms/step\n"
          ]
        },
        {
          "output_type": "stream",
          "name": "stderr",
          "text": [
            "100%|██████████| 200/200 [00:00<00:00, 896.45it/s, SC=-16.8, loss=2.08e+5]\n"
          ]
        },
        {
          "output_type": "stream",
          "name": "stdout",
          "text": [
            "1/1 [==============================] - 0s 27ms/step\n"
          ]
        },
        {
          "output_type": "stream",
          "name": "stderr",
          "text": [
            "100%|██████████| 200/200 [00:00<00:00, 932.02it/s, SC=-17.7, loss=1.38e+5]\n"
          ]
        },
        {
          "output_type": "stream",
          "name": "stdout",
          "text": [
            "1/1 [==============================] - 0s 33ms/step\n"
          ]
        },
        {
          "output_type": "stream",
          "name": "stderr",
          "text": [
            "100%|██████████| 200/200 [00:00<00:00, 967.51it/s, SC=-15.7, loss=2.47e+5]\n"
          ]
        },
        {
          "output_type": "stream",
          "name": "stdout",
          "text": [
            "1/1 [==============================] - 0s 34ms/step\n"
          ]
        },
        {
          "output_type": "stream",
          "name": "stderr",
          "text": [
            "100%|██████████| 200/200 [00:00<00:00, 1147.70it/s, SC=-17.8, loss=1.48e+5]\n"
          ]
        },
        {
          "output_type": "stream",
          "name": "stdout",
          "text": [
            "1/1 [==============================] - 0s 26ms/step\n"
          ]
        },
        {
          "output_type": "stream",
          "name": "stderr",
          "text": [
            "100%|██████████| 200/200 [00:00<00:00, 994.04it/s, SC=-18.5, loss=2.58e+6]\n"
          ]
        },
        {
          "output_type": "stream",
          "name": "stdout",
          "text": [
            "1/1 [==============================] - 0s 26ms/step\n"
          ]
        },
        {
          "output_type": "stream",
          "name": "stderr",
          "text": [
            "100%|██████████| 200/200 [00:00<00:00, 1025.20it/s, SC=-16.6, loss=1.03e+5]\n"
          ]
        },
        {
          "output_type": "stream",
          "name": "stdout",
          "text": [
            "1/1 [==============================] - 0s 26ms/step\n"
          ]
        },
        {
          "output_type": "stream",
          "name": "stderr",
          "text": [
            "100%|██████████| 200/200 [00:00<00:00, 823.31it/s, SC=-19.1, loss=6.16e+6]\n"
          ]
        },
        {
          "output_type": "stream",
          "name": "stdout",
          "text": [
            "1/1 [==============================] - 0s 25ms/step\n"
          ]
        },
        {
          "output_type": "stream",
          "name": "stderr",
          "text": [
            "100%|██████████| 200/200 [00:00<00:00, 747.07it/s, SC=-19, loss=1.29e+7]\n"
          ]
        },
        {
          "output_type": "stream",
          "name": "stdout",
          "text": [
            "1/1 [==============================] - 0s 39ms/step\n"
          ]
        },
        {
          "output_type": "stream",
          "name": "stderr",
          "text": [
            "100%|██████████| 200/200 [00:00<00:00, 777.19it/s, SC=-16.3, loss=6.98e+6]\n"
          ]
        },
        {
          "output_type": "stream",
          "name": "stdout",
          "text": [
            "1/1 [==============================] - 0s 32ms/step\n"
          ]
        },
        {
          "output_type": "stream",
          "name": "stderr",
          "text": [
            "100%|██████████| 200/200 [00:00<00:00, 855.30it/s, SC=-19.9, loss=2.98e+6]\n"
          ]
        },
        {
          "output_type": "stream",
          "name": "stdout",
          "text": [
            "1/1 [==============================] - 0s 30ms/step\n"
          ]
        },
        {
          "output_type": "stream",
          "name": "stderr",
          "text": [
            "100%|██████████| 200/200 [00:00<00:00, 822.34it/s, SC=-16.3, loss=2.34e+6]\n"
          ]
        },
        {
          "output_type": "stream",
          "name": "stdout",
          "text": [
            "1/1 [==============================] - 0s 28ms/step\n"
          ]
        },
        {
          "output_type": "stream",
          "name": "stderr",
          "text": [
            "100%|██████████| 200/200 [00:00<00:00, 825.88it/s, SC=-17.4, loss=7.72e+6]\n"
          ]
        },
        {
          "output_type": "stream",
          "name": "stdout",
          "text": [
            "1/1 [==============================] - 0s 31ms/step\n"
          ]
        },
        {
          "output_type": "stream",
          "name": "stderr",
          "text": [
            "100%|██████████| 200/200 [00:00<00:00, 998.71it/s, SC=-17.9, loss=3.55e+6] \n"
          ]
        },
        {
          "output_type": "stream",
          "name": "stdout",
          "text": [
            "1/1 [==============================] - 0s 25ms/step\n"
          ]
        },
        {
          "output_type": "stream",
          "name": "stderr",
          "text": [
            "100%|██████████| 200/200 [00:00<00:00, 878.27it/s, SC=-16.6, loss=3.87e+6]\n"
          ]
        },
        {
          "output_type": "stream",
          "name": "stdout",
          "text": [
            "1/1 [==============================] - 0s 26ms/step\n"
          ]
        },
        {
          "output_type": "stream",
          "name": "stderr",
          "text": [
            "100%|██████████| 200/200 [00:00<00:00, 1120.08it/s, SC=-16.3, loss=1.11e+5]\n"
          ]
        },
        {
          "output_type": "stream",
          "name": "stdout",
          "text": [
            "1/1 [==============================] - 0s 29ms/step\n"
          ]
        },
        {
          "output_type": "stream",
          "name": "stderr",
          "text": [
            "100%|██████████| 200/200 [00:00<00:00, 933.31it/s, SC=-17.6, loss=2.29e+5]\n"
          ]
        },
        {
          "output_type": "stream",
          "name": "stdout",
          "text": [
            "1/1 [==============================] - 0s 37ms/step\n"
          ]
        },
        {
          "output_type": "stream",
          "name": "stderr",
          "text": [
            "100%|██████████| 200/200 [00:00<00:00, 789.71it/s, SC=-13, loss=1.34e+5]\n"
          ]
        },
        {
          "output_type": "stream",
          "name": "stdout",
          "text": [
            "1/1 [==============================] - 0s 29ms/step\n"
          ]
        },
        {
          "output_type": "stream",
          "name": "stderr",
          "text": [
            "100%|██████████| 200/200 [00:00<00:00, 790.79it/s, SC=-14.4, loss=6.78e+4]\n"
          ]
        },
        {
          "output_type": "stream",
          "name": "stdout",
          "text": [
            "1/1 [==============================] - 0s 27ms/step\n"
          ]
        },
        {
          "output_type": "stream",
          "name": "stderr",
          "text": [
            "100%|██████████| 200/200 [00:00<00:00, 810.81it/s, SC=-18.6, loss=3.7e+6]\n"
          ]
        },
        {
          "output_type": "stream",
          "name": "stdout",
          "text": [
            "1/1 [==============================] - 0s 65ms/step\n"
          ]
        },
        {
          "output_type": "stream",
          "name": "stderr",
          "text": [
            "100%|██████████| 200/200 [00:00<00:00, 857.10it/s, SC=-16.5, loss=3.41e+5]\n"
          ]
        },
        {
          "output_type": "stream",
          "name": "stdout",
          "text": [
            "1/1 [==============================] - 0s 28ms/step\n"
          ]
        },
        {
          "output_type": "stream",
          "name": "stderr",
          "text": [
            "100%|██████████| 200/200 [00:00<00:00, 705.09it/s, SC=-17.8, loss=6.81e+6]\n"
          ]
        },
        {
          "output_type": "stream",
          "name": "stdout",
          "text": [
            "1/1 [==============================] - 0s 35ms/step\n"
          ]
        },
        {
          "output_type": "stream",
          "name": "stderr",
          "text": [
            "100%|██████████| 200/200 [00:00<00:00, 927.64it/s, SC=-17.4, loss=3.01e+5]\n"
          ]
        },
        {
          "output_type": "stream",
          "name": "stdout",
          "text": [
            "1/1 [==============================] - 0s 41ms/step\n"
          ]
        },
        {
          "output_type": "stream",
          "name": "stderr",
          "text": [
            "100%|██████████| 200/200 [00:00<00:00, 925.40it/s, SC=-16.5, loss=5.01e+6]\n"
          ]
        },
        {
          "output_type": "stream",
          "name": "stdout",
          "text": [
            "1/1 [==============================] - 0s 44ms/step\n"
          ]
        },
        {
          "output_type": "stream",
          "name": "stderr",
          "text": [
            "100%|██████████| 200/200 [00:00<00:00, 784.81it/s, SC=-19.4, loss=7.45e+6]\n"
          ]
        },
        {
          "output_type": "stream",
          "name": "stdout",
          "text": [
            "1/1 [==============================] - 0s 39ms/step\n"
          ]
        },
        {
          "output_type": "stream",
          "name": "stderr",
          "text": [
            "100%|██████████| 200/200 [00:00<00:00, 989.29it/s, SC=-18.4, loss=7.76e+6]\n"
          ]
        },
        {
          "output_type": "stream",
          "name": "stdout",
          "text": [
            "1/1 [==============================] - 0s 38ms/step\n"
          ]
        },
        {
          "output_type": "stream",
          "name": "stderr",
          "text": [
            "100%|██████████| 200/200 [00:00<00:00, 679.85it/s, SC=-17.6, loss=1.3e+7]\n"
          ]
        },
        {
          "output_type": "stream",
          "name": "stdout",
          "text": [
            "1/1 [==============================] - 0s 27ms/step\n"
          ]
        },
        {
          "output_type": "stream",
          "name": "stderr",
          "text": [
            "100%|██████████| 200/200 [00:00<00:00, 550.55it/s, SC=-15.9, loss=2.21e+6]\n"
          ]
        },
        {
          "output_type": "stream",
          "name": "stdout",
          "text": [
            "1/1 [==============================] - 0s 48ms/step\n"
          ]
        },
        {
          "output_type": "stream",
          "name": "stderr",
          "text": [
            "100%|██████████| 200/200 [00:00<00:00, 735.19it/s, SC=-18.7, loss=2.23e+6]\n"
          ]
        },
        {
          "output_type": "stream",
          "name": "stdout",
          "text": [
            "1/1 [==============================] - 0s 38ms/step\n"
          ]
        },
        {
          "output_type": "stream",
          "name": "stderr",
          "text": [
            "100%|██████████| 200/200 [00:00<00:00, 731.64it/s, SC=-15.3, loss=1.87e+5]\n"
          ]
        },
        {
          "output_type": "stream",
          "name": "stdout",
          "text": [
            "1/1 [==============================] - 0s 30ms/step\n"
          ]
        },
        {
          "output_type": "stream",
          "name": "stderr",
          "text": [
            "100%|██████████| 200/200 [00:00<00:00, 779.36it/s, SC=-19.7, loss=7.01e+6]\n"
          ]
        },
        {
          "output_type": "stream",
          "name": "stdout",
          "text": [
            "1/1 [==============================] - 0s 33ms/step\n"
          ]
        },
        {
          "output_type": "stream",
          "name": "stderr",
          "text": [
            "100%|██████████| 200/200 [00:00<00:00, 965.16it/s, SC=-19.9, loss=1.63e+5]\n"
          ]
        },
        {
          "output_type": "stream",
          "name": "stdout",
          "text": [
            "1/1 [==============================] - 0s 37ms/step\n"
          ]
        },
        {
          "output_type": "stream",
          "name": "stderr",
          "text": [
            "100%|██████████| 200/200 [00:00<00:00, 1082.49it/s, SC=-19.2, loss=1.91e+6]\n"
          ]
        },
        {
          "output_type": "stream",
          "name": "stdout",
          "text": [
            "1/1 [==============================] - 0s 27ms/step\n"
          ]
        },
        {
          "output_type": "stream",
          "name": "stderr",
          "text": [
            "100%|██████████| 200/200 [00:00<00:00, 931.97it/s, SC=-17.9, loss=9.42e+4]\n"
          ]
        },
        {
          "output_type": "stream",
          "name": "stdout",
          "text": [
            "1/1 [==============================] - 0s 26ms/step\n"
          ]
        },
        {
          "output_type": "stream",
          "name": "stderr",
          "text": [
            "100%|██████████| 200/200 [00:00<00:00, 1052.81it/s, SC=-18, loss=2.16e+5]\n"
          ]
        },
        {
          "output_type": "stream",
          "name": "stdout",
          "text": [
            "1/1 [==============================] - 0s 30ms/step\n"
          ]
        },
        {
          "output_type": "stream",
          "name": "stderr",
          "text": [
            "100%|██████████| 200/200 [00:00<00:00, 1064.39it/s, SC=-17.2, loss=4.74e+4]\n"
          ]
        },
        {
          "output_type": "stream",
          "name": "stdout",
          "text": [
            "1/1 [==============================] - 0s 27ms/step\n"
          ]
        },
        {
          "output_type": "stream",
          "name": "stderr",
          "text": [
            "100%|██████████| 200/200 [00:00<00:00, 814.64it/s, SC=-16.8, loss=4.63e+4]\n"
          ]
        },
        {
          "output_type": "stream",
          "name": "stdout",
          "text": [
            "1/1 [==============================] - 0s 25ms/step\n"
          ]
        },
        {
          "output_type": "stream",
          "name": "stderr",
          "text": [
            "100%|██████████| 200/200 [00:00<00:00, 857.21it/s, SC=-17.6, loss=8.2e+5]\n"
          ]
        },
        {
          "output_type": "stream",
          "name": "stdout",
          "text": [
            "1/1 [==============================] - 0s 27ms/step\n"
          ]
        },
        {
          "output_type": "stream",
          "name": "stderr",
          "text": [
            "100%|██████████| 200/200 [00:00<00:00, 787.64it/s, SC=-16.2, loss=4.36e+6]\n"
          ]
        },
        {
          "output_type": "stream",
          "name": "stdout",
          "text": [
            "1/1 [==============================] - 0s 26ms/step\n"
          ]
        },
        {
          "output_type": "stream",
          "name": "stderr",
          "text": [
            "100%|██████████| 200/200 [00:00<00:00, 594.47it/s, SC=-17.5, loss=1.74e+6]\n"
          ]
        },
        {
          "output_type": "stream",
          "name": "stdout",
          "text": [
            "1/1 [==============================] - 0s 56ms/step\n"
          ]
        },
        {
          "output_type": "stream",
          "name": "stderr",
          "text": [
            "100%|██████████| 200/200 [00:00<00:00, 882.24it/s, SC=-18.6, loss=3.53e+6]\n"
          ]
        },
        {
          "output_type": "stream",
          "name": "stdout",
          "text": [
            "1/1 [==============================] - 0s 30ms/step\n"
          ]
        },
        {
          "output_type": "stream",
          "name": "stderr",
          "text": [
            "100%|██████████| 200/200 [00:00<00:00, 1009.48it/s, SC=-18.4, loss=5.49e+5]\n"
          ]
        },
        {
          "output_type": "stream",
          "name": "stdout",
          "text": [
            "1/1 [==============================] - 0s 27ms/step\n"
          ]
        },
        {
          "output_type": "stream",
          "name": "stderr",
          "text": [
            "100%|██████████| 200/200 [00:00<00:00, 964.39it/s, SC=-16.5, loss=7.9e+4]\n"
          ]
        },
        {
          "output_type": "stream",
          "name": "stdout",
          "text": [
            "1/1 [==============================] - 0s 27ms/step\n"
          ]
        },
        {
          "output_type": "stream",
          "name": "stderr",
          "text": [
            "100%|██████████| 200/200 [00:00<00:00, 862.62it/s, SC=-17.4, loss=1.77e+6]\n"
          ]
        },
        {
          "output_type": "stream",
          "name": "stdout",
          "text": [
            "1/1 [==============================] - 0s 26ms/step\n"
          ]
        },
        {
          "output_type": "stream",
          "name": "stderr",
          "text": [
            "100%|██████████| 200/200 [00:00<00:00, 821.17it/s, SC=-19.1, loss=1.26e+6]\n"
          ]
        },
        {
          "output_type": "stream",
          "name": "stdout",
          "text": [
            "1/1 [==============================] - 0s 30ms/step\n"
          ]
        },
        {
          "output_type": "stream",
          "name": "stderr",
          "text": [
            "100%|██████████| 200/200 [00:00<00:00, 859.21it/s, SC=-18.6, loss=3.65e+6]\n"
          ]
        },
        {
          "output_type": "stream",
          "name": "stdout",
          "text": [
            "1/1 [==============================] - 0s 26ms/step\n"
          ]
        },
        {
          "output_type": "stream",
          "name": "stderr",
          "text": [
            "100%|██████████| 200/200 [00:00<00:00, 979.94it/s, SC=-16.2, loss=7.85e+4]\n"
          ]
        },
        {
          "output_type": "stream",
          "name": "stdout",
          "text": [
            "1/1 [==============================] - 0s 29ms/step\n"
          ]
        },
        {
          "output_type": "stream",
          "name": "stderr",
          "text": [
            "100%|██████████| 200/200 [00:00<00:00, 736.91it/s, SC=-20.3, loss=3.47e+6]\n"
          ]
        },
        {
          "output_type": "stream",
          "name": "stdout",
          "text": [
            "1/1 [==============================] - 0s 27ms/step\n"
          ]
        },
        {
          "output_type": "stream",
          "name": "stderr",
          "text": [
            "100%|██████████| 200/200 [00:00<00:00, 872.97it/s, SC=-18.7, loss=1.9e+6]\n"
          ]
        },
        {
          "output_type": "stream",
          "name": "stdout",
          "text": [
            "1/1 [==============================] - 0s 26ms/step\n"
          ]
        },
        {
          "output_type": "stream",
          "name": "stderr",
          "text": [
            "100%|██████████| 200/200 [00:00<00:00, 1071.31it/s, SC=-20.2, loss=6.99e+5]\n"
          ]
        },
        {
          "output_type": "stream",
          "name": "stdout",
          "text": [
            "1/1 [==============================] - 0s 27ms/step\n"
          ]
        },
        {
          "output_type": "stream",
          "name": "stderr",
          "text": [
            "100%|██████████| 200/200 [00:00<00:00, 1104.69it/s, SC=-16.1, loss=1.8e+5]"
          ]
        },
        {
          "output_type": "stream",
          "name": "stdout",
          "text": [
            "PESQ tensor(2.9575)\n",
            "PEARSON SPECTRAL 0.8820551312328666\n",
            "PEARSON 0.007090491174435854\n",
            "SMSE 0.4584254418825427\n"
          ]
        },
        {
          "output_type": "stream",
          "name": "stderr",
          "text": [
            "\n"
          ]
        }
      ],
      "source": [
        "mlp25.audio_evaluation(600, files_permutation)"
      ]
    }
  ],
  "metadata": {
    "accelerator": "GPU",
    "colab": {
      "provenance": [],
      "authorship_tag": "ABX9TyN5cN3xrpxV4wYR0B3mn3bM",
      "include_colab_link": true
    },
    "kernelspec": {
      "display_name": "Python 3",
      "name": "python3"
    },
    "language_info": {
      "name": "python"
    }
  },
  "nbformat": 4,
  "nbformat_minor": 0
}